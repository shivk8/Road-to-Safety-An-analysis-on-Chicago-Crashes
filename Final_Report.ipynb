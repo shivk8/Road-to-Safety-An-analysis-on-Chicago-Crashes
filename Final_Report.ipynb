{
  "cells": [
    {
      "cell_type": "markdown",
      "metadata": {
        "id": "jT7Q3ZsJGppB"
      },
      "source": [
        "## Road to Safety - A Chicago Crash Study\n"
      ]
    },
    {
      "cell_type": "markdown",
      "metadata": {
        "id": "20eXgaYiGppK"
      },
      "source": [
        "### Motivation"
      ]
    },
    {
      "cell_type": "markdown",
      "metadata": {
        "id": "Mtb_acH3GppM"
      },
      "source": [
        "According to [INRIX](https://inrix.com/scorecard/), Chicago is the second city in the world with highest traffic delay times amounting to 155 hours. This extensive time spent on the road not only poses a significant inconvenience, but also worsen the risk of car crashes. Analysis of the crash statistics including the environment, causes and resulting damage could lead to proactively preventing these accidents and alleviating the congestion.\n",
        "\n",
        "A car accident occurs roughly once every six minutes in Chicago. Between January 1, 2016 & January, 1 2021 – 456,883 traffic collisions occurred only in Chicago, IL.During this five year time period, ten car accidents occurred every hour.  Two hundred and forty accidents occurred on average per day and in this five year sample size.\n",
        "\n",
        "According to the [Illinois Department of Transportation](https://www.briskmanandbriskman.com/2022/05/car-accidents-up-in-2021-on-the-streets-of-chicago-and-throughout-illinois/), 1317 people died in car crashes in 2021, the highest number of traffic fatalities in the state since 2005.\n",
        "\n",
        "The project addresses a real-world problem that impacts the safety and well-being of people in Chicago. Analyzing traffic crashes has significant implications for public safety and urban planning. The driving force behind our analysis is the understanding that insights and recommendations derived from this research can directly contribute to accident reduction and promote road safety awareness, in the form of installing more danger/warning signs at appropriate.\n"
      ]
    },
    {
      "cell_type": "markdown",
      "metadata": {
        "id": "N2fhJOgLGppO"
      },
      "source": [
        "## Dataset"
      ]
    },
    {
      "cell_type": "markdown",
      "metadata": {
        "id": "-eFVbGH9GppP"
      },
      "source": [
        "The dataset used for the analysis on the crash incidents in Chicago is Traffic Crashes - Crashes in Chicago city from [Data.gov](https://catalog.data.gov/dataset/traffic-crashes-crashes) published by City of Chicago.\n",
        "\n",
        "The data is in a csv format with 49 columns and 765,894 rows. It includes accidents in Chicago from March 2013 to September 2023. The table contains data on\n",
        "\n",
        "- The environment/condition: POSTED_SPEED_LIMIT, TRAFFIC_CONTROL_DEVICE, DEVICE_CONDITION, WEATHER_CONDITION, LIGHTING_CONDITION, LANE_CNT, ROADWAY_SURFACE_COND, ROAD_DEFECT\n",
        "- The cause: PRIM_CONTRIBUTORY_CAUSE, SEC_CONTRIBUTORY_CAUSE\n",
        "- Location: STREET_NAME, LATITUDE, LONGITUDE\n",
        "- Date/Time: CRASH_DATE, CRASH_HOUR, CRASH_DAY_OF_WEEK\n",
        "- Impact/Damage: DAMAGE, INJURIES_TOTAL, INJURIES_FATAL, INJURIES_INCAPACITATING, INJURIES_NON_INCAPACITATING, INJURIES_REPORTED_NOT_EVIDENT, INJURIES_NO_INDICATION, INJURIES_UNKNOWN"
      ]
    },
    {
      "cell_type": "markdown",
      "metadata": {
        "id": "1v1PZ6KzGppQ"
      },
      "source": [
        "## DATA PRE-PROCESSING"
      ]
    },
    {
      "cell_type": "markdown",
      "metadata": {
        "id": "YwEXYXz-GppR"
      },
      "source": [
        "1. The analysis started off bd dropping irrelevant column:\n",
        " 'CRASH_RECORD_ID', 'RD_NO', 'LOCATION', 'PHOTOS_TAKEN_I',\n",
        " 'STATEMENTS_TAKEN_I','CRASH_DATE_EST_I','DATE_POLICE_NOTIFIED',\n",
        " 'REPORT_TYPE\n",
        "\n",
        "2. Created new columns like 'Type_of_Day', 'Season', 'Beat_Category','Crash_Time_Category','Crash_year','Crash_day','isFatal' for the purposes of addressing specific questions\n",
        "\n",
        "3. Quantified damage values so that we have numerical values that roughly represent the magnitude of the damage within each category We used the following mapping:\n",
        "    1. $500 or less -> 250 <br>\n",
        "    2. $501-$1500 -> 1000 <br>\n",
        "    3. Over $1500 -> 3000\n",
        "\n",
        "4. Missing values in the following columns were filled with 0,:'INJURIES_INCAPACITATING', 'INJURIES_NON_INCAPACITATING', 'INJURIES_UNKNOWN', 'INJURIES_NO_INDICATION', 'INJURIES_TOTAL', 'INJURIES_REPORTED_NOT_EVIDENT', 'INJURIES_FATAL'\n",
        "\n"
      ]
    },
    {
      "cell_type": "markdown",
      "metadata": {
        "id": "FDJ0hkalvBzY"
      },
      "source": [
        "## Motivation\n",
        "1. Chicago is the second city in the world with highest traffic delay times amounting to 155 hours.\n",
        "\n",
        "2. A car accident occurs roughly once every six minutes in Chicago\n",
        "\n",
        "3. 1317 people died in car crashes in 2021, the highest number of traffic fatalities in the state since 2005.\n"
      ]
    },
    {
      "cell_type": "markdown",
      "metadata": {
        "id": "EpdF1OHBGppW"
      },
      "source": [
        "### Objective\n",
        "In this analysis, we focus on three aspects of car crashes:\n",
        "1. What are the causes for majority of the accidents: environmental conditions leading to high damage or injury?\n",
        "2. Where have most crashes happened and areas to focus on national holidays ?\n",
        "3. When do the crashes peak: season, day of the week, time period during a day ?"
      ]
    },
    {
      "cell_type": "markdown",
      "metadata": {
        "id": "qwEUtj7nRaZC"
      },
      "source": [
        "### Key Findings\n",
        "1. Dark lighting is common among the high damage accidents\n",
        "2. Independence Day is the “deadliest” national holiday with most number of crashes\n",
        "3. Fatal accidents have happened mostly on Sundays, while the total number of accidents are higher on Friday\n"
      ]
    },
    {
      "cell_type": "markdown",
      "metadata": {
        "id": "BnUP4qmYRach"
      },
      "source": [
        "### Link to YouTube Video: https://www.youtube.com/watch?v=j30fofP0Zdg&t=22s"
      ]
    },
    {
      "cell_type": "markdown",
      "metadata": {
        "id": "AH-o5kXIzv_0"
      },
      "source": [
        "### Mount to Google Drive"
      ]
    },
    {
      "cell_type": "code",
      "execution_count": 2,
      "metadata": {
        "colab": {
          "base_uri": "https://localhost:8080/"
        },
        "id": "0wcC-qGYyw-Y",
        "outputId": "ee52c937-a6bc-4af8-b310-f27c2113610a"
      },
      "outputs": [],
      "source": [
        "# from google.colab import drive\n",
        "# drive.mount('/content/drive')"
      ]
    },
    {
      "cell_type": "code",
      "execution_count": 3,
      "metadata": {
        "colab": {
          "base_uri": "https://localhost:8080/"
        },
        "id": "ye1KpjBKzT9z",
        "outputId": "e635a4f1-bc12-483a-f4e8-c63c410aacb3"
      },
      "outputs": [],
      "source": [
        "# cd drive/MyDrive/dsbd-project-1-pkraikhu-shivaank"
      ]
    },
    {
      "cell_type": "code",
      "execution_count": 4,
      "metadata": {
        "colab": {
          "base_uri": "https://localhost:8080/"
        },
        "id": "vO9qllb5zsGV",
        "outputId": "5b834b0f-d8e6-4bb8-842c-405144d53525"
      },
      "outputs": [],
      "source": [
        "# ls"
      ]
    },
    {
      "cell_type": "code",
      "execution_count": 5,
      "metadata": {
        "id": "W-ON-bNVzsxr"
      },
      "outputs": [],
      "source": [
        "import pandas as pd\n",
        "import altair as alt\n",
        "from pandas.core.arrays.masked import isin"
      ]
    },
    {
      "cell_type": "code",
      "execution_count": 6,
      "metadata": {
        "colab": {
          "base_uri": "https://localhost:8080/",
          "height": 429
        },
        "id": "khoiTmdnz7GY",
        "outputId": "428ba4f2-2103-40c7-f2cb-44d211f33976"
      },
      "outputs": [
        {
          "data": {
            "text/html": [
              "<div>\n",
              "<style scoped>\n",
              "    .dataframe tbody tr th:only-of-type {\n",
              "        vertical-align: middle;\n",
              "    }\n",
              "\n",
              "    .dataframe tbody tr th {\n",
              "        vertical-align: top;\n",
              "    }\n",
              "\n",
              "    .dataframe thead th {\n",
              "        text-align: right;\n",
              "    }\n",
              "</style>\n",
              "<table border=\"1\" class=\"dataframe\">\n",
              "  <thead>\n",
              "    <tr style=\"text-align: right;\">\n",
              "      <th></th>\n",
              "      <th>CRASH_RECORD_ID</th>\n",
              "      <th>RD_NO</th>\n",
              "      <th>CRASH_DATE_EST_I</th>\n",
              "      <th>CRASH_DATE</th>\n",
              "      <th>POSTED_SPEED_LIMIT</th>\n",
              "      <th>TRAFFIC_CONTROL_DEVICE</th>\n",
              "      <th>DEVICE_CONDITION</th>\n",
              "      <th>WEATHER_CONDITION</th>\n",
              "      <th>LIGHTING_CONDITION</th>\n",
              "      <th>FIRST_CRASH_TYPE</th>\n",
              "      <th>...</th>\n",
              "      <th>INJURIES_NON_INCAPACITATING</th>\n",
              "      <th>INJURIES_REPORTED_NOT_EVIDENT</th>\n",
              "      <th>INJURIES_NO_INDICATION</th>\n",
              "      <th>INJURIES_UNKNOWN</th>\n",
              "      <th>CRASH_HOUR</th>\n",
              "      <th>CRASH_DAY_OF_WEEK</th>\n",
              "      <th>CRASH_MONTH</th>\n",
              "      <th>LATITUDE</th>\n",
              "      <th>LONGITUDE</th>\n",
              "      <th>LOCATION</th>\n",
              "    </tr>\n",
              "  </thead>\n",
              "  <tbody>\n",
              "    <tr>\n",
              "      <th>293271</th>\n",
              "      <td>5cdd921093c27e184b30c2c3cd35a212ef84a91e8baaf9...</td>\n",
              "      <td>JD180819</td>\n",
              "      <td>NaN</td>\n",
              "      <td>02/29/2020 10:00:00 AM</td>\n",
              "      <td>25</td>\n",
              "      <td>NO CONTROLS</td>\n",
              "      <td>NO CONTROLS</td>\n",
              "      <td>CLEAR</td>\n",
              "      <td>DAYLIGHT</td>\n",
              "      <td>SIDESWIPE SAME DIRECTION</td>\n",
              "      <td>...</td>\n",
              "      <td>0.0</td>\n",
              "      <td>0.0</td>\n",
              "      <td>2.0</td>\n",
              "      <td>0.0</td>\n",
              "      <td>10</td>\n",
              "      <td>7</td>\n",
              "      <td>2</td>\n",
              "      <td>41.811819</td>\n",
              "      <td>-87.694459</td>\n",
              "      <td>POINT (-87.694458628094 41.811818877708)</td>\n",
              "    </tr>\n",
              "    <tr>\n",
              "      <th>86202</th>\n",
              "      <td>15972cdd7373461d974ed7f9526564b2a1f7388e49d006...</td>\n",
              "      <td>JF125202</td>\n",
              "      <td>NaN</td>\n",
              "      <td>01/26/2022 09:40:00 PM</td>\n",
              "      <td>30</td>\n",
              "      <td>NO CONTROLS</td>\n",
              "      <td>NO CONTROLS</td>\n",
              "      <td>CLEAR</td>\n",
              "      <td>DARKNESS</td>\n",
              "      <td>FIXED OBJECT</td>\n",
              "      <td>...</td>\n",
              "      <td>0.0</td>\n",
              "      <td>0.0</td>\n",
              "      <td>1.0</td>\n",
              "      <td>0.0</td>\n",
              "      <td>21</td>\n",
              "      <td>4</td>\n",
              "      <td>1</td>\n",
              "      <td>41.886230</td>\n",
              "      <td>-87.644114</td>\n",
              "      <td>POINT (-87.644113797125 41.88622969702)</td>\n",
              "    </tr>\n",
              "    <tr>\n",
              "      <th>595544</th>\n",
              "      <td>c7c5c32171c8d316fc0ec2fb8557c64364746e880baa25...</td>\n",
              "      <td>JB518879</td>\n",
              "      <td>NaN</td>\n",
              "      <td>11/16/2018 10:39:00 PM</td>\n",
              "      <td>25</td>\n",
              "      <td>NO CONTROLS</td>\n",
              "      <td>NO CONTROLS</td>\n",
              "      <td>CLEAR</td>\n",
              "      <td>DARKNESS, LIGHTED ROAD</td>\n",
              "      <td>PARKED MOTOR VEHICLE</td>\n",
              "      <td>...</td>\n",
              "      <td>0.0</td>\n",
              "      <td>0.0</td>\n",
              "      <td>1.0</td>\n",
              "      <td>0.0</td>\n",
              "      <td>22</td>\n",
              "      <td>6</td>\n",
              "      <td>11</td>\n",
              "      <td>41.953658</td>\n",
              "      <td>-87.650224</td>\n",
              "      <td>POINT (-87.650224136466 41.953657841785)</td>\n",
              "    </tr>\n",
              "    <tr>\n",
              "      <th>736136</th>\n",
              "      <td>f5b91d1282f4bedcdc14110ef366a6667e09fd6abcf9cc...</td>\n",
              "      <td>JF304099</td>\n",
              "      <td>NaN</td>\n",
              "      <td>07/03/2022 04:00:00 PM</td>\n",
              "      <td>20</td>\n",
              "      <td>NO CONTROLS</td>\n",
              "      <td>NO CONTROLS</td>\n",
              "      <td>CLEAR</td>\n",
              "      <td>DAYLIGHT</td>\n",
              "      <td>PARKED MOTOR VEHICLE</td>\n",
              "      <td>...</td>\n",
              "      <td>0.0</td>\n",
              "      <td>0.0</td>\n",
              "      <td>1.0</td>\n",
              "      <td>0.0</td>\n",
              "      <td>16</td>\n",
              "      <td>1</td>\n",
              "      <td>7</td>\n",
              "      <td>41.946549</td>\n",
              "      <td>-87.700694</td>\n",
              "      <td>POINT (-87.700693848166 41.946548645781)</td>\n",
              "    </tr>\n",
              "    <tr>\n",
              "      <th>705151</th>\n",
              "      <td>eb4c7abc448ced501cde8b9b0e778520c280275fce2b87...</td>\n",
              "      <td>HZ414739</td>\n",
              "      <td>Y</td>\n",
              "      <td>08/30/2016 02:50:00 PM</td>\n",
              "      <td>30</td>\n",
              "      <td>NO CONTROLS</td>\n",
              "      <td>NO CONTROLS</td>\n",
              "      <td>CLEAR</td>\n",
              "      <td>DAYLIGHT</td>\n",
              "      <td>SIDESWIPE OPPOSITE DIRECTION</td>\n",
              "      <td>...</td>\n",
              "      <td>0.0</td>\n",
              "      <td>0.0</td>\n",
              "      <td>2.0</td>\n",
              "      <td>0.0</td>\n",
              "      <td>14</td>\n",
              "      <td>3</td>\n",
              "      <td>8</td>\n",
              "      <td>41.761848</td>\n",
              "      <td>-87.620506</td>\n",
              "      <td>POINT (-87.620505584499 41.761848169037)</td>\n",
              "    </tr>\n",
              "  </tbody>\n",
              "</table>\n",
              "<p>5 rows × 49 columns</p>\n",
              "</div>"
            ],
            "text/plain": [
              "                                          CRASH_RECORD_ID     RD_NO  \\\n",
              "293271  5cdd921093c27e184b30c2c3cd35a212ef84a91e8baaf9...  JD180819   \n",
              "86202   15972cdd7373461d974ed7f9526564b2a1f7388e49d006...  JF125202   \n",
              "595544  c7c5c32171c8d316fc0ec2fb8557c64364746e880baa25...  JB518879   \n",
              "736136  f5b91d1282f4bedcdc14110ef366a6667e09fd6abcf9cc...  JF304099   \n",
              "705151  eb4c7abc448ced501cde8b9b0e778520c280275fce2b87...  HZ414739   \n",
              "\n",
              "       CRASH_DATE_EST_I              CRASH_DATE  POSTED_SPEED_LIMIT  \\\n",
              "293271              NaN  02/29/2020 10:00:00 AM                  25   \n",
              "86202               NaN  01/26/2022 09:40:00 PM                  30   \n",
              "595544              NaN  11/16/2018 10:39:00 PM                  25   \n",
              "736136              NaN  07/03/2022 04:00:00 PM                  20   \n",
              "705151                Y  08/30/2016 02:50:00 PM                  30   \n",
              "\n",
              "       TRAFFIC_CONTROL_DEVICE DEVICE_CONDITION WEATHER_CONDITION  \\\n",
              "293271            NO CONTROLS      NO CONTROLS             CLEAR   \n",
              "86202             NO CONTROLS      NO CONTROLS             CLEAR   \n",
              "595544            NO CONTROLS      NO CONTROLS             CLEAR   \n",
              "736136            NO CONTROLS      NO CONTROLS             CLEAR   \n",
              "705151            NO CONTROLS      NO CONTROLS             CLEAR   \n",
              "\n",
              "            LIGHTING_CONDITION              FIRST_CRASH_TYPE  ...  \\\n",
              "293271                DAYLIGHT      SIDESWIPE SAME DIRECTION  ...   \n",
              "86202                 DARKNESS                  FIXED OBJECT  ...   \n",
              "595544  DARKNESS, LIGHTED ROAD          PARKED MOTOR VEHICLE  ...   \n",
              "736136                DAYLIGHT          PARKED MOTOR VEHICLE  ...   \n",
              "705151                DAYLIGHT  SIDESWIPE OPPOSITE DIRECTION  ...   \n",
              "\n",
              "       INJURIES_NON_INCAPACITATING  INJURIES_REPORTED_NOT_EVIDENT  \\\n",
              "293271                         0.0                            0.0   \n",
              "86202                          0.0                            0.0   \n",
              "595544                         0.0                            0.0   \n",
              "736136                         0.0                            0.0   \n",
              "705151                         0.0                            0.0   \n",
              "\n",
              "       INJURIES_NO_INDICATION INJURIES_UNKNOWN CRASH_HOUR CRASH_DAY_OF_WEEK  \\\n",
              "293271                    2.0              0.0         10                 7   \n",
              "86202                     1.0              0.0         21                 4   \n",
              "595544                    1.0              0.0         22                 6   \n",
              "736136                    1.0              0.0         16                 1   \n",
              "705151                    2.0              0.0         14                 3   \n",
              "\n",
              "       CRASH_MONTH   LATITUDE  LONGITUDE  \\\n",
              "293271           2  41.811819 -87.694459   \n",
              "86202            1  41.886230 -87.644114   \n",
              "595544          11  41.953658 -87.650224   \n",
              "736136           7  41.946549 -87.700694   \n",
              "705151           8  41.761848 -87.620506   \n",
              "\n",
              "                                        LOCATION  \n",
              "293271  POINT (-87.694458628094 41.811818877708)  \n",
              "86202    POINT (-87.644113797125 41.88622969702)  \n",
              "595544  POINT (-87.650224136466 41.953657841785)  \n",
              "736136  POINT (-87.700693848166 41.946548645781)  \n",
              "705151  POINT (-87.620505584499 41.761848169037)  \n",
              "\n",
              "[5 rows x 49 columns]"
            ]
          },
          "execution_count": 6,
          "metadata": {},
          "output_type": "execute_result"
        }
      ],
      "source": [
        "raw_df = pd.read_csv('data.csv')\n",
        "df = raw_df.copy()\n",
        "df.sample(5)"
      ]
    },
    {
      "cell_type": "code",
      "execution_count": 7,
      "metadata": {
        "colab": {
          "base_uri": "https://localhost:8080/"
        },
        "id": "mTFOoC280ODe",
        "outputId": "37e7cb1f-4301-4662-a80c-e4c6556d4388"
      },
      "outputs": [
        {
          "data": {
            "text/plain": [
              "Index(['CRASH_RECORD_ID', 'RD_NO', 'CRASH_DATE_EST_I', 'CRASH_DATE',\n",
              "       'POSTED_SPEED_LIMIT', 'TRAFFIC_CONTROL_DEVICE', 'DEVICE_CONDITION',\n",
              "       'WEATHER_CONDITION', 'LIGHTING_CONDITION', 'FIRST_CRASH_TYPE',\n",
              "       'TRAFFICWAY_TYPE', 'LANE_CNT', 'ALIGNMENT', 'ROADWAY_SURFACE_COND',\n",
              "       'ROAD_DEFECT', 'REPORT_TYPE', 'CRASH_TYPE', 'INTERSECTION_RELATED_I',\n",
              "       'NOT_RIGHT_OF_WAY_I', 'HIT_AND_RUN_I', 'DAMAGE', 'DATE_POLICE_NOTIFIED',\n",
              "       'PRIM_CONTRIBUTORY_CAUSE', 'SEC_CONTRIBUTORY_CAUSE', 'STREET_NO',\n",
              "       'STREET_DIRECTION', 'STREET_NAME', 'BEAT_OF_OCCURRENCE',\n",
              "       'PHOTOS_TAKEN_I', 'STATEMENTS_TAKEN_I', 'DOORING_I', 'WORK_ZONE_I',\n",
              "       'WORK_ZONE_TYPE', 'WORKERS_PRESENT_I', 'NUM_UNITS',\n",
              "       'MOST_SEVERE_INJURY', 'INJURIES_TOTAL', 'INJURIES_FATAL',\n",
              "       'INJURIES_INCAPACITATING', 'INJURIES_NON_INCAPACITATING',\n",
              "       'INJURIES_REPORTED_NOT_EVIDENT', 'INJURIES_NO_INDICATION',\n",
              "       'INJURIES_UNKNOWN', 'CRASH_HOUR', 'CRASH_DAY_OF_WEEK', 'CRASH_MONTH',\n",
              "       'LATITUDE', 'LONGITUDE', 'LOCATION'],\n",
              "      dtype='object')"
            ]
          },
          "execution_count": 7,
          "metadata": {},
          "output_type": "execute_result"
        }
      ],
      "source": [
        "df.columns"
      ]
    },
    {
      "cell_type": "code",
      "execution_count": 8,
      "metadata": {
        "colab": {
          "base_uri": "https://localhost:8080/"
        },
        "id": "4rzE4dzC0CmJ",
        "outputId": "6be806d6-f8cc-411e-b2a4-861d086bd10f"
      },
      "outputs": [
        {
          "data": {
            "text/plain": [
              "WORKERS_PRESENT_I                764754\n",
              "DOORING_I                        763533\n",
              "WORK_ZONE_TYPE                   762441\n",
              "WORK_ZONE_I                      761458\n",
              "PHOTOS_TAKEN_I                   756052\n",
              "STATEMENTS_TAKEN_I               749234\n",
              "NOT_RIGHT_OF_WAY_I               730318\n",
              "CRASH_DATE_EST_I                 708201\n",
              "INTERSECTION_RELATED_I           590432\n",
              "LANE_CNT                         566889\n",
              "HIT_AND_RUN_I                    526762\n",
              "REPORT_TYPE                       22062\n",
              "LOCATION                           5086\n",
              "LONGITUDE                          5086\n",
              "LATITUDE                           5086\n",
              "RD_NO                              4440\n",
              "MOST_SEVERE_INJURY                 1679\n",
              "INJURIES_INCAPACITATING            1668\n",
              "INJURIES_NON_INCAPACITATING        1668\n",
              "INJURIES_UNKNOWN                   1668\n",
              "INJURIES_NO_INDICATION             1668\n",
              "INJURIES_TOTAL                     1668\n",
              "INJURIES_REPORTED_NOT_EVIDENT      1668\n",
              "INJURIES_FATAL                     1668\n",
              "BEAT_OF_OCCURRENCE                    5\n",
              "STREET_DIRECTION                      4\n",
              "STREET_NAME                           1\n",
              "CRASH_HOUR                            0\n",
              "CRASH_DAY_OF_WEEK                     0\n",
              "CRASH_MONTH                           0\n",
              "NUM_UNITS                             0\n",
              "CRASH_RECORD_ID                       0\n",
              "SEC_CONTRIBUTORY_CAUSE                0\n",
              "FIRST_CRASH_TYPE                      0\n",
              "CRASH_DATE                            0\n",
              "POSTED_SPEED_LIMIT                    0\n",
              "TRAFFIC_CONTROL_DEVICE                0\n",
              "DEVICE_CONDITION                      0\n",
              "WEATHER_CONDITION                     0\n",
              "LIGHTING_CONDITION                    0\n",
              "TRAFFICWAY_TYPE                       0\n",
              "PRIM_CONTRIBUTORY_CAUSE               0\n",
              "ALIGNMENT                             0\n",
              "ROADWAY_SURFACE_COND                  0\n",
              "ROAD_DEFECT                           0\n",
              "CRASH_TYPE                            0\n",
              "DAMAGE                                0\n",
              "DATE_POLICE_NOTIFIED                  0\n",
              "STREET_NO                             0\n",
              "dtype: int64"
            ]
          },
          "execution_count": 8,
          "metadata": {},
          "output_type": "execute_result"
        }
      ],
      "source": [
        "# Check Nulls\n",
        "df.isnull().sum().sort_values(ascending=False)"
      ]
    },
    {
      "cell_type": "code",
      "execution_count": 9,
      "metadata": {
        "id": "8ZYZ9weF1FFf"
      },
      "outputs": [],
      "source": [
        "df.INJURIES_FATAL.value_counts()\n",
        "# Injuries to zero\n",
        "col = ['INJURIES_INCAPACITATING', 'INJURIES_NON_INCAPACITATING', 'INJURIES_UNKNOWN', 'INJURIES_NO_INDICATION', 'INJURIES_TOTAL', 'INJURIES_REPORTED_NOT_EVIDENT', 'INJURIES_FATAL']\n",
        "df[col] = df[col].fillna(0)"
      ]
    },
    {
      "cell_type": "code",
      "execution_count": 10,
      "metadata": {
        "colab": {
          "base_uri": "https://localhost:8080/",
          "height": 429
        },
        "id": "gWrqtSUG2B7y",
        "outputId": "8cf4b495-5fb5-4ce8-9967-702f38e586cd"
      },
      "outputs": [
        {
          "data": {
            "text/html": [
              "<div>\n",
              "<style scoped>\n",
              "    .dataframe tbody tr th:only-of-type {\n",
              "        vertical-align: middle;\n",
              "    }\n",
              "\n",
              "    .dataframe tbody tr th {\n",
              "        vertical-align: top;\n",
              "    }\n",
              "\n",
              "    .dataframe thead th {\n",
              "        text-align: right;\n",
              "    }\n",
              "</style>\n",
              "<table border=\"1\" class=\"dataframe\">\n",
              "  <thead>\n",
              "    <tr style=\"text-align: right;\">\n",
              "      <th></th>\n",
              "      <th>CRASH_DATE</th>\n",
              "      <th>POSTED_SPEED_LIMIT</th>\n",
              "      <th>TRAFFIC_CONTROL_DEVICE</th>\n",
              "      <th>DEVICE_CONDITION</th>\n",
              "      <th>WEATHER_CONDITION</th>\n",
              "      <th>LIGHTING_CONDITION</th>\n",
              "      <th>FIRST_CRASH_TYPE</th>\n",
              "      <th>TRAFFICWAY_TYPE</th>\n",
              "      <th>LANE_CNT</th>\n",
              "      <th>ALIGNMENT</th>\n",
              "      <th>...</th>\n",
              "      <th>INJURIES_INCAPACITATING</th>\n",
              "      <th>INJURIES_NON_INCAPACITATING</th>\n",
              "      <th>INJURIES_REPORTED_NOT_EVIDENT</th>\n",
              "      <th>INJURIES_NO_INDICATION</th>\n",
              "      <th>INJURIES_UNKNOWN</th>\n",
              "      <th>CRASH_HOUR</th>\n",
              "      <th>CRASH_DAY_OF_WEEK</th>\n",
              "      <th>CRASH_MONTH</th>\n",
              "      <th>LATITUDE</th>\n",
              "      <th>LONGITUDE</th>\n",
              "    </tr>\n",
              "  </thead>\n",
              "  <tbody>\n",
              "    <tr>\n",
              "      <th>685702</th>\n",
              "      <td>05/27/2022 05:05:00 PM</td>\n",
              "      <td>30</td>\n",
              "      <td>TRAFFIC SIGNAL</td>\n",
              "      <td>FUNCTIONING PROPERLY</td>\n",
              "      <td>CLOUDY/OVERCAST</td>\n",
              "      <td>DAYLIGHT</td>\n",
              "      <td>TURNING</td>\n",
              "      <td>NOT DIVIDED</td>\n",
              "      <td>NaN</td>\n",
              "      <td>STRAIGHT AND LEVEL</td>\n",
              "      <td>...</td>\n",
              "      <td>0.0</td>\n",
              "      <td>0.0</td>\n",
              "      <td>0.0</td>\n",
              "      <td>2.0</td>\n",
              "      <td>0.0</td>\n",
              "      <td>17</td>\n",
              "      <td>6</td>\n",
              "      <td>5</td>\n",
              "      <td>41.735406</td>\n",
              "      <td>-87.692103</td>\n",
              "    </tr>\n",
              "    <tr>\n",
              "      <th>676238</th>\n",
              "      <td>10/31/2022 09:04:00 AM</td>\n",
              "      <td>30</td>\n",
              "      <td>TRAFFIC SIGNAL</td>\n",
              "      <td>FUNCTIONING PROPERLY</td>\n",
              "      <td>RAIN</td>\n",
              "      <td>DAYLIGHT</td>\n",
              "      <td>REAR END</td>\n",
              "      <td>NOT DIVIDED</td>\n",
              "      <td>NaN</td>\n",
              "      <td>STRAIGHT AND LEVEL</td>\n",
              "      <td>...</td>\n",
              "      <td>0.0</td>\n",
              "      <td>2.0</td>\n",
              "      <td>0.0</td>\n",
              "      <td>1.0</td>\n",
              "      <td>0.0</td>\n",
              "      <td>9</td>\n",
              "      <td>2</td>\n",
              "      <td>10</td>\n",
              "      <td>41.873897</td>\n",
              "      <td>-87.735376</td>\n",
              "    </tr>\n",
              "    <tr>\n",
              "      <th>113424</th>\n",
              "      <td>02/21/2016 07:00:00 AM</td>\n",
              "      <td>20</td>\n",
              "      <td>NO CONTROLS</td>\n",
              "      <td>NO CONTROLS</td>\n",
              "      <td>UNKNOWN</td>\n",
              "      <td>UNKNOWN</td>\n",
              "      <td>PARKED MOTOR VEHICLE</td>\n",
              "      <td>ONE-WAY</td>\n",
              "      <td>1.0</td>\n",
              "      <td>STRAIGHT AND LEVEL</td>\n",
              "      <td>...</td>\n",
              "      <td>0.0</td>\n",
              "      <td>0.0</td>\n",
              "      <td>0.0</td>\n",
              "      <td>1.0</td>\n",
              "      <td>0.0</td>\n",
              "      <td>7</td>\n",
              "      <td>1</td>\n",
              "      <td>2</td>\n",
              "      <td>41.769599</td>\n",
              "      <td>-87.585232</td>\n",
              "    </tr>\n",
              "    <tr>\n",
              "      <th>287149</th>\n",
              "      <td>11/21/2021 04:30:00 PM</td>\n",
              "      <td>20</td>\n",
              "      <td>NO CONTROLS</td>\n",
              "      <td>NO CONTROLS</td>\n",
              "      <td>CLEAR</td>\n",
              "      <td>DAYLIGHT</td>\n",
              "      <td>OTHER OBJECT</td>\n",
              "      <td>OTHER</td>\n",
              "      <td>NaN</td>\n",
              "      <td>STRAIGHT AND LEVEL</td>\n",
              "      <td>...</td>\n",
              "      <td>0.0</td>\n",
              "      <td>0.0</td>\n",
              "      <td>0.0</td>\n",
              "      <td>1.0</td>\n",
              "      <td>0.0</td>\n",
              "      <td>16</td>\n",
              "      <td>1</td>\n",
              "      <td>11</td>\n",
              "      <td>41.878902</td>\n",
              "      <td>-87.715683</td>\n",
              "    </tr>\n",
              "    <tr>\n",
              "      <th>429251</th>\n",
              "      <td>03/04/2021 12:50:00 PM</td>\n",
              "      <td>30</td>\n",
              "      <td>NO CONTROLS</td>\n",
              "      <td>NO CONTROLS</td>\n",
              "      <td>CLEAR</td>\n",
              "      <td>DAYLIGHT</td>\n",
              "      <td>SIDESWIPE SAME DIRECTION</td>\n",
              "      <td>NOT DIVIDED</td>\n",
              "      <td>NaN</td>\n",
              "      <td>STRAIGHT AND LEVEL</td>\n",
              "      <td>...</td>\n",
              "      <td>0.0</td>\n",
              "      <td>0.0</td>\n",
              "      <td>0.0</td>\n",
              "      <td>2.0</td>\n",
              "      <td>0.0</td>\n",
              "      <td>12</td>\n",
              "      <td>5</td>\n",
              "      <td>3</td>\n",
              "      <td>41.799484</td>\n",
              "      <td>-87.587442</td>\n",
              "    </tr>\n",
              "  </tbody>\n",
              "</table>\n",
              "<p>5 rows × 41 columns</p>\n",
              "</div>"
            ],
            "text/plain": [
              "                    CRASH_DATE  POSTED_SPEED_LIMIT TRAFFIC_CONTROL_DEVICE  \\\n",
              "685702  05/27/2022 05:05:00 PM                  30         TRAFFIC SIGNAL   \n",
              "676238  10/31/2022 09:04:00 AM                  30         TRAFFIC SIGNAL   \n",
              "113424  02/21/2016 07:00:00 AM                  20            NO CONTROLS   \n",
              "287149  11/21/2021 04:30:00 PM                  20            NO CONTROLS   \n",
              "429251  03/04/2021 12:50:00 PM                  30            NO CONTROLS   \n",
              "\n",
              "            DEVICE_CONDITION WEATHER_CONDITION LIGHTING_CONDITION  \\\n",
              "685702  FUNCTIONING PROPERLY   CLOUDY/OVERCAST           DAYLIGHT   \n",
              "676238  FUNCTIONING PROPERLY              RAIN           DAYLIGHT   \n",
              "113424           NO CONTROLS           UNKNOWN            UNKNOWN   \n",
              "287149           NO CONTROLS             CLEAR           DAYLIGHT   \n",
              "429251           NO CONTROLS             CLEAR           DAYLIGHT   \n",
              "\n",
              "                FIRST_CRASH_TYPE TRAFFICWAY_TYPE  LANE_CNT  \\\n",
              "685702                   TURNING     NOT DIVIDED       NaN   \n",
              "676238                  REAR END     NOT DIVIDED       NaN   \n",
              "113424      PARKED MOTOR VEHICLE         ONE-WAY       1.0   \n",
              "287149              OTHER OBJECT           OTHER       NaN   \n",
              "429251  SIDESWIPE SAME DIRECTION     NOT DIVIDED       NaN   \n",
              "\n",
              "                 ALIGNMENT  ... INJURIES_INCAPACITATING  \\\n",
              "685702  STRAIGHT AND LEVEL  ...                     0.0   \n",
              "676238  STRAIGHT AND LEVEL  ...                     0.0   \n",
              "113424  STRAIGHT AND LEVEL  ...                     0.0   \n",
              "287149  STRAIGHT AND LEVEL  ...                     0.0   \n",
              "429251  STRAIGHT AND LEVEL  ...                     0.0   \n",
              "\n",
              "       INJURIES_NON_INCAPACITATING INJURIES_REPORTED_NOT_EVIDENT  \\\n",
              "685702                         0.0                           0.0   \n",
              "676238                         2.0                           0.0   \n",
              "113424                         0.0                           0.0   \n",
              "287149                         0.0                           0.0   \n",
              "429251                         0.0                           0.0   \n",
              "\n",
              "       INJURIES_NO_INDICATION INJURIES_UNKNOWN CRASH_HOUR CRASH_DAY_OF_WEEK  \\\n",
              "685702                    2.0              0.0         17                 6   \n",
              "676238                    1.0              0.0          9                 2   \n",
              "113424                    1.0              0.0          7                 1   \n",
              "287149                    1.0              0.0         16                 1   \n",
              "429251                    2.0              0.0         12                 5   \n",
              "\n",
              "       CRASH_MONTH   LATITUDE  LONGITUDE  \n",
              "685702           5  41.735406 -87.692103  \n",
              "676238          10  41.873897 -87.735376  \n",
              "113424           2  41.769599 -87.585232  \n",
              "287149          11  41.878902 -87.715683  \n",
              "429251           3  41.799484 -87.587442  \n",
              "\n",
              "[5 rows x 41 columns]"
            ]
          },
          "execution_count": 10,
          "metadata": {},
          "output_type": "execute_result"
        }
      ],
      "source": [
        "#  Drop irrelevant columns\n",
        "col = ['CRASH_RECORD_ID', 'RD_NO', 'LOCATION', 'PHOTOS_TAKEN_I', 'STATEMENTS_TAKEN_I','CRASH_DATE_EST_I','DATE_POLICE_NOTIFIED', 'REPORT_TYPE']\n",
        "df.drop(col, axis=1, inplace=True)\n",
        "df.sample(5)"
      ]
    },
    {
      "cell_type": "markdown",
      "metadata": {
        "id": "WU1YsZ0ggD9r"
      },
      "source": [
        "# Extract additional features"
      ]
    },
    {
      "cell_type": "code",
      "execution_count": 11,
      "metadata": {
        "id": "xwDwzUXxf_Ff"
      },
      "outputs": [],
      "source": [
        "#extract (weekend/week day), year from crash date column\n",
        "# Convert the date column to a datetime object - 06/02/2018\n",
        "df['CRASH_DATE'] = pd.to_datetime(df['CRASH_DATE'], format=\"%m/%d/%Y %I:%M:%S %p\")\n",
        "df['Crash_year'] = df['CRASH_DATE'].dt.year\n",
        "df['Crash_day'] = df['CRASH_DATE'].dt.day"
      ]
    },
    {
      "cell_type": "code",
      "execution_count": 12,
      "metadata": {
        "id": "XU1FUH44Gppg"
      },
      "outputs": [],
      "source": [
        "# Define time intervals and corresponding labels for 4-hour intervals in a 24-hour format\n",
        "time_intervals = [0, 4, 8, 12, 16, 20, 24]\n",
        "labels = ['Midnight-4AM', '4AM-8AM', '8AM-12PM', '12PM-4PM', '4PM-8PM', '8PM-Midnight']\n",
        "\n",
        "# Create the 'Crash_Time_Category' column using pd.cut\n",
        "df['Crash_Time_Category'] = pd.cut(df['CRASH_HOUR'], bins=time_intervals, labels=labels, right=False)"
      ]
    },
    {
      "cell_type": "code",
      "execution_count": 13,
      "metadata": {
        "id": "nG9CjYtrGppg"
      },
      "outputs": [],
      "source": [
        "#group beats by first two characters\n",
        "df['BEAT_OF_OCCURRENCE'] = df['BEAT_OF_OCCURRENCE'].astype(float).fillna(0).astype(int)\n",
        "df['BEAT_OF_OCCURRENCE'] = [str(x) for x in df['BEAT_OF_OCCURRENCE']]\n",
        "#.astype(str)\n",
        "df['BEAT_OF_OCCURRENCE'] = [x if len(x) >= 4 else '0'+ x for x in df['BEAT_OF_OCCURRENCE']]\n",
        "df['BEAT_CATEGORY'] = df['BEAT_OF_OCCURRENCE'].str[:2]"
      ]
    },
    {
      "cell_type": "code",
      "execution_count": 14,
      "metadata": {
        "id": "0BH7z1sjGppg"
      },
      "outputs": [],
      "source": [
        "#fatal crashes\n",
        "df['isFatal'] = [1 if x > 0 else 0 for x in df['INJURIES_FATAL']]"
      ]
    },
    {
      "cell_type": "code",
      "execution_count": 15,
      "metadata": {
        "id": "7Mg3bNX0Gppg"
      },
      "outputs": [],
      "source": [
        "#categorize by season\n",
        "season_mapping = {\n",
        "    3: 'Spring',\n",
        "    4: 'Spring',\n",
        "    5: 'Spring',\n",
        "    6: 'Summer',\n",
        "    7: 'Summer',\n",
        "    8: 'Summer',\n",
        "    9: 'Fall',\n",
        "    10: 'Fall',\n",
        "    11: 'Fall',\n",
        "    12: 'Winter',\n",
        "    1: 'Winter',\n",
        "    2: 'Winter'\n",
        "}\n",
        "\n",
        "# Assuming your DataFrame is named 'df', create a new 'Season' column\n",
        "df['Season'] = df['CRASH_MONTH'].map(season_mapping)"
      ]
    },
    {
      "cell_type": "code",
      "execution_count": 16,
      "metadata": {
        "id": "4zhwKKdYmD5u"
      },
      "outputs": [],
      "source": [
        "#use list of US holidays to flag dates as \"national holidays\"\n",
        "holidays = {\"New Year\": (1,1),\n",
        "            \"Juneteenth\": (19,6),\n",
        "             \"Thanksgiving\": (23,11),\n",
        "              \"Thanksgiving\":(24,11),\n",
        "               \"Martin Luther King Day\":(16,1),\n",
        "                \"Independence Day\": (4,7),\n",
        "                 \"Christmas\": (25,12),\n",
        "                  \"Washington's Bday\":(20,2),\n",
        "                   \"Labor Day\":(4,9),\n",
        "                    \"Memorial Day\":(29,5),\n",
        "                     \"Veterans Day\":(10,11),\n",
        "                        \"Lincoln's Bday\":(13,2),\n",
        "                          \"Casimir Pulaski Day\":(6,3),\n",
        "                             \"Columbus Day\": (9,10)\n",
        "            }\n",
        "\n",
        "#function to determine national holiday\n",
        "def is_national_holiday(day,month):\n",
        "  for name,date in holidays.items():\n",
        "    if date[0] == day and date[1] == month:\n",
        "      return name\n",
        "  return \"\"\n",
        "\n",
        "#function to determine weekend/weekday\n",
        "def is_weekday(day):\n",
        "  if day > 1 and day < 7:\n",
        "    return True\n",
        "  else:\n",
        "    return False\n"
      ]
    },
    {
      "cell_type": "code",
      "execution_count": 17,
      "metadata": {
        "id": "2bjMkUA6kQe4"
      },
      "outputs": [],
      "source": [
        "#set category as \"national holiday\" based on above function\n",
        "df['Type_of_day'] = df.apply(lambda row: is_national_holiday(row['Crash_day'], row['CRASH_MONTH'])  if is_national_holiday(row['Crash_day'], row['CRASH_MONTH'])\n",
        "                                    else 'Weekday' if is_weekday(row['CRASH_DAY_OF_WEEK'])\n",
        "                                    else 'Weekend', axis=1)"
      ]
    },
    {
      "cell_type": "code",
      "execution_count": 18,
      "metadata": {
        "id": "W7bGDc9SkcJG"
      },
      "outputs": [],
      "source": [
        "#categorize the columns\n",
        "envi_col = ['STREET_DIRECTION', 'WORK_ZONE_I', 'WORK_ZONE_TYPE', 'WORKERS_PRESENT_I',\n",
        "            'TRAFFIC_CONTROL_DEVICE', 'DEVICE_CONDITION', 'WEATHER_CONDITION', 'LIGHTING_CONDITION',\n",
        "            'TRAFFICWAY_TYPE', 'LANE_CNT', 'ALIGNMENT', 'ROADWAY_SURFACE_COND', 'ROAD_DEFECT']\n",
        "crash_cond_col = ['PRIM_CONTRIBUTORY_CAUSE', 'SEC_CONTRIBUTORY_CAUSE',\n",
        "                  'FIRST_CRASH_TYPE', 'NUM_UNITS', 'CRASH_TYPE',\n",
        "                  'INTERSECTION_RELATED_I', 'NOT_RIGHT_OF_WAY_I', 'HIT_AND_RUN_I']\n",
        "date_time_col = ['CRASH_HOUR', 'CRASH_DAY_OF_WEEK', 'CRASH_MONTH']\n",
        "injuries = ['MOST_SEVERE_INJURY', 'INJURIES_TOTAL', 'INJURIES_FATAL',\n",
        "       'INJURIES_INCAPACITATING', 'INJURIES_NON_INCAPACITATING',\n",
        "       'INJURIES_REPORTED_NOT_EVIDENT', 'INJURIES_NO_INDICATION',\n",
        "       'INJURIES_UNKNOWN']\n",
        "damage = ['DAMAGE']\n",
        "location = ['BEAT_OF_OCCURRENCE', 'STREET_NO', 'STREET_NAME', 'LATITUDE', 'LONGITUDE','BEAT_CATEGORY']"
      ]
    },
    {
      "cell_type": "code",
      "execution_count": 19,
      "metadata": {
        "id": "EqsYhu8FAqZW"
      },
      "outputs": [],
      "source": [
        "df.to_csv('Feature_Engineered_Data.csv')"
      ]
    },
    {
      "cell_type": "markdown",
      "metadata": {
        "id": "Bml0yRuiArES"
      },
      "source": [
        "** HYPOTHESES: **\n",
        "\n",
        "1. Extreme weather conditions like snow, rain and poor road conditions are associated with accidents leading to more severe damage/fatal injuries (Addrressed in question 1)\n",
        "\n",
        "2. Magnificient Mile which is the most unsafe neighborhood will be the hotspot in Chicago for accident crashes. Accidents are higher on new year's eve and day. (Addressed in question 2)\n",
        "\n",
        "3. Weekdays rush hour are associated with higher crashes. And winter has the most accidents that are fatal (Addressed in question 3)"
      ]
    },
    {
      "cell_type": "code",
      "execution_count": 20,
      "metadata": {
        "id": "XsPod0XfGppi"
      },
      "outputs": [],
      "source": [
        "#read the data\n",
        "df = pd.read_csv('Feature_Engineered_Data.csv')"
      ]
    },
    {
      "cell_type": "markdown",
      "metadata": {
        "id": "7ecxzDad1ns8"
      },
      "source": [
        "## Question 1\n",
        "\n",
        "- What are the causes for majority of the accidents: environmental conditions leading to high damage or injury?\n",
        "- More exploratory analysis was done in this notebook: https://drive.google.com/file/d/1Ep01v8Xd7l-vO_5y5ajaWLxU1M4oamxD/view?usp=drive_link\n"
      ]
    },
    {
      "cell_type": "code",
      "execution_count": 21,
      "metadata": {
        "colab": {
          "base_uri": "https://localhost:8080/",
          "height": 377
        },
        "id": "KD6DBjhZGppk",
        "outputId": "346b78f7-db7d-4903-af0e-de64b6c9e46e"
      },
      "outputs": [
        {
          "data": {
            "text/html": [
              "<div>\n",
              "<style scoped>\n",
              "    .dataframe tbody tr th:only-of-type {\n",
              "        vertical-align: middle;\n",
              "    }\n",
              "\n",
              "    .dataframe tbody tr th {\n",
              "        vertical-align: top;\n",
              "    }\n",
              "\n",
              "    .dataframe thead th {\n",
              "        text-align: right;\n",
              "    }\n",
              "</style>\n",
              "<table border=\"1\" class=\"dataframe\">\n",
              "  <thead>\n",
              "    <tr style=\"text-align: right;\">\n",
              "      <th></th>\n",
              "      <th>Unnamed: 0</th>\n",
              "      <th>CRASH_DATE</th>\n",
              "      <th>POSTED_SPEED_LIMIT</th>\n",
              "      <th>TRAFFIC_CONTROL_DEVICE</th>\n",
              "      <th>DEVICE_CONDITION</th>\n",
              "      <th>WEATHER_CONDITION</th>\n",
              "      <th>LIGHTING_CONDITION</th>\n",
              "      <th>FIRST_CRASH_TYPE</th>\n",
              "      <th>TRAFFICWAY_TYPE</th>\n",
              "      <th>LANE_CNT</th>\n",
              "      <th>...</th>\n",
              "      <th>CRASH_MONTH</th>\n",
              "      <th>LATITUDE</th>\n",
              "      <th>LONGITUDE</th>\n",
              "      <th>Crash_year</th>\n",
              "      <th>Crash_day</th>\n",
              "      <th>Crash_Time_Category</th>\n",
              "      <th>BEAT_CATEGORY</th>\n",
              "      <th>isFatal</th>\n",
              "      <th>Season</th>\n",
              "      <th>Type_of_day</th>\n",
              "    </tr>\n",
              "  </thead>\n",
              "  <tbody>\n",
              "    <tr>\n",
              "      <th>0</th>\n",
              "      <td>0</td>\n",
              "      <td>2023-07-29 11:40:00</td>\n",
              "      <td>30</td>\n",
              "      <td>NO CONTROLS</td>\n",
              "      <td>NO CONTROLS</td>\n",
              "      <td>CLEAR</td>\n",
              "      <td>DAYLIGHT</td>\n",
              "      <td>TURNING</td>\n",
              "      <td>NOT DIVIDED</td>\n",
              "      <td>NaN</td>\n",
              "      <td>...</td>\n",
              "      <td>7</td>\n",
              "      <td>41.895745</td>\n",
              "      <td>-87.706710</td>\n",
              "      <td>2023</td>\n",
              "      <td>29</td>\n",
              "      <td>8AM-12PM</td>\n",
              "      <td>11</td>\n",
              "      <td>0</td>\n",
              "      <td>Summer</td>\n",
              "      <td>Weekend</td>\n",
              "    </tr>\n",
              "    <tr>\n",
              "      <th>1</th>\n",
              "      <td>1</td>\n",
              "      <td>2023-09-05 14:23:00</td>\n",
              "      <td>30</td>\n",
              "      <td>TRAFFIC SIGNAL</td>\n",
              "      <td>FUNCTIONING PROPERLY</td>\n",
              "      <td>CLEAR</td>\n",
              "      <td>DAYLIGHT</td>\n",
              "      <td>SIDESWIPE SAME DIRECTION</td>\n",
              "      <td>NOT DIVIDED</td>\n",
              "      <td>NaN</td>\n",
              "      <td>...</td>\n",
              "      <td>9</td>\n",
              "      <td>41.830034</td>\n",
              "      <td>-87.694644</td>\n",
              "      <td>2023</td>\n",
              "      <td>5</td>\n",
              "      <td>12PM-4PM</td>\n",
              "      <td>9</td>\n",
              "      <td>0</td>\n",
              "      <td>Fall</td>\n",
              "      <td>Weekday</td>\n",
              "    </tr>\n",
              "    <tr>\n",
              "      <th>2</th>\n",
              "      <td>2</td>\n",
              "      <td>2023-07-29 09:58:00</td>\n",
              "      <td>45</td>\n",
              "      <td>NO CONTROLS</td>\n",
              "      <td>NO CONTROLS</td>\n",
              "      <td>CLEAR</td>\n",
              "      <td>DAYLIGHT</td>\n",
              "      <td>SIDESWIPE SAME DIRECTION</td>\n",
              "      <td>NOT DIVIDED</td>\n",
              "      <td>NaN</td>\n",
              "      <td>...</td>\n",
              "      <td>7</td>\n",
              "      <td>41.660284</td>\n",
              "      <td>-87.588666</td>\n",
              "      <td>2023</td>\n",
              "      <td>29</td>\n",
              "      <td>8AM-12PM</td>\n",
              "      <td>4</td>\n",
              "      <td>0</td>\n",
              "      <td>Summer</td>\n",
              "      <td>Weekend</td>\n",
              "    </tr>\n",
              "    <tr>\n",
              "      <th>3</th>\n",
              "      <td>3</td>\n",
              "      <td>2023-07-10 16:30:00</td>\n",
              "      <td>30</td>\n",
              "      <td>NO CONTROLS</td>\n",
              "      <td>NO CONTROLS</td>\n",
              "      <td>CLEAR</td>\n",
              "      <td>DAYLIGHT</td>\n",
              "      <td>SIDESWIPE SAME DIRECTION</td>\n",
              "      <td>ONE-WAY</td>\n",
              "      <td>NaN</td>\n",
              "      <td>...</td>\n",
              "      <td>7</td>\n",
              "      <td>41.794560</td>\n",
              "      <td>-87.631928</td>\n",
              "      <td>2023</td>\n",
              "      <td>10</td>\n",
              "      <td>4PM-8PM</td>\n",
              "      <td>9</td>\n",
              "      <td>0</td>\n",
              "      <td>Summer</td>\n",
              "      <td>Weekday</td>\n",
              "    </tr>\n",
              "    <tr>\n",
              "      <th>4</th>\n",
              "      <td>4</td>\n",
              "      <td>2019-09-29 03:45:00</td>\n",
              "      <td>30</td>\n",
              "      <td>NO CONTROLS</td>\n",
              "      <td>NO CONTROLS</td>\n",
              "      <td>RAIN</td>\n",
              "      <td>DARKNESS, LIGHTED ROAD</td>\n",
              "      <td>SIDESWIPE OPPOSITE DIRECTION</td>\n",
              "      <td>NOT DIVIDED</td>\n",
              "      <td>NaN</td>\n",
              "      <td>...</td>\n",
              "      <td>9</td>\n",
              "      <td>41.758243</td>\n",
              "      <td>-87.618221</td>\n",
              "      <td>2019</td>\n",
              "      <td>29</td>\n",
              "      <td>Midnight-4AM</td>\n",
              "      <td>6</td>\n",
              "      <td>0</td>\n",
              "      <td>Fall</td>\n",
              "      <td>Weekend</td>\n",
              "    </tr>\n",
              "  </tbody>\n",
              "</table>\n",
              "<p>5 rows × 49 columns</p>\n",
              "</div>"
            ],
            "text/plain": [
              "   Unnamed: 0           CRASH_DATE  POSTED_SPEED_LIMIT TRAFFIC_CONTROL_DEVICE  \\\n",
              "0           0  2023-07-29 11:40:00                  30            NO CONTROLS   \n",
              "1           1  2023-09-05 14:23:00                  30         TRAFFIC SIGNAL   \n",
              "2           2  2023-07-29 09:58:00                  45            NO CONTROLS   \n",
              "3           3  2023-07-10 16:30:00                  30            NO CONTROLS   \n",
              "4           4  2019-09-29 03:45:00                  30            NO CONTROLS   \n",
              "\n",
              "       DEVICE_CONDITION WEATHER_CONDITION      LIGHTING_CONDITION  \\\n",
              "0           NO CONTROLS             CLEAR                DAYLIGHT   \n",
              "1  FUNCTIONING PROPERLY             CLEAR                DAYLIGHT   \n",
              "2           NO CONTROLS             CLEAR                DAYLIGHT   \n",
              "3           NO CONTROLS             CLEAR                DAYLIGHT   \n",
              "4           NO CONTROLS              RAIN  DARKNESS, LIGHTED ROAD   \n",
              "\n",
              "               FIRST_CRASH_TYPE TRAFFICWAY_TYPE  LANE_CNT  ... CRASH_MONTH  \\\n",
              "0                       TURNING     NOT DIVIDED       NaN  ...           7   \n",
              "1      SIDESWIPE SAME DIRECTION     NOT DIVIDED       NaN  ...           9   \n",
              "2      SIDESWIPE SAME DIRECTION     NOT DIVIDED       NaN  ...           7   \n",
              "3      SIDESWIPE SAME DIRECTION         ONE-WAY       NaN  ...           7   \n",
              "4  SIDESWIPE OPPOSITE DIRECTION     NOT DIVIDED       NaN  ...           9   \n",
              "\n",
              "    LATITUDE  LONGITUDE Crash_year Crash_day Crash_Time_Category  \\\n",
              "0  41.895745 -87.706710       2023        29            8AM-12PM   \n",
              "1  41.830034 -87.694644       2023         5            12PM-4PM   \n",
              "2  41.660284 -87.588666       2023        29            8AM-12PM   \n",
              "3  41.794560 -87.631928       2023        10             4PM-8PM   \n",
              "4  41.758243 -87.618221       2019        29        Midnight-4AM   \n",
              "\n",
              "  BEAT_CATEGORY  isFatal  Season Type_of_day  \n",
              "0            11        0  Summer     Weekend  \n",
              "1             9        0    Fall     Weekday  \n",
              "2             4        0  Summer     Weekend  \n",
              "3             9        0  Summer     Weekday  \n",
              "4             6        0    Fall     Weekend  \n",
              "\n",
              "[5 rows x 49 columns]"
            ]
          },
          "execution_count": 21,
          "metadata": {},
          "output_type": "execute_result"
        }
      ],
      "source": [
        "# In the original dataframe, damage is categorized into 'OVER $1,500', '$500 OR LESS' and '$501 - $1,500'\n",
        "# Here, we converted to value as follow\n",
        "\n",
        "dict_DAMAGE = {'OVER $1,500' : 3000,\n",
        "               '$500 OR LESS' : 250,\n",
        "               '$501 - $1,500' :1000\n",
        "}\n",
        "\n",
        "df_damage_val = df.copy()\n",
        "df_damage_val['DAMAGE'] = df_damage_val['DAMAGE'].replace(dict_DAMAGE)\n",
        "df_damage_val.head(5)"
      ]
    },
    {
      "cell_type": "code",
      "execution_count": 22,
      "metadata": {
        "colab": {
          "base_uri": "https://localhost:8080/",
          "height": 511
        },
        "id": "SkCf9AQ9Gppl",
        "outputId": "853f8068-fd8e-46cf-bf11-15fa6d07eb7f",
        "scrolled": true
      },
      "outputs": [
        {
          "data": {
            "text/html": [
              "\n",
              "<style>\n",
              "  #altair-viz-ce2ffb227a8241aa84729d3464287193.vega-embed {\n",
              "    width: 100%;\n",
              "    display: flex;\n",
              "  }\n",
              "\n",
              "  #altair-viz-ce2ffb227a8241aa84729d3464287193.vega-embed details,\n",
              "  #altair-viz-ce2ffb227a8241aa84729d3464287193.vega-embed details summary {\n",
              "    position: relative;\n",
              "  }\n",
              "</style>\n",
              "<div id=\"altair-viz-ce2ffb227a8241aa84729d3464287193\"></div>\n",
              "<script type=\"text/javascript\">\n",
              "  var VEGA_DEBUG = (typeof VEGA_DEBUG == \"undefined\") ? {} : VEGA_DEBUG;\n",
              "  (function(spec, embedOpt){\n",
              "    let outputDiv = document.currentScript.previousElementSibling;\n",
              "    if (outputDiv.id !== \"altair-viz-ce2ffb227a8241aa84729d3464287193\") {\n",
              "      outputDiv = document.getElementById(\"altair-viz-ce2ffb227a8241aa84729d3464287193\");\n",
              "    }\n",
              "    const paths = {\n",
              "      \"vega\": \"https://cdn.jsdelivr.net/npm/vega@5?noext\",\n",
              "      \"vega-lib\": \"https://cdn.jsdelivr.net/npm/vega-lib?noext\",\n",
              "      \"vega-lite\": \"https://cdn.jsdelivr.net/npm/vega-lite@5.14.1?noext\",\n",
              "      \"vega-embed\": \"https://cdn.jsdelivr.net/npm/vega-embed@6?noext\",\n",
              "    };\n",
              "\n",
              "    function maybeLoadScript(lib, version) {\n",
              "      var key = `${lib.replace(\"-\", \"\")}_version`;\n",
              "      return (VEGA_DEBUG[key] == version) ?\n",
              "        Promise.resolve(paths[lib]) :\n",
              "        new Promise(function(resolve, reject) {\n",
              "          var s = document.createElement('script');\n",
              "          document.getElementsByTagName(\"head\")[0].appendChild(s);\n",
              "          s.async = true;\n",
              "          s.onload = () => {\n",
              "            VEGA_DEBUG[key] = version;\n",
              "            return resolve(paths[lib]);\n",
              "          };\n",
              "          s.onerror = () => reject(`Error loading script: ${paths[lib]}`);\n",
              "          s.src = paths[lib];\n",
              "        });\n",
              "    }\n",
              "\n",
              "    function showError(err) {\n",
              "      outputDiv.innerHTML = `<div class=\"error\" style=\"color:red;\">${err}</div>`;\n",
              "      throw err;\n",
              "    }\n",
              "\n",
              "    function displayChart(vegaEmbed) {\n",
              "      vegaEmbed(outputDiv, spec, embedOpt)\n",
              "        .catch(err => showError(`Javascript Error: ${err.message}<br>This usually means there's a typo in your chart specification. See the javascript console for the full traceback.`));\n",
              "    }\n",
              "\n",
              "    if(typeof define === \"function\" && define.amd) {\n",
              "      requirejs.config({paths});\n",
              "      require([\"vega-embed\"], displayChart, err => showError(`Error loading script: ${err.message}`));\n",
              "    } else {\n",
              "      maybeLoadScript(\"vega\", \"5\")\n",
              "        .then(() => maybeLoadScript(\"vega-lite\", \"5.14.1\"))\n",
              "        .then(() => maybeLoadScript(\"vega-embed\", \"6\"))\n",
              "        .catch(showError)\n",
              "        .then(() => displayChart(vegaEmbed));\n",
              "    }\n",
              "  })({\"config\": {\"view\": {\"continuousWidth\": 300, \"continuousHeight\": 300}}, \"hconcat\": [{\"layer\": [{\"mark\": {\"type\": \"circle\"}, \"encoding\": {\"x\": {\"field\": \"INJURIES_TOTAL\", \"scale\": {\"domain\": [0.95, 1.3942622950819672], \"nice\": true, \"type\": \"linear\"}, \"title\": \"Average Total Number of Fatal and Incapacitating Injuries\", \"type\": \"quantitative\"}, \"y\": {\"field\": \"DAMAGE\", \"scale\": {\"domain\": [2240.0, 2704.4444444444443], \"nice\": true, \"type\": \"linear\"}, \"title\": \"Average Damage ($)\", \"type\": \"quantitative\"}}, \"title\": \"LIGHTING_CONDITION\", \"transform\": [{\"filter\": \"(datum['CONDITION'] === 'LIGHTING_CONDITION')\"}]}, {\"mark\": {\"type\": \"text\", \"align\": \"right\", \"baseline\": \"bottom\"}, \"encoding\": {\"text\": {\"field\": \"VALUE\", \"type\": \"nominal\"}, \"x\": {\"field\": \"INJURIES_TOTAL\", \"scale\": {\"domain\": [0.95, 1.3942622950819672], \"nice\": true, \"type\": \"linear\"}, \"title\": \"Average Total Number of Fatal and Incapacitating Injuries\", \"type\": \"quantitative\"}, \"y\": {\"field\": \"DAMAGE\", \"scale\": {\"domain\": [2240.0, 2704.4444444444443], \"nice\": true, \"type\": \"linear\"}, \"title\": \"Average Damage ($)\", \"type\": \"quantitative\"}}, \"title\": \"LIGHTING_CONDITION\", \"transform\": [{\"filter\": \"(datum['CONDITION'] === 'LIGHTING_CONDITION')\"}]}]}, {\"layer\": [{\"mark\": {\"type\": \"circle\"}, \"encoding\": {\"x\": {\"field\": \"INJURIES_TOTAL\", \"scale\": {\"domain\": [0.95, 1.3942622950819672], \"nice\": true, \"type\": \"linear\"}, \"title\": \"Average Total Number of Fatal and Incapacitating Injuries\", \"type\": \"quantitative\"}, \"y\": {\"field\": \"DAMAGE\", \"scale\": {\"domain\": [2240.0, 2704.4444444444443], \"nice\": true, \"type\": \"linear\"}, \"title\": \"Average Damage ($)\", \"type\": \"quantitative\"}}, \"title\": \"ROADWAY_SURFACE_COND\", \"transform\": [{\"filter\": \"(datum['CONDITION'] === 'ROADWAY_SURFACE_COND')\"}]}, {\"mark\": {\"type\": \"text\", \"align\": \"right\", \"baseline\": \"bottom\"}, \"encoding\": {\"text\": {\"field\": \"VALUE\", \"type\": \"nominal\"}, \"x\": {\"field\": \"INJURIES_TOTAL\", \"scale\": {\"domain\": [0.95, 1.3942622950819672], \"nice\": true, \"type\": \"linear\"}, \"title\": \"Average Total Number of Fatal and Incapacitating Injuries\", \"type\": \"quantitative\"}, \"y\": {\"field\": \"DAMAGE\", \"scale\": {\"domain\": [2240.0, 2704.4444444444443], \"nice\": true, \"type\": \"linear\"}, \"title\": \"Average Damage ($)\", \"type\": \"quantitative\"}}, \"title\": \"ROADWAY_SURFACE_COND\", \"transform\": [{\"filter\": \"(datum['CONDITION'] === 'ROADWAY_SURFACE_COND')\"}]}]}, {\"layer\": [{\"mark\": {\"type\": \"circle\"}, \"encoding\": {\"x\": {\"field\": \"INJURIES_TOTAL\", \"scale\": {\"domain\": [0.95, 1.3942622950819672], \"nice\": true, \"type\": \"linear\"}, \"title\": \"Average Total Number of Fatal and Incapacitating Injuries\", \"type\": \"quantitative\"}, \"y\": {\"field\": \"DAMAGE\", \"scale\": {\"domain\": [2240.0, 2704.4444444444443], \"nice\": true, \"type\": \"linear\"}, \"title\": \"Average Damage ($)\", \"type\": \"quantitative\"}}, \"title\": \"DEVICE_CONDITION\", \"transform\": [{\"filter\": \"(datum['CONDITION'] === 'DEVICE_CONDITION')\"}]}, {\"mark\": {\"type\": \"text\", \"align\": \"right\", \"baseline\": \"bottom\"}, \"encoding\": {\"text\": {\"field\": \"VALUE\", \"type\": \"nominal\"}, \"x\": {\"field\": \"INJURIES_TOTAL\", \"scale\": {\"domain\": [0.95, 1.3942622950819672], \"nice\": true, \"type\": \"linear\"}, \"title\": \"Average Total Number of Fatal and Incapacitating Injuries\", \"type\": \"quantitative\"}, \"y\": {\"field\": \"DAMAGE\", \"scale\": {\"domain\": [2240.0, 2704.4444444444443], \"nice\": true, \"type\": \"linear\"}, \"title\": \"Average Damage ($)\", \"type\": \"quantitative\"}}, \"title\": \"DEVICE_CONDITION\", \"transform\": [{\"filter\": \"(datum['CONDITION'] === 'DEVICE_CONDITION')\"}]}]}, {\"layer\": [{\"mark\": {\"type\": \"circle\"}, \"encoding\": {\"x\": {\"field\": \"INJURIES_TOTAL\", \"scale\": {\"domain\": [0.95, 1.3942622950819672], \"nice\": true, \"type\": \"linear\"}, \"title\": \"Average Total Number of Fatal and Incapacitating Injuries\", \"type\": \"quantitative\"}, \"y\": {\"field\": \"DAMAGE\", \"scale\": {\"domain\": [2240.0, 2704.4444444444443], \"nice\": true, \"type\": \"linear\"}, \"title\": \"Average Damage ($)\", \"type\": \"quantitative\"}}, \"title\": \"ROAD_DEFECT\", \"transform\": [{\"filter\": \"(datum['CONDITION'] === 'ROAD_DEFECT')\"}]}, {\"mark\": {\"type\": \"text\", \"align\": \"right\", \"baseline\": \"bottom\"}, \"encoding\": {\"text\": {\"field\": \"VALUE\", \"type\": \"nominal\"}, \"x\": {\"field\": \"INJURIES_TOTAL\", \"scale\": {\"domain\": [0.95, 1.3942622950819672], \"nice\": true, \"type\": \"linear\"}, \"title\": \"Average Total Number of Fatal and Incapacitating Injuries\", \"type\": \"quantitative\"}, \"y\": {\"field\": \"DAMAGE\", \"scale\": {\"domain\": [2240.0, 2704.4444444444443], \"nice\": true, \"type\": \"linear\"}, \"title\": \"Average Damage ($)\", \"type\": \"quantitative\"}}, \"title\": \"ROAD_DEFECT\", \"transform\": [{\"filter\": \"(datum['CONDITION'] === 'ROAD_DEFECT')\"}]}]}], \"data\": {\"name\": \"data-c0549e132421f5ec200ae4247db18907\"}, \"$schema\": \"https://vega.github.io/schema/vega-lite/v5.14.1.json\", \"datasets\": {\"data-c0549e132421f5ec200ae4247db18907\": [{\"VALUE\": \"DARKNESS\", \"DAMAGE\": 2335.682492581602, \"INJURIES_TOTAL\": 1.1646884272997033, \"CONDITION\": \"LIGHTING_CONDITION\"}, {\"VALUE\": \"DARKNESS, LIGHTED ROAD\", \"DAMAGE\": 2559.5659875996457, \"INJURIES_TOTAL\": 1.2147918511957485, \"CONDITION\": \"LIGHTING_CONDITION\"}, {\"VALUE\": \"DAWN\", \"DAMAGE\": 2458.7458745874587, \"INJURIES_TOTAL\": 1.1518151815181519, \"CONDITION\": \"LIGHTING_CONDITION\"}, {\"VALUE\": \"DAYLIGHT\", \"DAMAGE\": 2319.530754597337, \"INJURIES_TOTAL\": 1.151299936588459, \"CONDITION\": \"LIGHTING_CONDITION\"}, {\"VALUE\": \"DUSK\", \"DAMAGE\": 2397.4201474201473, \"INJURIES_TOTAL\": 1.144963144963145, \"CONDITION\": \"LIGHTING_CONDITION\"}, {\"VALUE\": \"DRY\", \"DAMAGE\": 2418.481742472774, \"INJURIES_TOTAL\": 1.175620023794271, \"CONDITION\": \"ROADWAY_SURFACE_COND\"}, {\"VALUE\": \"ICE\", \"DAMAGE\": 2528.169014084507, \"INJURIES_TOTAL\": 1.2394366197183098, \"CONDITION\": \"ROADWAY_SURFACE_COND\"}, {\"VALUE\": \"SAND, MUD, DIRT\", \"DAMAGE\": 2250.0, \"INJURIES_TOTAL\": 1.1, \"CONDITION\": \"ROADWAY_SURFACE_COND\"}, {\"VALUE\": \"SNOW OR SLUSH\", \"DAMAGE\": 2436.5942028985505, \"INJURIES_TOTAL\": 1.1123188405797102, \"CONDITION\": \"ROADWAY_SURFACE_COND\"}, {\"VALUE\": \"WET\", \"DAMAGE\": 2352.802637776731, \"INJURIES_TOTAL\": 1.173810645313236, \"CONDITION\": \"ROADWAY_SURFACE_COND\"}, {\"VALUE\": \"FUNCTIONING IMPROPERLY\", \"DAMAGE\": 2379.7169811320755, \"INJURIES_TOTAL\": 1.1320754716981132, \"CONDITION\": \"DEVICE_CONDITION\"}, {\"VALUE\": \"FUNCTIONING PROPERLY\", \"DAMAGE\": 2425.450980392157, \"INJURIES_TOTAL\": 1.2025098039215687, \"CONDITION\": \"DEVICE_CONDITION\"}, {\"VALUE\": \"NO CONTROLS\", \"DAMAGE\": 2398.0171073094866, \"INJURIES_TOTAL\": 1.1460342146189735, \"CONDITION\": \"DEVICE_CONDITION\"}, {\"VALUE\": \"NOT FUNCTIONING\", \"DAMAGE\": 2512.2950819672133, \"INJURIES_TOTAL\": 1.3442622950819672, \"CONDITION\": \"DEVICE_CONDITION\"}, {\"VALUE\": \"WORN REFLECTIVE MATERIAL\", \"DAMAGE\": 2312.5, \"INJURIES_TOTAL\": 1.0, \"CONDITION\": \"DEVICE_CONDITION\"}, {\"VALUE\": \"DEBRIS ON ROADWAY\", \"DAMAGE\": 2694.4444444444443, \"INJURIES_TOTAL\": 1.2222222222222223, \"CONDITION\": \"ROAD_DEFECT\"}, {\"VALUE\": \"NO DEFECTS\", \"DAMAGE\": 2410.527657405047, \"INJURIES_TOTAL\": 1.177245305463506, \"CONDITION\": \"ROAD_DEFECT\"}, {\"VALUE\": \"RUT, HOLES\", \"DAMAGE\": 2395.8333333333335, \"INJURIES_TOTAL\": 1.0833333333333333, \"CONDITION\": \"ROAD_DEFECT\"}, {\"VALUE\": \"SHOULDER DEFECT\", \"DAMAGE\": 2437.5, \"INJURIES_TOTAL\": 1.2, \"CONDITION\": \"ROAD_DEFECT\"}, {\"VALUE\": \"WORN SURFACE\", \"DAMAGE\": 2540.3225806451615, \"INJURIES_TOTAL\": 1.1935483870967742, \"CONDITION\": \"ROAD_DEFECT\"}]}}, {\"mode\": \"vega-lite\"});\n",
              "</script>"
            ],
            "text/plain": [
              "alt.HConcatChart(...)"
            ]
          },
          "execution_count": 22,
          "metadata": {},
          "output_type": "execute_result"
        }
      ],
      "source": [
        "# Filter to only accident that results in fatal and incapacitating\n",
        "\n",
        "df2_fatal = df_damage_val[((df_damage_val.INJURIES_FATAL > 0)  | (df_damage_val.INJURIES_INCAPACITATING > 0))]\n",
        "\n",
        "df2_fatal.loc[:,'INJURIES_TOTAL'] = df2_fatal.INJURIES_FATAL + df2_fatal.INJURIES_INCAPACITATING\n",
        "\n",
        "# Environment condition of interest\n",
        "cond = ['LIGHTING_CONDITION', 'ROADWAY_SURFACE_COND', 'DEVICE_CONDITION', 'ROAD_DEFECT']\n",
        "\n",
        "# Create summary dataframe to identify average damage (monetary value) and total number of fatal and incapacitating injuries\n",
        "summary = pd.DataFrame()\n",
        "\n",
        "for c in cond:\n",
        "\n",
        "    col = ['DAMAGE', 'INJURIES_TOTAL', c]\n",
        "    sub_df2 = df2_fatal[col]\n",
        "    temp = sub_df2.groupby(c)[['DAMAGE', 'INJURIES_TOTAL']].mean()\n",
        "    temp.reset_index(inplace=True)\n",
        "    # print(temp)\n",
        "    temp = temp.rename(columns = {c: 'VALUE'})\n",
        "    temp['CONDITION'] = c\n",
        "\n",
        "    summary = pd.concat([summary, temp])\n",
        "\n",
        "# Drop UNKNOWN as it is not informative to the analysis and remove OTHER to focus more on relevant data points\n",
        "summary = summary[summary.VALUE != 'UNKNOWN']\n",
        "summary = summary[summary.VALUE != 'OTHER']\n",
        "\n",
        "# Set axis range\n",
        "x_min = min(summary.INJURIES_TOTAL)-0.05\n",
        "x_max = max(summary.INJURIES_TOTAL)+0.05\n",
        "y_min = min(summary.DAMAGE)-10\n",
        "y_max = max(summary.DAMAGE)+10\n",
        "\n",
        "# Scatter plot\n",
        "scatter_plot = alt.Chart(summary).mark_circle().encode(\n",
        "    x=alt.X('INJURIES_TOTAL:Q', scale=alt.Scale(type='linear', nice=True, domain=[x_min, x_max]), title='Average Total Number of Fatal and Incapacitating Injuries'),\n",
        "    y=alt.Y('DAMAGE:Q', scale=alt.Scale(type='linear', nice=True, domain=[y_min, y_max]), title='Average Damage ($)'),\n",
        "\n",
        ")\n",
        "\n",
        "facet_chart = alt.hconcat()\n",
        "\n",
        "for condition in summary['CONDITION'].unique():\n",
        "    condition_chart = scatter_plot.transform_filter(alt.datum['CONDITION'] == condition)\n",
        "    condition_chart = condition_chart.properties(\n",
        "    title= condition)\n",
        "\n",
        "    filtered_data = summary[summary['CONDITION'] == condition]\n",
        "\n",
        "    # Create text labels\n",
        "    text = condition_chart.mark_text(\n",
        "        align='right',\n",
        "        baseline='bottom',\n",
        "    ).encode(\n",
        "        text='VALUE:N'\n",
        "    )\n",
        "\n",
        "    facet_chart |= condition_chart + text\n",
        "\n",
        "\n",
        "\n",
        "facet_chart"
      ]
    },
    {
      "cell_type": "markdown",
      "metadata": {
        "id": "vyyz4PbkGppl"
      },
      "source": [
        "## Analysis"
      ]
    },
    {
      "cell_type": "markdown",
      "metadata": {
        "id": "rmKr2elFQBNz"
      },
      "source": [
        "The data contains a wide range of environmental factors related to each accident in Chicago, with weather being a significant influence. Weather conditions impact both visibility and the state of the road surface, which, in turn, affects driver behavior. Accidents occurring in darkness and on icy roads tend to result in more severe damage compared to those that happen in daylight and dry conditions. This observation aligns with findings from a [Weather.com blog post](https://weather.com/safety/winter/news/weather-fatalities-car-crashes-accidents-united-states).\n",
        "\n",
        "Beyond weather, the malfunction of traffic control devices can also contribute to increased damage in terms of both financial costs and severe injuries or fatalities. Interestingly, the impact of worn reflective materials on the severity of accidents is relatively minor when compared to other device-related conditions. [Transline Industries](https://translineinc.com/the-importance-of-reflective-pavement-markers-for-road-safety/#:~:text=Research%20by%20the%20National%20Cooperative,crashes%20by%20up%20to%2030%25.) has published an article indicating that research by the National Cooperative Highway Research Program (NCHRP) suggests that reflective pavement markers can reduce nighttime crashes by up to 30%. It is conceivable that such reflective materials could also reduce the number of accidents and mitigate their severity.\n",
        "\n",
        "Finally, an analysis of road defects reveals that factors like debris on the roadway, worn road surfaces, and shoulder defects result in higher average damage compared to roads with no defects. Moreover, accidents on these defective road segments tend to cause more fatal injuries.\n"
      ]
    },
    {
      "cell_type": "markdown",
      "metadata": {
        "id": "ikS9sW2S9Cuh"
      },
      "source": [
        "## Question 2\n",
        "- Chicago is divided into different divisions called beats of occurences, we group beats to form beat categories and find the accidents occuring in each of them\n",
        "- Are there any beats that have substantially more crashes than others in Chicago ?\n",
        "- Are there any beats to be avoided during national holidays and which ones are safe ?\n",
        "\n",
        "More exploratory analysis was done in this notebook: https://drive.google.com/file/d/1Ep01v8Xd7l-vO_5y5ajaWLxU1M4oamxD/view?usp=drive_link"
      ]
    },
    {
      "cell_type": "code",
      "execution_count": 23,
      "metadata": {
        "colab": {
          "base_uri": "https://localhost:8080/",
          "height": 370
        },
        "id": "8NVIvOVA7Fzh",
        "outputId": "a487b5a1-347b-454a-de97-8725310aeea8"
      },
      "outputs": [
        {
          "data": {
            "text/html": [
              "\n",
              "<style>\n",
              "  #altair-viz-c58fafbe43214f36b7effd429efecfdc.vega-embed {\n",
              "    width: 100%;\n",
              "    display: flex;\n",
              "  }\n",
              "\n",
              "  #altair-viz-c58fafbe43214f36b7effd429efecfdc.vega-embed details,\n",
              "  #altair-viz-c58fafbe43214f36b7effd429efecfdc.vega-embed details summary {\n",
              "    position: relative;\n",
              "  }\n",
              "</style>\n",
              "<div id=\"altair-viz-c58fafbe43214f36b7effd429efecfdc\"></div>\n",
              "<script type=\"text/javascript\">\n",
              "  var VEGA_DEBUG = (typeof VEGA_DEBUG == \"undefined\") ? {} : VEGA_DEBUG;\n",
              "  (function(spec, embedOpt){\n",
              "    let outputDiv = document.currentScript.previousElementSibling;\n",
              "    if (outputDiv.id !== \"altair-viz-c58fafbe43214f36b7effd429efecfdc\") {\n",
              "      outputDiv = document.getElementById(\"altair-viz-c58fafbe43214f36b7effd429efecfdc\");\n",
              "    }\n",
              "    const paths = {\n",
              "      \"vega\": \"https://cdn.jsdelivr.net/npm/vega@5?noext\",\n",
              "      \"vega-lib\": \"https://cdn.jsdelivr.net/npm/vega-lib?noext\",\n",
              "      \"vega-lite\": \"https://cdn.jsdelivr.net/npm/vega-lite@5.14.1?noext\",\n",
              "      \"vega-embed\": \"https://cdn.jsdelivr.net/npm/vega-embed@6?noext\",\n",
              "    };\n",
              "\n",
              "    function maybeLoadScript(lib, version) {\n",
              "      var key = `${lib.replace(\"-\", \"\")}_version`;\n",
              "      return (VEGA_DEBUG[key] == version) ?\n",
              "        Promise.resolve(paths[lib]) :\n",
              "        new Promise(function(resolve, reject) {\n",
              "          var s = document.createElement('script');\n",
              "          document.getElementsByTagName(\"head\")[0].appendChild(s);\n",
              "          s.async = true;\n",
              "          s.onload = () => {\n",
              "            VEGA_DEBUG[key] = version;\n",
              "            return resolve(paths[lib]);\n",
              "          };\n",
              "          s.onerror = () => reject(`Error loading script: ${paths[lib]}`);\n",
              "          s.src = paths[lib];\n",
              "        });\n",
              "    }\n",
              "\n",
              "    function showError(err) {\n",
              "      outputDiv.innerHTML = `<div class=\"error\" style=\"color:red;\">${err}</div>`;\n",
              "      throw err;\n",
              "    }\n",
              "\n",
              "    function displayChart(vegaEmbed) {\n",
              "      vegaEmbed(outputDiv, spec, embedOpt)\n",
              "        .catch(err => showError(`Javascript Error: ${err.message}<br>This usually means there's a typo in your chart specification. See the javascript console for the full traceback.`));\n",
              "    }\n",
              "\n",
              "    if(typeof define === \"function\" && define.amd) {\n",
              "      requirejs.config({paths});\n",
              "      require([\"vega-embed\"], displayChart, err => showError(`Error loading script: ${err.message}`));\n",
              "    } else {\n",
              "      maybeLoadScript(\"vega\", \"5\")\n",
              "        .then(() => maybeLoadScript(\"vega-lite\", \"5.14.1\"))\n",
              "        .then(() => maybeLoadScript(\"vega-embed\", \"6\"))\n",
              "        .catch(showError)\n",
              "        .then(() => displayChart(vegaEmbed));\n",
              "    }\n",
              "  })({\"config\": {\"view\": {\"continuousWidth\": 300, \"continuousHeight\": 300}}, \"data\": {\"name\": \"data-312dd91bd26098321c1fb419843cf261\"}, \"mark\": {\"type\": \"bar\"}, \"encoding\": {\"tooltip\": [{\"field\": \"BEAT_CATEGORY\", \"type\": \"nominal\"}, {\"field\": \"# of crashes over the years\", \"type\": \"quantitative\"}], \"x\": {\"field\": \"BEAT_CATEGORY\", \"sort\": \"x\", \"title\": \"BEAT_CATEGORY\", \"type\": \"nominal\"}, \"y\": {\"field\": \"# of crashes over the years\", \"title\": \"# of crashes\", \"type\": \"quantitative\"}}, \"width\": 400, \"$schema\": \"https://vega.github.io/schema/vega-lite/v5.14.1.json\", \"datasets\": {\"data-312dd91bd26098321c1fb419843cf261\": [{\"BEAT_CATEGORY\": 8, \"# of crashes over the years\": 68637}, {\"BEAT_CATEGORY\": 12, \"# of crashes over the years\": 49371}, {\"BEAT_CATEGORY\": 25, \"# of crashes over the years\": 47378}, {\"BEAT_CATEGORY\": 16, \"# of crashes over the years\": 46202}, {\"BEAT_CATEGORY\": 1, \"# of crashes over the years\": 45611}, {\"BEAT_CATEGORY\": 18, \"# of crashes over the years\": 45118}, {\"BEAT_CATEGORY\": 9, \"# of crashes over the years\": 39622}, {\"BEAT_CATEGORY\": 19, \"# of crashes over the years\": 37912}, {\"BEAT_CATEGORY\": 6, \"# of crashes over the years\": 34874}, {\"BEAT_CATEGORY\": 11, \"# of crashes over the years\": 34023}, {\"BEAT_CATEGORY\": 17, \"# of crashes over the years\": 32672}, {\"BEAT_CATEGORY\": 4, \"# of crashes over the years\": 31591}, {\"BEAT_CATEGORY\": 10, \"# of crashes over the years\": 29655}, {\"BEAT_CATEGORY\": 3, \"# of crashes over the years\": 29058}, {\"BEAT_CATEGORY\": 14, \"# of crashes over the years\": 28909}, {\"BEAT_CATEGORY\": 22, \"# of crashes over the years\": 27728}, {\"BEAT_CATEGORY\": 24, \"# of crashes over the years\": 26891}, {\"BEAT_CATEGORY\": 2, \"# of crashes over the years\": 26524}, {\"BEAT_CATEGORY\": 7, \"# of crashes over the years\": 23931}, {\"BEAT_CATEGORY\": 15, \"# of crashes over the years\": 23203}, {\"BEAT_CATEGORY\": 5, \"# of crashes over the years\": 18611}, {\"BEAT_CATEGORY\": 20, \"# of crashes over the years\": 18364}]}}, {\"mode\": \"vega-lite\"});\n",
              "</script>"
            ],
            "text/plain": [
              "alt.Chart(...)"
            ]
          },
          "execution_count": 23,
          "metadata": {},
          "output_type": "execute_result"
        }
      ],
      "source": [
        "#plot to find the beats with most accidents\n",
        "# Calculate the count of each BEAT_CATEGORY\n",
        "beat_counts = df['BEAT_CATEGORY'].value_counts().reset_index()\n",
        "beat_counts.columns = ['BEAT_CATEGORY', '# of crashes over the years']\n",
        "\n",
        "# Sort the DataFrame by count in descending order\n",
        "beat_counts['# of crashes over the years'] = beat_counts['# of crashes over the years'].astype(int)\n",
        "beat_counts = beat_counts.sort_values(by='# of crashes over the years', ascending=False)\n",
        "\n",
        "beat_counts = beat_counts[~beat_counts['BEAT_CATEGORY'].isin([0,61])]\n",
        "\n",
        "# Create a bar chart using Altair\n",
        "chart = alt.Chart(beat_counts).mark_bar().encode(\n",
        "    x=alt.X('BEAT_CATEGORY:N', sort='x', title='BEAT_CATEGORY'),\n",
        "    y=alt.Y('# of crashes over the years:Q', title='# of crashes'),\n",
        "    tooltip=['BEAT_CATEGORY:N', '# of crashes over the years:Q']\n",
        ").properties(\n",
        "    width=400\n",
        ")\n",
        "\n",
        "# Show the chart\n",
        "chart"
      ]
    },
    {
      "cell_type": "markdown",
      "metadata": {
        "id": "A-uMN7-V_BDg"
      },
      "source": [
        "### The graph above shows Beat category 8,12,25,16,1 has the highest number of crashes.\n",
        "### Top 5 beats with least crashes are: 2,5,7,15,20\n",
        "\n",
        "Our Hypothesis that Magnificient Mile neighborhood (which maps to Beat 2) is the most accident prone zone does not hold true."
      ]
    },
    {
      "cell_type": "markdown",
      "metadata": {
        "id": "IPsPRDfKGppu"
      },
      "source": [
        "### Analysis on national holidays and crashes"
      ]
    },
    {
      "cell_type": "code",
      "execution_count": 24,
      "metadata": {
        "id": "XQn62xFAGppv"
      },
      "outputs": [],
      "source": [
        "q4_df = df[df['MOST_SEVERE_INJURY'].isin(['INCAPACITATING INJURY', 'FATAL'])]"
      ]
    },
    {
      "cell_type": "code",
      "execution_count": 25,
      "metadata": {
        "id": "-wOllbiMGppv"
      },
      "outputs": [],
      "source": [
        "# Group by 'Type_of_day' and sum the occurrences of each accident type separately\n",
        "accident_counts = q4_df.groupby('Type_of_day').agg({'INJURIES_INCAPACITATING': 'sum', 'INJURIES_FATAL': 'sum','Type_of_day':'count'})"
      ]
    },
    {
      "cell_type": "code",
      "execution_count": 26,
      "metadata": {
        "id": "jRf7k4Q9Gppw"
      },
      "outputs": [],
      "source": [
        "accident_counts = accident_counts.rename(columns={'Type_of_day':'Number of crashes'})"
      ]
    },
    {
      "cell_type": "code",
      "execution_count": 27,
      "metadata": {
        "id": "1xNpZzCdGppw"
      },
      "outputs": [],
      "source": [
        "# Filter the DataFrame to exclude 'Weekday' and 'Weekend'\n",
        "filtered_data = accident_counts[~accident_counts.index.isin(['Weekday', 'Weekend'])]\n",
        "\n",
        "# Reset the index to make 'Type_of_day' a column\n",
        "filtered_data.reset_index(inplace=True)"
      ]
    },
    {
      "cell_type": "code",
      "execution_count": 28,
      "metadata": {
        "colab": {
          "base_uri": "https://localhost:8080/",
          "height": 478
        },
        "id": "5O3wat5EGppw",
        "outputId": "b7021804-92f4-4140-93e6-61d21e5d5a3e"
      },
      "outputs": [
        {
          "data": {
            "text/html": [
              "\n",
              "<style>\n",
              "  #altair-viz-d95c6d7ac2d34e17a75a17f32db11a8a.vega-embed {\n",
              "    width: 100%;\n",
              "    display: flex;\n",
              "  }\n",
              "\n",
              "  #altair-viz-d95c6d7ac2d34e17a75a17f32db11a8a.vega-embed details,\n",
              "  #altair-viz-d95c6d7ac2d34e17a75a17f32db11a8a.vega-embed details summary {\n",
              "    position: relative;\n",
              "  }\n",
              "</style>\n",
              "<div id=\"altair-viz-d95c6d7ac2d34e17a75a17f32db11a8a\"></div>\n",
              "<script type=\"text/javascript\">\n",
              "  var VEGA_DEBUG = (typeof VEGA_DEBUG == \"undefined\") ? {} : VEGA_DEBUG;\n",
              "  (function(spec, embedOpt){\n",
              "    let outputDiv = document.currentScript.previousElementSibling;\n",
              "    if (outputDiv.id !== \"altair-viz-d95c6d7ac2d34e17a75a17f32db11a8a\") {\n",
              "      outputDiv = document.getElementById(\"altair-viz-d95c6d7ac2d34e17a75a17f32db11a8a\");\n",
              "    }\n",
              "    const paths = {\n",
              "      \"vega\": \"https://cdn.jsdelivr.net/npm/vega@5?noext\",\n",
              "      \"vega-lib\": \"https://cdn.jsdelivr.net/npm/vega-lib?noext\",\n",
              "      \"vega-lite\": \"https://cdn.jsdelivr.net/npm/vega-lite@5.14.1?noext\",\n",
              "      \"vega-embed\": \"https://cdn.jsdelivr.net/npm/vega-embed@6?noext\",\n",
              "    };\n",
              "\n",
              "    function maybeLoadScript(lib, version) {\n",
              "      var key = `${lib.replace(\"-\", \"\")}_version`;\n",
              "      return (VEGA_DEBUG[key] == version) ?\n",
              "        Promise.resolve(paths[lib]) :\n",
              "        new Promise(function(resolve, reject) {\n",
              "          var s = document.createElement('script');\n",
              "          document.getElementsByTagName(\"head\")[0].appendChild(s);\n",
              "          s.async = true;\n",
              "          s.onload = () => {\n",
              "            VEGA_DEBUG[key] = version;\n",
              "            return resolve(paths[lib]);\n",
              "          };\n",
              "          s.onerror = () => reject(`Error loading script: ${paths[lib]}`);\n",
              "          s.src = paths[lib];\n",
              "        });\n",
              "    }\n",
              "\n",
              "    function showError(err) {\n",
              "      outputDiv.innerHTML = `<div class=\"error\" style=\"color:red;\">${err}</div>`;\n",
              "      throw err;\n",
              "    }\n",
              "\n",
              "    function displayChart(vegaEmbed) {\n",
              "      vegaEmbed(outputDiv, spec, embedOpt)\n",
              "        .catch(err => showError(`Javascript Error: ${err.message}<br>This usually means there's a typo in your chart specification. See the javascript console for the full traceback.`));\n",
              "    }\n",
              "\n",
              "    if(typeof define === \"function\" && define.amd) {\n",
              "      requirejs.config({paths});\n",
              "      require([\"vega-embed\"], displayChart, err => showError(`Error loading script: ${err.message}`));\n",
              "    } else {\n",
              "      maybeLoadScript(\"vega\", \"5\")\n",
              "        .then(() => maybeLoadScript(\"vega-lite\", \"5.14.1\"))\n",
              "        .then(() => maybeLoadScript(\"vega-embed\", \"6\"))\n",
              "        .catch(showError)\n",
              "        .then(() => displayChart(vegaEmbed));\n",
              "    }\n",
              "  })({\"config\": {\"view\": {\"continuousWidth\": 300, \"continuousHeight\": 300}}, \"data\": {\"name\": \"data-b711c6dce9fd70cac6151077257abde4\"}, \"mark\": {\"type\": \"bar\"}, \"encoding\": {\"color\": {\"field\": \"Type_of_day\", \"title\": \"Type of Day\", \"type\": \"nominal\"}, \"x\": {\"field\": \"Type_of_day\", \"title\": \"Type of Day\", \"type\": \"nominal\"}, \"y\": {\"field\": \"Number of crashes\", \"title\": \"# of Crashes\", \"type\": \"quantitative\"}}, \"height\": 300, \"title\": \"# of crashes by Type of Day\", \"width\": 400, \"$schema\": \"https://vega.github.io/schema/vega-lite/v5.14.1.json\", \"datasets\": {\"data-b711c6dce9fd70cac6151077257abde4\": [{\"Type_of_day\": \"Casimir Pulaski Day\", \"INJURIES_INCAPACITATING\": 28.0, \"INJURIES_FATAL\": 2.0, \"Number of crashes\": 28}, {\"Type_of_day\": \"Christmas\", \"INJURIES_INCAPACITATING\": 30.0, \"INJURIES_FATAL\": 3.0, \"Number of crashes\": 31}, {\"Type_of_day\": \"Columbus Day\", \"INJURIES_INCAPACITATING\": 32.0, \"INJURIES_FATAL\": 1.0, \"Number of crashes\": 32}, {\"Type_of_day\": \"Independence Day\", \"INJURIES_INCAPACITATING\": 78.0, \"INJURIES_FATAL\": 5.0, \"Number of crashes\": 68}, {\"Type_of_day\": \"Juneteenth\", \"INJURIES_INCAPACITATING\": 47.0, \"INJURIES_FATAL\": 5.0, \"Number of crashes\": 50}, {\"Type_of_day\": \"Labor Day\", \"INJURIES_INCAPACITATING\": 57.0, \"INJURIES_FATAL\": 1.0, \"Number of crashes\": 46}, {\"Type_of_day\": \"Lincoln's Bday\", \"INJURIES_INCAPACITATING\": 23.0, \"INJURIES_FATAL\": 1.0, \"Number of crashes\": 22}, {\"Type_of_day\": \"Martin Luther King Day\", \"INJURIES_INCAPACITATING\": 26.0, \"INJURIES_FATAL\": 0.0, \"Number of crashes\": 24}, {\"Type_of_day\": \"Memorial Day\", \"INJURIES_INCAPACITATING\": 50.0, \"INJURIES_FATAL\": 1.0, \"Number of crashes\": 46}, {\"Type_of_day\": \"New Year\", \"INJURIES_INCAPACITATING\": 44.0, \"INJURIES_FATAL\": 2.0, \"Number of crashes\": 40}, {\"Type_of_day\": \"Thanksgiving\", \"INJURIES_INCAPACITATING\": 50.0, \"INJURIES_FATAL\": 6.0, \"Number of crashes\": 47}, {\"Type_of_day\": \"Veterans Day\", \"INJURIES_INCAPACITATING\": 34.0, \"INJURIES_FATAL\": 1.0, \"Number of crashes\": 32}, {\"Type_of_day\": \"Washington's Bday\", \"INJURIES_INCAPACITATING\": 49.0, \"INJURIES_FATAL\": 2.0, \"Number of crashes\": 46}]}}, {\"mode\": \"vega-lite\"});\n",
              "</script>"
            ],
            "text/plain": [
              "alt.Chart(...)"
            ]
          },
          "execution_count": 28,
          "metadata": {},
          "output_type": "execute_result"
        }
      ],
      "source": [
        "# Create an Altair bar chart to visualize the counts\n",
        "chart = alt.Chart(filtered_data).mark_bar().encode(\n",
        "    x=alt.X('Type_of_day:N', title='Type of Day'),\n",
        "    y=alt.Y('Number of crashes:Q', title='# of Crashes'),\n",
        "    color=alt.Color('Type_of_day:N', title='Type of Day')\n",
        ").properties(\n",
        "    title='# of crashes by Type of Day',\n",
        "    width=400,  # Adjust the width as needed\n",
        "    height=300   # Adjust the height as needed\n",
        ")\n",
        "\n",
        "chart"
      ]
    },
    {
      "cell_type": "markdown",
      "metadata": {
        "id": "lrKFiIy9Gppx"
      },
      "source": [
        "### Analysis"
      ]
    },
    {
      "cell_type": "markdown",
      "metadata": {
        "id": "hMqZqjM4JxdK"
      },
      "source": [
        "According to the analysis, Independence day has the most accidents. And looking at other case studies published by law firms, it is called the \"Deadliest Holiday\". This is mostly due to lot of partying and alcohol.\n",
        "Another probable cause is that, lot of people are on the roads driving to different places and see fireworks. But roads are also blocked for parade and fireworks leading to congestion in certain areas and thereby causing crashes.\n",
        "Here is the link to the source that talks about accidents on independence day: https://www.chicagotribune.com/news/breaking/la-na-nn-fourth-of-july-deadliest-holiday-20140705-story.html"
      ]
    },
    {
      "cell_type": "markdown",
      "metadata": {
        "id": "sQbWDdbgGppy"
      },
      "source": [
        "### Analyze crash hotspots on holidays"
      ]
    },
    {
      "cell_type": "code",
      "execution_count": 29,
      "metadata": {
        "id": "Ox_WlVH7Gppy"
      },
      "outputs": [],
      "source": [
        "q2_df = df[df['MOST_SEVERE_INJURY'].isin(['INCAPACITATING INJURY', 'FATAL'])]\n",
        "\n",
        "# Group by 'Type_of_day' and 'BEAT_CATEGORY' and sum the 'INJURIES_INCAPACITATING' and 'INJURIES_FATAL'\n",
        "accident_counts_beats = q2_df.groupby(['Type_of_day', 'BEAT_CATEGORY']).agg({'INJURIES_INCAPACITATING': 'sum', 'INJURIES_FATAL': 'sum'})\n",
        "\n",
        "# Add a new column for the count of records\n",
        "crashes = q2_df.groupby(['Type_of_day', 'BEAT_CATEGORY'])['Type_of_day'].size().reset_index(name='Number of Crashes')\n",
        "accident_counts_beats = accident_counts_beats.merge(crashes, on=['Type_of_day', 'BEAT_CATEGORY'], how='inner')\n",
        "\n",
        "# # Reset the index to make the groupby columns regular columns\n",
        "accident_counts_beats.reset_index(inplace=True)\n",
        "\n",
        "# Filter out 'Weekday' and 'Weekend' values\n",
        "accident_counts_beats = accident_counts_beats[~accident_counts_beats['Type_of_day'].isin(['Weekday', 'Weekend'])]\n",
        "\n",
        "# Sort the DataFrame by 'INJURIES_INCAPACITATING' and 'INJURIES_FATAL' in descending order\n",
        "accident_counts_beats = accident_counts_beats.sort_values(by=['INJURIES_INCAPACITATING', 'INJURIES_FATAL'], ascending=[False, False])"
      ]
    },
    {
      "cell_type": "code",
      "execution_count": 30,
      "metadata": {
        "id": "1QsgklSCGppy"
      },
      "outputs": [],
      "source": [
        "#create list of unique national holidays\n",
        "remove_val = ['Weekday','Weekend']\n",
        "unique_days = df['Type_of_day'].unique()\n",
        "national_holidays = [x for x in unique_days if x not in remove_val]"
      ]
    },
    {
      "cell_type": "code",
      "execution_count": 31,
      "metadata": {
        "id": "mOVG6RcyGppz"
      },
      "outputs": [],
      "source": [
        "#get unique beats\n",
        "remove_vals = [00,61]\n",
        "unique_beats = df['BEAT_CATEGORY'].unique()\n",
        "beats_req = [x for x in unique_beats if x not in remove_vals]"
      ]
    },
    {
      "cell_type": "code",
      "execution_count": 32,
      "metadata": {
        "id": "Ru1jCSGIGppz"
      },
      "outputs": [],
      "source": [
        "import itertools\n",
        "# Create all possible combinations using itertools.product\n",
        "combinations = list(itertools.product(national_holidays, beats_req))\n",
        "\n",
        "# Create a DataFrame from the combinations\n",
        "df_all = pd.DataFrame(combinations, columns=['Type_of_day', 'BEAT_CATEGORY'])"
      ]
    },
    {
      "cell_type": "code",
      "execution_count": 33,
      "metadata": {
        "id": "X270L7DkGpp0"
      },
      "outputs": [],
      "source": [
        "#left join df_all with accident_counts_beats\n",
        "accident_counts_beats = df_all.merge(accident_counts_beats, on=['Type_of_day', 'BEAT_CATEGORY'], how='left')"
      ]
    },
    {
      "cell_type": "code",
      "execution_count": 34,
      "metadata": {
        "id": "DrzhpsZFGpp0"
      },
      "outputs": [],
      "source": [
        "accident_counts_beats['Number of Crashes'] = accident_counts_beats['Number of Crashes'].fillna(0)\n",
        "accident_counts_beats['INJURIES_INCAPACITATING'] = accident_counts_beats['INJURIES_INCAPACITATING'].fillna(0)\n",
        "accident_counts_beats['INJURIES_FATAL'] = accident_counts_beats['INJURIES_FATAL'].fillna(0)"
      ]
    },
    {
      "cell_type": "code",
      "execution_count": 35,
      "metadata": {
        "colab": {
          "base_uri": "https://localhost:8080/",
          "height": 574
        },
        "id": "nkD4Nva9Gpp1",
        "outputId": "8b20a481-b8b8-4e21-e569-9a0120816d4a"
      },
      "outputs": [
        {
          "data": {
            "text/html": [
              "\n",
              "<style>\n",
              "  #altair-viz-5ca60dd1d09a44109dad870d671e9d2d.vega-embed {\n",
              "    width: 100%;\n",
              "    display: flex;\n",
              "  }\n",
              "\n",
              "  #altair-viz-5ca60dd1d09a44109dad870d671e9d2d.vega-embed details,\n",
              "  #altair-viz-5ca60dd1d09a44109dad870d671e9d2d.vega-embed details summary {\n",
              "    position: relative;\n",
              "  }\n",
              "</style>\n",
              "<div id=\"altair-viz-5ca60dd1d09a44109dad870d671e9d2d\"></div>\n",
              "<script type=\"text/javascript\">\n",
              "  var VEGA_DEBUG = (typeof VEGA_DEBUG == \"undefined\") ? {} : VEGA_DEBUG;\n",
              "  (function(spec, embedOpt){\n",
              "    let outputDiv = document.currentScript.previousElementSibling;\n",
              "    if (outputDiv.id !== \"altair-viz-5ca60dd1d09a44109dad870d671e9d2d\") {\n",
              "      outputDiv = document.getElementById(\"altair-viz-5ca60dd1d09a44109dad870d671e9d2d\");\n",
              "    }\n",
              "    const paths = {\n",
              "      \"vega\": \"https://cdn.jsdelivr.net/npm/vega@5?noext\",\n",
              "      \"vega-lib\": \"https://cdn.jsdelivr.net/npm/vega-lib?noext\",\n",
              "      \"vega-lite\": \"https://cdn.jsdelivr.net/npm/vega-lite@5.14.1?noext\",\n",
              "      \"vega-embed\": \"https://cdn.jsdelivr.net/npm/vega-embed@6?noext\",\n",
              "    };\n",
              "\n",
              "    function maybeLoadScript(lib, version) {\n",
              "      var key = `${lib.replace(\"-\", \"\")}_version`;\n",
              "      return (VEGA_DEBUG[key] == version) ?\n",
              "        Promise.resolve(paths[lib]) :\n",
              "        new Promise(function(resolve, reject) {\n",
              "          var s = document.createElement('script');\n",
              "          document.getElementsByTagName(\"head\")[0].appendChild(s);\n",
              "          s.async = true;\n",
              "          s.onload = () => {\n",
              "            VEGA_DEBUG[key] = version;\n",
              "            return resolve(paths[lib]);\n",
              "          };\n",
              "          s.onerror = () => reject(`Error loading script: ${paths[lib]}`);\n",
              "          s.src = paths[lib];\n",
              "        });\n",
              "    }\n",
              "\n",
              "    function showError(err) {\n",
              "      outputDiv.innerHTML = `<div class=\"error\" style=\"color:red;\">${err}</div>`;\n",
              "      throw err;\n",
              "    }\n",
              "\n",
              "    function displayChart(vegaEmbed) {\n",
              "      vegaEmbed(outputDiv, spec, embedOpt)\n",
              "        .catch(err => showError(`Javascript Error: ${err.message}<br>This usually means there's a typo in your chart specification. See the javascript console for the full traceback.`));\n",
              "    }\n",
              "\n",
              "    if(typeof define === \"function\" && define.amd) {\n",
              "      requirejs.config({paths});\n",
              "      require([\"vega-embed\"], displayChart, err => showError(`Error loading script: ${err.message}`));\n",
              "    } else {\n",
              "      maybeLoadScript(\"vega\", \"5\")\n",
              "        .then(() => maybeLoadScript(\"vega-lite\", \"5.14.1\"))\n",
              "        .then(() => maybeLoadScript(\"vega-embed\", \"6\"))\n",
              "        .catch(showError)\n",
              "        .then(() => displayChart(vegaEmbed));\n",
              "    }\n",
              "  })({\"config\": {\"view\": {\"continuousWidth\": 300, \"continuousHeight\": 300}}, \"data\": {\"name\": \"data-0691ac3cf637a5ff3d0acea1a96585c1\"}, \"mark\": {\"type\": \"rect\"}, \"encoding\": {\"color\": {\"field\": \"Number of Crashes\", \"scale\": {\"scheme\": \"viridis\"}, \"title\": \"Number of Crashes\", \"type\": \"quantitative\"}, \"x\": {\"field\": \"Type_of_day\", \"title\": \"Type of Day\", \"type\": \"nominal\"}, \"y\": {\"field\": \"BEAT_CATEGORY\", \"title\": \"Beat\", \"type\": \"nominal\"}}, \"height\": 400, \"title\": \"Heatmap of Crashes by Beat and Type of Day\", \"width\": 600, \"$schema\": \"https://vega.github.io/schema/vega-lite/v5.14.1.json\", \"datasets\": {\"data-0691ac3cf637a5ff3d0acea1a96585c1\": [{\"Type_of_day\": \"Casimir Pulaski Day\", \"BEAT_CATEGORY\": 11, \"index\": 8.0, \"INJURIES_INCAPACITATING\": 3.0, \"INJURIES_FATAL\": 0.0, \"Number of Crashes\": 2.0}, {\"Type_of_day\": \"Casimir Pulaski Day\", \"BEAT_CATEGORY\": 9, \"index\": 7.0, \"INJURIES_INCAPACITATING\": 2.0, \"INJURIES_FATAL\": 0.0, \"Number of Crashes\": 2.0}, {\"Type_of_day\": \"Casimir Pulaski Day\", \"BEAT_CATEGORY\": 4, \"index\": 2.0, \"INJURIES_INCAPACITATING\": 1.0, \"INJURIES_FATAL\": 0.0, \"Number of Crashes\": 1.0}, {\"Type_of_day\": \"Casimir Pulaski Day\", \"BEAT_CATEGORY\": 6, \"index\": 4.0, \"INJURIES_INCAPACITATING\": 0.0, \"INJURIES_FATAL\": 1.0, \"Number of Crashes\": 1.0}, {\"Type_of_day\": \"Casimir Pulaski Day\", \"BEAT_CATEGORY\": 22, \"index\": null, \"INJURIES_INCAPACITATING\": 0.0, \"INJURIES_FATAL\": 0.0, \"Number of Crashes\": 0.0}, {\"Type_of_day\": \"Casimir Pulaski Day\", \"BEAT_CATEGORY\": 16, \"index\": 11.0, \"INJURIES_INCAPACITATING\": 2.0, \"INJURIES_FATAL\": 0.0, \"Number of Crashes\": 2.0}, {\"Type_of_day\": \"Casimir Pulaski Day\", \"BEAT_CATEGORY\": 18, \"index\": null, \"INJURIES_INCAPACITATING\": 0.0, \"INJURIES_FATAL\": 0.0, \"Number of Crashes\": 0.0}, {\"Type_of_day\": \"Casimir Pulaski Day\", \"BEAT_CATEGORY\": 25, \"index\": 14.0, \"INJURIES_INCAPACITATING\": 2.0, \"INJURIES_FATAL\": 0.0, \"Number of Crashes\": 2.0}, {\"Type_of_day\": \"Casimir Pulaski Day\", \"BEAT_CATEGORY\": 12, \"index\": 9.0, \"INJURIES_INCAPACITATING\": 4.0, \"INJURIES_FATAL\": 0.0, \"Number of Crashes\": 3.0}, {\"Type_of_day\": \"Casimir Pulaski Day\", \"BEAT_CATEGORY\": 14, \"index\": 10.0, \"INJURIES_INCAPACITATING\": 3.0, \"INJURIES_FATAL\": 0.0, \"Number of Crashes\": 3.0}, {\"Type_of_day\": \"Casimir Pulaski Day\", \"BEAT_CATEGORY\": 3, \"index\": 1.0, \"INJURIES_INCAPACITATING\": 2.0, \"INJURIES_FATAL\": 0.0, \"Number of Crashes\": 2.0}, {\"Type_of_day\": \"Casimir Pulaski Day\", \"BEAT_CATEGORY\": 8, \"index\": 6.0, \"INJURIES_INCAPACITATING\": 4.0, \"INJURIES_FATAL\": 1.0, \"Number of Crashes\": 5.0}, {\"Type_of_day\": \"Casimir Pulaski Day\", \"BEAT_CATEGORY\": 1, \"index\": null, \"INJURIES_INCAPACITATING\": 0.0, \"INJURIES_FATAL\": 0.0, \"Number of Crashes\": 0.0}, {\"Type_of_day\": \"Casimir Pulaski Day\", \"BEAT_CATEGORY\": 19, \"index\": 12.0, \"INJURIES_INCAPACITATING\": 1.0, \"INJURIES_FATAL\": 0.0, \"Number of Crashes\": 1.0}, {\"Type_of_day\": \"Casimir Pulaski Day\", \"BEAT_CATEGORY\": 10, \"index\": null, \"INJURIES_INCAPACITATING\": 0.0, \"INJURIES_FATAL\": 0.0, \"Number of Crashes\": 0.0}, {\"Type_of_day\": \"Casimir Pulaski Day\", \"BEAT_CATEGORY\": 7, \"index\": 5.0, \"INJURIES_INCAPACITATING\": 1.0, \"INJURIES_FATAL\": 0.0, \"Number of Crashes\": 1.0}, {\"Type_of_day\": \"Casimir Pulaski Day\", \"BEAT_CATEGORY\": 15, \"index\": null, \"INJURIES_INCAPACITATING\": 0.0, \"INJURIES_FATAL\": 0.0, \"Number of Crashes\": 0.0}, {\"Type_of_day\": \"Casimir Pulaski Day\", \"BEAT_CATEGORY\": 24, \"index\": null, \"INJURIES_INCAPACITATING\": 0.0, \"INJURIES_FATAL\": 0.0, \"Number of Crashes\": 0.0}, {\"Type_of_day\": \"Casimir Pulaski Day\", \"BEAT_CATEGORY\": 2, \"index\": 0.0, \"INJURIES_INCAPACITATING\": 1.0, \"INJURIES_FATAL\": 0.0, \"Number of Crashes\": 1.0}, {\"Type_of_day\": \"Casimir Pulaski Day\", \"BEAT_CATEGORY\": 17, \"index\": null, \"INJURIES_INCAPACITATING\": 0.0, \"INJURIES_FATAL\": 0.0, \"Number of Crashes\": 0.0}, {\"Type_of_day\": \"Casimir Pulaski Day\", \"BEAT_CATEGORY\": 5, \"index\": 3.0, \"INJURIES_INCAPACITATING\": 1.0, \"INJURIES_FATAL\": 0.0, \"Number of Crashes\": 1.0}, {\"Type_of_day\": \"Casimir Pulaski Day\", \"BEAT_CATEGORY\": 20, \"index\": 13.0, \"INJURIES_INCAPACITATING\": 1.0, \"INJURIES_FATAL\": 0.0, \"Number of Crashes\": 1.0}, {\"Type_of_day\": \"Veterans Day\", \"BEAT_CATEGORY\": 11, \"index\": 202.0, \"INJURIES_INCAPACITATING\": 2.0, \"INJURIES_FATAL\": 0.0, \"Number of Crashes\": 2.0}, {\"Type_of_day\": \"Veterans Day\", \"BEAT_CATEGORY\": 9, \"index\": null, \"INJURIES_INCAPACITATING\": 0.0, \"INJURIES_FATAL\": 0.0, \"Number of Crashes\": 0.0}, {\"Type_of_day\": \"Veterans Day\", \"BEAT_CATEGORY\": 4, \"index\": 197.0, \"INJURIES_INCAPACITATING\": 4.0, \"INJURIES_FATAL\": 0.0, \"Number of Crashes\": 4.0}, {\"Type_of_day\": \"Veterans Day\", \"BEAT_CATEGORY\": 6, \"index\": 199.0, \"INJURIES_INCAPACITATING\": 2.0, \"INJURIES_FATAL\": 0.0, \"Number of Crashes\": 2.0}, {\"Type_of_day\": \"Veterans Day\", \"BEAT_CATEGORY\": 22, \"index\": 209.0, \"INJURIES_INCAPACITATING\": 1.0, \"INJURIES_FATAL\": 0.0, \"Number of Crashes\": 1.0}, {\"Type_of_day\": \"Veterans Day\", \"BEAT_CATEGORY\": 16, \"index\": 205.0, \"INJURIES_INCAPACITATING\": 2.0, \"INJURIES_FATAL\": 0.0, \"Number of Crashes\": 2.0}, {\"Type_of_day\": \"Veterans Day\", \"BEAT_CATEGORY\": 18, \"index\": 207.0, \"INJURIES_INCAPACITATING\": 3.0, \"INJURIES_FATAL\": 0.0, \"Number of Crashes\": 2.0}, {\"Type_of_day\": \"Veterans Day\", \"BEAT_CATEGORY\": 25, \"index\": 210.0, \"INJURIES_INCAPACITATING\": 1.0, \"INJURIES_FATAL\": 0.0, \"Number of Crashes\": 1.0}, {\"Type_of_day\": \"Veterans Day\", \"BEAT_CATEGORY\": 12, \"index\": 203.0, \"INJURIES_INCAPACITATING\": 2.0, \"INJURIES_FATAL\": 0.0, \"Number of Crashes\": 2.0}, {\"Type_of_day\": \"Veterans Day\", \"BEAT_CATEGORY\": 14, \"index\": 204.0, \"INJURIES_INCAPACITATING\": 3.0, \"INJURIES_FATAL\": 0.0, \"Number of Crashes\": 2.0}, {\"Type_of_day\": \"Veterans Day\", \"BEAT_CATEGORY\": 3, \"index\": 196.0, \"INJURIES_INCAPACITATING\": 2.0, \"INJURIES_FATAL\": 0.0, \"Number of Crashes\": 2.0}, {\"Type_of_day\": \"Veterans Day\", \"BEAT_CATEGORY\": 8, \"index\": 201.0, \"INJURIES_INCAPACITATING\": 3.0, \"INJURIES_FATAL\": 0.0, \"Number of Crashes\": 3.0}, {\"Type_of_day\": \"Veterans Day\", \"BEAT_CATEGORY\": 1, \"index\": 194.0, \"INJURIES_INCAPACITATING\": 2.0, \"INJURIES_FATAL\": 0.0, \"Number of Crashes\": 2.0}, {\"Type_of_day\": \"Veterans Day\", \"BEAT_CATEGORY\": 19, \"index\": 208.0, \"INJURIES_INCAPACITATING\": 2.0, \"INJURIES_FATAL\": 0.0, \"Number of Crashes\": 1.0}, {\"Type_of_day\": \"Veterans Day\", \"BEAT_CATEGORY\": 10, \"index\": null, \"INJURIES_INCAPACITATING\": 0.0, \"INJURIES_FATAL\": 0.0, \"Number of Crashes\": 0.0}, {\"Type_of_day\": \"Veterans Day\", \"BEAT_CATEGORY\": 7, \"index\": 200.0, \"INJURIES_INCAPACITATING\": 1.0, \"INJURIES_FATAL\": 0.0, \"Number of Crashes\": 1.0}, {\"Type_of_day\": \"Veterans Day\", \"BEAT_CATEGORY\": 15, \"index\": null, \"INJURIES_INCAPACITATING\": 0.0, \"INJURIES_FATAL\": 0.0, \"Number of Crashes\": 0.0}, {\"Type_of_day\": \"Veterans Day\", \"BEAT_CATEGORY\": 24, \"index\": null, \"INJURIES_INCAPACITATING\": 0.0, \"INJURIES_FATAL\": 0.0, \"Number of Crashes\": 0.0}, {\"Type_of_day\": \"Veterans Day\", \"BEAT_CATEGORY\": 2, \"index\": 195.0, \"INJURIES_INCAPACITATING\": 2.0, \"INJURIES_FATAL\": 1.0, \"Number of Crashes\": 3.0}, {\"Type_of_day\": \"Veterans Day\", \"BEAT_CATEGORY\": 17, \"index\": 206.0, \"INJURIES_INCAPACITATING\": 1.0, \"INJURIES_FATAL\": 0.0, \"Number of Crashes\": 1.0}, {\"Type_of_day\": \"Veterans Day\", \"BEAT_CATEGORY\": 5, \"index\": 198.0, \"INJURIES_INCAPACITATING\": 1.0, \"INJURIES_FATAL\": 0.0, \"Number of Crashes\": 1.0}, {\"Type_of_day\": \"Veterans Day\", \"BEAT_CATEGORY\": 20, \"index\": null, \"INJURIES_INCAPACITATING\": 0.0, \"INJURIES_FATAL\": 0.0, \"Number of Crashes\": 0.0}, {\"Type_of_day\": \"Lincoln's Bday\", \"BEAT_CATEGORY\": 11, \"index\": null, \"INJURIES_INCAPACITATING\": 0.0, \"INJURIES_FATAL\": 0.0, \"Number of Crashes\": 0.0}, {\"Type_of_day\": \"Lincoln's Bday\", \"BEAT_CATEGORY\": 9, \"index\": null, \"INJURIES_INCAPACITATING\": 0.0, \"INJURIES_FATAL\": 0.0, \"Number of Crashes\": 0.0}, {\"Type_of_day\": \"Lincoln's Bday\", \"BEAT_CATEGORY\": 4, \"index\": 110.0, \"INJURIES_INCAPACITATING\": 1.0, \"INJURIES_FATAL\": 0.0, \"Number of Crashes\": 1.0}, {\"Type_of_day\": \"Lincoln's Bday\", \"BEAT_CATEGORY\": 6, \"index\": 111.0, \"INJURIES_INCAPACITATING\": 1.0, \"INJURIES_FATAL\": 0.0, \"Number of Crashes\": 1.0}, {\"Type_of_day\": \"Lincoln's Bday\", \"BEAT_CATEGORY\": 22, \"index\": 117.0, \"INJURIES_INCAPACITATING\": 1.0, \"INJURIES_FATAL\": 0.0, \"Number of Crashes\": 1.0}, {\"Type_of_day\": \"Lincoln's Bday\", \"BEAT_CATEGORY\": 16, \"index\": 116.0, \"INJURIES_INCAPACITATING\": 3.0, \"INJURIES_FATAL\": 0.0, \"Number of Crashes\": 3.0}, {\"Type_of_day\": \"Lincoln's Bday\", \"BEAT_CATEGORY\": 18, \"index\": null, \"INJURIES_INCAPACITATING\": 0.0, \"INJURIES_FATAL\": 0.0, \"Number of Crashes\": 0.0}, {\"Type_of_day\": \"Lincoln's Bday\", \"BEAT_CATEGORY\": 25, \"index\": 118.0, \"INJURIES_INCAPACITATING\": 2.0, \"INJURIES_FATAL\": 0.0, \"Number of Crashes\": 2.0}, {\"Type_of_day\": \"Lincoln's Bday\", \"BEAT_CATEGORY\": 12, \"index\": 115.0, \"INJURIES_INCAPACITATING\": 3.0, \"INJURIES_FATAL\": 0.0, \"Number of Crashes\": 3.0}, {\"Type_of_day\": \"Lincoln's Bday\", \"BEAT_CATEGORY\": 14, \"index\": null, \"INJURIES_INCAPACITATING\": 0.0, \"INJURIES_FATAL\": 0.0, \"Number of Crashes\": 0.0}, {\"Type_of_day\": \"Lincoln's Bday\", \"BEAT_CATEGORY\": 3, \"index\": 109.0, \"INJURIES_INCAPACITATING\": 4.0, \"INJURIES_FATAL\": 0.0, \"Number of Crashes\": 2.0}, {\"Type_of_day\": \"Lincoln's Bday\", \"BEAT_CATEGORY\": 8, \"index\": 113.0, \"INJURIES_INCAPACITATING\": 2.0, \"INJURIES_FATAL\": 0.0, \"Number of Crashes\": 2.0}, {\"Type_of_day\": \"Lincoln's Bday\", \"BEAT_CATEGORY\": 1, \"index\": 107.0, \"INJURIES_INCAPACITATING\": 3.0, \"INJURIES_FATAL\": 0.0, \"Number of Crashes\": 3.0}, {\"Type_of_day\": \"Lincoln's Bday\", \"BEAT_CATEGORY\": 19, \"index\": null, \"INJURIES_INCAPACITATING\": 0.0, \"INJURIES_FATAL\": 0.0, \"Number of Crashes\": 0.0}, {\"Type_of_day\": \"Lincoln's Bday\", \"BEAT_CATEGORY\": 10, \"index\": 114.0, \"INJURIES_INCAPACITATING\": 2.0, \"INJURIES_FATAL\": 0.0, \"Number of Crashes\": 2.0}, {\"Type_of_day\": \"Lincoln's Bday\", \"BEAT_CATEGORY\": 7, \"index\": 112.0, \"INJURIES_INCAPACITATING\": 1.0, \"INJURIES_FATAL\": 0.0, \"Number of Crashes\": 1.0}, {\"Type_of_day\": \"Lincoln's Bday\", \"BEAT_CATEGORY\": 15, \"index\": null, \"INJURIES_INCAPACITATING\": 0.0, \"INJURIES_FATAL\": 0.0, \"Number of Crashes\": 0.0}, {\"Type_of_day\": \"Lincoln's Bday\", \"BEAT_CATEGORY\": 24, \"index\": null, \"INJURIES_INCAPACITATING\": 0.0, \"INJURIES_FATAL\": 0.0, \"Number of Crashes\": 0.0}, {\"Type_of_day\": \"Lincoln's Bday\", \"BEAT_CATEGORY\": 2, \"index\": 108.0, \"INJURIES_INCAPACITATING\": 0.0, \"INJURIES_FATAL\": 1.0, \"Number of Crashes\": 1.0}, {\"Type_of_day\": \"Lincoln's Bday\", \"BEAT_CATEGORY\": 17, \"index\": null, \"INJURIES_INCAPACITATING\": 0.0, \"INJURIES_FATAL\": 0.0, \"Number of Crashes\": 0.0}, {\"Type_of_day\": \"Lincoln's Bday\", \"BEAT_CATEGORY\": 5, \"index\": null, \"INJURIES_INCAPACITATING\": 0.0, \"INJURIES_FATAL\": 0.0, \"Number of Crashes\": 0.0}, {\"Type_of_day\": \"Lincoln's Bday\", \"BEAT_CATEGORY\": 20, \"index\": null, \"INJURIES_INCAPACITATING\": 0.0, \"INJURIES_FATAL\": 0.0, \"Number of Crashes\": 0.0}, {\"Type_of_day\": \"Thanksgiving\", \"BEAT_CATEGORY\": 11, \"index\": 184.0, \"INJURIES_INCAPACITATING\": 4.0, \"INJURIES_FATAL\": 1.0, \"Number of Crashes\": 4.0}, {\"Type_of_day\": \"Thanksgiving\", \"BEAT_CATEGORY\": 9, \"index\": 182.0, \"INJURIES_INCAPACITATING\": 1.0, \"INJURIES_FATAL\": 0.0, \"Number of Crashes\": 1.0}, {\"Type_of_day\": \"Thanksgiving\", \"BEAT_CATEGORY\": 4, \"index\": 178.0, \"INJURIES_INCAPACITATING\": 5.0, \"INJURIES_FATAL\": 1.0, \"Number of Crashes\": 5.0}, {\"Type_of_day\": \"Thanksgiving\", \"BEAT_CATEGORY\": 6, \"index\": 180.0, \"INJURIES_INCAPACITATING\": 2.0, \"INJURIES_FATAL\": 0.0, \"Number of Crashes\": 2.0}, {\"Type_of_day\": \"Thanksgiving\", \"BEAT_CATEGORY\": 22, \"index\": 191.0, \"INJURIES_INCAPACITATING\": 2.0, \"INJURIES_FATAL\": 0.0, \"Number of Crashes\": 2.0}, {\"Type_of_day\": \"Thanksgiving\", \"BEAT_CATEGORY\": 16, \"index\": 187.0, \"INJURIES_INCAPACITATING\": 4.0, \"INJURIES_FATAL\": 0.0, \"Number of Crashes\": 4.0}, {\"Type_of_day\": \"Thanksgiving\", \"BEAT_CATEGORY\": 18, \"index\": 189.0, \"INJURIES_INCAPACITATING\": 2.0, \"INJURIES_FATAL\": 0.0, \"Number of Crashes\": 2.0}, {\"Type_of_day\": \"Thanksgiving\", \"BEAT_CATEGORY\": 25, \"index\": 193.0, \"INJURIES_INCAPACITATING\": 2.0, \"INJURIES_FATAL\": 1.0, \"Number of Crashes\": 3.0}, {\"Type_of_day\": \"Thanksgiving\", \"BEAT_CATEGORY\": 12, \"index\": 185.0, \"INJURIES_INCAPACITATING\": 2.0, \"INJURIES_FATAL\": 0.0, \"Number of Crashes\": 2.0}, {\"Type_of_day\": \"Thanksgiving\", \"BEAT_CATEGORY\": 14, \"index\": 186.0, \"INJURIES_INCAPACITATING\": 2.0, \"INJURIES_FATAL\": 0.0, \"Number of Crashes\": 1.0}, {\"Type_of_day\": \"Thanksgiving\", \"BEAT_CATEGORY\": 3, \"index\": 177.0, \"INJURIES_INCAPACITATING\": 3.0, \"INJURIES_FATAL\": 0.0, \"Number of Crashes\": 3.0}, {\"Type_of_day\": \"Thanksgiving\", \"BEAT_CATEGORY\": 8, \"index\": 181.0, \"INJURIES_INCAPACITATING\": 5.0, \"INJURIES_FATAL\": 2.0, \"Number of Crashes\": 5.0}, {\"Type_of_day\": \"Thanksgiving\", \"BEAT_CATEGORY\": 1, \"index\": 175.0, \"INJURIES_INCAPACITATING\": 4.0, \"INJURIES_FATAL\": 0.0, \"Number of Crashes\": 1.0}, {\"Type_of_day\": \"Thanksgiving\", \"BEAT_CATEGORY\": 19, \"index\": 190.0, \"INJURIES_INCAPACITATING\": 1.0, \"INJURIES_FATAL\": 0.0, \"Number of Crashes\": 1.0}, {\"Type_of_day\": \"Thanksgiving\", \"BEAT_CATEGORY\": 10, \"index\": 183.0, \"INJURIES_INCAPACITATING\": 2.0, \"INJURIES_FATAL\": 1.0, \"Number of Crashes\": 3.0}, {\"Type_of_day\": \"Thanksgiving\", \"BEAT_CATEGORY\": 7, \"index\": null, \"INJURIES_INCAPACITATING\": 0.0, \"INJURIES_FATAL\": 0.0, \"Number of Crashes\": 0.0}, {\"Type_of_day\": \"Thanksgiving\", \"BEAT_CATEGORY\": 15, \"index\": null, \"INJURIES_INCAPACITATING\": 0.0, \"INJURIES_FATAL\": 0.0, \"Number of Crashes\": 0.0}, {\"Type_of_day\": \"Thanksgiving\", \"BEAT_CATEGORY\": 24, \"index\": 192.0, \"INJURIES_INCAPACITATING\": 3.0, \"INJURIES_FATAL\": 0.0, \"Number of Crashes\": 2.0}, {\"Type_of_day\": \"Thanksgiving\", \"BEAT_CATEGORY\": 2, \"index\": 176.0, \"INJURIES_INCAPACITATING\": 2.0, \"INJURIES_FATAL\": 0.0, \"Number of Crashes\": 2.0}, {\"Type_of_day\": \"Thanksgiving\", \"BEAT_CATEGORY\": 17, \"index\": 188.0, \"INJURIES_INCAPACITATING\": 3.0, \"INJURIES_FATAL\": 0.0, \"Number of Crashes\": 3.0}, {\"Type_of_day\": \"Thanksgiving\", \"BEAT_CATEGORY\": 5, \"index\": 179.0, \"INJURIES_INCAPACITATING\": 1.0, \"INJURIES_FATAL\": 0.0, \"Number of Crashes\": 1.0}, {\"Type_of_day\": \"Thanksgiving\", \"BEAT_CATEGORY\": 20, \"index\": null, \"INJURIES_INCAPACITATING\": 0.0, \"INJURIES_FATAL\": 0.0, \"Number of Crashes\": 0.0}, {\"Type_of_day\": \"Labor Day\", \"BEAT_CATEGORY\": 11, \"index\": 97.0, \"INJURIES_INCAPACITATING\": 2.0, \"INJURIES_FATAL\": 0.0, \"Number of Crashes\": 2.0}, {\"Type_of_day\": \"Labor Day\", \"BEAT_CATEGORY\": 9, \"index\": 96.0, \"INJURIES_INCAPACITATING\": 4.0, \"INJURIES_FATAL\": 0.0, \"Number of Crashes\": 3.0}, {\"Type_of_day\": \"Labor Day\", \"BEAT_CATEGORY\": 4, \"index\": 91.0, \"INJURIES_INCAPACITATING\": 5.0, \"INJURIES_FATAL\": 0.0, \"Number of Crashes\": 4.0}, {\"Type_of_day\": \"Labor Day\", \"BEAT_CATEGORY\": 6, \"index\": 93.0, \"INJURIES_INCAPACITATING\": 1.0, \"INJURIES_FATAL\": 0.0, \"Number of Crashes\": 1.0}, {\"Type_of_day\": \"Labor Day\", \"BEAT_CATEGORY\": 22, \"index\": null, \"INJURIES_INCAPACITATING\": 0.0, \"INJURIES_FATAL\": 0.0, \"Number of Crashes\": 0.0}, {\"Type_of_day\": \"Labor Day\", \"BEAT_CATEGORY\": 16, \"index\": null, \"INJURIES_INCAPACITATING\": 0.0, \"INJURIES_FATAL\": 0.0, \"Number of Crashes\": 0.0}, {\"Type_of_day\": \"Labor Day\", \"BEAT_CATEGORY\": 18, \"index\": 102.0, \"INJURIES_INCAPACITATING\": 7.0, \"INJURIES_FATAL\": 0.0, \"Number of Crashes\": 4.0}, {\"Type_of_day\": \"Labor Day\", \"BEAT_CATEGORY\": 25, \"index\": 106.0, \"INJURIES_INCAPACITATING\": 3.0, \"INJURIES_FATAL\": 0.0, \"Number of Crashes\": 3.0}, {\"Type_of_day\": \"Labor Day\", \"BEAT_CATEGORY\": 12, \"index\": 98.0, \"INJURIES_INCAPACITATING\": 5.0, \"INJURIES_FATAL\": 0.0, \"Number of Crashes\": 3.0}, {\"Type_of_day\": \"Labor Day\", \"BEAT_CATEGORY\": 14, \"index\": 99.0, \"INJURIES_INCAPACITATING\": 1.0, \"INJURIES_FATAL\": 0.0, \"Number of Crashes\": 1.0}, {\"Type_of_day\": \"Labor Day\", \"BEAT_CATEGORY\": 3, \"index\": 90.0, \"INJURIES_INCAPACITATING\": 1.0, \"INJURIES_FATAL\": 0.0, \"Number of Crashes\": 1.0}, {\"Type_of_day\": \"Labor Day\", \"BEAT_CATEGORY\": 8, \"index\": 95.0, \"INJURIES_INCAPACITATING\": 6.0, \"INJURIES_FATAL\": 0.0, \"Number of Crashes\": 6.0}, {\"Type_of_day\": \"Labor Day\", \"BEAT_CATEGORY\": 1, \"index\": 89.0, \"INJURIES_INCAPACITATING\": 7.0, \"INJURIES_FATAL\": 0.0, \"Number of Crashes\": 5.0}, {\"Type_of_day\": \"Labor Day\", \"BEAT_CATEGORY\": 19, \"index\": 103.0, \"INJURIES_INCAPACITATING\": 1.0, \"INJURIES_FATAL\": 0.0, \"Number of Crashes\": 1.0}, {\"Type_of_day\": \"Labor Day\", \"BEAT_CATEGORY\": 10, \"index\": null, \"INJURIES_INCAPACITATING\": 0.0, \"INJURIES_FATAL\": 0.0, \"Number of Crashes\": 0.0}, {\"Type_of_day\": \"Labor Day\", \"BEAT_CATEGORY\": 7, \"index\": 94.0, \"INJURIES_INCAPACITATING\": 5.0, \"INJURIES_FATAL\": 0.0, \"Number of Crashes\": 3.0}, {\"Type_of_day\": \"Labor Day\", \"BEAT_CATEGORY\": 15, \"index\": 100.0, \"INJURIES_INCAPACITATING\": 2.0, \"INJURIES_FATAL\": 1.0, \"Number of Crashes\": 3.0}, {\"Type_of_day\": \"Labor Day\", \"BEAT_CATEGORY\": 24, \"index\": 105.0, \"INJURIES_INCAPACITATING\": 1.0, \"INJURIES_FATAL\": 0.0, \"Number of Crashes\": 1.0}, {\"Type_of_day\": \"Labor Day\", \"BEAT_CATEGORY\": 2, \"index\": null, \"INJURIES_INCAPACITATING\": 0.0, \"INJURIES_FATAL\": 0.0, \"Number of Crashes\": 0.0}, {\"Type_of_day\": \"Labor Day\", \"BEAT_CATEGORY\": 17, \"index\": 101.0, \"INJURIES_INCAPACITATING\": 3.0, \"INJURIES_FATAL\": 0.0, \"Number of Crashes\": 2.0}, {\"Type_of_day\": \"Labor Day\", \"BEAT_CATEGORY\": 5, \"index\": 92.0, \"INJURIES_INCAPACITATING\": 2.0, \"INJURIES_FATAL\": 0.0, \"Number of Crashes\": 2.0}, {\"Type_of_day\": \"Labor Day\", \"BEAT_CATEGORY\": 20, \"index\": 104.0, \"INJURIES_INCAPACITATING\": 1.0, \"INJURIES_FATAL\": 0.0, \"Number of Crashes\": 1.0}, {\"Type_of_day\": \"Washington's Bday\", \"BEAT_CATEGORY\": 11, \"index\": 220.0, \"INJURIES_INCAPACITATING\": 1.0, \"INJURIES_FATAL\": 0.0, \"Number of Crashes\": 1.0}, {\"Type_of_day\": \"Washington's Bday\", \"BEAT_CATEGORY\": 9, \"index\": 218.0, \"INJURIES_INCAPACITATING\": 4.0, \"INJURIES_FATAL\": 0.0, \"Number of Crashes\": 2.0}, {\"Type_of_day\": \"Washington's Bday\", \"BEAT_CATEGORY\": 4, \"index\": 214.0, \"INJURIES_INCAPACITATING\": 2.0, \"INJURIES_FATAL\": 0.0, \"Number of Crashes\": 2.0}, {\"Type_of_day\": \"Washington's Bday\", \"BEAT_CATEGORY\": 6, \"index\": 215.0, \"INJURIES_INCAPACITATING\": 1.0, \"INJURIES_FATAL\": 0.0, \"Number of Crashes\": 1.0}, {\"Type_of_day\": \"Washington's Bday\", \"BEAT_CATEGORY\": 22, \"index\": null, \"INJURIES_INCAPACITATING\": 0.0, \"INJURIES_FATAL\": 0.0, \"Number of Crashes\": 0.0}, {\"Type_of_day\": \"Washington's Bday\", \"BEAT_CATEGORY\": 16, \"index\": 223.0, \"INJURIES_INCAPACITATING\": 5.0, \"INJURIES_FATAL\": 0.0, \"Number of Crashes\": 5.0}, {\"Type_of_day\": \"Washington's Bday\", \"BEAT_CATEGORY\": 18, \"index\": 225.0, \"INJURIES_INCAPACITATING\": 3.0, \"INJURIES_FATAL\": 1.0, \"Number of Crashes\": 3.0}, {\"Type_of_day\": \"Washington's Bday\", \"BEAT_CATEGORY\": 25, \"index\": 229.0, \"INJURIES_INCAPACITATING\": 4.0, \"INJURIES_FATAL\": 0.0, \"Number of Crashes\": 4.0}, {\"Type_of_day\": \"Washington's Bday\", \"BEAT_CATEGORY\": 12, \"index\": 221.0, \"INJURIES_INCAPACITATING\": 3.0, \"INJURIES_FATAL\": 0.0, \"Number of Crashes\": 2.0}, {\"Type_of_day\": \"Washington's Bday\", \"BEAT_CATEGORY\": 14, \"index\": 222.0, \"INJURIES_INCAPACITATING\": 1.0, \"INJURIES_FATAL\": 0.0, \"Number of Crashes\": 1.0}, {\"Type_of_day\": \"Washington's Bday\", \"BEAT_CATEGORY\": 3, \"index\": 213.0, \"INJURIES_INCAPACITATING\": 1.0, \"INJURIES_FATAL\": 0.0, \"Number of Crashes\": 1.0}, {\"Type_of_day\": \"Washington's Bday\", \"BEAT_CATEGORY\": 8, \"index\": 217.0, \"INJURIES_INCAPACITATING\": 3.0, \"INJURIES_FATAL\": 0.0, \"Number of Crashes\": 3.0}, {\"Type_of_day\": \"Washington's Bday\", \"BEAT_CATEGORY\": 1, \"index\": 211.0, \"INJURIES_INCAPACITATING\": 3.0, \"INJURIES_FATAL\": 1.0, \"Number of Crashes\": 3.0}, {\"Type_of_day\": \"Washington's Bday\", \"BEAT_CATEGORY\": 19, \"index\": 226.0, \"INJURIES_INCAPACITATING\": 4.0, \"INJURIES_FATAL\": 0.0, \"Number of Crashes\": 4.0}, {\"Type_of_day\": \"Washington's Bday\", \"BEAT_CATEGORY\": 10, \"index\": 219.0, \"INJURIES_INCAPACITATING\": 3.0, \"INJURIES_FATAL\": 0.0, \"Number of Crashes\": 3.0}, {\"Type_of_day\": \"Washington's Bday\", \"BEAT_CATEGORY\": 7, \"index\": 216.0, \"INJURIES_INCAPACITATING\": 5.0, \"INJURIES_FATAL\": 0.0, \"Number of Crashes\": 5.0}, {\"Type_of_day\": \"Washington's Bday\", \"BEAT_CATEGORY\": 15, \"index\": null, \"INJURIES_INCAPACITATING\": 0.0, \"INJURIES_FATAL\": 0.0, \"Number of Crashes\": 0.0}, {\"Type_of_day\": \"Washington's Bday\", \"BEAT_CATEGORY\": 24, \"index\": 228.0, \"INJURIES_INCAPACITATING\": 1.0, \"INJURIES_FATAL\": 0.0, \"Number of Crashes\": 1.0}, {\"Type_of_day\": \"Washington's Bday\", \"BEAT_CATEGORY\": 2, \"index\": 212.0, \"INJURIES_INCAPACITATING\": 1.0, \"INJURIES_FATAL\": 0.0, \"Number of Crashes\": 1.0}, {\"Type_of_day\": \"Washington's Bday\", \"BEAT_CATEGORY\": 17, \"index\": 224.0, \"INJURIES_INCAPACITATING\": 2.0, \"INJURIES_FATAL\": 0.0, \"Number of Crashes\": 2.0}, {\"Type_of_day\": \"Washington's Bday\", \"BEAT_CATEGORY\": 5, \"index\": null, \"INJURIES_INCAPACITATING\": 0.0, \"INJURIES_FATAL\": 0.0, \"Number of Crashes\": 0.0}, {\"Type_of_day\": \"Washington's Bday\", \"BEAT_CATEGORY\": 20, \"index\": 227.0, \"INJURIES_INCAPACITATING\": 2.0, \"INJURIES_FATAL\": 0.0, \"Number of Crashes\": 2.0}, {\"Type_of_day\": \"Memorial Day\", \"BEAT_CATEGORY\": 11, \"index\": 145.0, \"INJURIES_INCAPACITATING\": 2.0, \"INJURIES_FATAL\": 0.0, \"Number of Crashes\": 2.0}, {\"Type_of_day\": \"Memorial Day\", \"BEAT_CATEGORY\": 9, \"index\": 143.0, \"INJURIES_INCAPACITATING\": 3.0, \"INJURIES_FATAL\": 0.0, \"Number of Crashes\": 2.0}, {\"Type_of_day\": \"Memorial Day\", \"BEAT_CATEGORY\": 4, \"index\": 138.0, \"INJURIES_INCAPACITATING\": 3.0, \"INJURIES_FATAL\": 0.0, \"Number of Crashes\": 3.0}, {\"Type_of_day\": \"Memorial Day\", \"BEAT_CATEGORY\": 6, \"index\": 140.0, \"INJURIES_INCAPACITATING\": 2.0, \"INJURIES_FATAL\": 0.0, \"Number of Crashes\": 2.0}, {\"Type_of_day\": \"Memorial Day\", \"BEAT_CATEGORY\": 22, \"index\": 152.0, \"INJURIES_INCAPACITATING\": 2.0, \"INJURIES_FATAL\": 1.0, \"Number of Crashes\": 3.0}, {\"Type_of_day\": \"Memorial Day\", \"BEAT_CATEGORY\": 16, \"index\": 148.0, \"INJURIES_INCAPACITATING\": 3.0, \"INJURIES_FATAL\": 0.0, \"Number of Crashes\": 3.0}, {\"Type_of_day\": \"Memorial Day\", \"BEAT_CATEGORY\": 18, \"index\": null, \"INJURIES_INCAPACITATING\": 0.0, \"INJURIES_FATAL\": 0.0, \"Number of Crashes\": 0.0}, {\"Type_of_day\": \"Memorial Day\", \"BEAT_CATEGORY\": 25, \"index\": 154.0, \"INJURIES_INCAPACITATING\": 1.0, \"INJURIES_FATAL\": 0.0, \"Number of Crashes\": 1.0}, {\"Type_of_day\": \"Memorial Day\", \"BEAT_CATEGORY\": 12, \"index\": 146.0, \"INJURIES_INCAPACITATING\": 3.0, \"INJURIES_FATAL\": 0.0, \"Number of Crashes\": 3.0}, {\"Type_of_day\": \"Memorial Day\", \"BEAT_CATEGORY\": 14, \"index\": null, \"INJURIES_INCAPACITATING\": 0.0, \"INJURIES_FATAL\": 0.0, \"Number of Crashes\": 0.0}, {\"Type_of_day\": \"Memorial Day\", \"BEAT_CATEGORY\": 3, \"index\": 137.0, \"INJURIES_INCAPACITATING\": 1.0, \"INJURIES_FATAL\": 0.0, \"Number of Crashes\": 1.0}, {\"Type_of_day\": \"Memorial Day\", \"BEAT_CATEGORY\": 8, \"index\": 142.0, \"INJURIES_INCAPACITATING\": 2.0, \"INJURIES_FATAL\": 0.0, \"Number of Crashes\": 2.0}, {\"Type_of_day\": \"Memorial Day\", \"BEAT_CATEGORY\": 1, \"index\": 135.0, \"INJURIES_INCAPACITATING\": 3.0, \"INJURIES_FATAL\": 0.0, \"Number of Crashes\": 3.0}, {\"Type_of_day\": \"Memorial Day\", \"BEAT_CATEGORY\": 19, \"index\": 150.0, \"INJURIES_INCAPACITATING\": 1.0, \"INJURIES_FATAL\": 0.0, \"Number of Crashes\": 1.0}, {\"Type_of_day\": \"Memorial Day\", \"BEAT_CATEGORY\": 10, \"index\": 144.0, \"INJURIES_INCAPACITATING\": 1.0, \"INJURIES_FATAL\": 0.0, \"Number of Crashes\": 1.0}, {\"Type_of_day\": \"Memorial Day\", \"BEAT_CATEGORY\": 7, \"index\": 141.0, \"INJURIES_INCAPACITATING\": 4.0, \"INJURIES_FATAL\": 0.0, \"Number of Crashes\": 4.0}, {\"Type_of_day\": \"Memorial Day\", \"BEAT_CATEGORY\": 15, \"index\": 147.0, \"INJURIES_INCAPACITATING\": 2.0, \"INJURIES_FATAL\": 0.0, \"Number of Crashes\": 2.0}, {\"Type_of_day\": \"Memorial Day\", \"BEAT_CATEGORY\": 24, \"index\": 153.0, \"INJURIES_INCAPACITATING\": 5.0, \"INJURIES_FATAL\": 0.0, \"Number of Crashes\": 4.0}, {\"Type_of_day\": \"Memorial Day\", \"BEAT_CATEGORY\": 2, \"index\": 136.0, \"INJURIES_INCAPACITATING\": 4.0, \"INJURIES_FATAL\": 0.0, \"Number of Crashes\": 2.0}, {\"Type_of_day\": \"Memorial Day\", \"BEAT_CATEGORY\": 17, \"index\": 149.0, \"INJURIES_INCAPACITATING\": 5.0, \"INJURIES_FATAL\": 0.0, \"Number of Crashes\": 5.0}, {\"Type_of_day\": \"Memorial Day\", \"BEAT_CATEGORY\": 5, \"index\": 139.0, \"INJURIES_INCAPACITATING\": 2.0, \"INJURIES_FATAL\": 0.0, \"Number of Crashes\": 1.0}, {\"Type_of_day\": \"Memorial Day\", \"BEAT_CATEGORY\": 20, \"index\": 151.0, \"INJURIES_INCAPACITATING\": 1.0, \"INJURIES_FATAL\": 0.0, \"Number of Crashes\": 1.0}, {\"Type_of_day\": \"Martin Luther King Day\", \"BEAT_CATEGORY\": 11, \"index\": null, \"INJURIES_INCAPACITATING\": 0.0, \"INJURIES_FATAL\": 0.0, \"Number of Crashes\": 0.0}, {\"Type_of_day\": \"Martin Luther King Day\", \"BEAT_CATEGORY\": 9, \"index\": 126.0, \"INJURIES_INCAPACITATING\": 1.0, \"INJURIES_FATAL\": 0.0, \"Number of Crashes\": 1.0}, {\"Type_of_day\": \"Martin Luther King Day\", \"BEAT_CATEGORY\": 4, \"index\": 121.0, \"INJURIES_INCAPACITATING\": 1.0, \"INJURIES_FATAL\": 0.0, \"Number of Crashes\": 1.0}, {\"Type_of_day\": \"Martin Luther King Day\", \"BEAT_CATEGORY\": 6, \"index\": 123.0, \"INJURIES_INCAPACITATING\": 2.0, \"INJURIES_FATAL\": 0.0, \"Number of Crashes\": 2.0}, {\"Type_of_day\": \"Martin Luther King Day\", \"BEAT_CATEGORY\": 22, \"index\": 133.0, \"INJURIES_INCAPACITATING\": 1.0, \"INJURIES_FATAL\": 0.0, \"Number of Crashes\": 1.0}, {\"Type_of_day\": \"Martin Luther King Day\", \"BEAT_CATEGORY\": 16, \"index\": 130.0, \"INJURIES_INCAPACITATING\": 1.0, \"INJURIES_FATAL\": 0.0, \"Number of Crashes\": 1.0}, {\"Type_of_day\": \"Martin Luther King Day\", \"BEAT_CATEGORY\": 18, \"index\": null, \"INJURIES_INCAPACITATING\": 0.0, \"INJURIES_FATAL\": 0.0, \"Number of Crashes\": 0.0}, {\"Type_of_day\": \"Martin Luther King Day\", \"BEAT_CATEGORY\": 25, \"index\": 134.0, \"INJURIES_INCAPACITATING\": 3.0, \"INJURIES_FATAL\": 0.0, \"Number of Crashes\": 2.0}, {\"Type_of_day\": \"Martin Luther King Day\", \"BEAT_CATEGORY\": 12, \"index\": null, \"INJURIES_INCAPACITATING\": 0.0, \"INJURIES_FATAL\": 0.0, \"Number of Crashes\": 0.0}, {\"Type_of_day\": \"Martin Luther King Day\", \"BEAT_CATEGORY\": 14, \"index\": 128.0, \"INJURIES_INCAPACITATING\": 3.0, \"INJURIES_FATAL\": 0.0, \"Number of Crashes\": 2.0}, {\"Type_of_day\": \"Martin Luther King Day\", \"BEAT_CATEGORY\": 3, \"index\": null, \"INJURIES_INCAPACITATING\": 0.0, \"INJURIES_FATAL\": 0.0, \"Number of Crashes\": 0.0}, {\"Type_of_day\": \"Martin Luther King Day\", \"BEAT_CATEGORY\": 8, \"index\": 125.0, \"INJURIES_INCAPACITATING\": 2.0, \"INJURIES_FATAL\": 0.0, \"Number of Crashes\": 2.0}, {\"Type_of_day\": \"Martin Luther King Day\", \"BEAT_CATEGORY\": 1, \"index\": 119.0, \"INJURIES_INCAPACITATING\": 2.0, \"INJURIES_FATAL\": 0.0, \"Number of Crashes\": 2.0}, {\"Type_of_day\": \"Martin Luther King Day\", \"BEAT_CATEGORY\": 19, \"index\": null, \"INJURIES_INCAPACITATING\": 0.0, \"INJURIES_FATAL\": 0.0, \"Number of Crashes\": 0.0}, {\"Type_of_day\": \"Martin Luther King Day\", \"BEAT_CATEGORY\": 10, \"index\": 127.0, \"INJURIES_INCAPACITATING\": 3.0, \"INJURIES_FATAL\": 0.0, \"Number of Crashes\": 3.0}, {\"Type_of_day\": \"Martin Luther King Day\", \"BEAT_CATEGORY\": 7, \"index\": 124.0, \"INJURIES_INCAPACITATING\": 1.0, \"INJURIES_FATAL\": 0.0, \"Number of Crashes\": 1.0}, {\"Type_of_day\": \"Martin Luther King Day\", \"BEAT_CATEGORY\": 15, \"index\": 129.0, \"INJURIES_INCAPACITATING\": 1.0, \"INJURIES_FATAL\": 0.0, \"Number of Crashes\": 1.0}, {\"Type_of_day\": \"Martin Luther King Day\", \"BEAT_CATEGORY\": 24, \"index\": null, \"INJURIES_INCAPACITATING\": 0.0, \"INJURIES_FATAL\": 0.0, \"Number of Crashes\": 0.0}, {\"Type_of_day\": \"Martin Luther King Day\", \"BEAT_CATEGORY\": 2, \"index\": 120.0, \"INJURIES_INCAPACITATING\": 1.0, \"INJURIES_FATAL\": 0.0, \"Number of Crashes\": 1.0}, {\"Type_of_day\": \"Martin Luther King Day\", \"BEAT_CATEGORY\": 17, \"index\": 131.0, \"INJURIES_INCAPACITATING\": 1.0, \"INJURIES_FATAL\": 0.0, \"Number of Crashes\": 1.0}, {\"Type_of_day\": \"Martin Luther King Day\", \"BEAT_CATEGORY\": 5, \"index\": 122.0, \"INJURIES_INCAPACITATING\": 1.0, \"INJURIES_FATAL\": 0.0, \"Number of Crashes\": 1.0}, {\"Type_of_day\": \"Martin Luther King Day\", \"BEAT_CATEGORY\": 20, \"index\": 132.0, \"INJURIES_INCAPACITATING\": 2.0, \"INJURIES_FATAL\": 0.0, \"Number of Crashes\": 2.0}, {\"Type_of_day\": \"New Year\", \"BEAT_CATEGORY\": 11, \"index\": 165.0, \"INJURIES_INCAPACITATING\": 1.0, \"INJURIES_FATAL\": 0.0, \"Number of Crashes\": 1.0}, {\"Type_of_day\": \"New Year\", \"BEAT_CATEGORY\": 9, \"index\": 163.0, \"INJURIES_INCAPACITATING\": 1.0, \"INJURIES_FATAL\": 0.0, \"Number of Crashes\": 1.0}, {\"Type_of_day\": \"New Year\", \"BEAT_CATEGORY\": 4, \"index\": 158.0, \"INJURIES_INCAPACITATING\": 3.0, \"INJURIES_FATAL\": 0.0, \"Number of Crashes\": 2.0}, {\"Type_of_day\": \"New Year\", \"BEAT_CATEGORY\": 6, \"index\": 160.0, \"INJURIES_INCAPACITATING\": 1.0, \"INJURIES_FATAL\": 0.0, \"Number of Crashes\": 1.0}, {\"Type_of_day\": \"New Year\", \"BEAT_CATEGORY\": 22, \"index\": 172.0, \"INJURIES_INCAPACITATING\": 0.0, \"INJURIES_FATAL\": 1.0, \"Number of Crashes\": 1.0}, {\"Type_of_day\": \"New Year\", \"BEAT_CATEGORY\": 16, \"index\": null, \"INJURIES_INCAPACITATING\": 0.0, \"INJURIES_FATAL\": 0.0, \"Number of Crashes\": 0.0}, {\"Type_of_day\": \"New Year\", \"BEAT_CATEGORY\": 18, \"index\": 170.0, \"INJURIES_INCAPACITATING\": 2.0, \"INJURIES_FATAL\": 0.0, \"Number of Crashes\": 2.0}, {\"Type_of_day\": \"New Year\", \"BEAT_CATEGORY\": 25, \"index\": 174.0, \"INJURIES_INCAPACITATING\": 3.0, \"INJURIES_FATAL\": 0.0, \"Number of Crashes\": 3.0}, {\"Type_of_day\": \"New Year\", \"BEAT_CATEGORY\": 12, \"index\": 166.0, \"INJURIES_INCAPACITATING\": 1.0, \"INJURIES_FATAL\": 0.0, \"Number of Crashes\": 1.0}, {\"Type_of_day\": \"New Year\", \"BEAT_CATEGORY\": 14, \"index\": 167.0, \"INJURIES_INCAPACITATING\": 2.0, \"INJURIES_FATAL\": 0.0, \"Number of Crashes\": 2.0}, {\"Type_of_day\": \"New Year\", \"BEAT_CATEGORY\": 3, \"index\": 157.0, \"INJURIES_INCAPACITATING\": 3.0, \"INJURIES_FATAL\": 0.0, \"Number of Crashes\": 3.0}, {\"Type_of_day\": \"New Year\", \"BEAT_CATEGORY\": 8, \"index\": 162.0, \"INJURIES_INCAPACITATING\": 6.0, \"INJURIES_FATAL\": 0.0, \"Number of Crashes\": 3.0}, {\"Type_of_day\": \"New Year\", \"BEAT_CATEGORY\": 1, \"index\": 155.0, \"INJURIES_INCAPACITATING\": 3.0, \"INJURIES_FATAL\": 0.0, \"Number of Crashes\": 2.0}, {\"Type_of_day\": \"New Year\", \"BEAT_CATEGORY\": 19, \"index\": null, \"INJURIES_INCAPACITATING\": 0.0, \"INJURIES_FATAL\": 0.0, \"Number of Crashes\": 0.0}, {\"Type_of_day\": \"New Year\", \"BEAT_CATEGORY\": 10, \"index\": 164.0, \"INJURIES_INCAPACITATING\": 3.0, \"INJURIES_FATAL\": 0.0, \"Number of Crashes\": 3.0}, {\"Type_of_day\": \"New Year\", \"BEAT_CATEGORY\": 7, \"index\": 161.0, \"INJURIES_INCAPACITATING\": 5.0, \"INJURIES_FATAL\": 0.0, \"Number of Crashes\": 4.0}, {\"Type_of_day\": \"New Year\", \"BEAT_CATEGORY\": 15, \"index\": 168.0, \"INJURIES_INCAPACITATING\": 3.0, \"INJURIES_FATAL\": 0.0, \"Number of Crashes\": 3.0}, {\"Type_of_day\": \"New Year\", \"BEAT_CATEGORY\": 24, \"index\": 173.0, \"INJURIES_INCAPACITATING\": 1.0, \"INJURIES_FATAL\": 0.0, \"Number of Crashes\": 1.0}, {\"Type_of_day\": \"New Year\", \"BEAT_CATEGORY\": 2, \"index\": 156.0, \"INJURIES_INCAPACITATING\": 1.0, \"INJURIES_FATAL\": 0.0, \"Number of Crashes\": 1.0}, {\"Type_of_day\": \"New Year\", \"BEAT_CATEGORY\": 17, \"index\": 169.0, \"INJURIES_INCAPACITATING\": 2.0, \"INJURIES_FATAL\": 1.0, \"Number of Crashes\": 3.0}, {\"Type_of_day\": \"New Year\", \"BEAT_CATEGORY\": 5, \"index\": 159.0, \"INJURIES_INCAPACITATING\": 2.0, \"INJURIES_FATAL\": 0.0, \"Number of Crashes\": 2.0}, {\"Type_of_day\": \"New Year\", \"BEAT_CATEGORY\": 20, \"index\": 171.0, \"INJURIES_INCAPACITATING\": 1.0, \"INJURIES_FATAL\": 0.0, \"Number of Crashes\": 1.0}, {\"Type_of_day\": \"Independence Day\", \"BEAT_CATEGORY\": 11, \"index\": 58.0, \"INJURIES_INCAPACITATING\": 14.0, \"INJURIES_FATAL\": 0.0, \"Number of Crashes\": 11.0}, {\"Type_of_day\": \"Independence Day\", \"BEAT_CATEGORY\": 9, \"index\": 56.0, \"INJURIES_INCAPACITATING\": 4.0, \"INJURIES_FATAL\": 0.0, \"Number of Crashes\": 4.0}, {\"Type_of_day\": \"Independence Day\", \"BEAT_CATEGORY\": 4, \"index\": 51.0, \"INJURIES_INCAPACITATING\": 10.0, \"INJURIES_FATAL\": 1.0, \"Number of Crashes\": 6.0}, {\"Type_of_day\": \"Independence Day\", \"BEAT_CATEGORY\": 6, \"index\": 53.0, \"INJURIES_INCAPACITATING\": 4.0, \"INJURIES_FATAL\": 0.0, \"Number of Crashes\": 3.0}, {\"Type_of_day\": \"Independence Day\", \"BEAT_CATEGORY\": 22, \"index\": 65.0, \"INJURIES_INCAPACITATING\": 3.0, \"INJURIES_FATAL\": 0.0, \"Number of Crashes\": 3.0}, {\"Type_of_day\": \"Independence Day\", \"BEAT_CATEGORY\": 16, \"index\": 62.0, \"INJURIES_INCAPACITATING\": 2.0, \"INJURIES_FATAL\": 0.0, \"Number of Crashes\": 2.0}, {\"Type_of_day\": \"Independence Day\", \"BEAT_CATEGORY\": 18, \"index\": 64.0, \"INJURIES_INCAPACITATING\": 6.0, \"INJURIES_FATAL\": 0.0, \"Number of Crashes\": 5.0}, {\"Type_of_day\": \"Independence Day\", \"BEAT_CATEGORY\": 25, \"index\": 66.0, \"INJURIES_INCAPACITATING\": 4.0, \"INJURIES_FATAL\": 1.0, \"Number of Crashes\": 5.0}, {\"Type_of_day\": \"Independence Day\", \"BEAT_CATEGORY\": 12, \"index\": 59.0, \"INJURIES_INCAPACITATING\": 3.0, \"INJURIES_FATAL\": 0.0, \"Number of Crashes\": 2.0}, {\"Type_of_day\": \"Independence Day\", \"BEAT_CATEGORY\": 14, \"index\": 60.0, \"INJURIES_INCAPACITATING\": 1.0, \"INJURIES_FATAL\": 0.0, \"Number of Crashes\": 1.0}, {\"Type_of_day\": \"Independence Day\", \"BEAT_CATEGORY\": 3, \"index\": 50.0, \"INJURIES_INCAPACITATING\": 4.0, \"INJURIES_FATAL\": 1.0, \"Number of Crashes\": 4.0}, {\"Type_of_day\": \"Independence Day\", \"BEAT_CATEGORY\": 8, \"index\": 55.0, \"INJURIES_INCAPACITATING\": 3.0, \"INJURIES_FATAL\": 0.0, \"Number of Crashes\": 2.0}, {\"Type_of_day\": \"Independence Day\", \"BEAT_CATEGORY\": 1, \"index\": 48.0, \"INJURIES_INCAPACITATING\": 6.0, \"INJURIES_FATAL\": 0.0, \"Number of Crashes\": 5.0}, {\"Type_of_day\": \"Independence Day\", \"BEAT_CATEGORY\": 19, \"index\": null, \"INJURIES_INCAPACITATING\": 0.0, \"INJURIES_FATAL\": 0.0, \"Number of Crashes\": 0.0}, {\"Type_of_day\": \"Independence Day\", \"BEAT_CATEGORY\": 10, \"index\": 57.0, \"INJURIES_INCAPACITATING\": 2.0, \"INJURIES_FATAL\": 1.0, \"Number of Crashes\": 3.0}, {\"Type_of_day\": \"Independence Day\", \"BEAT_CATEGORY\": 7, \"index\": 54.0, \"INJURIES_INCAPACITATING\": 2.0, \"INJURIES_FATAL\": 1.0, \"Number of Crashes\": 3.0}, {\"Type_of_day\": \"Independence Day\", \"BEAT_CATEGORY\": 15, \"index\": 61.0, \"INJURIES_INCAPACITATING\": 3.0, \"INJURIES_FATAL\": 0.0, \"Number of Crashes\": 2.0}, {\"Type_of_day\": \"Independence Day\", \"BEAT_CATEGORY\": 24, \"index\": null, \"INJURIES_INCAPACITATING\": 0.0, \"INJURIES_FATAL\": 0.0, \"Number of Crashes\": 0.0}, {\"Type_of_day\": \"Independence Day\", \"BEAT_CATEGORY\": 2, \"index\": 49.0, \"INJURIES_INCAPACITATING\": 4.0, \"INJURIES_FATAL\": 0.0, \"Number of Crashes\": 4.0}, {\"Type_of_day\": \"Independence Day\", \"BEAT_CATEGORY\": 17, \"index\": 63.0, \"INJURIES_INCAPACITATING\": 1.0, \"INJURIES_FATAL\": 0.0, \"Number of Crashes\": 1.0}, {\"Type_of_day\": \"Independence Day\", \"BEAT_CATEGORY\": 5, \"index\": 52.0, \"INJURIES_INCAPACITATING\": 2.0, \"INJURIES_FATAL\": 0.0, \"Number of Crashes\": 2.0}, {\"Type_of_day\": \"Independence Day\", \"BEAT_CATEGORY\": 20, \"index\": null, \"INJURIES_INCAPACITATING\": 0.0, \"INJURIES_FATAL\": 0.0, \"Number of Crashes\": 0.0}, {\"Type_of_day\": \"Juneteenth\", \"BEAT_CATEGORY\": 11, \"index\": 77.0, \"INJURIES_INCAPACITATING\": 5.0, \"INJURIES_FATAL\": 2.0, \"Number of Crashes\": 7.0}, {\"Type_of_day\": \"Juneteenth\", \"BEAT_CATEGORY\": 9, \"index\": 75.0, \"INJURIES_INCAPACITATING\": 5.0, \"INJURIES_FATAL\": 0.0, \"Number of Crashes\": 5.0}, {\"Type_of_day\": \"Juneteenth\", \"BEAT_CATEGORY\": 4, \"index\": 70.0, \"INJURIES_INCAPACITATING\": 2.0, \"INJURIES_FATAL\": 0.0, \"Number of Crashes\": 2.0}, {\"Type_of_day\": \"Juneteenth\", \"BEAT_CATEGORY\": 6, \"index\": 72.0, \"INJURIES_INCAPACITATING\": 0.0, \"INJURIES_FATAL\": 1.0, \"Number of Crashes\": 1.0}, {\"Type_of_day\": \"Juneteenth\", \"BEAT_CATEGORY\": 22, \"index\": 86.0, \"INJURIES_INCAPACITATING\": 3.0, \"INJURIES_FATAL\": 0.0, \"Number of Crashes\": 3.0}, {\"Type_of_day\": \"Juneteenth\", \"BEAT_CATEGORY\": 16, \"index\": 81.0, \"INJURIES_INCAPACITATING\": 2.0, \"INJURIES_FATAL\": 0.0, \"Number of Crashes\": 2.0}, {\"Type_of_day\": \"Juneteenth\", \"BEAT_CATEGORY\": 18, \"index\": 83.0, \"INJURIES_INCAPACITATING\": 2.0, \"INJURIES_FATAL\": 0.0, \"Number of Crashes\": 2.0}, {\"Type_of_day\": \"Juneteenth\", \"BEAT_CATEGORY\": 25, \"index\": 88.0, \"INJURIES_INCAPACITATING\": 4.0, \"INJURIES_FATAL\": 0.0, \"Number of Crashes\": 4.0}, {\"Type_of_day\": \"Juneteenth\", \"BEAT_CATEGORY\": 12, \"index\": 78.0, \"INJURIES_INCAPACITATING\": 1.0, \"INJURIES_FATAL\": 0.0, \"Number of Crashes\": 1.0}, {\"Type_of_day\": \"Juneteenth\", \"BEAT_CATEGORY\": 14, \"index\": 79.0, \"INJURIES_INCAPACITATING\": 1.0, \"INJURIES_FATAL\": 0.0, \"Number of Crashes\": 1.0}, {\"Type_of_day\": \"Juneteenth\", \"BEAT_CATEGORY\": 3, \"index\": 69.0, \"INJURIES_INCAPACITATING\": 3.0, \"INJURIES_FATAL\": 0.0, \"Number of Crashes\": 2.0}, {\"Type_of_day\": \"Juneteenth\", \"BEAT_CATEGORY\": 8, \"index\": 74.0, \"INJURIES_INCAPACITATING\": 3.0, \"INJURIES_FATAL\": 1.0, \"Number of Crashes\": 4.0}, {\"Type_of_day\": \"Juneteenth\", \"BEAT_CATEGORY\": 1, \"index\": 67.0, \"INJURIES_INCAPACITATING\": 4.0, \"INJURIES_FATAL\": 0.0, \"Number of Crashes\": 4.0}, {\"Type_of_day\": \"Juneteenth\", \"BEAT_CATEGORY\": 19, \"index\": 84.0, \"INJURIES_INCAPACITATING\": 2.0, \"INJURIES_FATAL\": 0.0, \"Number of Crashes\": 2.0}, {\"Type_of_day\": \"Juneteenth\", \"BEAT_CATEGORY\": 10, \"index\": 76.0, \"INJURIES_INCAPACITATING\": 1.0, \"INJURIES_FATAL\": 0.0, \"Number of Crashes\": 1.0}, {\"Type_of_day\": \"Juneteenth\", \"BEAT_CATEGORY\": 7, \"index\": 73.0, \"INJURIES_INCAPACITATING\": 2.0, \"INJURIES_FATAL\": 0.0, \"Number of Crashes\": 1.0}, {\"Type_of_day\": \"Juneteenth\", \"BEAT_CATEGORY\": 15, \"index\": 80.0, \"INJURIES_INCAPACITATING\": 1.0, \"INJURIES_FATAL\": 0.0, \"Number of Crashes\": 1.0}, {\"Type_of_day\": \"Juneteenth\", \"BEAT_CATEGORY\": 24, \"index\": 87.0, \"INJURIES_INCAPACITATING\": 1.0, \"INJURIES_FATAL\": 0.0, \"Number of Crashes\": 1.0}, {\"Type_of_day\": \"Juneteenth\", \"BEAT_CATEGORY\": 2, \"index\": 68.0, \"INJURIES_INCAPACITATING\": 2.0, \"INJURIES_FATAL\": 1.0, \"Number of Crashes\": 3.0}, {\"Type_of_day\": \"Juneteenth\", \"BEAT_CATEGORY\": 17, \"index\": 82.0, \"INJURIES_INCAPACITATING\": 1.0, \"INJURIES_FATAL\": 0.0, \"Number of Crashes\": 1.0}, {\"Type_of_day\": \"Juneteenth\", \"BEAT_CATEGORY\": 5, \"index\": 71.0, \"INJURIES_INCAPACITATING\": 1.0, \"INJURIES_FATAL\": 0.0, \"Number of Crashes\": 1.0}, {\"Type_of_day\": \"Juneteenth\", \"BEAT_CATEGORY\": 20, \"index\": 85.0, \"INJURIES_INCAPACITATING\": 1.0, \"INJURIES_FATAL\": 0.0, \"Number of Crashes\": 1.0}, {\"Type_of_day\": \"Columbus Day\", \"BEAT_CATEGORY\": 11, \"index\": 38.0, \"INJURIES_INCAPACITATING\": 3.0, \"INJURIES_FATAL\": 0.0, \"Number of Crashes\": 3.0}, {\"Type_of_day\": \"Columbus Day\", \"BEAT_CATEGORY\": 9, \"index\": 36.0, \"INJURIES_INCAPACITATING\": 1.0, \"INJURIES_FATAL\": 0.0, \"Number of Crashes\": 1.0}, {\"Type_of_day\": \"Columbus Day\", \"BEAT_CATEGORY\": 4, \"index\": null, \"INJURIES_INCAPACITATING\": 0.0, \"INJURIES_FATAL\": 0.0, \"Number of Crashes\": 0.0}, {\"Type_of_day\": \"Columbus Day\", \"BEAT_CATEGORY\": 6, \"index\": 33.0, \"INJURIES_INCAPACITATING\": 3.0, \"INJURIES_FATAL\": 0.0, \"Number of Crashes\": 2.0}, {\"Type_of_day\": \"Columbus Day\", \"BEAT_CATEGORY\": 22, \"index\": 46.0, \"INJURIES_INCAPACITATING\": 0.0, \"INJURIES_FATAL\": 1.0, \"Number of Crashes\": 1.0}, {\"Type_of_day\": \"Columbus Day\", \"BEAT_CATEGORY\": 16, \"index\": 42.0, \"INJURIES_INCAPACITATING\": 3.0, \"INJURIES_FATAL\": 0.0, \"Number of Crashes\": 3.0}, {\"Type_of_day\": \"Columbus Day\", \"BEAT_CATEGORY\": 18, \"index\": 43.0, \"INJURIES_INCAPACITATING\": 1.0, \"INJURIES_FATAL\": 0.0, \"Number of Crashes\": 1.0}, {\"Type_of_day\": \"Columbus Day\", \"BEAT_CATEGORY\": 25, \"index\": 47.0, \"INJURIES_INCAPACITATING\": 2.0, \"INJURIES_FATAL\": 0.0, \"Number of Crashes\": 2.0}, {\"Type_of_day\": \"Columbus Day\", \"BEAT_CATEGORY\": 12, \"index\": 39.0, \"INJURIES_INCAPACITATING\": 2.0, \"INJURIES_FATAL\": 0.0, \"Number of Crashes\": 2.0}, {\"Type_of_day\": \"Columbus Day\", \"BEAT_CATEGORY\": 14, \"index\": 40.0, \"INJURIES_INCAPACITATING\": 1.0, \"INJURIES_FATAL\": 0.0, \"Number of Crashes\": 1.0}, {\"Type_of_day\": \"Columbus Day\", \"BEAT_CATEGORY\": 3, \"index\": 31.0, \"INJURIES_INCAPACITATING\": 1.0, \"INJURIES_FATAL\": 0.0, \"Number of Crashes\": 1.0}, {\"Type_of_day\": \"Columbus Day\", \"BEAT_CATEGORY\": 8, \"index\": 35.0, \"INJURIES_INCAPACITATING\": 2.0, \"INJURIES_FATAL\": 0.0, \"Number of Crashes\": 2.0}, {\"Type_of_day\": \"Columbus Day\", \"BEAT_CATEGORY\": 1, \"index\": null, \"INJURIES_INCAPACITATING\": 0.0, \"INJURIES_FATAL\": 0.0, \"Number of Crashes\": 0.0}, {\"Type_of_day\": \"Columbus Day\", \"BEAT_CATEGORY\": 19, \"index\": 44.0, \"INJURIES_INCAPACITATING\": 1.0, \"INJURIES_FATAL\": 0.0, \"Number of Crashes\": 1.0}, {\"Type_of_day\": \"Columbus Day\", \"BEAT_CATEGORY\": 10, \"index\": 37.0, \"INJURIES_INCAPACITATING\": 3.0, \"INJURIES_FATAL\": 0.0, \"Number of Crashes\": 3.0}, {\"Type_of_day\": \"Columbus Day\", \"BEAT_CATEGORY\": 7, \"index\": 34.0, \"INJURIES_INCAPACITATING\": 2.0, \"INJURIES_FATAL\": 0.0, \"Number of Crashes\": 2.0}, {\"Type_of_day\": \"Columbus Day\", \"BEAT_CATEGORY\": 15, \"index\": 41.0, \"INJURIES_INCAPACITATING\": 1.0, \"INJURIES_FATAL\": 0.0, \"Number of Crashes\": 1.0}, {\"Type_of_day\": \"Columbus Day\", \"BEAT_CATEGORY\": 24, \"index\": null, \"INJURIES_INCAPACITATING\": 0.0, \"INJURIES_FATAL\": 0.0, \"Number of Crashes\": 0.0}, {\"Type_of_day\": \"Columbus Day\", \"BEAT_CATEGORY\": 2, \"index\": null, \"INJURIES_INCAPACITATING\": 0.0, \"INJURIES_FATAL\": 0.0, \"Number of Crashes\": 0.0}, {\"Type_of_day\": \"Columbus Day\", \"BEAT_CATEGORY\": 17, \"index\": null, \"INJURIES_INCAPACITATING\": 0.0, \"INJURIES_FATAL\": 0.0, \"Number of Crashes\": 0.0}, {\"Type_of_day\": \"Columbus Day\", \"BEAT_CATEGORY\": 5, \"index\": 32.0, \"INJURIES_INCAPACITATING\": 3.0, \"INJURIES_FATAL\": 0.0, \"Number of Crashes\": 3.0}, {\"Type_of_day\": \"Columbus Day\", \"BEAT_CATEGORY\": 20, \"index\": 45.0, \"INJURIES_INCAPACITATING\": 3.0, \"INJURIES_FATAL\": 0.0, \"Number of Crashes\": 3.0}, {\"Type_of_day\": \"Christmas\", \"BEAT_CATEGORY\": 11, \"index\": 23.0, \"INJURIES_INCAPACITATING\": 4.0, \"INJURIES_FATAL\": 0.0, \"Number of Crashes\": 4.0}, {\"Type_of_day\": \"Christmas\", \"BEAT_CATEGORY\": 9, \"index\": 21.0, \"INJURIES_INCAPACITATING\": 2.0, \"INJURIES_FATAL\": 0.0, \"Number of Crashes\": 2.0}, {\"Type_of_day\": \"Christmas\", \"BEAT_CATEGORY\": 4, \"index\": 18.0, \"INJURIES_INCAPACITATING\": 3.0, \"INJURIES_FATAL\": 0.0, \"Number of Crashes\": 3.0}, {\"Type_of_day\": \"Christmas\", \"BEAT_CATEGORY\": 6, \"index\": null, \"INJURIES_INCAPACITATING\": 0.0, \"INJURIES_FATAL\": 0.0, \"Number of Crashes\": 0.0}, {\"Type_of_day\": \"Christmas\", \"BEAT_CATEGORY\": 22, \"index\": 28.0, \"INJURIES_INCAPACITATING\": 1.0, \"INJURIES_FATAL\": 2.0, \"Number of Crashes\": 3.0}, {\"Type_of_day\": \"Christmas\", \"BEAT_CATEGORY\": 16, \"index\": 26.0, \"INJURIES_INCAPACITATING\": 2.0, \"INJURIES_FATAL\": 0.0, \"Number of Crashes\": 2.0}, {\"Type_of_day\": \"Christmas\", \"BEAT_CATEGORY\": 18, \"index\": null, \"INJURIES_INCAPACITATING\": 0.0, \"INJURIES_FATAL\": 0.0, \"Number of Crashes\": 0.0}, {\"Type_of_day\": \"Christmas\", \"BEAT_CATEGORY\": 25, \"index\": 30.0, \"INJURIES_INCAPACITATING\": 1.0, \"INJURIES_FATAL\": 1.0, \"Number of Crashes\": 2.0}, {\"Type_of_day\": \"Christmas\", \"BEAT_CATEGORY\": 12, \"index\": 24.0, \"INJURIES_INCAPACITATING\": 1.0, \"INJURIES_FATAL\": 0.0, \"Number of Crashes\": 1.0}, {\"Type_of_day\": \"Christmas\", \"BEAT_CATEGORY\": 14, \"index\": 25.0, \"INJURIES_INCAPACITATING\": 2.0, \"INJURIES_FATAL\": 0.0, \"Number of Crashes\": 1.0}, {\"Type_of_day\": \"Christmas\", \"BEAT_CATEGORY\": 3, \"index\": 17.0, \"INJURIES_INCAPACITATING\": 1.0, \"INJURIES_FATAL\": 0.0, \"Number of Crashes\": 1.0}, {\"Type_of_day\": \"Christmas\", \"BEAT_CATEGORY\": 8, \"index\": null, \"INJURIES_INCAPACITATING\": 0.0, \"INJURIES_FATAL\": 0.0, \"Number of Crashes\": 0.0}, {\"Type_of_day\": \"Christmas\", \"BEAT_CATEGORY\": 1, \"index\": 15.0, \"INJURIES_INCAPACITATING\": 3.0, \"INJURIES_FATAL\": 0.0, \"Number of Crashes\": 3.0}, {\"Type_of_day\": \"Christmas\", \"BEAT_CATEGORY\": 19, \"index\": null, \"INJURIES_INCAPACITATING\": 0.0, \"INJURIES_FATAL\": 0.0, \"Number of Crashes\": 0.0}, {\"Type_of_day\": \"Christmas\", \"BEAT_CATEGORY\": 10, \"index\": 22.0, \"INJURIES_INCAPACITATING\": 2.0, \"INJURIES_FATAL\": 0.0, \"Number of Crashes\": 1.0}, {\"Type_of_day\": \"Christmas\", \"BEAT_CATEGORY\": 7, \"index\": 20.0, \"INJURIES_INCAPACITATING\": 3.0, \"INJURIES_FATAL\": 0.0, \"Number of Crashes\": 3.0}, {\"Type_of_day\": \"Christmas\", \"BEAT_CATEGORY\": 15, \"index\": null, \"INJURIES_INCAPACITATING\": 0.0, \"INJURIES_FATAL\": 0.0, \"Number of Crashes\": 0.0}, {\"Type_of_day\": \"Christmas\", \"BEAT_CATEGORY\": 24, \"index\": 29.0, \"INJURIES_INCAPACITATING\": 1.0, \"INJURIES_FATAL\": 0.0, \"Number of Crashes\": 1.0}, {\"Type_of_day\": \"Christmas\", \"BEAT_CATEGORY\": 2, \"index\": 16.0, \"INJURIES_INCAPACITATING\": 1.0, \"INJURIES_FATAL\": 0.0, \"Number of Crashes\": 1.0}, {\"Type_of_day\": \"Christmas\", \"BEAT_CATEGORY\": 17, \"index\": 27.0, \"INJURIES_INCAPACITATING\": 1.0, \"INJURIES_FATAL\": 0.0, \"Number of Crashes\": 1.0}, {\"Type_of_day\": \"Christmas\", \"BEAT_CATEGORY\": 5, \"index\": 19.0, \"INJURIES_INCAPACITATING\": 2.0, \"INJURIES_FATAL\": 0.0, \"Number of Crashes\": 2.0}, {\"Type_of_day\": \"Christmas\", \"BEAT_CATEGORY\": 20, \"index\": null, \"INJURIES_INCAPACITATING\": 0.0, \"INJURIES_FATAL\": 0.0, \"Number of Crashes\": 0.0}]}}, {\"mode\": \"vega-lite\"});\n",
              "</script>"
            ],
            "text/plain": [
              "alt.Chart(...)"
            ]
          },
          "execution_count": 35,
          "metadata": {},
          "output_type": "execute_result"
        }
      ],
      "source": [
        "# Create a heatmap-style chart for FATAL injuries\n",
        "heatmap_incapacitating_fatal_top = alt.Chart(accident_counts_beats).mark_rect().encode(\n",
        "    x=alt.X('Type_of_day:N', title='Type of Day'),\n",
        "    y=alt.Y('BEAT_CATEGORY:N', title='Beat'),\n",
        "    color=alt.Color('Number of Crashes:Q', scale=alt.Scale(scheme='viridis'), title='Number of Crashes')\n",
        ").properties(\n",
        "    title='Heatmap of Crashes by Beat and Type of Day',\n",
        "    width=600,  # Set the width\n",
        "    height=400  # Set the height\n",
        ")\n",
        "\n",
        "heatmap_incapacitating_fatal_top"
      ]
    },
    {
      "cell_type": "markdown",
      "metadata": {
        "id": "iOFflXa7Lyu_"
      },
      "source": [
        "The above heatmap shows Beat 11 which maps to W Madison St has had the most accidents on Independence Day throughout the study period from 2013-2023."
      ]
    },
    {
      "cell_type": "code",
      "execution_count": 36,
      "metadata": {
        "colab": {
          "base_uri": "https://localhost:8080/",
          "height": 574
        },
        "id": "Cc-_hSv1Gpp1",
        "outputId": "5f320f3c-066f-48c8-b277-a23f21e7d6de",
        "scrolled": true
      },
      "outputs": [
        {
          "data": {
            "text/html": [
              "\n",
              "<style>\n",
              "  #altair-viz-7162b206981b4c0daed4ea6a2d7db721.vega-embed {\n",
              "    width: 100%;\n",
              "    display: flex;\n",
              "  }\n",
              "\n",
              "  #altair-viz-7162b206981b4c0daed4ea6a2d7db721.vega-embed details,\n",
              "  #altair-viz-7162b206981b4c0daed4ea6a2d7db721.vega-embed details summary {\n",
              "    position: relative;\n",
              "  }\n",
              "</style>\n",
              "<div id=\"altair-viz-7162b206981b4c0daed4ea6a2d7db721\"></div>\n",
              "<script type=\"text/javascript\">\n",
              "  var VEGA_DEBUG = (typeof VEGA_DEBUG == \"undefined\") ? {} : VEGA_DEBUG;\n",
              "  (function(spec, embedOpt){\n",
              "    let outputDiv = document.currentScript.previousElementSibling;\n",
              "    if (outputDiv.id !== \"altair-viz-7162b206981b4c0daed4ea6a2d7db721\") {\n",
              "      outputDiv = document.getElementById(\"altair-viz-7162b206981b4c0daed4ea6a2d7db721\");\n",
              "    }\n",
              "    const paths = {\n",
              "      \"vega\": \"https://cdn.jsdelivr.net/npm/vega@5?noext\",\n",
              "      \"vega-lib\": \"https://cdn.jsdelivr.net/npm/vega-lib?noext\",\n",
              "      \"vega-lite\": \"https://cdn.jsdelivr.net/npm/vega-lite@5.14.1?noext\",\n",
              "      \"vega-embed\": \"https://cdn.jsdelivr.net/npm/vega-embed@6?noext\",\n",
              "    };\n",
              "\n",
              "    function maybeLoadScript(lib, version) {\n",
              "      var key = `${lib.replace(\"-\", \"\")}_version`;\n",
              "      return (VEGA_DEBUG[key] == version) ?\n",
              "        Promise.resolve(paths[lib]) :\n",
              "        new Promise(function(resolve, reject) {\n",
              "          var s = document.createElement('script');\n",
              "          document.getElementsByTagName(\"head\")[0].appendChild(s);\n",
              "          s.async = true;\n",
              "          s.onload = () => {\n",
              "            VEGA_DEBUG[key] = version;\n",
              "            return resolve(paths[lib]);\n",
              "          };\n",
              "          s.onerror = () => reject(`Error loading script: ${paths[lib]}`);\n",
              "          s.src = paths[lib];\n",
              "        });\n",
              "    }\n",
              "\n",
              "    function showError(err) {\n",
              "      outputDiv.innerHTML = `<div class=\"error\" style=\"color:red;\">${err}</div>`;\n",
              "      throw err;\n",
              "    }\n",
              "\n",
              "    function displayChart(vegaEmbed) {\n",
              "      vegaEmbed(outputDiv, spec, embedOpt)\n",
              "        .catch(err => showError(`Javascript Error: ${err.message}<br>This usually means there's a typo in your chart specification. See the javascript console for the full traceback.`));\n",
              "    }\n",
              "\n",
              "    if(typeof define === \"function\" && define.amd) {\n",
              "      requirejs.config({paths});\n",
              "      require([\"vega-embed\"], displayChart, err => showError(`Error loading script: ${err.message}`));\n",
              "    } else {\n",
              "      maybeLoadScript(\"vega\", \"5\")\n",
              "        .then(() => maybeLoadScript(\"vega-lite\", \"5.14.1\"))\n",
              "        .then(() => maybeLoadScript(\"vega-embed\", \"6\"))\n",
              "        .catch(showError)\n",
              "        .then(() => displayChart(vegaEmbed));\n",
              "    }\n",
              "  })({\"config\": {\"view\": {\"continuousWidth\": 300, \"continuousHeight\": 300}}, \"data\": {\"name\": \"data-0691ac3cf637a5ff3d0acea1a96585c1\"}, \"mark\": {\"type\": \"rect\"}, \"encoding\": {\"color\": {\"field\": \"INJURIES_FATAL\", \"scale\": {\"scheme\": \"viridis\"}, \"title\": \"Fatal Injuries\", \"type\": \"quantitative\"}, \"x\": {\"field\": \"Type_of_day\", \"title\": \"Type of Day\", \"type\": \"nominal\"}, \"y\": {\"field\": \"BEAT_CATEGORY\", \"title\": \"Beat\", \"type\": \"nominal\"}}, \"height\": 400, \"title\": \"Heatmap of FATAL Injuries by Beat and Type of Day\", \"width\": 600, \"$schema\": \"https://vega.github.io/schema/vega-lite/v5.14.1.json\", \"datasets\": {\"data-0691ac3cf637a5ff3d0acea1a96585c1\": [{\"Type_of_day\": \"Casimir Pulaski Day\", \"BEAT_CATEGORY\": 11, \"index\": 8.0, \"INJURIES_INCAPACITATING\": 3.0, \"INJURIES_FATAL\": 0.0, \"Number of Crashes\": 2.0}, {\"Type_of_day\": \"Casimir Pulaski Day\", \"BEAT_CATEGORY\": 9, \"index\": 7.0, \"INJURIES_INCAPACITATING\": 2.0, \"INJURIES_FATAL\": 0.0, \"Number of Crashes\": 2.0}, {\"Type_of_day\": \"Casimir Pulaski Day\", \"BEAT_CATEGORY\": 4, \"index\": 2.0, \"INJURIES_INCAPACITATING\": 1.0, \"INJURIES_FATAL\": 0.0, \"Number of Crashes\": 1.0}, {\"Type_of_day\": \"Casimir Pulaski Day\", \"BEAT_CATEGORY\": 6, \"index\": 4.0, \"INJURIES_INCAPACITATING\": 0.0, \"INJURIES_FATAL\": 1.0, \"Number of Crashes\": 1.0}, {\"Type_of_day\": \"Casimir Pulaski Day\", \"BEAT_CATEGORY\": 22, \"index\": null, \"INJURIES_INCAPACITATING\": 0.0, \"INJURIES_FATAL\": 0.0, \"Number of Crashes\": 0.0}, {\"Type_of_day\": \"Casimir Pulaski Day\", \"BEAT_CATEGORY\": 16, \"index\": 11.0, \"INJURIES_INCAPACITATING\": 2.0, \"INJURIES_FATAL\": 0.0, \"Number of Crashes\": 2.0}, {\"Type_of_day\": \"Casimir Pulaski Day\", \"BEAT_CATEGORY\": 18, \"index\": null, \"INJURIES_INCAPACITATING\": 0.0, \"INJURIES_FATAL\": 0.0, \"Number of Crashes\": 0.0}, {\"Type_of_day\": \"Casimir Pulaski Day\", \"BEAT_CATEGORY\": 25, \"index\": 14.0, \"INJURIES_INCAPACITATING\": 2.0, \"INJURIES_FATAL\": 0.0, \"Number of Crashes\": 2.0}, {\"Type_of_day\": \"Casimir Pulaski Day\", \"BEAT_CATEGORY\": 12, \"index\": 9.0, \"INJURIES_INCAPACITATING\": 4.0, \"INJURIES_FATAL\": 0.0, \"Number of Crashes\": 3.0}, {\"Type_of_day\": \"Casimir Pulaski Day\", \"BEAT_CATEGORY\": 14, \"index\": 10.0, \"INJURIES_INCAPACITATING\": 3.0, \"INJURIES_FATAL\": 0.0, \"Number of Crashes\": 3.0}, {\"Type_of_day\": \"Casimir Pulaski Day\", \"BEAT_CATEGORY\": 3, \"index\": 1.0, \"INJURIES_INCAPACITATING\": 2.0, \"INJURIES_FATAL\": 0.0, \"Number of Crashes\": 2.0}, {\"Type_of_day\": \"Casimir Pulaski Day\", \"BEAT_CATEGORY\": 8, \"index\": 6.0, \"INJURIES_INCAPACITATING\": 4.0, \"INJURIES_FATAL\": 1.0, \"Number of Crashes\": 5.0}, {\"Type_of_day\": \"Casimir Pulaski Day\", \"BEAT_CATEGORY\": 1, \"index\": null, \"INJURIES_INCAPACITATING\": 0.0, \"INJURIES_FATAL\": 0.0, \"Number of Crashes\": 0.0}, {\"Type_of_day\": \"Casimir Pulaski Day\", \"BEAT_CATEGORY\": 19, \"index\": 12.0, \"INJURIES_INCAPACITATING\": 1.0, \"INJURIES_FATAL\": 0.0, \"Number of Crashes\": 1.0}, {\"Type_of_day\": \"Casimir Pulaski Day\", \"BEAT_CATEGORY\": 10, \"index\": null, \"INJURIES_INCAPACITATING\": 0.0, \"INJURIES_FATAL\": 0.0, \"Number of Crashes\": 0.0}, {\"Type_of_day\": \"Casimir Pulaski Day\", \"BEAT_CATEGORY\": 7, \"index\": 5.0, \"INJURIES_INCAPACITATING\": 1.0, \"INJURIES_FATAL\": 0.0, \"Number of Crashes\": 1.0}, {\"Type_of_day\": \"Casimir Pulaski Day\", \"BEAT_CATEGORY\": 15, \"index\": null, \"INJURIES_INCAPACITATING\": 0.0, \"INJURIES_FATAL\": 0.0, \"Number of Crashes\": 0.0}, {\"Type_of_day\": \"Casimir Pulaski Day\", \"BEAT_CATEGORY\": 24, \"index\": null, \"INJURIES_INCAPACITATING\": 0.0, \"INJURIES_FATAL\": 0.0, \"Number of Crashes\": 0.0}, {\"Type_of_day\": \"Casimir Pulaski Day\", \"BEAT_CATEGORY\": 2, \"index\": 0.0, \"INJURIES_INCAPACITATING\": 1.0, \"INJURIES_FATAL\": 0.0, \"Number of Crashes\": 1.0}, {\"Type_of_day\": \"Casimir Pulaski Day\", \"BEAT_CATEGORY\": 17, \"index\": null, \"INJURIES_INCAPACITATING\": 0.0, \"INJURIES_FATAL\": 0.0, \"Number of Crashes\": 0.0}, {\"Type_of_day\": \"Casimir Pulaski Day\", \"BEAT_CATEGORY\": 5, \"index\": 3.0, \"INJURIES_INCAPACITATING\": 1.0, \"INJURIES_FATAL\": 0.0, \"Number of Crashes\": 1.0}, {\"Type_of_day\": \"Casimir Pulaski Day\", \"BEAT_CATEGORY\": 20, \"index\": 13.0, \"INJURIES_INCAPACITATING\": 1.0, \"INJURIES_FATAL\": 0.0, \"Number of Crashes\": 1.0}, {\"Type_of_day\": \"Veterans Day\", \"BEAT_CATEGORY\": 11, \"index\": 202.0, \"INJURIES_INCAPACITATING\": 2.0, \"INJURIES_FATAL\": 0.0, \"Number of Crashes\": 2.0}, {\"Type_of_day\": \"Veterans Day\", \"BEAT_CATEGORY\": 9, \"index\": null, \"INJURIES_INCAPACITATING\": 0.0, \"INJURIES_FATAL\": 0.0, \"Number of Crashes\": 0.0}, {\"Type_of_day\": \"Veterans Day\", \"BEAT_CATEGORY\": 4, \"index\": 197.0, \"INJURIES_INCAPACITATING\": 4.0, \"INJURIES_FATAL\": 0.0, \"Number of Crashes\": 4.0}, {\"Type_of_day\": \"Veterans Day\", \"BEAT_CATEGORY\": 6, \"index\": 199.0, \"INJURIES_INCAPACITATING\": 2.0, \"INJURIES_FATAL\": 0.0, \"Number of Crashes\": 2.0}, {\"Type_of_day\": \"Veterans Day\", \"BEAT_CATEGORY\": 22, \"index\": 209.0, \"INJURIES_INCAPACITATING\": 1.0, \"INJURIES_FATAL\": 0.0, \"Number of Crashes\": 1.0}, {\"Type_of_day\": \"Veterans Day\", \"BEAT_CATEGORY\": 16, \"index\": 205.0, \"INJURIES_INCAPACITATING\": 2.0, \"INJURIES_FATAL\": 0.0, \"Number of Crashes\": 2.0}, {\"Type_of_day\": \"Veterans Day\", \"BEAT_CATEGORY\": 18, \"index\": 207.0, \"INJURIES_INCAPACITATING\": 3.0, \"INJURIES_FATAL\": 0.0, \"Number of Crashes\": 2.0}, {\"Type_of_day\": \"Veterans Day\", \"BEAT_CATEGORY\": 25, \"index\": 210.0, \"INJURIES_INCAPACITATING\": 1.0, \"INJURIES_FATAL\": 0.0, \"Number of Crashes\": 1.0}, {\"Type_of_day\": \"Veterans Day\", \"BEAT_CATEGORY\": 12, \"index\": 203.0, \"INJURIES_INCAPACITATING\": 2.0, \"INJURIES_FATAL\": 0.0, \"Number of Crashes\": 2.0}, {\"Type_of_day\": \"Veterans Day\", \"BEAT_CATEGORY\": 14, \"index\": 204.0, \"INJURIES_INCAPACITATING\": 3.0, \"INJURIES_FATAL\": 0.0, \"Number of Crashes\": 2.0}, {\"Type_of_day\": \"Veterans Day\", \"BEAT_CATEGORY\": 3, \"index\": 196.0, \"INJURIES_INCAPACITATING\": 2.0, \"INJURIES_FATAL\": 0.0, \"Number of Crashes\": 2.0}, {\"Type_of_day\": \"Veterans Day\", \"BEAT_CATEGORY\": 8, \"index\": 201.0, \"INJURIES_INCAPACITATING\": 3.0, \"INJURIES_FATAL\": 0.0, \"Number of Crashes\": 3.0}, {\"Type_of_day\": \"Veterans Day\", \"BEAT_CATEGORY\": 1, \"index\": 194.0, \"INJURIES_INCAPACITATING\": 2.0, \"INJURIES_FATAL\": 0.0, \"Number of Crashes\": 2.0}, {\"Type_of_day\": \"Veterans Day\", \"BEAT_CATEGORY\": 19, \"index\": 208.0, \"INJURIES_INCAPACITATING\": 2.0, \"INJURIES_FATAL\": 0.0, \"Number of Crashes\": 1.0}, {\"Type_of_day\": \"Veterans Day\", \"BEAT_CATEGORY\": 10, \"index\": null, \"INJURIES_INCAPACITATING\": 0.0, \"INJURIES_FATAL\": 0.0, \"Number of Crashes\": 0.0}, {\"Type_of_day\": \"Veterans Day\", \"BEAT_CATEGORY\": 7, \"index\": 200.0, \"INJURIES_INCAPACITATING\": 1.0, \"INJURIES_FATAL\": 0.0, \"Number of Crashes\": 1.0}, {\"Type_of_day\": \"Veterans Day\", \"BEAT_CATEGORY\": 15, \"index\": null, \"INJURIES_INCAPACITATING\": 0.0, \"INJURIES_FATAL\": 0.0, \"Number of Crashes\": 0.0}, {\"Type_of_day\": \"Veterans Day\", \"BEAT_CATEGORY\": 24, \"index\": null, \"INJURIES_INCAPACITATING\": 0.0, \"INJURIES_FATAL\": 0.0, \"Number of Crashes\": 0.0}, {\"Type_of_day\": \"Veterans Day\", \"BEAT_CATEGORY\": 2, \"index\": 195.0, \"INJURIES_INCAPACITATING\": 2.0, \"INJURIES_FATAL\": 1.0, \"Number of Crashes\": 3.0}, {\"Type_of_day\": \"Veterans Day\", \"BEAT_CATEGORY\": 17, \"index\": 206.0, \"INJURIES_INCAPACITATING\": 1.0, \"INJURIES_FATAL\": 0.0, \"Number of Crashes\": 1.0}, {\"Type_of_day\": \"Veterans Day\", \"BEAT_CATEGORY\": 5, \"index\": 198.0, \"INJURIES_INCAPACITATING\": 1.0, \"INJURIES_FATAL\": 0.0, \"Number of Crashes\": 1.0}, {\"Type_of_day\": \"Veterans Day\", \"BEAT_CATEGORY\": 20, \"index\": null, \"INJURIES_INCAPACITATING\": 0.0, \"INJURIES_FATAL\": 0.0, \"Number of Crashes\": 0.0}, {\"Type_of_day\": \"Lincoln's Bday\", \"BEAT_CATEGORY\": 11, \"index\": null, \"INJURIES_INCAPACITATING\": 0.0, \"INJURIES_FATAL\": 0.0, \"Number of Crashes\": 0.0}, {\"Type_of_day\": \"Lincoln's Bday\", \"BEAT_CATEGORY\": 9, \"index\": null, \"INJURIES_INCAPACITATING\": 0.0, \"INJURIES_FATAL\": 0.0, \"Number of Crashes\": 0.0}, {\"Type_of_day\": \"Lincoln's Bday\", \"BEAT_CATEGORY\": 4, \"index\": 110.0, \"INJURIES_INCAPACITATING\": 1.0, \"INJURIES_FATAL\": 0.0, \"Number of Crashes\": 1.0}, {\"Type_of_day\": \"Lincoln's Bday\", \"BEAT_CATEGORY\": 6, \"index\": 111.0, \"INJURIES_INCAPACITATING\": 1.0, \"INJURIES_FATAL\": 0.0, \"Number of Crashes\": 1.0}, {\"Type_of_day\": \"Lincoln's Bday\", \"BEAT_CATEGORY\": 22, \"index\": 117.0, \"INJURIES_INCAPACITATING\": 1.0, \"INJURIES_FATAL\": 0.0, \"Number of Crashes\": 1.0}, {\"Type_of_day\": \"Lincoln's Bday\", \"BEAT_CATEGORY\": 16, \"index\": 116.0, \"INJURIES_INCAPACITATING\": 3.0, \"INJURIES_FATAL\": 0.0, \"Number of Crashes\": 3.0}, {\"Type_of_day\": \"Lincoln's Bday\", \"BEAT_CATEGORY\": 18, \"index\": null, \"INJURIES_INCAPACITATING\": 0.0, \"INJURIES_FATAL\": 0.0, \"Number of Crashes\": 0.0}, {\"Type_of_day\": \"Lincoln's Bday\", \"BEAT_CATEGORY\": 25, \"index\": 118.0, \"INJURIES_INCAPACITATING\": 2.0, \"INJURIES_FATAL\": 0.0, \"Number of Crashes\": 2.0}, {\"Type_of_day\": \"Lincoln's Bday\", \"BEAT_CATEGORY\": 12, \"index\": 115.0, \"INJURIES_INCAPACITATING\": 3.0, \"INJURIES_FATAL\": 0.0, \"Number of Crashes\": 3.0}, {\"Type_of_day\": \"Lincoln's Bday\", \"BEAT_CATEGORY\": 14, \"index\": null, \"INJURIES_INCAPACITATING\": 0.0, \"INJURIES_FATAL\": 0.0, \"Number of Crashes\": 0.0}, {\"Type_of_day\": \"Lincoln's Bday\", \"BEAT_CATEGORY\": 3, \"index\": 109.0, \"INJURIES_INCAPACITATING\": 4.0, \"INJURIES_FATAL\": 0.0, \"Number of Crashes\": 2.0}, {\"Type_of_day\": \"Lincoln's Bday\", \"BEAT_CATEGORY\": 8, \"index\": 113.0, \"INJURIES_INCAPACITATING\": 2.0, \"INJURIES_FATAL\": 0.0, \"Number of Crashes\": 2.0}, {\"Type_of_day\": \"Lincoln's Bday\", \"BEAT_CATEGORY\": 1, \"index\": 107.0, \"INJURIES_INCAPACITATING\": 3.0, \"INJURIES_FATAL\": 0.0, \"Number of Crashes\": 3.0}, {\"Type_of_day\": \"Lincoln's Bday\", \"BEAT_CATEGORY\": 19, \"index\": null, \"INJURIES_INCAPACITATING\": 0.0, \"INJURIES_FATAL\": 0.0, \"Number of Crashes\": 0.0}, {\"Type_of_day\": \"Lincoln's Bday\", \"BEAT_CATEGORY\": 10, \"index\": 114.0, \"INJURIES_INCAPACITATING\": 2.0, \"INJURIES_FATAL\": 0.0, \"Number of Crashes\": 2.0}, {\"Type_of_day\": \"Lincoln's Bday\", \"BEAT_CATEGORY\": 7, \"index\": 112.0, \"INJURIES_INCAPACITATING\": 1.0, \"INJURIES_FATAL\": 0.0, \"Number of Crashes\": 1.0}, {\"Type_of_day\": \"Lincoln's Bday\", \"BEAT_CATEGORY\": 15, \"index\": null, \"INJURIES_INCAPACITATING\": 0.0, \"INJURIES_FATAL\": 0.0, \"Number of Crashes\": 0.0}, {\"Type_of_day\": \"Lincoln's Bday\", \"BEAT_CATEGORY\": 24, \"index\": null, \"INJURIES_INCAPACITATING\": 0.0, \"INJURIES_FATAL\": 0.0, \"Number of Crashes\": 0.0}, {\"Type_of_day\": \"Lincoln's Bday\", \"BEAT_CATEGORY\": 2, \"index\": 108.0, \"INJURIES_INCAPACITATING\": 0.0, \"INJURIES_FATAL\": 1.0, \"Number of Crashes\": 1.0}, {\"Type_of_day\": \"Lincoln's Bday\", \"BEAT_CATEGORY\": 17, \"index\": null, \"INJURIES_INCAPACITATING\": 0.0, \"INJURIES_FATAL\": 0.0, \"Number of Crashes\": 0.0}, {\"Type_of_day\": \"Lincoln's Bday\", \"BEAT_CATEGORY\": 5, \"index\": null, \"INJURIES_INCAPACITATING\": 0.0, \"INJURIES_FATAL\": 0.0, \"Number of Crashes\": 0.0}, {\"Type_of_day\": \"Lincoln's Bday\", \"BEAT_CATEGORY\": 20, \"index\": null, \"INJURIES_INCAPACITATING\": 0.0, \"INJURIES_FATAL\": 0.0, \"Number of Crashes\": 0.0}, {\"Type_of_day\": \"Thanksgiving\", \"BEAT_CATEGORY\": 11, \"index\": 184.0, \"INJURIES_INCAPACITATING\": 4.0, \"INJURIES_FATAL\": 1.0, \"Number of Crashes\": 4.0}, {\"Type_of_day\": \"Thanksgiving\", \"BEAT_CATEGORY\": 9, \"index\": 182.0, \"INJURIES_INCAPACITATING\": 1.0, \"INJURIES_FATAL\": 0.0, \"Number of Crashes\": 1.0}, {\"Type_of_day\": \"Thanksgiving\", \"BEAT_CATEGORY\": 4, \"index\": 178.0, \"INJURIES_INCAPACITATING\": 5.0, \"INJURIES_FATAL\": 1.0, \"Number of Crashes\": 5.0}, {\"Type_of_day\": \"Thanksgiving\", \"BEAT_CATEGORY\": 6, \"index\": 180.0, \"INJURIES_INCAPACITATING\": 2.0, \"INJURIES_FATAL\": 0.0, \"Number of Crashes\": 2.0}, {\"Type_of_day\": \"Thanksgiving\", \"BEAT_CATEGORY\": 22, \"index\": 191.0, \"INJURIES_INCAPACITATING\": 2.0, \"INJURIES_FATAL\": 0.0, \"Number of Crashes\": 2.0}, {\"Type_of_day\": \"Thanksgiving\", \"BEAT_CATEGORY\": 16, \"index\": 187.0, \"INJURIES_INCAPACITATING\": 4.0, \"INJURIES_FATAL\": 0.0, \"Number of Crashes\": 4.0}, {\"Type_of_day\": \"Thanksgiving\", \"BEAT_CATEGORY\": 18, \"index\": 189.0, \"INJURIES_INCAPACITATING\": 2.0, \"INJURIES_FATAL\": 0.0, \"Number of Crashes\": 2.0}, {\"Type_of_day\": \"Thanksgiving\", \"BEAT_CATEGORY\": 25, \"index\": 193.0, \"INJURIES_INCAPACITATING\": 2.0, \"INJURIES_FATAL\": 1.0, \"Number of Crashes\": 3.0}, {\"Type_of_day\": \"Thanksgiving\", \"BEAT_CATEGORY\": 12, \"index\": 185.0, \"INJURIES_INCAPACITATING\": 2.0, \"INJURIES_FATAL\": 0.0, \"Number of Crashes\": 2.0}, {\"Type_of_day\": \"Thanksgiving\", \"BEAT_CATEGORY\": 14, \"index\": 186.0, \"INJURIES_INCAPACITATING\": 2.0, \"INJURIES_FATAL\": 0.0, \"Number of Crashes\": 1.0}, {\"Type_of_day\": \"Thanksgiving\", \"BEAT_CATEGORY\": 3, \"index\": 177.0, \"INJURIES_INCAPACITATING\": 3.0, \"INJURIES_FATAL\": 0.0, \"Number of Crashes\": 3.0}, {\"Type_of_day\": \"Thanksgiving\", \"BEAT_CATEGORY\": 8, \"index\": 181.0, \"INJURIES_INCAPACITATING\": 5.0, \"INJURIES_FATAL\": 2.0, \"Number of Crashes\": 5.0}, {\"Type_of_day\": \"Thanksgiving\", \"BEAT_CATEGORY\": 1, \"index\": 175.0, \"INJURIES_INCAPACITATING\": 4.0, \"INJURIES_FATAL\": 0.0, \"Number of Crashes\": 1.0}, {\"Type_of_day\": \"Thanksgiving\", \"BEAT_CATEGORY\": 19, \"index\": 190.0, \"INJURIES_INCAPACITATING\": 1.0, \"INJURIES_FATAL\": 0.0, \"Number of Crashes\": 1.0}, {\"Type_of_day\": \"Thanksgiving\", \"BEAT_CATEGORY\": 10, \"index\": 183.0, \"INJURIES_INCAPACITATING\": 2.0, \"INJURIES_FATAL\": 1.0, \"Number of Crashes\": 3.0}, {\"Type_of_day\": \"Thanksgiving\", \"BEAT_CATEGORY\": 7, \"index\": null, \"INJURIES_INCAPACITATING\": 0.0, \"INJURIES_FATAL\": 0.0, \"Number of Crashes\": 0.0}, {\"Type_of_day\": \"Thanksgiving\", \"BEAT_CATEGORY\": 15, \"index\": null, \"INJURIES_INCAPACITATING\": 0.0, \"INJURIES_FATAL\": 0.0, \"Number of Crashes\": 0.0}, {\"Type_of_day\": \"Thanksgiving\", \"BEAT_CATEGORY\": 24, \"index\": 192.0, \"INJURIES_INCAPACITATING\": 3.0, \"INJURIES_FATAL\": 0.0, \"Number of Crashes\": 2.0}, {\"Type_of_day\": \"Thanksgiving\", \"BEAT_CATEGORY\": 2, \"index\": 176.0, \"INJURIES_INCAPACITATING\": 2.0, \"INJURIES_FATAL\": 0.0, \"Number of Crashes\": 2.0}, {\"Type_of_day\": \"Thanksgiving\", \"BEAT_CATEGORY\": 17, \"index\": 188.0, \"INJURIES_INCAPACITATING\": 3.0, \"INJURIES_FATAL\": 0.0, \"Number of Crashes\": 3.0}, {\"Type_of_day\": \"Thanksgiving\", \"BEAT_CATEGORY\": 5, \"index\": 179.0, \"INJURIES_INCAPACITATING\": 1.0, \"INJURIES_FATAL\": 0.0, \"Number of Crashes\": 1.0}, {\"Type_of_day\": \"Thanksgiving\", \"BEAT_CATEGORY\": 20, \"index\": null, \"INJURIES_INCAPACITATING\": 0.0, \"INJURIES_FATAL\": 0.0, \"Number of Crashes\": 0.0}, {\"Type_of_day\": \"Labor Day\", \"BEAT_CATEGORY\": 11, \"index\": 97.0, \"INJURIES_INCAPACITATING\": 2.0, \"INJURIES_FATAL\": 0.0, \"Number of Crashes\": 2.0}, {\"Type_of_day\": \"Labor Day\", \"BEAT_CATEGORY\": 9, \"index\": 96.0, \"INJURIES_INCAPACITATING\": 4.0, \"INJURIES_FATAL\": 0.0, \"Number of Crashes\": 3.0}, {\"Type_of_day\": \"Labor Day\", \"BEAT_CATEGORY\": 4, \"index\": 91.0, \"INJURIES_INCAPACITATING\": 5.0, \"INJURIES_FATAL\": 0.0, \"Number of Crashes\": 4.0}, {\"Type_of_day\": \"Labor Day\", \"BEAT_CATEGORY\": 6, \"index\": 93.0, \"INJURIES_INCAPACITATING\": 1.0, \"INJURIES_FATAL\": 0.0, \"Number of Crashes\": 1.0}, {\"Type_of_day\": \"Labor Day\", \"BEAT_CATEGORY\": 22, \"index\": null, \"INJURIES_INCAPACITATING\": 0.0, \"INJURIES_FATAL\": 0.0, \"Number of Crashes\": 0.0}, {\"Type_of_day\": \"Labor Day\", \"BEAT_CATEGORY\": 16, \"index\": null, \"INJURIES_INCAPACITATING\": 0.0, \"INJURIES_FATAL\": 0.0, \"Number of Crashes\": 0.0}, {\"Type_of_day\": \"Labor Day\", \"BEAT_CATEGORY\": 18, \"index\": 102.0, \"INJURIES_INCAPACITATING\": 7.0, \"INJURIES_FATAL\": 0.0, \"Number of Crashes\": 4.0}, {\"Type_of_day\": \"Labor Day\", \"BEAT_CATEGORY\": 25, \"index\": 106.0, \"INJURIES_INCAPACITATING\": 3.0, \"INJURIES_FATAL\": 0.0, \"Number of Crashes\": 3.0}, {\"Type_of_day\": \"Labor Day\", \"BEAT_CATEGORY\": 12, \"index\": 98.0, \"INJURIES_INCAPACITATING\": 5.0, \"INJURIES_FATAL\": 0.0, \"Number of Crashes\": 3.0}, {\"Type_of_day\": \"Labor Day\", \"BEAT_CATEGORY\": 14, \"index\": 99.0, \"INJURIES_INCAPACITATING\": 1.0, \"INJURIES_FATAL\": 0.0, \"Number of Crashes\": 1.0}, {\"Type_of_day\": \"Labor Day\", \"BEAT_CATEGORY\": 3, \"index\": 90.0, \"INJURIES_INCAPACITATING\": 1.0, \"INJURIES_FATAL\": 0.0, \"Number of Crashes\": 1.0}, {\"Type_of_day\": \"Labor Day\", \"BEAT_CATEGORY\": 8, \"index\": 95.0, \"INJURIES_INCAPACITATING\": 6.0, \"INJURIES_FATAL\": 0.0, \"Number of Crashes\": 6.0}, {\"Type_of_day\": \"Labor Day\", \"BEAT_CATEGORY\": 1, \"index\": 89.0, \"INJURIES_INCAPACITATING\": 7.0, \"INJURIES_FATAL\": 0.0, \"Number of Crashes\": 5.0}, {\"Type_of_day\": \"Labor Day\", \"BEAT_CATEGORY\": 19, \"index\": 103.0, \"INJURIES_INCAPACITATING\": 1.0, \"INJURIES_FATAL\": 0.0, \"Number of Crashes\": 1.0}, {\"Type_of_day\": \"Labor Day\", \"BEAT_CATEGORY\": 10, \"index\": null, \"INJURIES_INCAPACITATING\": 0.0, \"INJURIES_FATAL\": 0.0, \"Number of Crashes\": 0.0}, {\"Type_of_day\": \"Labor Day\", \"BEAT_CATEGORY\": 7, \"index\": 94.0, \"INJURIES_INCAPACITATING\": 5.0, \"INJURIES_FATAL\": 0.0, \"Number of Crashes\": 3.0}, {\"Type_of_day\": \"Labor Day\", \"BEAT_CATEGORY\": 15, \"index\": 100.0, \"INJURIES_INCAPACITATING\": 2.0, \"INJURIES_FATAL\": 1.0, \"Number of Crashes\": 3.0}, {\"Type_of_day\": \"Labor Day\", \"BEAT_CATEGORY\": 24, \"index\": 105.0, \"INJURIES_INCAPACITATING\": 1.0, \"INJURIES_FATAL\": 0.0, \"Number of Crashes\": 1.0}, {\"Type_of_day\": \"Labor Day\", \"BEAT_CATEGORY\": 2, \"index\": null, \"INJURIES_INCAPACITATING\": 0.0, \"INJURIES_FATAL\": 0.0, \"Number of Crashes\": 0.0}, {\"Type_of_day\": \"Labor Day\", \"BEAT_CATEGORY\": 17, \"index\": 101.0, \"INJURIES_INCAPACITATING\": 3.0, \"INJURIES_FATAL\": 0.0, \"Number of Crashes\": 2.0}, {\"Type_of_day\": \"Labor Day\", \"BEAT_CATEGORY\": 5, \"index\": 92.0, \"INJURIES_INCAPACITATING\": 2.0, \"INJURIES_FATAL\": 0.0, \"Number of Crashes\": 2.0}, {\"Type_of_day\": \"Labor Day\", \"BEAT_CATEGORY\": 20, \"index\": 104.0, \"INJURIES_INCAPACITATING\": 1.0, \"INJURIES_FATAL\": 0.0, \"Number of Crashes\": 1.0}, {\"Type_of_day\": \"Washington's Bday\", \"BEAT_CATEGORY\": 11, \"index\": 220.0, \"INJURIES_INCAPACITATING\": 1.0, \"INJURIES_FATAL\": 0.0, \"Number of Crashes\": 1.0}, {\"Type_of_day\": \"Washington's Bday\", \"BEAT_CATEGORY\": 9, \"index\": 218.0, \"INJURIES_INCAPACITATING\": 4.0, \"INJURIES_FATAL\": 0.0, \"Number of Crashes\": 2.0}, {\"Type_of_day\": \"Washington's Bday\", \"BEAT_CATEGORY\": 4, \"index\": 214.0, \"INJURIES_INCAPACITATING\": 2.0, \"INJURIES_FATAL\": 0.0, \"Number of Crashes\": 2.0}, {\"Type_of_day\": \"Washington's Bday\", \"BEAT_CATEGORY\": 6, \"index\": 215.0, \"INJURIES_INCAPACITATING\": 1.0, \"INJURIES_FATAL\": 0.0, \"Number of Crashes\": 1.0}, {\"Type_of_day\": \"Washington's Bday\", \"BEAT_CATEGORY\": 22, \"index\": null, \"INJURIES_INCAPACITATING\": 0.0, \"INJURIES_FATAL\": 0.0, \"Number of Crashes\": 0.0}, {\"Type_of_day\": \"Washington's Bday\", \"BEAT_CATEGORY\": 16, \"index\": 223.0, \"INJURIES_INCAPACITATING\": 5.0, \"INJURIES_FATAL\": 0.0, \"Number of Crashes\": 5.0}, {\"Type_of_day\": \"Washington's Bday\", \"BEAT_CATEGORY\": 18, \"index\": 225.0, \"INJURIES_INCAPACITATING\": 3.0, \"INJURIES_FATAL\": 1.0, \"Number of Crashes\": 3.0}, {\"Type_of_day\": \"Washington's Bday\", \"BEAT_CATEGORY\": 25, \"index\": 229.0, \"INJURIES_INCAPACITATING\": 4.0, \"INJURIES_FATAL\": 0.0, \"Number of Crashes\": 4.0}, {\"Type_of_day\": \"Washington's Bday\", \"BEAT_CATEGORY\": 12, \"index\": 221.0, \"INJURIES_INCAPACITATING\": 3.0, \"INJURIES_FATAL\": 0.0, \"Number of Crashes\": 2.0}, {\"Type_of_day\": \"Washington's Bday\", \"BEAT_CATEGORY\": 14, \"index\": 222.0, \"INJURIES_INCAPACITATING\": 1.0, \"INJURIES_FATAL\": 0.0, \"Number of Crashes\": 1.0}, {\"Type_of_day\": \"Washington's Bday\", \"BEAT_CATEGORY\": 3, \"index\": 213.0, \"INJURIES_INCAPACITATING\": 1.0, \"INJURIES_FATAL\": 0.0, \"Number of Crashes\": 1.0}, {\"Type_of_day\": \"Washington's Bday\", \"BEAT_CATEGORY\": 8, \"index\": 217.0, \"INJURIES_INCAPACITATING\": 3.0, \"INJURIES_FATAL\": 0.0, \"Number of Crashes\": 3.0}, {\"Type_of_day\": \"Washington's Bday\", \"BEAT_CATEGORY\": 1, \"index\": 211.0, \"INJURIES_INCAPACITATING\": 3.0, \"INJURIES_FATAL\": 1.0, \"Number of Crashes\": 3.0}, {\"Type_of_day\": \"Washington's Bday\", \"BEAT_CATEGORY\": 19, \"index\": 226.0, \"INJURIES_INCAPACITATING\": 4.0, \"INJURIES_FATAL\": 0.0, \"Number of Crashes\": 4.0}, {\"Type_of_day\": \"Washington's Bday\", \"BEAT_CATEGORY\": 10, \"index\": 219.0, \"INJURIES_INCAPACITATING\": 3.0, \"INJURIES_FATAL\": 0.0, \"Number of Crashes\": 3.0}, {\"Type_of_day\": \"Washington's Bday\", \"BEAT_CATEGORY\": 7, \"index\": 216.0, \"INJURIES_INCAPACITATING\": 5.0, \"INJURIES_FATAL\": 0.0, \"Number of Crashes\": 5.0}, {\"Type_of_day\": \"Washington's Bday\", \"BEAT_CATEGORY\": 15, \"index\": null, \"INJURIES_INCAPACITATING\": 0.0, \"INJURIES_FATAL\": 0.0, \"Number of Crashes\": 0.0}, {\"Type_of_day\": \"Washington's Bday\", \"BEAT_CATEGORY\": 24, \"index\": 228.0, \"INJURIES_INCAPACITATING\": 1.0, \"INJURIES_FATAL\": 0.0, \"Number of Crashes\": 1.0}, {\"Type_of_day\": \"Washington's Bday\", \"BEAT_CATEGORY\": 2, \"index\": 212.0, \"INJURIES_INCAPACITATING\": 1.0, \"INJURIES_FATAL\": 0.0, \"Number of Crashes\": 1.0}, {\"Type_of_day\": \"Washington's Bday\", \"BEAT_CATEGORY\": 17, \"index\": 224.0, \"INJURIES_INCAPACITATING\": 2.0, \"INJURIES_FATAL\": 0.0, \"Number of Crashes\": 2.0}, {\"Type_of_day\": \"Washington's Bday\", \"BEAT_CATEGORY\": 5, \"index\": null, \"INJURIES_INCAPACITATING\": 0.0, \"INJURIES_FATAL\": 0.0, \"Number of Crashes\": 0.0}, {\"Type_of_day\": \"Washington's Bday\", \"BEAT_CATEGORY\": 20, \"index\": 227.0, \"INJURIES_INCAPACITATING\": 2.0, \"INJURIES_FATAL\": 0.0, \"Number of Crashes\": 2.0}, {\"Type_of_day\": \"Memorial Day\", \"BEAT_CATEGORY\": 11, \"index\": 145.0, \"INJURIES_INCAPACITATING\": 2.0, \"INJURIES_FATAL\": 0.0, \"Number of Crashes\": 2.0}, {\"Type_of_day\": \"Memorial Day\", \"BEAT_CATEGORY\": 9, \"index\": 143.0, \"INJURIES_INCAPACITATING\": 3.0, \"INJURIES_FATAL\": 0.0, \"Number of Crashes\": 2.0}, {\"Type_of_day\": \"Memorial Day\", \"BEAT_CATEGORY\": 4, \"index\": 138.0, \"INJURIES_INCAPACITATING\": 3.0, \"INJURIES_FATAL\": 0.0, \"Number of Crashes\": 3.0}, {\"Type_of_day\": \"Memorial Day\", \"BEAT_CATEGORY\": 6, \"index\": 140.0, \"INJURIES_INCAPACITATING\": 2.0, \"INJURIES_FATAL\": 0.0, \"Number of Crashes\": 2.0}, {\"Type_of_day\": \"Memorial Day\", \"BEAT_CATEGORY\": 22, \"index\": 152.0, \"INJURIES_INCAPACITATING\": 2.0, \"INJURIES_FATAL\": 1.0, \"Number of Crashes\": 3.0}, {\"Type_of_day\": \"Memorial Day\", \"BEAT_CATEGORY\": 16, \"index\": 148.0, \"INJURIES_INCAPACITATING\": 3.0, \"INJURIES_FATAL\": 0.0, \"Number of Crashes\": 3.0}, {\"Type_of_day\": \"Memorial Day\", \"BEAT_CATEGORY\": 18, \"index\": null, \"INJURIES_INCAPACITATING\": 0.0, \"INJURIES_FATAL\": 0.0, \"Number of Crashes\": 0.0}, {\"Type_of_day\": \"Memorial Day\", \"BEAT_CATEGORY\": 25, \"index\": 154.0, \"INJURIES_INCAPACITATING\": 1.0, \"INJURIES_FATAL\": 0.0, \"Number of Crashes\": 1.0}, {\"Type_of_day\": \"Memorial Day\", \"BEAT_CATEGORY\": 12, \"index\": 146.0, \"INJURIES_INCAPACITATING\": 3.0, \"INJURIES_FATAL\": 0.0, \"Number of Crashes\": 3.0}, {\"Type_of_day\": \"Memorial Day\", \"BEAT_CATEGORY\": 14, \"index\": null, \"INJURIES_INCAPACITATING\": 0.0, \"INJURIES_FATAL\": 0.0, \"Number of Crashes\": 0.0}, {\"Type_of_day\": \"Memorial Day\", \"BEAT_CATEGORY\": 3, \"index\": 137.0, \"INJURIES_INCAPACITATING\": 1.0, \"INJURIES_FATAL\": 0.0, \"Number of Crashes\": 1.0}, {\"Type_of_day\": \"Memorial Day\", \"BEAT_CATEGORY\": 8, \"index\": 142.0, \"INJURIES_INCAPACITATING\": 2.0, \"INJURIES_FATAL\": 0.0, \"Number of Crashes\": 2.0}, {\"Type_of_day\": \"Memorial Day\", \"BEAT_CATEGORY\": 1, \"index\": 135.0, \"INJURIES_INCAPACITATING\": 3.0, \"INJURIES_FATAL\": 0.0, \"Number of Crashes\": 3.0}, {\"Type_of_day\": \"Memorial Day\", \"BEAT_CATEGORY\": 19, \"index\": 150.0, \"INJURIES_INCAPACITATING\": 1.0, \"INJURIES_FATAL\": 0.0, \"Number of Crashes\": 1.0}, {\"Type_of_day\": \"Memorial Day\", \"BEAT_CATEGORY\": 10, \"index\": 144.0, \"INJURIES_INCAPACITATING\": 1.0, \"INJURIES_FATAL\": 0.0, \"Number of Crashes\": 1.0}, {\"Type_of_day\": \"Memorial Day\", \"BEAT_CATEGORY\": 7, \"index\": 141.0, \"INJURIES_INCAPACITATING\": 4.0, \"INJURIES_FATAL\": 0.0, \"Number of Crashes\": 4.0}, {\"Type_of_day\": \"Memorial Day\", \"BEAT_CATEGORY\": 15, \"index\": 147.0, \"INJURIES_INCAPACITATING\": 2.0, \"INJURIES_FATAL\": 0.0, \"Number of Crashes\": 2.0}, {\"Type_of_day\": \"Memorial Day\", \"BEAT_CATEGORY\": 24, \"index\": 153.0, \"INJURIES_INCAPACITATING\": 5.0, \"INJURIES_FATAL\": 0.0, \"Number of Crashes\": 4.0}, {\"Type_of_day\": \"Memorial Day\", \"BEAT_CATEGORY\": 2, \"index\": 136.0, \"INJURIES_INCAPACITATING\": 4.0, \"INJURIES_FATAL\": 0.0, \"Number of Crashes\": 2.0}, {\"Type_of_day\": \"Memorial Day\", \"BEAT_CATEGORY\": 17, \"index\": 149.0, \"INJURIES_INCAPACITATING\": 5.0, \"INJURIES_FATAL\": 0.0, \"Number of Crashes\": 5.0}, {\"Type_of_day\": \"Memorial Day\", \"BEAT_CATEGORY\": 5, \"index\": 139.0, \"INJURIES_INCAPACITATING\": 2.0, \"INJURIES_FATAL\": 0.0, \"Number of Crashes\": 1.0}, {\"Type_of_day\": \"Memorial Day\", \"BEAT_CATEGORY\": 20, \"index\": 151.0, \"INJURIES_INCAPACITATING\": 1.0, \"INJURIES_FATAL\": 0.0, \"Number of Crashes\": 1.0}, {\"Type_of_day\": \"Martin Luther King Day\", \"BEAT_CATEGORY\": 11, \"index\": null, \"INJURIES_INCAPACITATING\": 0.0, \"INJURIES_FATAL\": 0.0, \"Number of Crashes\": 0.0}, {\"Type_of_day\": \"Martin Luther King Day\", \"BEAT_CATEGORY\": 9, \"index\": 126.0, \"INJURIES_INCAPACITATING\": 1.0, \"INJURIES_FATAL\": 0.0, \"Number of Crashes\": 1.0}, {\"Type_of_day\": \"Martin Luther King Day\", \"BEAT_CATEGORY\": 4, \"index\": 121.0, \"INJURIES_INCAPACITATING\": 1.0, \"INJURIES_FATAL\": 0.0, \"Number of Crashes\": 1.0}, {\"Type_of_day\": \"Martin Luther King Day\", \"BEAT_CATEGORY\": 6, \"index\": 123.0, \"INJURIES_INCAPACITATING\": 2.0, \"INJURIES_FATAL\": 0.0, \"Number of Crashes\": 2.0}, {\"Type_of_day\": \"Martin Luther King Day\", \"BEAT_CATEGORY\": 22, \"index\": 133.0, \"INJURIES_INCAPACITATING\": 1.0, \"INJURIES_FATAL\": 0.0, \"Number of Crashes\": 1.0}, {\"Type_of_day\": \"Martin Luther King Day\", \"BEAT_CATEGORY\": 16, \"index\": 130.0, \"INJURIES_INCAPACITATING\": 1.0, \"INJURIES_FATAL\": 0.0, \"Number of Crashes\": 1.0}, {\"Type_of_day\": \"Martin Luther King Day\", \"BEAT_CATEGORY\": 18, \"index\": null, \"INJURIES_INCAPACITATING\": 0.0, \"INJURIES_FATAL\": 0.0, \"Number of Crashes\": 0.0}, {\"Type_of_day\": \"Martin Luther King Day\", \"BEAT_CATEGORY\": 25, \"index\": 134.0, \"INJURIES_INCAPACITATING\": 3.0, \"INJURIES_FATAL\": 0.0, \"Number of Crashes\": 2.0}, {\"Type_of_day\": \"Martin Luther King Day\", \"BEAT_CATEGORY\": 12, \"index\": null, \"INJURIES_INCAPACITATING\": 0.0, \"INJURIES_FATAL\": 0.0, \"Number of Crashes\": 0.0}, {\"Type_of_day\": \"Martin Luther King Day\", \"BEAT_CATEGORY\": 14, \"index\": 128.0, \"INJURIES_INCAPACITATING\": 3.0, \"INJURIES_FATAL\": 0.0, \"Number of Crashes\": 2.0}, {\"Type_of_day\": \"Martin Luther King Day\", \"BEAT_CATEGORY\": 3, \"index\": null, \"INJURIES_INCAPACITATING\": 0.0, \"INJURIES_FATAL\": 0.0, \"Number of Crashes\": 0.0}, {\"Type_of_day\": \"Martin Luther King Day\", \"BEAT_CATEGORY\": 8, \"index\": 125.0, \"INJURIES_INCAPACITATING\": 2.0, \"INJURIES_FATAL\": 0.0, \"Number of Crashes\": 2.0}, {\"Type_of_day\": \"Martin Luther King Day\", \"BEAT_CATEGORY\": 1, \"index\": 119.0, \"INJURIES_INCAPACITATING\": 2.0, \"INJURIES_FATAL\": 0.0, \"Number of Crashes\": 2.0}, {\"Type_of_day\": \"Martin Luther King Day\", \"BEAT_CATEGORY\": 19, \"index\": null, \"INJURIES_INCAPACITATING\": 0.0, \"INJURIES_FATAL\": 0.0, \"Number of Crashes\": 0.0}, {\"Type_of_day\": \"Martin Luther King Day\", \"BEAT_CATEGORY\": 10, \"index\": 127.0, \"INJURIES_INCAPACITATING\": 3.0, \"INJURIES_FATAL\": 0.0, \"Number of Crashes\": 3.0}, {\"Type_of_day\": \"Martin Luther King Day\", \"BEAT_CATEGORY\": 7, \"index\": 124.0, \"INJURIES_INCAPACITATING\": 1.0, \"INJURIES_FATAL\": 0.0, \"Number of Crashes\": 1.0}, {\"Type_of_day\": \"Martin Luther King Day\", \"BEAT_CATEGORY\": 15, \"index\": 129.0, \"INJURIES_INCAPACITATING\": 1.0, \"INJURIES_FATAL\": 0.0, \"Number of Crashes\": 1.0}, {\"Type_of_day\": \"Martin Luther King Day\", \"BEAT_CATEGORY\": 24, \"index\": null, \"INJURIES_INCAPACITATING\": 0.0, \"INJURIES_FATAL\": 0.0, \"Number of Crashes\": 0.0}, {\"Type_of_day\": \"Martin Luther King Day\", \"BEAT_CATEGORY\": 2, \"index\": 120.0, \"INJURIES_INCAPACITATING\": 1.0, \"INJURIES_FATAL\": 0.0, \"Number of Crashes\": 1.0}, {\"Type_of_day\": \"Martin Luther King Day\", \"BEAT_CATEGORY\": 17, \"index\": 131.0, \"INJURIES_INCAPACITATING\": 1.0, \"INJURIES_FATAL\": 0.0, \"Number of Crashes\": 1.0}, {\"Type_of_day\": \"Martin Luther King Day\", \"BEAT_CATEGORY\": 5, \"index\": 122.0, \"INJURIES_INCAPACITATING\": 1.0, \"INJURIES_FATAL\": 0.0, \"Number of Crashes\": 1.0}, {\"Type_of_day\": \"Martin Luther King Day\", \"BEAT_CATEGORY\": 20, \"index\": 132.0, \"INJURIES_INCAPACITATING\": 2.0, \"INJURIES_FATAL\": 0.0, \"Number of Crashes\": 2.0}, {\"Type_of_day\": \"New Year\", \"BEAT_CATEGORY\": 11, \"index\": 165.0, \"INJURIES_INCAPACITATING\": 1.0, \"INJURIES_FATAL\": 0.0, \"Number of Crashes\": 1.0}, {\"Type_of_day\": \"New Year\", \"BEAT_CATEGORY\": 9, \"index\": 163.0, \"INJURIES_INCAPACITATING\": 1.0, \"INJURIES_FATAL\": 0.0, \"Number of Crashes\": 1.0}, {\"Type_of_day\": \"New Year\", \"BEAT_CATEGORY\": 4, \"index\": 158.0, \"INJURIES_INCAPACITATING\": 3.0, \"INJURIES_FATAL\": 0.0, \"Number of Crashes\": 2.0}, {\"Type_of_day\": \"New Year\", \"BEAT_CATEGORY\": 6, \"index\": 160.0, \"INJURIES_INCAPACITATING\": 1.0, \"INJURIES_FATAL\": 0.0, \"Number of Crashes\": 1.0}, {\"Type_of_day\": \"New Year\", \"BEAT_CATEGORY\": 22, \"index\": 172.0, \"INJURIES_INCAPACITATING\": 0.0, \"INJURIES_FATAL\": 1.0, \"Number of Crashes\": 1.0}, {\"Type_of_day\": \"New Year\", \"BEAT_CATEGORY\": 16, \"index\": null, \"INJURIES_INCAPACITATING\": 0.0, \"INJURIES_FATAL\": 0.0, \"Number of Crashes\": 0.0}, {\"Type_of_day\": \"New Year\", \"BEAT_CATEGORY\": 18, \"index\": 170.0, \"INJURIES_INCAPACITATING\": 2.0, \"INJURIES_FATAL\": 0.0, \"Number of Crashes\": 2.0}, {\"Type_of_day\": \"New Year\", \"BEAT_CATEGORY\": 25, \"index\": 174.0, \"INJURIES_INCAPACITATING\": 3.0, \"INJURIES_FATAL\": 0.0, \"Number of Crashes\": 3.0}, {\"Type_of_day\": \"New Year\", \"BEAT_CATEGORY\": 12, \"index\": 166.0, \"INJURIES_INCAPACITATING\": 1.0, \"INJURIES_FATAL\": 0.0, \"Number of Crashes\": 1.0}, {\"Type_of_day\": \"New Year\", \"BEAT_CATEGORY\": 14, \"index\": 167.0, \"INJURIES_INCAPACITATING\": 2.0, \"INJURIES_FATAL\": 0.0, \"Number of Crashes\": 2.0}, {\"Type_of_day\": \"New Year\", \"BEAT_CATEGORY\": 3, \"index\": 157.0, \"INJURIES_INCAPACITATING\": 3.0, \"INJURIES_FATAL\": 0.0, \"Number of Crashes\": 3.0}, {\"Type_of_day\": \"New Year\", \"BEAT_CATEGORY\": 8, \"index\": 162.0, \"INJURIES_INCAPACITATING\": 6.0, \"INJURIES_FATAL\": 0.0, \"Number of Crashes\": 3.0}, {\"Type_of_day\": \"New Year\", \"BEAT_CATEGORY\": 1, \"index\": 155.0, \"INJURIES_INCAPACITATING\": 3.0, \"INJURIES_FATAL\": 0.0, \"Number of Crashes\": 2.0}, {\"Type_of_day\": \"New Year\", \"BEAT_CATEGORY\": 19, \"index\": null, \"INJURIES_INCAPACITATING\": 0.0, \"INJURIES_FATAL\": 0.0, \"Number of Crashes\": 0.0}, {\"Type_of_day\": \"New Year\", \"BEAT_CATEGORY\": 10, \"index\": 164.0, \"INJURIES_INCAPACITATING\": 3.0, \"INJURIES_FATAL\": 0.0, \"Number of Crashes\": 3.0}, {\"Type_of_day\": \"New Year\", \"BEAT_CATEGORY\": 7, \"index\": 161.0, \"INJURIES_INCAPACITATING\": 5.0, \"INJURIES_FATAL\": 0.0, \"Number of Crashes\": 4.0}, {\"Type_of_day\": \"New Year\", \"BEAT_CATEGORY\": 15, \"index\": 168.0, \"INJURIES_INCAPACITATING\": 3.0, \"INJURIES_FATAL\": 0.0, \"Number of Crashes\": 3.0}, {\"Type_of_day\": \"New Year\", \"BEAT_CATEGORY\": 24, \"index\": 173.0, \"INJURIES_INCAPACITATING\": 1.0, \"INJURIES_FATAL\": 0.0, \"Number of Crashes\": 1.0}, {\"Type_of_day\": \"New Year\", \"BEAT_CATEGORY\": 2, \"index\": 156.0, \"INJURIES_INCAPACITATING\": 1.0, \"INJURIES_FATAL\": 0.0, \"Number of Crashes\": 1.0}, {\"Type_of_day\": \"New Year\", \"BEAT_CATEGORY\": 17, \"index\": 169.0, \"INJURIES_INCAPACITATING\": 2.0, \"INJURIES_FATAL\": 1.0, \"Number of Crashes\": 3.0}, {\"Type_of_day\": \"New Year\", \"BEAT_CATEGORY\": 5, \"index\": 159.0, \"INJURIES_INCAPACITATING\": 2.0, \"INJURIES_FATAL\": 0.0, \"Number of Crashes\": 2.0}, {\"Type_of_day\": \"New Year\", \"BEAT_CATEGORY\": 20, \"index\": 171.0, \"INJURIES_INCAPACITATING\": 1.0, \"INJURIES_FATAL\": 0.0, \"Number of Crashes\": 1.0}, {\"Type_of_day\": \"Independence Day\", \"BEAT_CATEGORY\": 11, \"index\": 58.0, \"INJURIES_INCAPACITATING\": 14.0, \"INJURIES_FATAL\": 0.0, \"Number of Crashes\": 11.0}, {\"Type_of_day\": \"Independence Day\", \"BEAT_CATEGORY\": 9, \"index\": 56.0, \"INJURIES_INCAPACITATING\": 4.0, \"INJURIES_FATAL\": 0.0, \"Number of Crashes\": 4.0}, {\"Type_of_day\": \"Independence Day\", \"BEAT_CATEGORY\": 4, \"index\": 51.0, \"INJURIES_INCAPACITATING\": 10.0, \"INJURIES_FATAL\": 1.0, \"Number of Crashes\": 6.0}, {\"Type_of_day\": \"Independence Day\", \"BEAT_CATEGORY\": 6, \"index\": 53.0, \"INJURIES_INCAPACITATING\": 4.0, \"INJURIES_FATAL\": 0.0, \"Number of Crashes\": 3.0}, {\"Type_of_day\": \"Independence Day\", \"BEAT_CATEGORY\": 22, \"index\": 65.0, \"INJURIES_INCAPACITATING\": 3.0, \"INJURIES_FATAL\": 0.0, \"Number of Crashes\": 3.0}, {\"Type_of_day\": \"Independence Day\", \"BEAT_CATEGORY\": 16, \"index\": 62.0, \"INJURIES_INCAPACITATING\": 2.0, \"INJURIES_FATAL\": 0.0, \"Number of Crashes\": 2.0}, {\"Type_of_day\": \"Independence Day\", \"BEAT_CATEGORY\": 18, \"index\": 64.0, \"INJURIES_INCAPACITATING\": 6.0, \"INJURIES_FATAL\": 0.0, \"Number of Crashes\": 5.0}, {\"Type_of_day\": \"Independence Day\", \"BEAT_CATEGORY\": 25, \"index\": 66.0, \"INJURIES_INCAPACITATING\": 4.0, \"INJURIES_FATAL\": 1.0, \"Number of Crashes\": 5.0}, {\"Type_of_day\": \"Independence Day\", \"BEAT_CATEGORY\": 12, \"index\": 59.0, \"INJURIES_INCAPACITATING\": 3.0, \"INJURIES_FATAL\": 0.0, \"Number of Crashes\": 2.0}, {\"Type_of_day\": \"Independence Day\", \"BEAT_CATEGORY\": 14, \"index\": 60.0, \"INJURIES_INCAPACITATING\": 1.0, \"INJURIES_FATAL\": 0.0, \"Number of Crashes\": 1.0}, {\"Type_of_day\": \"Independence Day\", \"BEAT_CATEGORY\": 3, \"index\": 50.0, \"INJURIES_INCAPACITATING\": 4.0, \"INJURIES_FATAL\": 1.0, \"Number of Crashes\": 4.0}, {\"Type_of_day\": \"Independence Day\", \"BEAT_CATEGORY\": 8, \"index\": 55.0, \"INJURIES_INCAPACITATING\": 3.0, \"INJURIES_FATAL\": 0.0, \"Number of Crashes\": 2.0}, {\"Type_of_day\": \"Independence Day\", \"BEAT_CATEGORY\": 1, \"index\": 48.0, \"INJURIES_INCAPACITATING\": 6.0, \"INJURIES_FATAL\": 0.0, \"Number of Crashes\": 5.0}, {\"Type_of_day\": \"Independence Day\", \"BEAT_CATEGORY\": 19, \"index\": null, \"INJURIES_INCAPACITATING\": 0.0, \"INJURIES_FATAL\": 0.0, \"Number of Crashes\": 0.0}, {\"Type_of_day\": \"Independence Day\", \"BEAT_CATEGORY\": 10, \"index\": 57.0, \"INJURIES_INCAPACITATING\": 2.0, \"INJURIES_FATAL\": 1.0, \"Number of Crashes\": 3.0}, {\"Type_of_day\": \"Independence Day\", \"BEAT_CATEGORY\": 7, \"index\": 54.0, \"INJURIES_INCAPACITATING\": 2.0, \"INJURIES_FATAL\": 1.0, \"Number of Crashes\": 3.0}, {\"Type_of_day\": \"Independence Day\", \"BEAT_CATEGORY\": 15, \"index\": 61.0, \"INJURIES_INCAPACITATING\": 3.0, \"INJURIES_FATAL\": 0.0, \"Number of Crashes\": 2.0}, {\"Type_of_day\": \"Independence Day\", \"BEAT_CATEGORY\": 24, \"index\": null, \"INJURIES_INCAPACITATING\": 0.0, \"INJURIES_FATAL\": 0.0, \"Number of Crashes\": 0.0}, {\"Type_of_day\": \"Independence Day\", \"BEAT_CATEGORY\": 2, \"index\": 49.0, \"INJURIES_INCAPACITATING\": 4.0, \"INJURIES_FATAL\": 0.0, \"Number of Crashes\": 4.0}, {\"Type_of_day\": \"Independence Day\", \"BEAT_CATEGORY\": 17, \"index\": 63.0, \"INJURIES_INCAPACITATING\": 1.0, \"INJURIES_FATAL\": 0.0, \"Number of Crashes\": 1.0}, {\"Type_of_day\": \"Independence Day\", \"BEAT_CATEGORY\": 5, \"index\": 52.0, \"INJURIES_INCAPACITATING\": 2.0, \"INJURIES_FATAL\": 0.0, \"Number of Crashes\": 2.0}, {\"Type_of_day\": \"Independence Day\", \"BEAT_CATEGORY\": 20, \"index\": null, \"INJURIES_INCAPACITATING\": 0.0, \"INJURIES_FATAL\": 0.0, \"Number of Crashes\": 0.0}, {\"Type_of_day\": \"Juneteenth\", \"BEAT_CATEGORY\": 11, \"index\": 77.0, \"INJURIES_INCAPACITATING\": 5.0, \"INJURIES_FATAL\": 2.0, \"Number of Crashes\": 7.0}, {\"Type_of_day\": \"Juneteenth\", \"BEAT_CATEGORY\": 9, \"index\": 75.0, \"INJURIES_INCAPACITATING\": 5.0, \"INJURIES_FATAL\": 0.0, \"Number of Crashes\": 5.0}, {\"Type_of_day\": \"Juneteenth\", \"BEAT_CATEGORY\": 4, \"index\": 70.0, \"INJURIES_INCAPACITATING\": 2.0, \"INJURIES_FATAL\": 0.0, \"Number of Crashes\": 2.0}, {\"Type_of_day\": \"Juneteenth\", \"BEAT_CATEGORY\": 6, \"index\": 72.0, \"INJURIES_INCAPACITATING\": 0.0, \"INJURIES_FATAL\": 1.0, \"Number of Crashes\": 1.0}, {\"Type_of_day\": \"Juneteenth\", \"BEAT_CATEGORY\": 22, \"index\": 86.0, \"INJURIES_INCAPACITATING\": 3.0, \"INJURIES_FATAL\": 0.0, \"Number of Crashes\": 3.0}, {\"Type_of_day\": \"Juneteenth\", \"BEAT_CATEGORY\": 16, \"index\": 81.0, \"INJURIES_INCAPACITATING\": 2.0, \"INJURIES_FATAL\": 0.0, \"Number of Crashes\": 2.0}, {\"Type_of_day\": \"Juneteenth\", \"BEAT_CATEGORY\": 18, \"index\": 83.0, \"INJURIES_INCAPACITATING\": 2.0, \"INJURIES_FATAL\": 0.0, \"Number of Crashes\": 2.0}, {\"Type_of_day\": \"Juneteenth\", \"BEAT_CATEGORY\": 25, \"index\": 88.0, \"INJURIES_INCAPACITATING\": 4.0, \"INJURIES_FATAL\": 0.0, \"Number of Crashes\": 4.0}, {\"Type_of_day\": \"Juneteenth\", \"BEAT_CATEGORY\": 12, \"index\": 78.0, \"INJURIES_INCAPACITATING\": 1.0, \"INJURIES_FATAL\": 0.0, \"Number of Crashes\": 1.0}, {\"Type_of_day\": \"Juneteenth\", \"BEAT_CATEGORY\": 14, \"index\": 79.0, \"INJURIES_INCAPACITATING\": 1.0, \"INJURIES_FATAL\": 0.0, \"Number of Crashes\": 1.0}, {\"Type_of_day\": \"Juneteenth\", \"BEAT_CATEGORY\": 3, \"index\": 69.0, \"INJURIES_INCAPACITATING\": 3.0, \"INJURIES_FATAL\": 0.0, \"Number of Crashes\": 2.0}, {\"Type_of_day\": \"Juneteenth\", \"BEAT_CATEGORY\": 8, \"index\": 74.0, \"INJURIES_INCAPACITATING\": 3.0, \"INJURIES_FATAL\": 1.0, \"Number of Crashes\": 4.0}, {\"Type_of_day\": \"Juneteenth\", \"BEAT_CATEGORY\": 1, \"index\": 67.0, \"INJURIES_INCAPACITATING\": 4.0, \"INJURIES_FATAL\": 0.0, \"Number of Crashes\": 4.0}, {\"Type_of_day\": \"Juneteenth\", \"BEAT_CATEGORY\": 19, \"index\": 84.0, \"INJURIES_INCAPACITATING\": 2.0, \"INJURIES_FATAL\": 0.0, \"Number of Crashes\": 2.0}, {\"Type_of_day\": \"Juneteenth\", \"BEAT_CATEGORY\": 10, \"index\": 76.0, \"INJURIES_INCAPACITATING\": 1.0, \"INJURIES_FATAL\": 0.0, \"Number of Crashes\": 1.0}, {\"Type_of_day\": \"Juneteenth\", \"BEAT_CATEGORY\": 7, \"index\": 73.0, \"INJURIES_INCAPACITATING\": 2.0, \"INJURIES_FATAL\": 0.0, \"Number of Crashes\": 1.0}, {\"Type_of_day\": \"Juneteenth\", \"BEAT_CATEGORY\": 15, \"index\": 80.0, \"INJURIES_INCAPACITATING\": 1.0, \"INJURIES_FATAL\": 0.0, \"Number of Crashes\": 1.0}, {\"Type_of_day\": \"Juneteenth\", \"BEAT_CATEGORY\": 24, \"index\": 87.0, \"INJURIES_INCAPACITATING\": 1.0, \"INJURIES_FATAL\": 0.0, \"Number of Crashes\": 1.0}, {\"Type_of_day\": \"Juneteenth\", \"BEAT_CATEGORY\": 2, \"index\": 68.0, \"INJURIES_INCAPACITATING\": 2.0, \"INJURIES_FATAL\": 1.0, \"Number of Crashes\": 3.0}, {\"Type_of_day\": \"Juneteenth\", \"BEAT_CATEGORY\": 17, \"index\": 82.0, \"INJURIES_INCAPACITATING\": 1.0, \"INJURIES_FATAL\": 0.0, \"Number of Crashes\": 1.0}, {\"Type_of_day\": \"Juneteenth\", \"BEAT_CATEGORY\": 5, \"index\": 71.0, \"INJURIES_INCAPACITATING\": 1.0, \"INJURIES_FATAL\": 0.0, \"Number of Crashes\": 1.0}, {\"Type_of_day\": \"Juneteenth\", \"BEAT_CATEGORY\": 20, \"index\": 85.0, \"INJURIES_INCAPACITATING\": 1.0, \"INJURIES_FATAL\": 0.0, \"Number of Crashes\": 1.0}, {\"Type_of_day\": \"Columbus Day\", \"BEAT_CATEGORY\": 11, \"index\": 38.0, \"INJURIES_INCAPACITATING\": 3.0, \"INJURIES_FATAL\": 0.0, \"Number of Crashes\": 3.0}, {\"Type_of_day\": \"Columbus Day\", \"BEAT_CATEGORY\": 9, \"index\": 36.0, \"INJURIES_INCAPACITATING\": 1.0, \"INJURIES_FATAL\": 0.0, \"Number of Crashes\": 1.0}, {\"Type_of_day\": \"Columbus Day\", \"BEAT_CATEGORY\": 4, \"index\": null, \"INJURIES_INCAPACITATING\": 0.0, \"INJURIES_FATAL\": 0.0, \"Number of Crashes\": 0.0}, {\"Type_of_day\": \"Columbus Day\", \"BEAT_CATEGORY\": 6, \"index\": 33.0, \"INJURIES_INCAPACITATING\": 3.0, \"INJURIES_FATAL\": 0.0, \"Number of Crashes\": 2.0}, {\"Type_of_day\": \"Columbus Day\", \"BEAT_CATEGORY\": 22, \"index\": 46.0, \"INJURIES_INCAPACITATING\": 0.0, \"INJURIES_FATAL\": 1.0, \"Number of Crashes\": 1.0}, {\"Type_of_day\": \"Columbus Day\", \"BEAT_CATEGORY\": 16, \"index\": 42.0, \"INJURIES_INCAPACITATING\": 3.0, \"INJURIES_FATAL\": 0.0, \"Number of Crashes\": 3.0}, {\"Type_of_day\": \"Columbus Day\", \"BEAT_CATEGORY\": 18, \"index\": 43.0, \"INJURIES_INCAPACITATING\": 1.0, \"INJURIES_FATAL\": 0.0, \"Number of Crashes\": 1.0}, {\"Type_of_day\": \"Columbus Day\", \"BEAT_CATEGORY\": 25, \"index\": 47.0, \"INJURIES_INCAPACITATING\": 2.0, \"INJURIES_FATAL\": 0.0, \"Number of Crashes\": 2.0}, {\"Type_of_day\": \"Columbus Day\", \"BEAT_CATEGORY\": 12, \"index\": 39.0, \"INJURIES_INCAPACITATING\": 2.0, \"INJURIES_FATAL\": 0.0, \"Number of Crashes\": 2.0}, {\"Type_of_day\": \"Columbus Day\", \"BEAT_CATEGORY\": 14, \"index\": 40.0, \"INJURIES_INCAPACITATING\": 1.0, \"INJURIES_FATAL\": 0.0, \"Number of Crashes\": 1.0}, {\"Type_of_day\": \"Columbus Day\", \"BEAT_CATEGORY\": 3, \"index\": 31.0, \"INJURIES_INCAPACITATING\": 1.0, \"INJURIES_FATAL\": 0.0, \"Number of Crashes\": 1.0}, {\"Type_of_day\": \"Columbus Day\", \"BEAT_CATEGORY\": 8, \"index\": 35.0, \"INJURIES_INCAPACITATING\": 2.0, \"INJURIES_FATAL\": 0.0, \"Number of Crashes\": 2.0}, {\"Type_of_day\": \"Columbus Day\", \"BEAT_CATEGORY\": 1, \"index\": null, \"INJURIES_INCAPACITATING\": 0.0, \"INJURIES_FATAL\": 0.0, \"Number of Crashes\": 0.0}, {\"Type_of_day\": \"Columbus Day\", \"BEAT_CATEGORY\": 19, \"index\": 44.0, \"INJURIES_INCAPACITATING\": 1.0, \"INJURIES_FATAL\": 0.0, \"Number of Crashes\": 1.0}, {\"Type_of_day\": \"Columbus Day\", \"BEAT_CATEGORY\": 10, \"index\": 37.0, \"INJURIES_INCAPACITATING\": 3.0, \"INJURIES_FATAL\": 0.0, \"Number of Crashes\": 3.0}, {\"Type_of_day\": \"Columbus Day\", \"BEAT_CATEGORY\": 7, \"index\": 34.0, \"INJURIES_INCAPACITATING\": 2.0, \"INJURIES_FATAL\": 0.0, \"Number of Crashes\": 2.0}, {\"Type_of_day\": \"Columbus Day\", \"BEAT_CATEGORY\": 15, \"index\": 41.0, \"INJURIES_INCAPACITATING\": 1.0, \"INJURIES_FATAL\": 0.0, \"Number of Crashes\": 1.0}, {\"Type_of_day\": \"Columbus Day\", \"BEAT_CATEGORY\": 24, \"index\": null, \"INJURIES_INCAPACITATING\": 0.0, \"INJURIES_FATAL\": 0.0, \"Number of Crashes\": 0.0}, {\"Type_of_day\": \"Columbus Day\", \"BEAT_CATEGORY\": 2, \"index\": null, \"INJURIES_INCAPACITATING\": 0.0, \"INJURIES_FATAL\": 0.0, \"Number of Crashes\": 0.0}, {\"Type_of_day\": \"Columbus Day\", \"BEAT_CATEGORY\": 17, \"index\": null, \"INJURIES_INCAPACITATING\": 0.0, \"INJURIES_FATAL\": 0.0, \"Number of Crashes\": 0.0}, {\"Type_of_day\": \"Columbus Day\", \"BEAT_CATEGORY\": 5, \"index\": 32.0, \"INJURIES_INCAPACITATING\": 3.0, \"INJURIES_FATAL\": 0.0, \"Number of Crashes\": 3.0}, {\"Type_of_day\": \"Columbus Day\", \"BEAT_CATEGORY\": 20, \"index\": 45.0, \"INJURIES_INCAPACITATING\": 3.0, \"INJURIES_FATAL\": 0.0, \"Number of Crashes\": 3.0}, {\"Type_of_day\": \"Christmas\", \"BEAT_CATEGORY\": 11, \"index\": 23.0, \"INJURIES_INCAPACITATING\": 4.0, \"INJURIES_FATAL\": 0.0, \"Number of Crashes\": 4.0}, {\"Type_of_day\": \"Christmas\", \"BEAT_CATEGORY\": 9, \"index\": 21.0, \"INJURIES_INCAPACITATING\": 2.0, \"INJURIES_FATAL\": 0.0, \"Number of Crashes\": 2.0}, {\"Type_of_day\": \"Christmas\", \"BEAT_CATEGORY\": 4, \"index\": 18.0, \"INJURIES_INCAPACITATING\": 3.0, \"INJURIES_FATAL\": 0.0, \"Number of Crashes\": 3.0}, {\"Type_of_day\": \"Christmas\", \"BEAT_CATEGORY\": 6, \"index\": null, \"INJURIES_INCAPACITATING\": 0.0, \"INJURIES_FATAL\": 0.0, \"Number of Crashes\": 0.0}, {\"Type_of_day\": \"Christmas\", \"BEAT_CATEGORY\": 22, \"index\": 28.0, \"INJURIES_INCAPACITATING\": 1.0, \"INJURIES_FATAL\": 2.0, \"Number of Crashes\": 3.0}, {\"Type_of_day\": \"Christmas\", \"BEAT_CATEGORY\": 16, \"index\": 26.0, \"INJURIES_INCAPACITATING\": 2.0, \"INJURIES_FATAL\": 0.0, \"Number of Crashes\": 2.0}, {\"Type_of_day\": \"Christmas\", \"BEAT_CATEGORY\": 18, \"index\": null, \"INJURIES_INCAPACITATING\": 0.0, \"INJURIES_FATAL\": 0.0, \"Number of Crashes\": 0.0}, {\"Type_of_day\": \"Christmas\", \"BEAT_CATEGORY\": 25, \"index\": 30.0, \"INJURIES_INCAPACITATING\": 1.0, \"INJURIES_FATAL\": 1.0, \"Number of Crashes\": 2.0}, {\"Type_of_day\": \"Christmas\", \"BEAT_CATEGORY\": 12, \"index\": 24.0, \"INJURIES_INCAPACITATING\": 1.0, \"INJURIES_FATAL\": 0.0, \"Number of Crashes\": 1.0}, {\"Type_of_day\": \"Christmas\", \"BEAT_CATEGORY\": 14, \"index\": 25.0, \"INJURIES_INCAPACITATING\": 2.0, \"INJURIES_FATAL\": 0.0, \"Number of Crashes\": 1.0}, {\"Type_of_day\": \"Christmas\", \"BEAT_CATEGORY\": 3, \"index\": 17.0, \"INJURIES_INCAPACITATING\": 1.0, \"INJURIES_FATAL\": 0.0, \"Number of Crashes\": 1.0}, {\"Type_of_day\": \"Christmas\", \"BEAT_CATEGORY\": 8, \"index\": null, \"INJURIES_INCAPACITATING\": 0.0, \"INJURIES_FATAL\": 0.0, \"Number of Crashes\": 0.0}, {\"Type_of_day\": \"Christmas\", \"BEAT_CATEGORY\": 1, \"index\": 15.0, \"INJURIES_INCAPACITATING\": 3.0, \"INJURIES_FATAL\": 0.0, \"Number of Crashes\": 3.0}, {\"Type_of_day\": \"Christmas\", \"BEAT_CATEGORY\": 19, \"index\": null, \"INJURIES_INCAPACITATING\": 0.0, \"INJURIES_FATAL\": 0.0, \"Number of Crashes\": 0.0}, {\"Type_of_day\": \"Christmas\", \"BEAT_CATEGORY\": 10, \"index\": 22.0, \"INJURIES_INCAPACITATING\": 2.0, \"INJURIES_FATAL\": 0.0, \"Number of Crashes\": 1.0}, {\"Type_of_day\": \"Christmas\", \"BEAT_CATEGORY\": 7, \"index\": 20.0, \"INJURIES_INCAPACITATING\": 3.0, \"INJURIES_FATAL\": 0.0, \"Number of Crashes\": 3.0}, {\"Type_of_day\": \"Christmas\", \"BEAT_CATEGORY\": 15, \"index\": null, \"INJURIES_INCAPACITATING\": 0.0, \"INJURIES_FATAL\": 0.0, \"Number of Crashes\": 0.0}, {\"Type_of_day\": \"Christmas\", \"BEAT_CATEGORY\": 24, \"index\": 29.0, \"INJURIES_INCAPACITATING\": 1.0, \"INJURIES_FATAL\": 0.0, \"Number of Crashes\": 1.0}, {\"Type_of_day\": \"Christmas\", \"BEAT_CATEGORY\": 2, \"index\": 16.0, \"INJURIES_INCAPACITATING\": 1.0, \"INJURIES_FATAL\": 0.0, \"Number of Crashes\": 1.0}, {\"Type_of_day\": \"Christmas\", \"BEAT_CATEGORY\": 17, \"index\": 27.0, \"INJURIES_INCAPACITATING\": 1.0, \"INJURIES_FATAL\": 0.0, \"Number of Crashes\": 1.0}, {\"Type_of_day\": \"Christmas\", \"BEAT_CATEGORY\": 5, \"index\": 19.0, \"INJURIES_INCAPACITATING\": 2.0, \"INJURIES_FATAL\": 0.0, \"Number of Crashes\": 2.0}, {\"Type_of_day\": \"Christmas\", \"BEAT_CATEGORY\": 20, \"index\": null, \"INJURIES_INCAPACITATING\": 0.0, \"INJURIES_FATAL\": 0.0, \"Number of Crashes\": 0.0}]}}, {\"mode\": \"vega-lite\"});\n",
              "</script>"
            ],
            "text/plain": [
              "alt.Chart(...)"
            ]
          },
          "execution_count": 36,
          "metadata": {},
          "output_type": "execute_result"
        }
      ],
      "source": [
        "# Create a heatmap-style chart for FATAL injuries\n",
        "heatmap_incapacitating_fatal_top = alt.Chart(accident_counts_beats).mark_rect().encode(\n",
        "    x=alt.X('Type_of_day:N', title='Type of Day'),\n",
        "    y=alt.Y('BEAT_CATEGORY:N', title='Beat'),\n",
        "    color=alt.Color('INJURIES_FATAL:Q', scale=alt.Scale(scheme='viridis'), title='Fatal Injuries')\n",
        ").properties(\n",
        "    title='Heatmap of FATAL Injuries by Beat and Type of Day',\n",
        "    width=600,  # Set the width\n",
        "    height=400  # Set the height\n",
        ")\n",
        "\n",
        "heatmap_incapacitating_fatal_top"
      ]
    },
    {
      "cell_type": "markdown",
      "metadata": {
        "id": "SLjwTnR6Gpp2"
      },
      "source": [
        "## Analysis"
      ]
    },
    {
      "cell_type": "markdown",
      "metadata": {
        "id": "F0WK9I5rKeMN"
      },
      "source": [
        "The above heatmap was plotted between type of national holiday and Beats in Chicago and the number of fatal injuries associated with each. We could see the following day and beat combination has the highest injuries that are fatal.\n",
        "1. Beat 22 on Christmas\n",
        "2. Beat 11 on Juneteenth\n",
        "3. Beat 8 on Thanksgiving\n",
        "\n",
        "Here is a link to an external resource that shows the most unsafe intersections in Chicago: https://www.duncanlawgroup.com/chicago-crash-study/\n",
        "\n",
        "While this source points to Beat 2 as the accident prone zone, our analysis suggests Beat 2 to be among the safest. This could potentially be because of the metrics used to assess. We did not have data to check number of accidents per mile, looking at the bigger picture like counting the number of accidents over a period can sometimes skew the value when there are a few large values in the data.  "
      ]
    },
    {
      "cell_type": "markdown",
      "metadata": {
        "id": "dtFyOhBJyM3c"
      },
      "source": [
        "### Q3. Analysis of crashes by season, day of the week and time of the day\n",
        "        -Is weekday rush hour associated with higher crashes ?\n",
        "        -Accidents during winter are more fatal than during other seasons\n",
        "        -Is travel when it is dark leading to more accidents ?\n",
        "\n",
        "        More exploratory analysis was done in this notebook: https://drive.google.com/file/d/1Ep01v8Xd7l-vO_5y5ajaWLxU1M4oamxD/view?usp=drive_link"
      ]
    },
    {
      "cell_type": "markdown",
      "metadata": {
        "id": "QICpm5KvGpp3"
      },
      "source": [
        "### Analysis of crashes on each day of the week"
      ]
    },
    {
      "cell_type": "code",
      "execution_count": 37,
      "metadata": {
        "id": "OumJgY7dGpp4"
      },
      "outputs": [],
      "source": [
        "df_week_counts = df[df['Type_of_day'].isin(['Weekday','Weekend'])]"
      ]
    },
    {
      "cell_type": "code",
      "execution_count": 38,
      "metadata": {
        "id": "XPDIGrrTGpp4"
      },
      "outputs": [],
      "source": [
        "df_week_counts = df_week_counts.groupby('CRASH_DAY_OF_WEEK').agg({'Type_of_day': 'count', 'INJURIES_TOTAL': 'sum','isFatal':'sum'})"
      ]
    },
    {
      "cell_type": "code",
      "execution_count": 39,
      "metadata": {
        "id": "wGbAbQUYGpp4"
      },
      "outputs": [],
      "source": [
        "df_week_counts = df_week_counts.rename(columns={'isFatal':'Fatal Crashes'})"
      ]
    },
    {
      "cell_type": "code",
      "execution_count": 40,
      "metadata": {
        "id": "XjMqgAomGpp5"
      },
      "outputs": [],
      "source": [
        "df_week_counts['day'] = df_week_counts.index"
      ]
    },
    {
      "cell_type": "code",
      "execution_count": 41,
      "metadata": {
        "id": "zSRSYw-BGpp5"
      },
      "outputs": [],
      "source": [
        "# Map day numbers to day names\n",
        "day_names = {\n",
        "    1: 'Sunday',\n",
        "    2: 'Monday',\n",
        "    3: 'Tuesday',\n",
        "    4: 'Wednesday',\n",
        "    5: 'Thursday',\n",
        "    6: 'Friday',\n",
        "    7: 'Saturday'\n",
        "}"
      ]
    },
    {
      "cell_type": "code",
      "execution_count": 42,
      "metadata": {
        "id": "kHSSUUomGpp6"
      },
      "outputs": [],
      "source": [
        "df_week_counts['Day_of_Week_Name'] = df_week_counts['day'].map(day_names)"
      ]
    },
    {
      "cell_type": "code",
      "execution_count": 43,
      "metadata": {
        "id": "LVzTyBFTGpp6"
      },
      "outputs": [],
      "source": [
        "# Calculate the average crashes for the entire dataset\n",
        "avg_crashes = df_week_counts['Type_of_day'].mean()\n",
        "\n",
        "# Create a DataFrame with the average value\n",
        "avg_df = pd.DataFrame({'Day_of_Week_Name': ['Average'], 'Type_of_day': [avg_crashes]})"
      ]
    },
    {
      "cell_type": "code",
      "execution_count": 44,
      "metadata": {
        "colab": {
          "base_uri": "https://localhost:8080/",
          "height": 423
        },
        "id": "wTbnTkNuGpp6",
        "outputId": "dc9c4c65-0dd5-406d-e89d-c27c08658eaa",
        "scrolled": true
      },
      "outputs": [
        {
          "data": {
            "text/html": [
              "\n",
              "<style>\n",
              "  #altair-viz-fa095f8687e247a2b67a549e23968b00.vega-embed {\n",
              "    width: 100%;\n",
              "    display: flex;\n",
              "  }\n",
              "\n",
              "  #altair-viz-fa095f8687e247a2b67a549e23968b00.vega-embed details,\n",
              "  #altair-viz-fa095f8687e247a2b67a549e23968b00.vega-embed details summary {\n",
              "    position: relative;\n",
              "  }\n",
              "</style>\n",
              "<div id=\"altair-viz-fa095f8687e247a2b67a549e23968b00\"></div>\n",
              "<script type=\"text/javascript\">\n",
              "  var VEGA_DEBUG = (typeof VEGA_DEBUG == \"undefined\") ? {} : VEGA_DEBUG;\n",
              "  (function(spec, embedOpt){\n",
              "    let outputDiv = document.currentScript.previousElementSibling;\n",
              "    if (outputDiv.id !== \"altair-viz-fa095f8687e247a2b67a549e23968b00\") {\n",
              "      outputDiv = document.getElementById(\"altair-viz-fa095f8687e247a2b67a549e23968b00\");\n",
              "    }\n",
              "    const paths = {\n",
              "      \"vega\": \"https://cdn.jsdelivr.net/npm/vega@5?noext\",\n",
              "      \"vega-lib\": \"https://cdn.jsdelivr.net/npm/vega-lib?noext\",\n",
              "      \"vega-lite\": \"https://cdn.jsdelivr.net/npm/vega-lite@5.14.1?noext\",\n",
              "      \"vega-embed\": \"https://cdn.jsdelivr.net/npm/vega-embed@6?noext\",\n",
              "    };\n",
              "\n",
              "    function maybeLoadScript(lib, version) {\n",
              "      var key = `${lib.replace(\"-\", \"\")}_version`;\n",
              "      return (VEGA_DEBUG[key] == version) ?\n",
              "        Promise.resolve(paths[lib]) :\n",
              "        new Promise(function(resolve, reject) {\n",
              "          var s = document.createElement('script');\n",
              "          document.getElementsByTagName(\"head\")[0].appendChild(s);\n",
              "          s.async = true;\n",
              "          s.onload = () => {\n",
              "            VEGA_DEBUG[key] = version;\n",
              "            return resolve(paths[lib]);\n",
              "          };\n",
              "          s.onerror = () => reject(`Error loading script: ${paths[lib]}`);\n",
              "          s.src = paths[lib];\n",
              "        });\n",
              "    }\n",
              "\n",
              "    function showError(err) {\n",
              "      outputDiv.innerHTML = `<div class=\"error\" style=\"color:red;\">${err}</div>`;\n",
              "      throw err;\n",
              "    }\n",
              "\n",
              "    function displayChart(vegaEmbed) {\n",
              "      vegaEmbed(outputDiv, spec, embedOpt)\n",
              "        .catch(err => showError(`Javascript Error: ${err.message}<br>This usually means there's a typo in your chart specification. See the javascript console for the full traceback.`));\n",
              "    }\n",
              "\n",
              "    if(typeof define === \"function\" && define.amd) {\n",
              "      requirejs.config({paths});\n",
              "      require([\"vega-embed\"], displayChart, err => showError(`Error loading script: ${err.message}`));\n",
              "    } else {\n",
              "      maybeLoadScript(\"vega\", \"5\")\n",
              "        .then(() => maybeLoadScript(\"vega-lite\", \"5.14.1\"))\n",
              "        .then(() => maybeLoadScript(\"vega-embed\", \"6\"))\n",
              "        .catch(showError)\n",
              "        .then(() => displayChart(vegaEmbed));\n",
              "    }\n",
              "  })({\"config\": {\"view\": {\"continuousWidth\": 300, \"continuousHeight\": 300}}, \"layer\": [{\"data\": {\"name\": \"data-b11fb008376f8bfb6052e99805bf12c9\"}, \"mark\": {\"type\": \"bar\"}, \"encoding\": {\"color\": {\"field\": \"Day_of_Week_Name\", \"scale\": {\"scheme\": \"category20\"}, \"type\": \"nominal\"}, \"x\": {\"field\": \"Day_of_Week_Name\", \"title\": \"Day of the week\", \"type\": \"nominal\"}, \"y\": {\"field\": \"Type_of_day\", \"title\": \"Total # of crashes\", \"type\": \"quantitative\"}}, \"title\": \"Day of the week vs Crashes\"}, {\"data\": {\"name\": \"data-27651b3326b80e8b12ca29375908ff8a\"}, \"mark\": {\"type\": \"rule\", \"color\": \"red\"}, \"encoding\": {\"y\": {\"field\": \"Type_of_day\", \"title\": \"Total # of crashes\", \"type\": \"quantitative\"}}}, {\"data\": {\"name\": \"data-27651b3326b80e8b12ca29375908ff8a\"}, \"mark\": {\"type\": \"text\", \"color\": \"red\", \"dx\": -15, \"dy\": -10, \"text\": \"Average\"}, \"encoding\": {\"x\": {\"value\": -10}, \"y\": {\"value\": 65}}}], \"height\": 300, \"width\": 400, \"$schema\": \"https://vega.github.io/schema/vega-lite/v5.14.1.json\", \"datasets\": {\"data-b11fb008376f8bfb6052e99805bf12c9\": [{\"Type_of_day\": 90927, \"INJURIES_TOTAL\": 19002.0, \"Fatal Crashes\": 146, \"day\": 1, \"Day_of_Week_Name\": \"Sunday\"}, {\"Type_of_day\": 101480, \"INJURIES_TOTAL\": 18434.0, \"Fatal Crashes\": 99, \"day\": 2, \"Day_of_Week_Name\": \"Monday\"}, {\"Type_of_day\": 104624, \"INJURIES_TOTAL\": 18920.0, \"Fatal Crashes\": 79, \"day\": 3, \"Day_of_Week_Name\": \"Tuesday\"}, {\"Type_of_day\": 104336, \"INJURIES_TOTAL\": 19310.0, \"Fatal Crashes\": 115, \"day\": 4, \"Day_of_Week_Name\": \"Wednesday\"}, {\"Type_of_day\": 108030, \"INJURIES_TOTAL\": 19783.0, \"Fatal Crashes\": 120, \"day\": 5, \"Day_of_Week_Name\": \"Thursday\"}, {\"Type_of_day\": 121626, \"INJURIES_TOTAL\": 21856.0, \"Fatal Crashes\": 104, \"day\": 6, \"Day_of_Week_Name\": \"Friday\"}, {\"Type_of_day\": 109102, \"INJURIES_TOTAL\": 21394.0, \"Fatal Crashes\": 143, \"day\": 7, \"Day_of_Week_Name\": \"Saturday\"}], \"data-27651b3326b80e8b12ca29375908ff8a\": [{\"Day_of_Week_Name\": \"Average\", \"Type_of_day\": 105732.14285714286}]}}, {\"mode\": \"vega-lite\"});\n",
              "</script>"
            ],
            "text/plain": [
              "alt.LayerChart(...)"
            ]
          },
          "execution_count": 44,
          "metadata": {},
          "output_type": "execute_result"
        }
      ],
      "source": [
        "# Create the Altair bar chart\n",
        "bars = alt.Chart(df_week_counts).mark_bar().encode(\n",
        "    x=alt.X('Day_of_Week_Name:N', title='Day of the week'),\n",
        "    y=alt.Y('Type_of_day:Q', title='Total # of crashes'),\n",
        "    color=alt.Color('Day_of_Week_Name:N', scale=alt.Scale(scheme='category20'))  # Assign color based on 'Day_of_Week_Name'\n",
        ").properties(\n",
        "    width=400,\n",
        "    height=300,\n",
        "    title='Day of the week vs Crashes'\n",
        ")\n",
        "\n",
        "# Create the line chart for the average\n",
        "line = alt.Chart(avg_df).mark_rule(color='red').encode(\n",
        "    y=alt.Y('Type_of_day:Q', title='Total # of crashes')\n",
        ")\n",
        "\n",
        "# Add a text label to indicate that the line represents the average\n",
        "text = alt.Chart(avg_df).mark_text(\n",
        "    text='Average',\n",
        "    dx=-15,  # Adjust the horizontal position of the text\n",
        "    dy=-10,  # Adjust the vertical position of the text\n",
        "    color='red'  # Text color\n",
        ").encode(\n",
        "    x=alt.value(-10),\n",
        "    y=alt.value(65)\n",
        ")\n",
        "\n",
        "# Combine the bar chart, line chart, and text label using the layer function\n",
        "combined_chart = alt.layer(bars, line, text)\n",
        "\n",
        "combined_chart"
      ]
    },
    {
      "cell_type": "markdown",
      "metadata": {
        "id": "KrWOy8-_MId3"
      },
      "source": [
        "The graph shows Friday's had the most accidents in the past and the  accidents on all other days are almost equal to the average accidents. Here is a link to the article that reinforces this finding. https://www.daveabels.com/chicago-auto-accident-lawyers/statistics/#:~:text=Fridays%20had%20more%20collisions%20than,pm%20and%207%3A59%20pm\n",
        "Some of the possible reasons for this would be many people go out with families and friends and might be drinking leading to more accidents.\n",
        "\n",
        "Our Hypothesis that weekdays are associated with most crashes holds true, since Friday is considered to be a weekday though many get into the weekend mode on this day."
      ]
    },
    {
      "cell_type": "markdown",
      "metadata": {
        "id": "RVxJ1sZmGpp8"
      },
      "source": [
        "### Fatal crashes by day of the week"
      ]
    },
    {
      "cell_type": "code",
      "execution_count": 45,
      "metadata": {
        "id": "lbXm7gy1Gpp8"
      },
      "outputs": [],
      "source": [
        "# Calculate the average crashes for the entire dataset\n",
        "avg_fcrashes = df_week_counts['Fatal Crashes'].mean()\n",
        "\n",
        "# Create a DataFrame with the average value\n",
        "avg_fdf = pd.DataFrame({'Day_of_Week_Name': ['Average'], 'Type_of_day': [avg_fcrashes]})"
      ]
    },
    {
      "cell_type": "code",
      "execution_count": 46,
      "metadata": {
        "colab": {
          "base_uri": "https://localhost:8080/",
          "height": 428
        },
        "id": "pCGOCzQkGpp8",
        "outputId": "67d26eae-920c-44a7-acad-e6ca72cc3294"
      },
      "outputs": [
        {
          "data": {
            "text/html": [
              "\n",
              "<style>\n",
              "  #altair-viz-c97e72bb005f409888ae0cb05f6ee69a.vega-embed {\n",
              "    width: 100%;\n",
              "    display: flex;\n",
              "  }\n",
              "\n",
              "  #altair-viz-c97e72bb005f409888ae0cb05f6ee69a.vega-embed details,\n",
              "  #altair-viz-c97e72bb005f409888ae0cb05f6ee69a.vega-embed details summary {\n",
              "    position: relative;\n",
              "  }\n",
              "</style>\n",
              "<div id=\"altair-viz-c97e72bb005f409888ae0cb05f6ee69a\"></div>\n",
              "<script type=\"text/javascript\">\n",
              "  var VEGA_DEBUG = (typeof VEGA_DEBUG == \"undefined\") ? {} : VEGA_DEBUG;\n",
              "  (function(spec, embedOpt){\n",
              "    let outputDiv = document.currentScript.previousElementSibling;\n",
              "    if (outputDiv.id !== \"altair-viz-c97e72bb005f409888ae0cb05f6ee69a\") {\n",
              "      outputDiv = document.getElementById(\"altair-viz-c97e72bb005f409888ae0cb05f6ee69a\");\n",
              "    }\n",
              "    const paths = {\n",
              "      \"vega\": \"https://cdn.jsdelivr.net/npm/vega@5?noext\",\n",
              "      \"vega-lib\": \"https://cdn.jsdelivr.net/npm/vega-lib?noext\",\n",
              "      \"vega-lite\": \"https://cdn.jsdelivr.net/npm/vega-lite@5.14.1?noext\",\n",
              "      \"vega-embed\": \"https://cdn.jsdelivr.net/npm/vega-embed@6?noext\",\n",
              "    };\n",
              "\n",
              "    function maybeLoadScript(lib, version) {\n",
              "      var key = `${lib.replace(\"-\", \"\")}_version`;\n",
              "      return (VEGA_DEBUG[key] == version) ?\n",
              "        Promise.resolve(paths[lib]) :\n",
              "        new Promise(function(resolve, reject) {\n",
              "          var s = document.createElement('script');\n",
              "          document.getElementsByTagName(\"head\")[0].appendChild(s);\n",
              "          s.async = true;\n",
              "          s.onload = () => {\n",
              "            VEGA_DEBUG[key] = version;\n",
              "            return resolve(paths[lib]);\n",
              "          };\n",
              "          s.onerror = () => reject(`Error loading script: ${paths[lib]}`);\n",
              "          s.src = paths[lib];\n",
              "        });\n",
              "    }\n",
              "\n",
              "    function showError(err) {\n",
              "      outputDiv.innerHTML = `<div class=\"error\" style=\"color:red;\">${err}</div>`;\n",
              "      throw err;\n",
              "    }\n",
              "\n",
              "    function displayChart(vegaEmbed) {\n",
              "      vegaEmbed(outputDiv, spec, embedOpt)\n",
              "        .catch(err => showError(`Javascript Error: ${err.message}<br>This usually means there's a typo in your chart specification. See the javascript console for the full traceback.`));\n",
              "    }\n",
              "\n",
              "    if(typeof define === \"function\" && define.amd) {\n",
              "      requirejs.config({paths});\n",
              "      require([\"vega-embed\"], displayChart, err => showError(`Error loading script: ${err.message}`));\n",
              "    } else {\n",
              "      maybeLoadScript(\"vega\", \"5\")\n",
              "        .then(() => maybeLoadScript(\"vega-lite\", \"5.14.1\"))\n",
              "        .then(() => maybeLoadScript(\"vega-embed\", \"6\"))\n",
              "        .catch(showError)\n",
              "        .then(() => displayChart(vegaEmbed));\n",
              "    }\n",
              "  })({\"config\": {\"view\": {\"continuousWidth\": 300, \"continuousHeight\": 300}}, \"layer\": [{\"data\": {\"name\": \"data-b11fb008376f8bfb6052e99805bf12c9\"}, \"mark\": {\"type\": \"bar\"}, \"encoding\": {\"color\": {\"field\": \"Day_of_Week_Name\", \"scale\": {\"scheme\": \"category20\"}, \"type\": \"nominal\"}, \"x\": {\"field\": \"Day_of_Week_Name\", \"title\": \"Day of the week\", \"type\": \"nominal\"}, \"y\": {\"field\": \"Fatal Crashes\", \"title\": \"Total # of fatal crashes\", \"type\": \"quantitative\"}}, \"title\": \"Day of the week vs Fatal Crashes\"}, {\"data\": {\"name\": \"data-9b22d94c01327a8dfa9d5521b08f7c9b\"}, \"mark\": {\"type\": \"rule\", \"color\": \"red\"}, \"encoding\": {\"y\": {\"field\": \"Type_of_day\", \"title\": \"Total # of fatal crashes\", \"type\": \"quantitative\"}}}, {\"data\": {\"name\": \"data-27651b3326b80e8b12ca29375908ff8a\"}, \"mark\": {\"type\": \"text\", \"color\": \"red\", \"dx\": -15, \"dy\": -10, \"text\": \"Average\"}, \"encoding\": {\"x\": {\"value\": -10}, \"y\": {\"value\": 95}}}], \"height\": 300, \"width\": 400, \"$schema\": \"https://vega.github.io/schema/vega-lite/v5.14.1.json\", \"datasets\": {\"data-b11fb008376f8bfb6052e99805bf12c9\": [{\"Type_of_day\": 90927, \"INJURIES_TOTAL\": 19002.0, \"Fatal Crashes\": 146, \"day\": 1, \"Day_of_Week_Name\": \"Sunday\"}, {\"Type_of_day\": 101480, \"INJURIES_TOTAL\": 18434.0, \"Fatal Crashes\": 99, \"day\": 2, \"Day_of_Week_Name\": \"Monday\"}, {\"Type_of_day\": 104624, \"INJURIES_TOTAL\": 18920.0, \"Fatal Crashes\": 79, \"day\": 3, \"Day_of_Week_Name\": \"Tuesday\"}, {\"Type_of_day\": 104336, \"INJURIES_TOTAL\": 19310.0, \"Fatal Crashes\": 115, \"day\": 4, \"Day_of_Week_Name\": \"Wednesday\"}, {\"Type_of_day\": 108030, \"INJURIES_TOTAL\": 19783.0, \"Fatal Crashes\": 120, \"day\": 5, \"Day_of_Week_Name\": \"Thursday\"}, {\"Type_of_day\": 121626, \"INJURIES_TOTAL\": 21856.0, \"Fatal Crashes\": 104, \"day\": 6, \"Day_of_Week_Name\": \"Friday\"}, {\"Type_of_day\": 109102, \"INJURIES_TOTAL\": 21394.0, \"Fatal Crashes\": 143, \"day\": 7, \"Day_of_Week_Name\": \"Saturday\"}], \"data-9b22d94c01327a8dfa9d5521b08f7c9b\": [{\"Day_of_Week_Name\": \"Average\", \"Type_of_day\": 115.14285714285714}], \"data-27651b3326b80e8b12ca29375908ff8a\": [{\"Day_of_Week_Name\": \"Average\", \"Type_of_day\": 105732.14285714286}]}}, {\"mode\": \"vega-lite\"});\n",
              "</script>"
            ],
            "text/plain": [
              "alt.LayerChart(...)"
            ]
          },
          "execution_count": 46,
          "metadata": {},
          "output_type": "execute_result"
        }
      ],
      "source": [
        "# Create the Altair bar chart\n",
        "bars = alt.Chart(df_week_counts).mark_bar().encode(\n",
        "    x=alt.X('Day_of_Week_Name:N', title='Day of the week'),\n",
        "    y=alt.Y('Fatal Crashes:Q', title='Total # of fatal crashes'),\n",
        "    color=alt.Color('Day_of_Week_Name:N', scale=alt.Scale(scheme='category20'))  # Assign color based on 'Day_of_Week_Name'\n",
        ").properties(\n",
        "    width=400,\n",
        "    height=300,\n",
        "    title='Day of the week vs Fatal Crashes'\n",
        ")\n",
        "# Create the line chart for the average\n",
        "line = alt.Chart(avg_fdf).mark_rule(color='red').encode(\n",
        "    y=alt.Y('Type_of_day:Q', title='Total # of fatal crashes')\n",
        ")\n",
        "\n",
        "# Add a text label to indicate that the line represents the average\n",
        "text = alt.Chart(avg_df).mark_text(\n",
        "    text='Average',\n",
        "    dx=-15,  # Adjust the horizontal position of the text\n",
        "    dy=-10,  # Adjust the vertical position of the text\n",
        "    color='red'  # Text color\n",
        ").encode(\n",
        "    x=alt.value(-10),\n",
        "    y=alt.value(95)\n",
        ")\n",
        "\n",
        "# Combine the bar chart, line chart, and text label using the layer function\n",
        "combined_chart = alt.layer(bars, line, text)\n",
        "\n",
        "combined_chart"
      ]
    },
    {
      "cell_type": "markdown",
      "metadata": {
        "id": "Z83ryxbFO6fu"
      },
      "source": [
        "The above graph shows Sunday has the most fatal crashes. But the link here shows that Saturday has the highest number of fatal crashes of all days. https://www.chicagolawyer.com/blog/here-are-the-most-common-times-for-fatal-car-accidents/\n",
        "\n",
        "This discrepancy is mostly due to the lack of data. Since we utilized data from the data.gov website and there is no guarantee that it is complete. Potentially, there are some missing points adding those might keep our analysis with external sources in line.\n",
        "\n"
      ]
    },
    {
      "cell_type": "markdown",
      "metadata": {
        "id": "BknBmb24Gpp9"
      },
      "source": [
        "### Time of the day"
      ]
    },
    {
      "cell_type": "code",
      "execution_count": 47,
      "metadata": {
        "id": "hGIwWJr1Gpp-"
      },
      "outputs": [],
      "source": [
        "df_time = df[df['Type_of_day'].isin(['Weekday','Weekend'])]\n",
        "df_time = df_time.groupby(['CRASH_DAY_OF_WEEK','Crash_Time_Category']).agg({'Type_of_day': 'count', 'INJURIES_TOTAL': 'sum'})"
      ]
    },
    {
      "cell_type": "code",
      "execution_count": 48,
      "metadata": {
        "colab": {
          "base_uri": "https://localhost:8080/"
        },
        "id": "gu8fEJWvGpp-",
        "outputId": "07f5d143-05e8-418b-ffb7-616c312c5670"
      },
      "outputs": [
        {
          "name": "stderr",
          "output_type": "stream",
          "text": [
            "C:\\Users\\krish\\AppData\\Local\\Temp\\ipykernel_35460\\3238772306.py:2: SettingWithCopyWarning: \n",
            "A value is trying to be set on a copy of a slice from a DataFrame.\n",
            "Try using .loc[row_indexer,col_indexer] = value instead\n",
            "\n",
            "See the caveats in the documentation: https://pandas.pydata.org/pandas-docs/stable/user_guide/indexing.html#returning-a-view-versus-a-copy\n",
            "  df_season['Injuries_Non_Fatal'] = df_season['INJURIES_INCAPACITATING'] + df_season['INJURIES_NON_INCAPACITATING']\n"
          ]
        }
      ],
      "source": [
        "df_season = df[df['Type_of_day'].isin(['Weekday','Weekend'])]\n",
        "df_season['Injuries_Non_Fatal'] = df_season['INJURIES_INCAPACITATING'] + df_season['INJURIES_NON_INCAPACITATING']\n",
        "df_season = df_season.groupby(['CRASH_DAY_OF_WEEK','Crash_Time_Category','Season']).agg({'Type_of_day': 'count', 'Injuries_Non_Fatal': 'sum',\n",
        "                                                                                        'INJURIES_FATAL':'sum','isFatal':'sum'})"
      ]
    },
    {
      "cell_type": "code",
      "execution_count": 49,
      "metadata": {
        "id": "cHsXyCxdGpp_"
      },
      "outputs": [],
      "source": [
        "df_season = df_season.reset_index()"
      ]
    },
    {
      "cell_type": "code",
      "execution_count": 50,
      "metadata": {
        "id": "zzTPrnx7Gpp_"
      },
      "outputs": [],
      "source": [
        "df_season['Day_of_Week_Name'] = df_season['CRASH_DAY_OF_WEEK'].map(day_names)"
      ]
    },
    {
      "cell_type": "code",
      "execution_count": 51,
      "metadata": {
        "id": "ndZ_wWxsGpqA"
      },
      "outputs": [],
      "source": [
        "df_season = df_season.rename(columns={'Type_of_day': 'Total_number_of_Crashes','isFatal':'Number of Fatal Crashes'})"
      ]
    },
    {
      "cell_type": "markdown",
      "metadata": {
        "id": "DGFUkm2aGpqA"
      },
      "source": [
        "### Are accidents during winter mostly fatal ?"
      ]
    },
    {
      "cell_type": "code",
      "execution_count": 52,
      "metadata": {
        "colab": {
          "base_uri": "https://localhost:8080/",
          "height": 408
        },
        "id": "uNEiwfhwGpqB",
        "outputId": "6a2fa90b-22ce-4ae1-acd8-24a3e3e0fd95"
      },
      "outputs": [
        {
          "data": {
            "text/html": [
              "\n",
              "<style>\n",
              "  #altair-viz-5fb3e7096b8b489c8b423f6d4b03a234.vega-embed {\n",
              "    width: 100%;\n",
              "    display: flex;\n",
              "  }\n",
              "\n",
              "  #altair-viz-5fb3e7096b8b489c8b423f6d4b03a234.vega-embed details,\n",
              "  #altair-viz-5fb3e7096b8b489c8b423f6d4b03a234.vega-embed details summary {\n",
              "    position: relative;\n",
              "  }\n",
              "</style>\n",
              "<div id=\"altair-viz-5fb3e7096b8b489c8b423f6d4b03a234\"></div>\n",
              "<script type=\"text/javascript\">\n",
              "  var VEGA_DEBUG = (typeof VEGA_DEBUG == \"undefined\") ? {} : VEGA_DEBUG;\n",
              "  (function(spec, embedOpt){\n",
              "    let outputDiv = document.currentScript.previousElementSibling;\n",
              "    if (outputDiv.id !== \"altair-viz-5fb3e7096b8b489c8b423f6d4b03a234\") {\n",
              "      outputDiv = document.getElementById(\"altair-viz-5fb3e7096b8b489c8b423f6d4b03a234\");\n",
              "    }\n",
              "    const paths = {\n",
              "      \"vega\": \"https://cdn.jsdelivr.net/npm/vega@5?noext\",\n",
              "      \"vega-lib\": \"https://cdn.jsdelivr.net/npm/vega-lib?noext\",\n",
              "      \"vega-lite\": \"https://cdn.jsdelivr.net/npm/vega-lite@5.14.1?noext\",\n",
              "      \"vega-embed\": \"https://cdn.jsdelivr.net/npm/vega-embed@6?noext\",\n",
              "    };\n",
              "\n",
              "    function maybeLoadScript(lib, version) {\n",
              "      var key = `${lib.replace(\"-\", \"\")}_version`;\n",
              "      return (VEGA_DEBUG[key] == version) ?\n",
              "        Promise.resolve(paths[lib]) :\n",
              "        new Promise(function(resolve, reject) {\n",
              "          var s = document.createElement('script');\n",
              "          document.getElementsByTagName(\"head\")[0].appendChild(s);\n",
              "          s.async = true;\n",
              "          s.onload = () => {\n",
              "            VEGA_DEBUG[key] = version;\n",
              "            return resolve(paths[lib]);\n",
              "          };\n",
              "          s.onerror = () => reject(`Error loading script: ${paths[lib]}`);\n",
              "          s.src = paths[lib];\n",
              "        });\n",
              "    }\n",
              "\n",
              "    function showError(err) {\n",
              "      outputDiv.innerHTML = `<div class=\"error\" style=\"color:red;\">${err}</div>`;\n",
              "      throw err;\n",
              "    }\n",
              "\n",
              "    function displayChart(vegaEmbed) {\n",
              "      vegaEmbed(outputDiv, spec, embedOpt)\n",
              "        .catch(err => showError(`Javascript Error: ${err.message}<br>This usually means there's a typo in your chart specification. See the javascript console for the full traceback.`));\n",
              "    }\n",
              "\n",
              "    if(typeof define === \"function\" && define.amd) {\n",
              "      requirejs.config({paths});\n",
              "      require([\"vega-embed\"], displayChart, err => showError(`Error loading script: ${err.message}`));\n",
              "    } else {\n",
              "      maybeLoadScript(\"vega\", \"5\")\n",
              "        .then(() => maybeLoadScript(\"vega-lite\", \"5.14.1\"))\n",
              "        .then(() => maybeLoadScript(\"vega-embed\", \"6\"))\n",
              "        .catch(showError)\n",
              "        .then(() => displayChart(vegaEmbed));\n",
              "    }\n",
              "  })({\"config\": {\"view\": {\"continuousWidth\": 300, \"continuousHeight\": 300}}, \"data\": {\"name\": \"data-b6ba3af1ab78bedb7536a24b0c9be044\"}, \"mark\": {\"type\": \"bar\"}, \"encoding\": {\"color\": {\"field\": \"Season\", \"scale\": {\"scheme\": \"category20\"}, \"type\": \"nominal\"}, \"x\": {\"field\": \"Season\", \"title\": \"Season\", \"type\": \"nominal\"}, \"y\": {\"aggregate\": \"sum\", \"field\": \"Number of Fatal Crashes\", \"title\": \"Number of Fatal Crashes\", \"type\": \"quantitative\"}}, \"height\": 300, \"title\": \"Season vs Crashes\", \"width\": 400, \"$schema\": \"https://vega.github.io/schema/vega-lite/v5.14.1.json\", \"datasets\": {\"data-b6ba3af1ab78bedb7536a24b0c9be044\": [{\"CRASH_DAY_OF_WEEK\": 1, \"Crash_Time_Category\": \"12PM-4PM\", \"Season\": \"Fall\", \"Total_number_of_Crashes\": 5595, \"Injuries_Non_Fatal\": 629.0, \"INJURIES_FATAL\": 1.0, \"Number of Fatal Crashes\": 1, \"Day_of_Week_Name\": \"Sunday\"}, {\"CRASH_DAY_OF_WEEK\": 1, \"Crash_Time_Category\": \"12PM-4PM\", \"Season\": \"Spring\", \"Total_number_of_Crashes\": 5640, \"Injuries_Non_Fatal\": 676.0, \"INJURIES_FATAL\": 3.0, \"Number of Fatal Crashes\": 3, \"Day_of_Week_Name\": \"Sunday\"}, {\"CRASH_DAY_OF_WEEK\": 1, \"Crash_Time_Category\": \"12PM-4PM\", \"Season\": \"Summer\", \"Total_number_of_Crashes\": 6184, \"Injuries_Non_Fatal\": 835.0, \"INJURIES_FATAL\": 5.0, \"Number of Fatal Crashes\": 5, \"Day_of_Week_Name\": \"Sunday\"}, {\"CRASH_DAY_OF_WEEK\": 1, \"Crash_Time_Category\": \"12PM-4PM\", \"Season\": \"Winter\", \"Total_number_of_Crashes\": 5184, \"Injuries_Non_Fatal\": 535.0, \"INJURIES_FATAL\": 4.0, \"Number of Fatal Crashes\": 3, \"Day_of_Week_Name\": \"Sunday\"}, {\"CRASH_DAY_OF_WEEK\": 1, \"Crash_Time_Category\": \"4AM-8AM\", \"Season\": \"Fall\", \"Total_number_of_Crashes\": 2057, \"Injuries_Non_Fatal\": 380.0, \"INJURIES_FATAL\": 10.0, \"Number of Fatal Crashes\": 8, \"Day_of_Week_Name\": \"Sunday\"}, {\"CRASH_DAY_OF_WEEK\": 1, \"Crash_Time_Category\": \"4AM-8AM\", \"Season\": \"Spring\", \"Total_number_of_Crashes\": 1785, \"Injuries_Non_Fatal\": 299.0, \"INJURIES_FATAL\": 12.0, \"Number of Fatal Crashes\": 8, \"Day_of_Week_Name\": \"Sunday\"}, {\"CRASH_DAY_OF_WEEK\": 1, \"Crash_Time_Category\": \"4AM-8AM\", \"Season\": \"Summer\", \"Total_number_of_Crashes\": 2141, \"Injuries_Non_Fatal\": 415.0, \"INJURIES_FATAL\": 10.0, \"Number of Fatal Crashes\": 8, \"Day_of_Week_Name\": \"Sunday\"}, {\"CRASH_DAY_OF_WEEK\": 1, \"Crash_Time_Category\": \"4AM-8AM\", \"Season\": \"Winter\", \"Total_number_of_Crashes\": 1676, \"Injuries_Non_Fatal\": 258.0, \"INJURIES_FATAL\": 4.0, \"Number of Fatal Crashes\": 4, \"Day_of_Week_Name\": \"Sunday\"}, {\"CRASH_DAY_OF_WEEK\": 1, \"Crash_Time_Category\": \"4PM-8PM\", \"Season\": \"Fall\", \"Total_number_of_Crashes\": 5064, \"Injuries_Non_Fatal\": 664.0, \"INJURIES_FATAL\": 8.0, \"Number of Fatal Crashes\": 8, \"Day_of_Week_Name\": \"Sunday\"}, {\"CRASH_DAY_OF_WEEK\": 1, \"Crash_Time_Category\": \"4PM-8PM\", \"Season\": \"Spring\", \"Total_number_of_Crashes\": 4891, \"Injuries_Non_Fatal\": 700.0, \"INJURIES_FATAL\": 4.0, \"Number of Fatal Crashes\": 4, \"Day_of_Week_Name\": \"Sunday\"}, {\"CRASH_DAY_OF_WEEK\": 1, \"Crash_Time_Category\": \"4PM-8PM\", \"Season\": \"Summer\", \"Total_number_of_Crashes\": 5742, \"Injuries_Non_Fatal\": 856.0, \"INJURIES_FATAL\": 9.0, \"Number of Fatal Crashes\": 7, \"Day_of_Week_Name\": \"Sunday\"}, {\"CRASH_DAY_OF_WEEK\": 1, \"Crash_Time_Category\": \"4PM-8PM\", \"Season\": \"Winter\", \"Total_number_of_Crashes\": 4305, \"Injuries_Non_Fatal\": 490.0, \"INJURIES_FATAL\": 1.0, \"Number of Fatal Crashes\": 1, \"Day_of_Week_Name\": \"Sunday\"}, {\"CRASH_DAY_OF_WEEK\": 1, \"Crash_Time_Category\": \"8AM-12PM\", \"Season\": \"Fall\", \"Total_number_of_Crashes\": 3496, \"Injuries_Non_Fatal\": 411.0, \"INJURIES_FATAL\": 6.0, \"Number of Fatal Crashes\": 6, \"Day_of_Week_Name\": \"Sunday\"}, {\"CRASH_DAY_OF_WEEK\": 1, \"Crash_Time_Category\": \"8AM-12PM\", \"Season\": \"Spring\", \"Total_number_of_Crashes\": 3147, \"Injuries_Non_Fatal\": 349.0, \"INJURIES_FATAL\": 0.0, \"Number of Fatal Crashes\": 0, \"Day_of_Week_Name\": \"Sunday\"}, {\"CRASH_DAY_OF_WEEK\": 1, \"Crash_Time_Category\": \"8AM-12PM\", \"Season\": \"Summer\", \"Total_number_of_Crashes\": 3381, \"Injuries_Non_Fatal\": 424.0, \"INJURIES_FATAL\": 2.0, \"Number of Fatal Crashes\": 2, \"Day_of_Week_Name\": \"Sunday\"}, {\"CRASH_DAY_OF_WEEK\": 1, \"Crash_Time_Category\": \"8AM-12PM\", \"Season\": \"Winter\", \"Total_number_of_Crashes\": 3105, \"Injuries_Non_Fatal\": 298.0, \"INJURIES_FATAL\": 3.0, \"Number of Fatal Crashes\": 3, \"Day_of_Week_Name\": \"Sunday\"}, {\"CRASH_DAY_OF_WEEK\": 1, \"Crash_Time_Category\": \"8PM-Midnight\", \"Season\": \"Fall\", \"Total_number_of_Crashes\": 3083, \"Injuries_Non_Fatal\": 532.0, \"INJURIES_FATAL\": 10.0, \"Number of Fatal Crashes\": 7, \"Day_of_Week_Name\": \"Sunday\"}, {\"CRASH_DAY_OF_WEEK\": 1, \"Crash_Time_Category\": \"8PM-Midnight\", \"Season\": \"Spring\", \"Total_number_of_Crashes\": 3103, \"Injuries_Non_Fatal\": 509.0, \"INJURIES_FATAL\": 10.0, \"Number of Fatal Crashes\": 10, \"Day_of_Week_Name\": \"Sunday\"}, {\"CRASH_DAY_OF_WEEK\": 1, \"Crash_Time_Category\": \"8PM-Midnight\", \"Season\": \"Summer\", \"Total_number_of_Crashes\": 3895, \"Injuries_Non_Fatal\": 749.0, \"INJURIES_FATAL\": 7.0, \"Number of Fatal Crashes\": 7, \"Day_of_Week_Name\": \"Sunday\"}, {\"CRASH_DAY_OF_WEEK\": 1, \"Crash_Time_Category\": \"8PM-Midnight\", \"Season\": \"Winter\", \"Total_number_of_Crashes\": 2503, \"Injuries_Non_Fatal\": 355.0, \"INJURIES_FATAL\": 1.0, \"Number of Fatal Crashes\": 1, \"Day_of_Week_Name\": \"Sunday\"}, {\"CRASH_DAY_OF_WEEK\": 1, \"Crash_Time_Category\": \"Midnight-4AM\", \"Season\": \"Fall\", \"Total_number_of_Crashes\": 3976, \"Injuries_Non_Fatal\": 735.0, \"INJURIES_FATAL\": 16.0, \"Number of Fatal Crashes\": 13, \"Day_of_Week_Name\": \"Sunday\"}, {\"CRASH_DAY_OF_WEEK\": 1, \"Crash_Time_Category\": \"Midnight-4AM\", \"Season\": \"Spring\", \"Total_number_of_Crashes\": 3360, \"Injuries_Non_Fatal\": 657.0, \"INJURIES_FATAL\": 8.0, \"Number of Fatal Crashes\": 8, \"Day_of_Week_Name\": \"Sunday\"}, {\"CRASH_DAY_OF_WEEK\": 1, \"Crash_Time_Category\": \"Midnight-4AM\", \"Season\": \"Summer\", \"Total_number_of_Crashes\": 4449, \"Injuries_Non_Fatal\": 989.0, \"INJURIES_FATAL\": 20.0, \"Number of Fatal Crashes\": 18, \"Day_of_Week_Name\": \"Sunday\"}, {\"CRASH_DAY_OF_WEEK\": 1, \"Crash_Time_Category\": \"Midnight-4AM\", \"Season\": \"Winter\", \"Total_number_of_Crashes\": 3165, \"Injuries_Non_Fatal\": 526.0, \"INJURIES_FATAL\": 11.0, \"Number of Fatal Crashes\": 11, \"Day_of_Week_Name\": \"Sunday\"}, {\"CRASH_DAY_OF_WEEK\": 2, \"Crash_Time_Category\": \"12PM-4PM\", \"Season\": \"Fall\", \"Total_number_of_Crashes\": 6875, \"Injuries_Non_Fatal\": 754.0, \"INJURIES_FATAL\": 5.0, \"Number of Fatal Crashes\": 5, \"Day_of_Week_Name\": \"Monday\"}, {\"CRASH_DAY_OF_WEEK\": 2, \"Crash_Time_Category\": \"12PM-4PM\", \"Season\": \"Spring\", \"Total_number_of_Crashes\": 6530, \"Injuries_Non_Fatal\": 637.0, \"INJURIES_FATAL\": 3.0, \"Number of Fatal Crashes\": 3, \"Day_of_Week_Name\": \"Monday\"}, {\"CRASH_DAY_OF_WEEK\": 2, \"Crash_Time_Category\": \"12PM-4PM\", \"Season\": \"Summer\", \"Total_number_of_Crashes\": 7895, \"Injuries_Non_Fatal\": 983.0, \"INJURIES_FATAL\": 3.0, \"Number of Fatal Crashes\": 3, \"Day_of_Week_Name\": \"Monday\"}, {\"CRASH_DAY_OF_WEEK\": 2, \"Crash_Time_Category\": \"12PM-4PM\", \"Season\": \"Winter\", \"Total_number_of_Crashes\": 6049, \"Injuries_Non_Fatal\": 514.0, \"INJURIES_FATAL\": 4.0, \"Number of Fatal Crashes\": 4, \"Day_of_Week_Name\": \"Monday\"}, {\"CRASH_DAY_OF_WEEK\": 2, \"Crash_Time_Category\": \"4AM-8AM\", \"Season\": \"Fall\", \"Total_number_of_Crashes\": 3036, \"Injuries_Non_Fatal\": 348.0, \"INJURIES_FATAL\": 3.0, \"Number of Fatal Crashes\": 3, \"Day_of_Week_Name\": \"Monday\"}, {\"CRASH_DAY_OF_WEEK\": 2, \"Crash_Time_Category\": \"4AM-8AM\", \"Season\": \"Spring\", \"Total_number_of_Crashes\": 2626, \"Injuries_Non_Fatal\": 268.0, \"INJURIES_FATAL\": 4.0, \"Number of Fatal Crashes\": 4, \"Day_of_Week_Name\": \"Monday\"}, {\"CRASH_DAY_OF_WEEK\": 2, \"Crash_Time_Category\": \"4AM-8AM\", \"Season\": \"Summer\", \"Total_number_of_Crashes\": 2416, \"Injuries_Non_Fatal\": 287.0, \"INJURIES_FATAL\": 4.0, \"Number of Fatal Crashes\": 4, \"Day_of_Week_Name\": \"Monday\"}, {\"CRASH_DAY_OF_WEEK\": 2, \"Crash_Time_Category\": \"4AM-8AM\", \"Season\": \"Winter\", \"Total_number_of_Crashes\": 2426, \"Injuries_Non_Fatal\": 237.0, \"INJURIES_FATAL\": 2.0, \"Number of Fatal Crashes\": 2, \"Day_of_Week_Name\": \"Monday\"}, {\"CRASH_DAY_OF_WEEK\": 2, \"Crash_Time_Category\": \"4PM-8PM\", \"Season\": \"Fall\", \"Total_number_of_Crashes\": 6674, \"Injuries_Non_Fatal\": 856.0, \"INJURIES_FATAL\": 5.0, \"Number of Fatal Crashes\": 3, \"Day_of_Week_Name\": \"Monday\"}, {\"CRASH_DAY_OF_WEEK\": 2, \"Crash_Time_Category\": \"4PM-8PM\", \"Season\": \"Spring\", \"Total_number_of_Crashes\": 6432, \"Injuries_Non_Fatal\": 732.0, \"INJURIES_FATAL\": 5.0, \"Number of Fatal Crashes\": 4, \"Day_of_Week_Name\": \"Monday\"}, {\"CRASH_DAY_OF_WEEK\": 2, \"Crash_Time_Category\": \"4PM-8PM\", \"Season\": \"Summer\", \"Total_number_of_Crashes\": 7368, \"Injuries_Non_Fatal\": 963.0, \"INJURIES_FATAL\": 8.0, \"Number of Fatal Crashes\": 8, \"Day_of_Week_Name\": \"Monday\"}, {\"CRASH_DAY_OF_WEEK\": 2, \"Crash_Time_Category\": \"4PM-8PM\", \"Season\": \"Winter\", \"Total_number_of_Crashes\": 5617, \"Injuries_Non_Fatal\": 633.0, \"INJURIES_FATAL\": 2.0, \"Number of Fatal Crashes\": 2, \"Day_of_Week_Name\": \"Monday\"}, {\"CRASH_DAY_OF_WEEK\": 2, \"Crash_Time_Category\": \"8AM-12PM\", \"Season\": \"Fall\", \"Total_number_of_Crashes\": 5907, \"Injuries_Non_Fatal\": 609.0, \"INJURIES_FATAL\": 5.0, \"Number of Fatal Crashes\": 3, \"Day_of_Week_Name\": \"Monday\"}, {\"CRASH_DAY_OF_WEEK\": 2, \"Crash_Time_Category\": \"8AM-12PM\", \"Season\": \"Spring\", \"Total_number_of_Crashes\": 5190, \"Injuries_Non_Fatal\": 555.0, \"INJURIES_FATAL\": 1.0, \"Number of Fatal Crashes\": 1, \"Day_of_Week_Name\": \"Monday\"}, {\"CRASH_DAY_OF_WEEK\": 2, \"Crash_Time_Category\": \"8AM-12PM\", \"Season\": \"Summer\", \"Total_number_of_Crashes\": 5645, \"Injuries_Non_Fatal\": 628.0, \"INJURIES_FATAL\": 3.0, \"Number of Fatal Crashes\": 3, \"Day_of_Week_Name\": \"Monday\"}, {\"CRASH_DAY_OF_WEEK\": 2, \"Crash_Time_Category\": \"8AM-12PM\", \"Season\": \"Winter\", \"Total_number_of_Crashes\": 5082, \"Injuries_Non_Fatal\": 472.0, \"INJURIES_FATAL\": 2.0, \"Number of Fatal Crashes\": 2, \"Day_of_Week_Name\": \"Monday\"}, {\"CRASH_DAY_OF_WEEK\": 2, \"Crash_Time_Category\": \"8PM-Midnight\", \"Season\": \"Fall\", \"Total_number_of_Crashes\": 2348, \"Injuries_Non_Fatal\": 410.0, \"INJURIES_FATAL\": 8.0, \"Number of Fatal Crashes\": 7, \"Day_of_Week_Name\": \"Monday\"}, {\"CRASH_DAY_OF_WEEK\": 2, \"Crash_Time_Category\": \"8PM-Midnight\", \"Season\": \"Spring\", \"Total_number_of_Crashes\": 2436, \"Injuries_Non_Fatal\": 461.0, \"INJURIES_FATAL\": 1.0, \"Number of Fatal Crashes\": 1, \"Day_of_Week_Name\": \"Monday\"}, {\"CRASH_DAY_OF_WEEK\": 2, \"Crash_Time_Category\": \"8PM-Midnight\", \"Season\": \"Summer\", \"Total_number_of_Crashes\": 2997, \"Injuries_Non_Fatal\": 527.0, \"INJURIES_FATAL\": 5.0, \"Number of Fatal Crashes\": 5, \"Day_of_Week_Name\": \"Monday\"}, {\"CRASH_DAY_OF_WEEK\": 2, \"Crash_Time_Category\": \"8PM-Midnight\", \"Season\": \"Winter\", \"Total_number_of_Crashes\": 2208, \"Injuries_Non_Fatal\": 265.0, \"INJURIES_FATAL\": 7.0, \"Number of Fatal Crashes\": 5, \"Day_of_Week_Name\": \"Monday\"}, {\"CRASH_DAY_OF_WEEK\": 2, \"Crash_Time_Category\": \"Midnight-4AM\", \"Season\": \"Fall\", \"Total_number_of_Crashes\": 1400, \"Injuries_Non_Fatal\": 226.0, \"INJURIES_FATAL\": 9.0, \"Number of Fatal Crashes\": 9, \"Day_of_Week_Name\": \"Monday\"}, {\"CRASH_DAY_OF_WEEK\": 2, \"Crash_Time_Category\": \"Midnight-4AM\", \"Season\": \"Spring\", \"Total_number_of_Crashes\": 1412, \"Injuries_Non_Fatal\": 312.0, \"INJURIES_FATAL\": 6.0, \"Number of Fatal Crashes\": 6, \"Day_of_Week_Name\": \"Monday\"}, {\"CRASH_DAY_OF_WEEK\": 2, \"Crash_Time_Category\": \"Midnight-4AM\", \"Season\": \"Summer\", \"Total_number_of_Crashes\": 1742, \"Injuries_Non_Fatal\": 344.0, \"INJURIES_FATAL\": 8.0, \"Number of Fatal Crashes\": 8, \"Day_of_Week_Name\": \"Monday\"}, {\"CRASH_DAY_OF_WEEK\": 2, \"Crash_Time_Category\": \"Midnight-4AM\", \"Season\": \"Winter\", \"Total_number_of_Crashes\": 1169, \"Injuries_Non_Fatal\": 170.0, \"INJURIES_FATAL\": 4.0, \"Number of Fatal Crashes\": 4, \"Day_of_Week_Name\": \"Monday\"}, {\"CRASH_DAY_OF_WEEK\": 3, \"Crash_Time_Category\": \"12PM-4PM\", \"Season\": \"Fall\", \"Total_number_of_Crashes\": 7002, \"Injuries_Non_Fatal\": 778.0, \"INJURIES_FATAL\": 2.0, \"Number of Fatal Crashes\": 2, \"Day_of_Week_Name\": \"Tuesday\"}, {\"CRASH_DAY_OF_WEEK\": 3, \"Crash_Time_Category\": \"12PM-4PM\", \"Season\": \"Spring\", \"Total_number_of_Crashes\": 6868, \"Injuries_Non_Fatal\": 721.0, \"INJURIES_FATAL\": 6.0, \"Number of Fatal Crashes\": 6, \"Day_of_Week_Name\": \"Tuesday\"}, {\"CRASH_DAY_OF_WEEK\": 3, \"Crash_Time_Category\": \"12PM-4PM\", \"Season\": \"Summer\", \"Total_number_of_Crashes\": 7842, \"Injuries_Non_Fatal\": 945.0, \"INJURIES_FATAL\": 3.0, \"Number of Fatal Crashes\": 3, \"Day_of_Week_Name\": \"Tuesday\"}, {\"CRASH_DAY_OF_WEEK\": 3, \"Crash_Time_Category\": \"12PM-4PM\", \"Season\": \"Winter\", \"Total_number_of_Crashes\": 6101, \"Injuries_Non_Fatal\": 571.0, \"INJURIES_FATAL\": 5.0, \"Number of Fatal Crashes\": 4, \"Day_of_Week_Name\": \"Tuesday\"}, {\"CRASH_DAY_OF_WEEK\": 3, \"Crash_Time_Category\": \"4AM-8AM\", \"Season\": \"Fall\", \"Total_number_of_Crashes\": 3004, \"Injuries_Non_Fatal\": 363.0, \"INJURIES_FATAL\": 0.0, \"Number of Fatal Crashes\": 0, \"Day_of_Week_Name\": \"Tuesday\"}, {\"CRASH_DAY_OF_WEEK\": 3, \"Crash_Time_Category\": \"4AM-8AM\", \"Season\": \"Spring\", \"Total_number_of_Crashes\": 2500, \"Injuries_Non_Fatal\": 308.0, \"INJURIES_FATAL\": 0.0, \"Number of Fatal Crashes\": 0, \"Day_of_Week_Name\": \"Tuesday\"}, {\"CRASH_DAY_OF_WEEK\": 3, \"Crash_Time_Category\": \"4AM-8AM\", \"Season\": \"Summer\", \"Total_number_of_Crashes\": 2171, \"Injuries_Non_Fatal\": 259.0, \"INJURIES_FATAL\": 2.0, \"Number of Fatal Crashes\": 2, \"Day_of_Week_Name\": \"Tuesday\"}, {\"CRASH_DAY_OF_WEEK\": 3, \"Crash_Time_Category\": \"4AM-8AM\", \"Season\": \"Winter\", \"Total_number_of_Crashes\": 2578, \"Injuries_Non_Fatal\": 276.0, \"INJURIES_FATAL\": 1.0, \"Number of Fatal Crashes\": 1, \"Day_of_Week_Name\": \"Tuesday\"}, {\"CRASH_DAY_OF_WEEK\": 3, \"Crash_Time_Category\": \"4PM-8PM\", \"Season\": \"Fall\", \"Total_number_of_Crashes\": 7603, \"Injuries_Non_Fatal\": 900.0, \"INJURIES_FATAL\": 2.0, \"Number of Fatal Crashes\": 2, \"Day_of_Week_Name\": \"Tuesday\"}, {\"CRASH_DAY_OF_WEEK\": 3, \"Crash_Time_Category\": \"4PM-8PM\", \"Season\": \"Spring\", \"Total_number_of_Crashes\": 6790, \"Injuries_Non_Fatal\": 753.0, \"INJURIES_FATAL\": 6.0, \"Number of Fatal Crashes\": 5, \"Day_of_Week_Name\": \"Tuesday\"}, {\"CRASH_DAY_OF_WEEK\": 3, \"Crash_Time_Category\": \"4PM-8PM\", \"Season\": \"Summer\", \"Total_number_of_Crashes\": 7995, \"Injuries_Non_Fatal\": 1155.0, \"INJURIES_FATAL\": 7.0, \"Number of Fatal Crashes\": 7, \"Day_of_Week_Name\": \"Tuesday\"}, {\"CRASH_DAY_OF_WEEK\": 3, \"Crash_Time_Category\": \"4PM-8PM\", \"Season\": \"Winter\", \"Total_number_of_Crashes\": 6635, \"Injuries_Non_Fatal\": 650.0, \"INJURIES_FATAL\": 5.0, \"Number of Fatal Crashes\": 5, \"Day_of_Week_Name\": \"Tuesday\"}, {\"CRASH_DAY_OF_WEEK\": 3, \"Crash_Time_Category\": \"8AM-12PM\", \"Season\": \"Fall\", \"Total_number_of_Crashes\": 6333, \"Injuries_Non_Fatal\": 641.0, \"INJURIES_FATAL\": 8.0, \"Number of Fatal Crashes\": 8, \"Day_of_Week_Name\": \"Tuesday\"}, {\"CRASH_DAY_OF_WEEK\": 3, \"Crash_Time_Category\": \"8AM-12PM\", \"Season\": \"Spring\", \"Total_number_of_Crashes\": 5541, \"Injuries_Non_Fatal\": 590.0, \"INJURIES_FATAL\": 2.0, \"Number of Fatal Crashes\": 2, \"Day_of_Week_Name\": \"Tuesday\"}, {\"CRASH_DAY_OF_WEEK\": 3, \"Crash_Time_Category\": \"8AM-12PM\", \"Season\": \"Summer\", \"Total_number_of_Crashes\": 5800, \"Injuries_Non_Fatal\": 646.0, \"INJURIES_FATAL\": 3.0, \"Number of Fatal Crashes\": 3, \"Day_of_Week_Name\": \"Tuesday\"}, {\"CRASH_DAY_OF_WEEK\": 3, \"Crash_Time_Category\": \"8AM-12PM\", \"Season\": \"Winter\", \"Total_number_of_Crashes\": 5429, \"Injuries_Non_Fatal\": 534.0, \"INJURIES_FATAL\": 2.0, \"Number of Fatal Crashes\": 2, \"Day_of_Week_Name\": \"Tuesday\"}, {\"CRASH_DAY_OF_WEEK\": 3, \"Crash_Time_Category\": \"8PM-Midnight\", \"Season\": \"Fall\", \"Total_number_of_Crashes\": 2614, \"Injuries_Non_Fatal\": 462.0, \"INJURIES_FATAL\": 1.0, \"Number of Fatal Crashes\": 1, \"Day_of_Week_Name\": \"Tuesday\"}, {\"CRASH_DAY_OF_WEEK\": 3, \"Crash_Time_Category\": \"8PM-Midnight\", \"Season\": \"Spring\", \"Total_number_of_Crashes\": 2642, \"Injuries_Non_Fatal\": 448.0, \"INJURIES_FATAL\": 0.0, \"Number of Fatal Crashes\": 0, \"Day_of_Week_Name\": \"Tuesday\"}, {\"CRASH_DAY_OF_WEEK\": 3, \"Crash_Time_Category\": \"8PM-Midnight\", \"Season\": \"Summer\", \"Total_number_of_Crashes\": 3248, \"Injuries_Non_Fatal\": 639.0, \"INJURIES_FATAL\": 9.0, \"Number of Fatal Crashes\": 8, \"Day_of_Week_Name\": \"Tuesday\"}, {\"CRASH_DAY_OF_WEEK\": 3, \"Crash_Time_Category\": \"8PM-Midnight\", \"Season\": \"Winter\", \"Total_number_of_Crashes\": 2225, \"Injuries_Non_Fatal\": 306.0, \"INJURIES_FATAL\": 5.0, \"Number of Fatal Crashes\": 4, \"Day_of_Week_Name\": \"Tuesday\"}, {\"CRASH_DAY_OF_WEEK\": 3, \"Crash_Time_Category\": \"Midnight-4AM\", \"Season\": \"Fall\", \"Total_number_of_Crashes\": 853, \"Injuries_Non_Fatal\": 152.0, \"INJURIES_FATAL\": 8.0, \"Number of Fatal Crashes\": 7, \"Day_of_Week_Name\": \"Tuesday\"}, {\"CRASH_DAY_OF_WEEK\": 3, \"Crash_Time_Category\": \"Midnight-4AM\", \"Season\": \"Spring\", \"Total_number_of_Crashes\": 959, \"Injuries_Non_Fatal\": 149.0, \"INJURIES_FATAL\": 1.0, \"Number of Fatal Crashes\": 1, \"Day_of_Week_Name\": \"Tuesday\"}, {\"CRASH_DAY_OF_WEEK\": 3, \"Crash_Time_Category\": \"Midnight-4AM\", \"Season\": \"Summer\", \"Total_number_of_Crashes\": 1086, \"Injuries_Non_Fatal\": 220.0, \"INJURIES_FATAL\": 2.0, \"Number of Fatal Crashes\": 1, \"Day_of_Week_Name\": \"Tuesday\"}, {\"CRASH_DAY_OF_WEEK\": 3, \"Crash_Time_Category\": \"Midnight-4AM\", \"Season\": \"Winter\", \"Total_number_of_Crashes\": 805, \"Injuries_Non_Fatal\": 116.0, \"INJURIES_FATAL\": 5.0, \"Number of Fatal Crashes\": 5, \"Day_of_Week_Name\": \"Tuesday\"}, {\"CRASH_DAY_OF_WEEK\": 4, \"Crash_Time_Category\": \"12PM-4PM\", \"Season\": \"Fall\", \"Total_number_of_Crashes\": 7304, \"Injuries_Non_Fatal\": 814.0, \"INJURIES_FATAL\": 5.0, \"Number of Fatal Crashes\": 5, \"Day_of_Week_Name\": \"Wednesday\"}, {\"CRASH_DAY_OF_WEEK\": 4, \"Crash_Time_Category\": \"12PM-4PM\", \"Season\": \"Spring\", \"Total_number_of_Crashes\": 6745, \"Injuries_Non_Fatal\": 681.0, \"INJURIES_FATAL\": 5.0, \"Number of Fatal Crashes\": 5, \"Day_of_Week_Name\": \"Wednesday\"}, {\"CRASH_DAY_OF_WEEK\": 4, \"Crash_Time_Category\": \"12PM-4PM\", \"Season\": \"Summer\", \"Total_number_of_Crashes\": 7953, \"Injuries_Non_Fatal\": 1001.0, \"INJURIES_FATAL\": 5.0, \"Number of Fatal Crashes\": 5, \"Day_of_Week_Name\": \"Wednesday\"}, {\"CRASH_DAY_OF_WEEK\": 4, \"Crash_Time_Category\": \"12PM-4PM\", \"Season\": \"Winter\", \"Total_number_of_Crashes\": 5980, \"Injuries_Non_Fatal\": 621.0, \"INJURIES_FATAL\": 5.0, \"Number of Fatal Crashes\": 5, \"Day_of_Week_Name\": \"Wednesday\"}, {\"CRASH_DAY_OF_WEEK\": 4, \"Crash_Time_Category\": \"4AM-8AM\", \"Season\": \"Fall\", \"Total_number_of_Crashes\": 3050, \"Injuries_Non_Fatal\": 419.0, \"INJURIES_FATAL\": 5.0, \"Number of Fatal Crashes\": 5, \"Day_of_Week_Name\": \"Wednesday\"}, {\"CRASH_DAY_OF_WEEK\": 4, \"Crash_Time_Category\": \"4AM-8AM\", \"Season\": \"Spring\", \"Total_number_of_Crashes\": 2544, \"Injuries_Non_Fatal\": 285.0, \"INJURIES_FATAL\": 7.0, \"Number of Fatal Crashes\": 6, \"Day_of_Week_Name\": \"Wednesday\"}, {\"CRASH_DAY_OF_WEEK\": 4, \"Crash_Time_Category\": \"4AM-8AM\", \"Season\": \"Summer\", \"Total_number_of_Crashes\": 2178, \"Injuries_Non_Fatal\": 323.0, \"INJURIES_FATAL\": 4.0, \"Number of Fatal Crashes\": 4, \"Day_of_Week_Name\": \"Wednesday\"}, {\"CRASH_DAY_OF_WEEK\": 4, \"Crash_Time_Category\": \"4AM-8AM\", \"Season\": \"Winter\", \"Total_number_of_Crashes\": 2466, \"Injuries_Non_Fatal\": 276.0, \"INJURIES_FATAL\": 1.0, \"Number of Fatal Crashes\": 1, \"Day_of_Week_Name\": \"Wednesday\"}, {\"CRASH_DAY_OF_WEEK\": 4, \"Crash_Time_Category\": \"4PM-8PM\", \"Season\": \"Fall\", \"Total_number_of_Crashes\": 7415, \"Injuries_Non_Fatal\": 915.0, \"INJURIES_FATAL\": 5.0, \"Number of Fatal Crashes\": 4, \"Day_of_Week_Name\": \"Wednesday\"}, {\"CRASH_DAY_OF_WEEK\": 4, \"Crash_Time_Category\": \"4PM-8PM\", \"Season\": \"Spring\", \"Total_number_of_Crashes\": 6826, \"Injuries_Non_Fatal\": 742.0, \"INJURIES_FATAL\": 4.0, \"Number of Fatal Crashes\": 3, \"Day_of_Week_Name\": \"Wednesday\"}, {\"CRASH_DAY_OF_WEEK\": 4, \"Crash_Time_Category\": \"4PM-8PM\", \"Season\": \"Summer\", \"Total_number_of_Crashes\": 7906, \"Injuries_Non_Fatal\": 1098.0, \"INJURIES_FATAL\": 6.0, \"Number of Fatal Crashes\": 5, \"Day_of_Week_Name\": \"Wednesday\"}, {\"CRASH_DAY_OF_WEEK\": 4, \"Crash_Time_Category\": \"4PM-8PM\", \"Season\": \"Winter\", \"Total_number_of_Crashes\": 6200, \"Injuries_Non_Fatal\": 658.0, \"INJURIES_FATAL\": 4.0, \"Number of Fatal Crashes\": 4, \"Day_of_Week_Name\": \"Wednesday\"}, {\"CRASH_DAY_OF_WEEK\": 4, \"Crash_Time_Category\": \"8AM-12PM\", \"Season\": \"Fall\", \"Total_number_of_Crashes\": 6252, \"Injuries_Non_Fatal\": 764.0, \"INJURIES_FATAL\": 5.0, \"Number of Fatal Crashes\": 5, \"Day_of_Week_Name\": \"Wednesday\"}, {\"CRASH_DAY_OF_WEEK\": 4, \"Crash_Time_Category\": \"8AM-12PM\", \"Season\": \"Spring\", \"Total_number_of_Crashes\": 5476, \"Injuries_Non_Fatal\": 585.0, \"INJURIES_FATAL\": 1.0, \"Number of Fatal Crashes\": 1, \"Day_of_Week_Name\": \"Wednesday\"}, {\"CRASH_DAY_OF_WEEK\": 4, \"Crash_Time_Category\": \"8AM-12PM\", \"Season\": \"Summer\", \"Total_number_of_Crashes\": 5702, \"Injuries_Non_Fatal\": 615.0, \"INJURIES_FATAL\": 5.0, \"Number of Fatal Crashes\": 3, \"Day_of_Week_Name\": \"Wednesday\"}, {\"CRASH_DAY_OF_WEEK\": 4, \"Crash_Time_Category\": \"8AM-12PM\", \"Season\": \"Winter\", \"Total_number_of_Crashes\": 5281, \"Injuries_Non_Fatal\": 520.0, \"INJURIES_FATAL\": 2.0, \"Number of Fatal Crashes\": 1, \"Day_of_Week_Name\": \"Wednesday\"}, {\"CRASH_DAY_OF_WEEK\": 4, \"Crash_Time_Category\": \"8PM-Midnight\", \"Season\": \"Fall\", \"Total_number_of_Crashes\": 2695, \"Injuries_Non_Fatal\": 459.0, \"INJURIES_FATAL\": 5.0, \"Number of Fatal Crashes\": 5, \"Day_of_Week_Name\": \"Wednesday\"}, {\"CRASH_DAY_OF_WEEK\": 4, \"Crash_Time_Category\": \"8PM-Midnight\", \"Season\": \"Spring\", \"Total_number_of_Crashes\": 2768, \"Injuries_Non_Fatal\": 482.0, \"INJURIES_FATAL\": 9.0, \"Number of Fatal Crashes\": 8, \"Day_of_Week_Name\": \"Wednesday\"}, {\"CRASH_DAY_OF_WEEK\": 4, \"Crash_Time_Category\": \"8PM-Midnight\", \"Season\": \"Summer\", \"Total_number_of_Crashes\": 3180, \"Injuries_Non_Fatal\": 595.0, \"INJURIES_FATAL\": 8.0, \"Number of Fatal Crashes\": 8, \"Day_of_Week_Name\": \"Wednesday\"}, {\"CRASH_DAY_OF_WEEK\": 4, \"Crash_Time_Category\": \"8PM-Midnight\", \"Season\": \"Winter\", \"Total_number_of_Crashes\": 2345, \"Injuries_Non_Fatal\": 365.0, \"INJURIES_FATAL\": 13.0, \"Number of Fatal Crashes\": 11, \"Day_of_Week_Name\": \"Wednesday\"}, {\"CRASH_DAY_OF_WEEK\": 4, \"Crash_Time_Category\": \"Midnight-4AM\", \"Season\": \"Fall\", \"Total_number_of_Crashes\": 921, \"Injuries_Non_Fatal\": 145.0, \"INJURIES_FATAL\": 7.0, \"Number of Fatal Crashes\": 6, \"Day_of_Week_Name\": \"Wednesday\"}, {\"CRASH_DAY_OF_WEEK\": 4, \"Crash_Time_Category\": \"Midnight-4AM\", \"Season\": \"Spring\", \"Total_number_of_Crashes\": 995, \"Injuries_Non_Fatal\": 163.0, \"INJURIES_FATAL\": 6.0, \"Number of Fatal Crashes\": 6, \"Day_of_Week_Name\": \"Wednesday\"}, {\"CRASH_DAY_OF_WEEK\": 4, \"Crash_Time_Category\": \"Midnight-4AM\", \"Season\": \"Summer\", \"Total_number_of_Crashes\": 1324, \"Injuries_Non_Fatal\": 230.0, \"INJURIES_FATAL\": 9.0, \"Number of Fatal Crashes\": 6, \"Day_of_Week_Name\": \"Wednesday\"}, {\"CRASH_DAY_OF_WEEK\": 4, \"Crash_Time_Category\": \"Midnight-4AM\", \"Season\": \"Winter\", \"Total_number_of_Crashes\": 830, \"Injuries_Non_Fatal\": 122.0, \"INJURIES_FATAL\": 3.0, \"Number of Fatal Crashes\": 3, \"Day_of_Week_Name\": \"Wednesday\"}, {\"CRASH_DAY_OF_WEEK\": 5, \"Crash_Time_Category\": \"12PM-4PM\", \"Season\": \"Fall\", \"Total_number_of_Crashes\": 6911, \"Injuries_Non_Fatal\": 853.0, \"INJURIES_FATAL\": 4.0, \"Number of Fatal Crashes\": 4, \"Day_of_Week_Name\": \"Thursday\"}, {\"CRASH_DAY_OF_WEEK\": 5, \"Crash_Time_Category\": \"12PM-4PM\", \"Season\": \"Spring\", \"Total_number_of_Crashes\": 7060, \"Injuries_Non_Fatal\": 776.0, \"INJURIES_FATAL\": 6.0, \"Number of Fatal Crashes\": 5, \"Day_of_Week_Name\": \"Thursday\"}, {\"CRASH_DAY_OF_WEEK\": 5, \"Crash_Time_Category\": \"12PM-4PM\", \"Season\": \"Summer\", \"Total_number_of_Crashes\": 8034, \"Injuries_Non_Fatal\": 897.0, \"INJURIES_FATAL\": 5.0, \"Number of Fatal Crashes\": 5, \"Day_of_Week_Name\": \"Thursday\"}, {\"CRASH_DAY_OF_WEEK\": 5, \"Crash_Time_Category\": \"12PM-4PM\", \"Season\": \"Winter\", \"Total_number_of_Crashes\": 6443, \"Injuries_Non_Fatal\": 606.0, \"INJURIES_FATAL\": 6.0, \"Number of Fatal Crashes\": 5, \"Day_of_Week_Name\": \"Thursday\"}, {\"CRASH_DAY_OF_WEEK\": 5, \"Crash_Time_Category\": \"4AM-8AM\", \"Season\": \"Fall\", \"Total_number_of_Crashes\": 2945, \"Injuries_Non_Fatal\": 355.0, \"INJURIES_FATAL\": 1.0, \"Number of Fatal Crashes\": 1, \"Day_of_Week_Name\": \"Thursday\"}, {\"CRASH_DAY_OF_WEEK\": 5, \"Crash_Time_Category\": \"4AM-8AM\", \"Season\": \"Spring\", \"Total_number_of_Crashes\": 2450, \"Injuries_Non_Fatal\": 301.0, \"INJURIES_FATAL\": 2.0, \"Number of Fatal Crashes\": 2, \"Day_of_Week_Name\": \"Thursday\"}, {\"CRASH_DAY_OF_WEEK\": 5, \"Crash_Time_Category\": \"4AM-8AM\", \"Season\": \"Summer\", \"Total_number_of_Crashes\": 2209, \"Injuries_Non_Fatal\": 302.0, \"INJURIES_FATAL\": 3.0, \"Number of Fatal Crashes\": 3, \"Day_of_Week_Name\": \"Thursday\"}, {\"CRASH_DAY_OF_WEEK\": 5, \"Crash_Time_Category\": \"4AM-8AM\", \"Season\": \"Winter\", \"Total_number_of_Crashes\": 2592, \"Injuries_Non_Fatal\": 287.0, \"INJURIES_FATAL\": 3.0, \"Number of Fatal Crashes\": 3, \"Day_of_Week_Name\": \"Thursday\"}, {\"CRASH_DAY_OF_WEEK\": 5, \"Crash_Time_Category\": \"4PM-8PM\", \"Season\": \"Fall\", \"Total_number_of_Crashes\": 7404, \"Injuries_Non_Fatal\": 927.0, \"INJURIES_FATAL\": 4.0, \"Number of Fatal Crashes\": 4, \"Day_of_Week_Name\": \"Thursday\"}, {\"CRASH_DAY_OF_WEEK\": 5, \"Crash_Time_Category\": \"4PM-8PM\", \"Season\": \"Spring\", \"Total_number_of_Crashes\": 7321, \"Injuries_Non_Fatal\": 886.0, \"INJURIES_FATAL\": 6.0, \"Number of Fatal Crashes\": 6, \"Day_of_Week_Name\": \"Thursday\"}, {\"CRASH_DAY_OF_WEEK\": 5, \"Crash_Time_Category\": \"4PM-8PM\", \"Season\": \"Summer\", \"Total_number_of_Crashes\": 8263, \"Injuries_Non_Fatal\": 1073.0, \"INJURIES_FATAL\": 0.0, \"Number of Fatal Crashes\": 0, \"Day_of_Week_Name\": \"Thursday\"}, {\"CRASH_DAY_OF_WEEK\": 5, \"Crash_Time_Category\": \"4PM-8PM\", \"Season\": \"Winter\", \"Total_number_of_Crashes\": 6819, \"Injuries_Non_Fatal\": 708.0, \"INJURIES_FATAL\": 11.0, \"Number of Fatal Crashes\": 11, \"Day_of_Week_Name\": \"Thursday\"}, {\"CRASH_DAY_OF_WEEK\": 5, \"Crash_Time_Category\": \"8AM-12PM\", \"Season\": \"Fall\", \"Total_number_of_Crashes\": 5916, \"Injuries_Non_Fatal\": 696.0, \"INJURIES_FATAL\": 5.0, \"Number of Fatal Crashes\": 5, \"Day_of_Week_Name\": \"Thursday\"}, {\"CRASH_DAY_OF_WEEK\": 5, \"Crash_Time_Category\": \"8AM-12PM\", \"Season\": \"Spring\", \"Total_number_of_Crashes\": 5454, \"Injuries_Non_Fatal\": 570.0, \"INJURIES_FATAL\": 3.0, \"Number of Fatal Crashes\": 2, \"Day_of_Week_Name\": \"Thursday\"}, {\"CRASH_DAY_OF_WEEK\": 5, \"Crash_Time_Category\": \"8AM-12PM\", \"Season\": \"Summer\", \"Total_number_of_Crashes\": 5819, \"Injuries_Non_Fatal\": 642.0, \"INJURIES_FATAL\": 6.0, \"Number of Fatal Crashes\": 6, \"Day_of_Week_Name\": \"Thursday\"}, {\"CRASH_DAY_OF_WEEK\": 5, \"Crash_Time_Category\": \"8AM-12PM\", \"Season\": \"Winter\", \"Total_number_of_Crashes\": 5394, \"Injuries_Non_Fatal\": 482.0, \"INJURIES_FATAL\": 1.0, \"Number of Fatal Crashes\": 1, \"Day_of_Week_Name\": \"Thursday\"}, {\"CRASH_DAY_OF_WEEK\": 5, \"Crash_Time_Category\": \"8PM-Midnight\", \"Season\": \"Fall\", \"Total_number_of_Crashes\": 3062, \"Injuries_Non_Fatal\": 510.0, \"INJURIES_FATAL\": 11.0, \"Number of Fatal Crashes\": 11, \"Day_of_Week_Name\": \"Thursday\"}, {\"CRASH_DAY_OF_WEEK\": 5, \"Crash_Time_Category\": \"8PM-Midnight\", \"Season\": \"Spring\", \"Total_number_of_Crashes\": 3121, \"Injuries_Non_Fatal\": 503.0, \"INJURIES_FATAL\": 14.0, \"Number of Fatal Crashes\": 12, \"Day_of_Week_Name\": \"Thursday\"}, {\"CRASH_DAY_OF_WEEK\": 5, \"Crash_Time_Category\": \"8PM-Midnight\", \"Season\": \"Summer\", \"Total_number_of_Crashes\": 3557, \"Injuries_Non_Fatal\": 660.0, \"INJURIES_FATAL\": 7.0, \"Number of Fatal Crashes\": 7, \"Day_of_Week_Name\": \"Thursday\"}, {\"CRASH_DAY_OF_WEEK\": 5, \"Crash_Time_Category\": \"8PM-Midnight\", \"Season\": \"Winter\", \"Total_number_of_Crashes\": 2854, \"Injuries_Non_Fatal\": 392.0, \"INJURIES_FATAL\": 7.0, \"Number of Fatal Crashes\": 6, \"Day_of_Week_Name\": \"Thursday\"}, {\"CRASH_DAY_OF_WEEK\": 5, \"Crash_Time_Category\": \"Midnight-4AM\", \"Season\": \"Fall\", \"Total_number_of_Crashes\": 1122, \"Injuries_Non_Fatal\": 181.0, \"INJURIES_FATAL\": 6.0, \"Number of Fatal Crashes\": 4, \"Day_of_Week_Name\": \"Thursday\"}, {\"CRASH_DAY_OF_WEEK\": 5, \"Crash_Time_Category\": \"Midnight-4AM\", \"Season\": \"Spring\", \"Total_number_of_Crashes\": 1001, \"Injuries_Non_Fatal\": 200.0, \"INJURIES_FATAL\": 6.0, \"Number of Fatal Crashes\": 6, \"Day_of_Week_Name\": \"Thursday\"}, {\"CRASH_DAY_OF_WEEK\": 5, \"Crash_Time_Category\": \"Midnight-4AM\", \"Season\": \"Summer\", \"Total_number_of_Crashes\": 1342, \"Injuries_Non_Fatal\": 246.0, \"INJURIES_FATAL\": 10.0, \"Number of Fatal Crashes\": 9, \"Day_of_Week_Name\": \"Thursday\"}, {\"CRASH_DAY_OF_WEEK\": 5, \"Crash_Time_Category\": \"Midnight-4AM\", \"Season\": \"Winter\", \"Total_number_of_Crashes\": 937, \"Injuries_Non_Fatal\": 142.0, \"INJURIES_FATAL\": 2.0, \"Number of Fatal Crashes\": 2, \"Day_of_Week_Name\": \"Thursday\"}, {\"CRASH_DAY_OF_WEEK\": 6, \"Crash_Time_Category\": \"12PM-4PM\", \"Season\": \"Fall\", \"Total_number_of_Crashes\": 8138, \"Injuries_Non_Fatal\": 881.0, \"INJURIES_FATAL\": 4.0, \"Number of Fatal Crashes\": 4, \"Day_of_Week_Name\": \"Friday\"}, {\"CRASH_DAY_OF_WEEK\": 6, \"Crash_Time_Category\": \"12PM-4PM\", \"Season\": \"Spring\", \"Total_number_of_Crashes\": 7894, \"Injuries_Non_Fatal\": 799.0, \"INJURIES_FATAL\": 4.0, \"Number of Fatal Crashes\": 4, \"Day_of_Week_Name\": \"Friday\"}, {\"CRASH_DAY_OF_WEEK\": 6, \"Crash_Time_Category\": \"12PM-4PM\", \"Season\": \"Summer\", \"Total_number_of_Crashes\": 9091, \"Injuries_Non_Fatal\": 1038.0, \"INJURIES_FATAL\": 5.0, \"Number of Fatal Crashes\": 5, \"Day_of_Week_Name\": \"Friday\"}, {\"CRASH_DAY_OF_WEEK\": 6, \"Crash_Time_Category\": \"12PM-4PM\", \"Season\": \"Winter\", \"Total_number_of_Crashes\": 7380, \"Injuries_Non_Fatal\": 672.0, \"INJURIES_FATAL\": 2.0, \"Number of Fatal Crashes\": 2, \"Day_of_Week_Name\": \"Friday\"}, {\"CRASH_DAY_OF_WEEK\": 6, \"Crash_Time_Category\": \"4AM-8AM\", \"Season\": \"Fall\", \"Total_number_of_Crashes\": 2772, \"Injuries_Non_Fatal\": 370.0, \"INJURIES_FATAL\": 2.0, \"Number of Fatal Crashes\": 2, \"Day_of_Week_Name\": \"Friday\"}, {\"CRASH_DAY_OF_WEEK\": 6, \"Crash_Time_Category\": \"4AM-8AM\", \"Season\": \"Spring\", \"Total_number_of_Crashes\": 2442, \"Injuries_Non_Fatal\": 292.0, \"INJURIES_FATAL\": 1.0, \"Number of Fatal Crashes\": 1, \"Day_of_Week_Name\": \"Friday\"}, {\"CRASH_DAY_OF_WEEK\": 6, \"Crash_Time_Category\": \"4AM-8AM\", \"Season\": \"Summer\", \"Total_number_of_Crashes\": 2241, \"Injuries_Non_Fatal\": 331.0, \"INJURIES_FATAL\": 2.0, \"Number of Fatal Crashes\": 2, \"Day_of_Week_Name\": \"Friday\"}, {\"CRASH_DAY_OF_WEEK\": 6, \"Crash_Time_Category\": \"4AM-8AM\", \"Season\": \"Winter\", \"Total_number_of_Crashes\": 2478, \"Injuries_Non_Fatal\": 243.0, \"INJURIES_FATAL\": 1.0, \"Number of Fatal Crashes\": 1, \"Day_of_Week_Name\": \"Friday\"}, {\"CRASH_DAY_OF_WEEK\": 6, \"Crash_Time_Category\": \"4PM-8PM\", \"Season\": \"Fall\", \"Total_number_of_Crashes\": 8466, \"Injuries_Non_Fatal\": 1061.0, \"INJURIES_FATAL\": 6.0, \"Number of Fatal Crashes\": 5, \"Day_of_Week_Name\": \"Friday\"}, {\"CRASH_DAY_OF_WEEK\": 6, \"Crash_Time_Category\": \"4PM-8PM\", \"Season\": \"Spring\", \"Total_number_of_Crashes\": 7781, \"Injuries_Non_Fatal\": 852.0, \"INJURIES_FATAL\": 5.0, \"Number of Fatal Crashes\": 4, \"Day_of_Week_Name\": \"Friday\"}, {\"CRASH_DAY_OF_WEEK\": 6, \"Crash_Time_Category\": \"4PM-8PM\", \"Season\": \"Summer\", \"Total_number_of_Crashes\": 9063, \"Injuries_Non_Fatal\": 1145.0, \"INJURIES_FATAL\": 7.0, \"Number of Fatal Crashes\": 7, \"Day_of_Week_Name\": \"Friday\"}, {\"CRASH_DAY_OF_WEEK\": 6, \"Crash_Time_Category\": \"4PM-8PM\", \"Season\": \"Winter\", \"Total_number_of_Crashes\": 7937, \"Injuries_Non_Fatal\": 776.0, \"INJURIES_FATAL\": 4.0, \"Number of Fatal Crashes\": 4, \"Day_of_Week_Name\": \"Friday\"}, {\"CRASH_DAY_OF_WEEK\": 6, \"Crash_Time_Category\": \"8AM-12PM\", \"Season\": \"Fall\", \"Total_number_of_Crashes\": 5965, \"Injuries_Non_Fatal\": 624.0, \"INJURIES_FATAL\": 1.0, \"Number of Fatal Crashes\": 1, \"Day_of_Week_Name\": \"Friday\"}, {\"CRASH_DAY_OF_WEEK\": 6, \"Crash_Time_Category\": \"8AM-12PM\", \"Season\": \"Spring\", \"Total_number_of_Crashes\": 5426, \"Injuries_Non_Fatal\": 606.0, \"INJURIES_FATAL\": 3.0, \"Number of Fatal Crashes\": 3, \"Day_of_Week_Name\": \"Friday\"}, {\"CRASH_DAY_OF_WEEK\": 6, \"Crash_Time_Category\": \"8AM-12PM\", \"Season\": \"Summer\", \"Total_number_of_Crashes\": 5907, \"Injuries_Non_Fatal\": 668.0, \"INJURIES_FATAL\": 5.0, \"Number of Fatal Crashes\": 5, \"Day_of_Week_Name\": \"Friday\"}, {\"CRASH_DAY_OF_WEEK\": 6, \"Crash_Time_Category\": \"8AM-12PM\", \"Season\": \"Winter\", \"Total_number_of_Crashes\": 5695, \"Injuries_Non_Fatal\": 568.0, \"INJURIES_FATAL\": 4.0, \"Number of Fatal Crashes\": 4, \"Day_of_Week_Name\": \"Friday\"}, {\"CRASH_DAY_OF_WEEK\": 6, \"Crash_Time_Category\": \"8PM-Midnight\", \"Season\": \"Fall\", \"Total_number_of_Crashes\": 4378, \"Injuries_Non_Fatal\": 674.0, \"INJURIES_FATAL\": 4.0, \"Number of Fatal Crashes\": 4, \"Day_of_Week_Name\": \"Friday\"}, {\"CRASH_DAY_OF_WEEK\": 6, \"Crash_Time_Category\": \"8PM-Midnight\", \"Season\": \"Spring\", \"Total_number_of_Crashes\": 4174, \"Injuries_Non_Fatal\": 651.0, \"INJURIES_FATAL\": 12.0, \"Number of Fatal Crashes\": 12, \"Day_of_Week_Name\": \"Friday\"}, {\"CRASH_DAY_OF_WEEK\": 6, \"Crash_Time_Category\": \"8PM-Midnight\", \"Season\": \"Summer\", \"Total_number_of_Crashes\": 4972, \"Injuries_Non_Fatal\": 868.0, \"INJURIES_FATAL\": 11.0, \"Number of Fatal Crashes\": 11, \"Day_of_Week_Name\": \"Friday\"}, {\"CRASH_DAY_OF_WEEK\": 6, \"Crash_Time_Category\": \"8PM-Midnight\", \"Season\": \"Winter\", \"Total_number_of_Crashes\": 3898, \"Injuries_Non_Fatal\": 481.0, \"INJURIES_FATAL\": 7.0, \"Number of Fatal Crashes\": 6, \"Day_of_Week_Name\": \"Friday\"}, {\"CRASH_DAY_OF_WEEK\": 6, \"Crash_Time_Category\": \"Midnight-4AM\", \"Season\": \"Fall\", \"Total_number_of_Crashes\": 1375, \"Injuries_Non_Fatal\": 232.0, \"INJURIES_FATAL\": 3.0, \"Number of Fatal Crashes\": 3, \"Day_of_Week_Name\": \"Friday\"}, {\"CRASH_DAY_OF_WEEK\": 6, \"Crash_Time_Category\": \"Midnight-4AM\", \"Season\": \"Spring\", \"Total_number_of_Crashes\": 1276, \"Injuries_Non_Fatal\": 214.0, \"INJURIES_FATAL\": 5.0, \"Number of Fatal Crashes\": 4, \"Day_of_Week_Name\": \"Friday\"}, {\"CRASH_DAY_OF_WEEK\": 6, \"Crash_Time_Category\": \"Midnight-4AM\", \"Season\": \"Summer\", \"Total_number_of_Crashes\": 1688, \"Injuries_Non_Fatal\": 330.0, \"INJURIES_FATAL\": 7.0, \"Number of Fatal Crashes\": 7, \"Day_of_Week_Name\": \"Friday\"}, {\"CRASH_DAY_OF_WEEK\": 6, \"Crash_Time_Category\": \"Midnight-4AM\", \"Season\": \"Winter\", \"Total_number_of_Crashes\": 1189, \"Injuries_Non_Fatal\": 161.0, \"INJURIES_FATAL\": 5.0, \"Number of Fatal Crashes\": 3, \"Day_of_Week_Name\": \"Friday\"}, {\"CRASH_DAY_OF_WEEK\": 7, \"Crash_Time_Category\": \"12PM-4PM\", \"Season\": \"Fall\", \"Total_number_of_Crashes\": 7284, \"Injuries_Non_Fatal\": 843.0, \"INJURIES_FATAL\": 9.0, \"Number of Fatal Crashes\": 8, \"Day_of_Week_Name\": \"Saturday\"}, {\"CRASH_DAY_OF_WEEK\": 7, \"Crash_Time_Category\": \"12PM-4PM\", \"Season\": \"Spring\", \"Total_number_of_Crashes\": 7264, \"Injuries_Non_Fatal\": 747.0, \"INJURIES_FATAL\": 3.0, \"Number of Fatal Crashes\": 3, \"Day_of_Week_Name\": \"Saturday\"}, {\"CRASH_DAY_OF_WEEK\": 7, \"Crash_Time_Category\": \"12PM-4PM\", \"Season\": \"Summer\", \"Total_number_of_Crashes\": 7950, \"Injuries_Non_Fatal\": 949.0, \"INJURIES_FATAL\": 9.0, \"Number of Fatal Crashes\": 9, \"Day_of_Week_Name\": \"Saturday\"}, {\"CRASH_DAY_OF_WEEK\": 7, \"Crash_Time_Category\": \"12PM-4PM\", \"Season\": \"Winter\", \"Total_number_of_Crashes\": 6655, \"Injuries_Non_Fatal\": 636.0, \"INJURIES_FATAL\": 4.0, \"Number of Fatal Crashes\": 4, \"Day_of_Week_Name\": \"Saturday\"}, {\"CRASH_DAY_OF_WEEK\": 7, \"Crash_Time_Category\": \"4AM-8AM\", \"Season\": \"Fall\", \"Total_number_of_Crashes\": 1875, \"Injuries_Non_Fatal\": 303.0, \"INJURIES_FATAL\": 3.0, \"Number of Fatal Crashes\": 3, \"Day_of_Week_Name\": \"Saturday\"}, {\"CRASH_DAY_OF_WEEK\": 7, \"Crash_Time_Category\": \"4AM-8AM\", \"Season\": \"Spring\", \"Total_number_of_Crashes\": 1592, \"Injuries_Non_Fatal\": 225.0, \"INJURIES_FATAL\": 6.0, \"Number of Fatal Crashes\": 6, \"Day_of_Week_Name\": \"Saturday\"}, {\"CRASH_DAY_OF_WEEK\": 7, \"Crash_Time_Category\": \"4AM-8AM\", \"Season\": \"Summer\", \"Total_number_of_Crashes\": 1915, \"Injuries_Non_Fatal\": 367.0, \"INJURIES_FATAL\": 5.0, \"Number of Fatal Crashes\": 5, \"Day_of_Week_Name\": \"Saturday\"}, {\"CRASH_DAY_OF_WEEK\": 7, \"Crash_Time_Category\": \"4AM-8AM\", \"Season\": \"Winter\", \"Total_number_of_Crashes\": 1679, \"Injuries_Non_Fatal\": 244.0, \"INJURIES_FATAL\": 2.0, \"Number of Fatal Crashes\": 2, \"Day_of_Week_Name\": \"Saturday\"}, {\"CRASH_DAY_OF_WEEK\": 7, \"Crash_Time_Category\": \"4PM-8PM\", \"Season\": \"Fall\", \"Total_number_of_Crashes\": 6242, \"Injuries_Non_Fatal\": 761.0, \"INJURIES_FATAL\": 3.0, \"Number of Fatal Crashes\": 3, \"Day_of_Week_Name\": \"Saturday\"}, {\"CRASH_DAY_OF_WEEK\": 7, \"Crash_Time_Category\": \"4PM-8PM\", \"Season\": \"Spring\", \"Total_number_of_Crashes\": 5934, \"Injuries_Non_Fatal\": 783.0, \"INJURIES_FATAL\": 5.0, \"Number of Fatal Crashes\": 5, \"Day_of_Week_Name\": \"Saturday\"}, {\"CRASH_DAY_OF_WEEK\": 7, \"Crash_Time_Category\": \"4PM-8PM\", \"Season\": \"Summer\", \"Total_number_of_Crashes\": 6985, \"Injuries_Non_Fatal\": 980.0, \"INJURIES_FATAL\": 3.0, \"Number of Fatal Crashes\": 3, \"Day_of_Week_Name\": \"Saturday\"}, {\"CRASH_DAY_OF_WEEK\": 7, \"Crash_Time_Category\": \"4PM-8PM\", \"Season\": \"Winter\", \"Total_number_of_Crashes\": 5576, \"Injuries_Non_Fatal\": 596.0, \"INJURIES_FATAL\": 8.0, \"Number of Fatal Crashes\": 8, \"Day_of_Week_Name\": \"Saturday\"}, {\"CRASH_DAY_OF_WEEK\": 7, \"Crash_Time_Category\": \"8AM-12PM\", \"Season\": \"Fall\", \"Total_number_of_Crashes\": 4673, \"Injuries_Non_Fatal\": 542.0, \"INJURIES_FATAL\": 4.0, \"Number of Fatal Crashes\": 4, \"Day_of_Week_Name\": \"Saturday\"}, {\"CRASH_DAY_OF_WEEK\": 7, \"Crash_Time_Category\": \"8AM-12PM\", \"Season\": \"Spring\", \"Total_number_of_Crashes\": 4180, \"Injuries_Non_Fatal\": 424.0, \"INJURIES_FATAL\": 0.0, \"Number of Fatal Crashes\": 0, \"Day_of_Week_Name\": \"Saturday\"}, {\"CRASH_DAY_OF_WEEK\": 7, \"Crash_Time_Category\": \"8AM-12PM\", \"Season\": \"Summer\", \"Total_number_of_Crashes\": 4850, \"Injuries_Non_Fatal\": 651.0, \"INJURIES_FATAL\": 4.0, \"Number of Fatal Crashes\": 3, \"Day_of_Week_Name\": \"Saturday\"}, {\"CRASH_DAY_OF_WEEK\": 7, \"Crash_Time_Category\": \"8AM-12PM\", \"Season\": \"Winter\", \"Total_number_of_Crashes\": 4286, \"Injuries_Non_Fatal\": 388.0, \"INJURIES_FATAL\": 6.0, \"Number of Fatal Crashes\": 6, \"Day_of_Week_Name\": \"Saturday\"}, {\"CRASH_DAY_OF_WEEK\": 7, \"Crash_Time_Category\": \"8PM-Midnight\", \"Season\": \"Fall\", \"Total_number_of_Crashes\": 4571, \"Injuries_Non_Fatal\": 789.0, \"INJURIES_FATAL\": 8.0, \"Number of Fatal Crashes\": 7, \"Day_of_Week_Name\": \"Saturday\"}, {\"CRASH_DAY_OF_WEEK\": 7, \"Crash_Time_Category\": \"8PM-Midnight\", \"Season\": \"Spring\", \"Total_number_of_Crashes\": 4380, \"Injuries_Non_Fatal\": 686.0, \"INJURIES_FATAL\": 4.0, \"Number of Fatal Crashes\": 4, \"Day_of_Week_Name\": \"Saturday\"}, {\"CRASH_DAY_OF_WEEK\": 7, \"Crash_Time_Category\": \"8PM-Midnight\", \"Season\": \"Summer\", \"Total_number_of_Crashes\": 5456, \"Injuries_Non_Fatal\": 942.0, \"INJURIES_FATAL\": 21.0, \"Number of Fatal Crashes\": 19, \"Day_of_Week_Name\": \"Saturday\"}, {\"CRASH_DAY_OF_WEEK\": 7, \"Crash_Time_Category\": \"8PM-Midnight\", \"Season\": \"Winter\", \"Total_number_of_Crashes\": 3908, \"Injuries_Non_Fatal\": 498.0, \"INJURIES_FATAL\": 12.0, \"Number of Fatal Crashes\": 10, \"Day_of_Week_Name\": \"Saturday\"}, {\"CRASH_DAY_OF_WEEK\": 7, \"Crash_Time_Category\": \"Midnight-4AM\", \"Season\": \"Fall\", \"Total_number_of_Crashes\": 3027, \"Injuries_Non_Fatal\": 637.0, \"INJURIES_FATAL\": 7.0, \"Number of Fatal Crashes\": 7, \"Day_of_Week_Name\": \"Saturday\"}, {\"CRASH_DAY_OF_WEEK\": 7, \"Crash_Time_Category\": \"Midnight-4AM\", \"Season\": \"Spring\", \"Total_number_of_Crashes\": 2742, \"Injuries_Non_Fatal\": 483.0, \"INJURIES_FATAL\": 3.0, \"Number of Fatal Crashes\": 3, \"Day_of_Week_Name\": \"Saturday\"}, {\"CRASH_DAY_OF_WEEK\": 7, \"Crash_Time_Category\": \"Midnight-4AM\", \"Season\": \"Summer\", \"Total_number_of_Crashes\": 3440, \"Injuries_Non_Fatal\": 734.0, \"INJURIES_FATAL\": 10.0, \"Number of Fatal Crashes\": 9, \"Day_of_Week_Name\": \"Saturday\"}, {\"CRASH_DAY_OF_WEEK\": 7, \"Crash_Time_Category\": \"Midnight-4AM\", \"Season\": \"Winter\", \"Total_number_of_Crashes\": 2638, \"Injuries_Non_Fatal\": 419.0, \"INJURIES_FATAL\": 12.0, \"Number of Fatal Crashes\": 12, \"Day_of_Week_Name\": \"Saturday\"}]}}, {\"mode\": \"vega-lite\"});\n",
              "</script>"
            ],
            "text/plain": [
              "alt.Chart(...)"
            ]
          },
          "execution_count": 52,
          "metadata": {},
          "output_type": "execute_result"
        }
      ],
      "source": [
        "# Create the Altair bar chart\n",
        "bars = alt.Chart(df_season).mark_bar().encode(\n",
        "    x=alt.X('Season:N', title='Season'),\n",
        "    y=alt.Y('sum(Number of Fatal Crashes):Q', title='Number of Fatal Crashes'),\n",
        "    color=alt.Color('Season:N', scale=alt.Scale(scheme='category20'))  # Assign color based on 'Day_of_Week_Name'\n",
        ").properties(\n",
        "    width=400,\n",
        "    height=300,\n",
        "    title='Season vs Crashes'\n",
        ")\n",
        "bars"
      ]
    },
    {
      "cell_type": "markdown",
      "metadata": {
        "id": "QNTb1dwwyILg"
      },
      "source": [
        "### Analysis\n",
        "\n",
        "Our hypothesis that Winter is associated with most fatal accidents doesn't hold true. Because the insights drawn shows that Summer has most accidents which are fatal. This happens because there are chances that people tend to stay indoors due to bad weather conditions while during summer months majority of them go out and thereby increasing number of people on road. As a result, accidents increase as well.\n",
        "\n"
      ]
    },
    {
      "cell_type": "markdown",
      "metadata": {
        "id": "s82JFlgGGpqB"
      },
      "source": [
        "### Analysis of all crashes by Season, Day of week and Time  "
      ]
    },
    {
      "cell_type": "code",
      "execution_count": 53,
      "metadata": {
        "id": "-7U9MpfxGpqC"
      },
      "outputs": [],
      "source": [
        "df_season_day = df_season.groupby(['Day_of_Week_Name','Season']).agg({'Total_number_of_Crashes':'sum','Number of Fatal Crashes':'sum'})\n",
        "df_season_day = df_season_day.reset_index()"
      ]
    },
    {
      "cell_type": "code",
      "execution_count": 54,
      "metadata": {
        "colab": {
          "base_uri": "https://localhost:8080/"
        },
        "id": "WFxIS5GgGpqC",
        "outputId": "6ac86c5f-4633-4e32-ae59-6a9dd4d61416"
      },
      "outputs": [
        {
          "name": "stdout",
          "output_type": "stream",
          "text": [
            "    Season Crash_Time_Category  Max_Crashes\n",
            "2     Fall             4PM-8PM         8466\n",
            "6   Spring            12PM-4PM         7894\n",
            "12  Summer            12PM-4PM         9091\n",
            "20  Winter             4PM-8PM         7937\n"
          ]
        }
      ],
      "source": [
        "# Group the data by 'Season' and 'Crash_Time_Category' and calculate the maximum for each group\n",
        "max_values = df_season.groupby(['Season', 'Crash_Time_Category'])['Total_number_of_Crashes'].max().reset_index()\n",
        "\n",
        "# Find the time category with the maximum value for each season\n",
        "season_max_time = max_values.loc[max_values.groupby('Season')['Total_number_of_Crashes'].idxmax()]\n",
        "\n",
        "# Rename the 'Total_number_of_Crashes' column to 'Max_Crashes' to make it more meaningful\n",
        "season_max_time = season_max_time.rename(columns={'Total_number_of_Crashes': 'Max_Crashes'})\n",
        "\n",
        "# Print the resulting DataFrame\n",
        "print(season_max_time)"
      ]
    },
    {
      "cell_type": "markdown",
      "metadata": {
        "id": "uHbGD7IPGpqD"
      },
      "source": [
        "### Highest Crashes Visualization"
      ]
    },
    {
      "cell_type": "code",
      "execution_count": 55,
      "metadata": {
        "colab": {
          "base_uri": "https://localhost:8080/",
          "height": 346
        },
        "id": "zNXlKLfeGpqD",
        "outputId": "4c361136-7e03-468e-a9a4-4b86784980f7"
      },
      "outputs": [
        {
          "data": {
            "text/html": [
              "\n",
              "<style>\n",
              "  #altair-viz-70de9e5c25f8433bbc82171559c67c4c.vega-embed {\n",
              "    width: 100%;\n",
              "    display: flex;\n",
              "  }\n",
              "\n",
              "  #altair-viz-70de9e5c25f8433bbc82171559c67c4c.vega-embed details,\n",
              "  #altair-viz-70de9e5c25f8433bbc82171559c67c4c.vega-embed details summary {\n",
              "    position: relative;\n",
              "  }\n",
              "</style>\n",
              "<div id=\"altair-viz-70de9e5c25f8433bbc82171559c67c4c\"></div>\n",
              "<script type=\"text/javascript\">\n",
              "  var VEGA_DEBUG = (typeof VEGA_DEBUG == \"undefined\") ? {} : VEGA_DEBUG;\n",
              "  (function(spec, embedOpt){\n",
              "    let outputDiv = document.currentScript.previousElementSibling;\n",
              "    if (outputDiv.id !== \"altair-viz-70de9e5c25f8433bbc82171559c67c4c\") {\n",
              "      outputDiv = document.getElementById(\"altair-viz-70de9e5c25f8433bbc82171559c67c4c\");\n",
              "    }\n",
              "    const paths = {\n",
              "      \"vega\": \"https://cdn.jsdelivr.net/npm/vega@5?noext\",\n",
              "      \"vega-lib\": \"https://cdn.jsdelivr.net/npm/vega-lib?noext\",\n",
              "      \"vega-lite\": \"https://cdn.jsdelivr.net/npm/vega-lite@5.14.1?noext\",\n",
              "      \"vega-embed\": \"https://cdn.jsdelivr.net/npm/vega-embed@6?noext\",\n",
              "    };\n",
              "\n",
              "    function maybeLoadScript(lib, version) {\n",
              "      var key = `${lib.replace(\"-\", \"\")}_version`;\n",
              "      return (VEGA_DEBUG[key] == version) ?\n",
              "        Promise.resolve(paths[lib]) :\n",
              "        new Promise(function(resolve, reject) {\n",
              "          var s = document.createElement('script');\n",
              "          document.getElementsByTagName(\"head\")[0].appendChild(s);\n",
              "          s.async = true;\n",
              "          s.onload = () => {\n",
              "            VEGA_DEBUG[key] = version;\n",
              "            return resolve(paths[lib]);\n",
              "          };\n",
              "          s.onerror = () => reject(`Error loading script: ${paths[lib]}`);\n",
              "          s.src = paths[lib];\n",
              "        });\n",
              "    }\n",
              "\n",
              "    function showError(err) {\n",
              "      outputDiv.innerHTML = `<div class=\"error\" style=\"color:red;\">${err}</div>`;\n",
              "      throw err;\n",
              "    }\n",
              "\n",
              "    function displayChart(vegaEmbed) {\n",
              "      vegaEmbed(outputDiv, spec, embedOpt)\n",
              "        .catch(err => showError(`Javascript Error: ${err.message}<br>This usually means there's a typo in your chart specification. See the javascript console for the full traceback.`));\n",
              "    }\n",
              "\n",
              "    if(typeof define === \"function\" && define.amd) {\n",
              "      requirejs.config({paths});\n",
              "      require([\"vega-embed\"], displayChart, err => showError(`Error loading script: ${err.message}`));\n",
              "    } else {\n",
              "      maybeLoadScript(\"vega\", \"5\")\n",
              "        .then(() => maybeLoadScript(\"vega-lite\", \"5.14.1\"))\n",
              "        .then(() => maybeLoadScript(\"vega-embed\", \"6\"))\n",
              "        .catch(showError)\n",
              "        .then(() => displayChart(vegaEmbed));\n",
              "    }\n",
              "  })({\"config\": {\"view\": {\"continuousWidth\": 300, \"continuousHeight\": 300}}, \"hconcat\": [{\"data\": {\"name\": \"data-7a0f6bba282f08654f9b60db49fee459\"}, \"mark\": {\"type\": \"bar\"}, \"encoding\": {\"color\": {\"field\": \"Season\", \"scale\": {\"domain\": [\"Fall\", \"Spring\", \"Summer\", \"Winter\"], \"range\": [\"blue\", \"green\", \"red\", \"purple\"]}, \"title\": \"Season\", \"type\": \"nominal\"}, \"column\": {\"field\": \"Crash_Time_Category\", \"title\": \"Time Category\", \"type\": \"nominal\"}, \"x\": {\"field\": \"Day_of_Week_Name\", \"title\": \"Day of the Week\", \"type\": \"nominal\"}, \"y\": {\"field\": \"Total_number_of_Crashes\", \"title\": \"Total Crashes\", \"type\": \"quantitative\"}}, \"height\": 150, \"title\": \"Crashes in Fall - 4PM-8PM\", \"width\": 200}, {\"data\": {\"name\": \"data-4691ec74c60df68876d43ece1eccc9b3\"}, \"mark\": {\"type\": \"bar\"}, \"encoding\": {\"color\": {\"field\": \"Season\", \"scale\": {\"domain\": [\"Fall\", \"Spring\", \"Summer\", \"Winter\"], \"range\": [\"blue\", \"green\", \"red\", \"purple\"]}, \"title\": \"Season\", \"type\": \"nominal\"}, \"column\": {\"field\": \"Crash_Time_Category\", \"title\": \"Time Category\", \"type\": \"nominal\"}, \"x\": {\"field\": \"Day_of_Week_Name\", \"title\": \"Day of the Week\", \"type\": \"nominal\"}, \"y\": {\"field\": \"Total_number_of_Crashes\", \"title\": \"Total Crashes\", \"type\": \"quantitative\"}}, \"height\": 150, \"title\": \"Crashes in Spring - 12PM-4PM\", \"width\": 200}, {\"data\": {\"name\": \"data-be22aa37274c2bfb02403f27b690ed7c\"}, \"mark\": {\"type\": \"bar\"}, \"encoding\": {\"color\": {\"field\": \"Season\", \"scale\": {\"domain\": [\"Fall\", \"Spring\", \"Summer\", \"Winter\"], \"range\": [\"blue\", \"green\", \"red\", \"purple\"]}, \"title\": \"Season\", \"type\": \"nominal\"}, \"column\": {\"field\": \"Crash_Time_Category\", \"title\": \"Time Category\", \"type\": \"nominal\"}, \"x\": {\"field\": \"Day_of_Week_Name\", \"title\": \"Day of the Week\", \"type\": \"nominal\"}, \"y\": {\"field\": \"Total_number_of_Crashes\", \"title\": \"Total Crashes\", \"type\": \"quantitative\"}}, \"height\": 150, \"title\": \"Crashes in Summer - 12PM-4PM\", \"width\": 200}, {\"data\": {\"name\": \"data-3db7dbfbab35544c2ace79e965427983\"}, \"mark\": {\"type\": \"bar\"}, \"encoding\": {\"color\": {\"field\": \"Season\", \"scale\": {\"domain\": [\"Fall\", \"Spring\", \"Summer\", \"Winter\"], \"range\": [\"blue\", \"green\", \"red\", \"purple\"]}, \"title\": \"Season\", \"type\": \"nominal\"}, \"column\": {\"field\": \"Crash_Time_Category\", \"title\": \"Time Category\", \"type\": \"nominal\"}, \"x\": {\"field\": \"Day_of_Week_Name\", \"title\": \"Day of the Week\", \"type\": \"nominal\"}, \"y\": {\"field\": \"Total_number_of_Crashes\", \"title\": \"Total Crashes\", \"type\": \"quantitative\"}}, \"height\": 150, \"title\": \"Crashes in Winter - 4PM-8PM\", \"width\": 200}], \"$schema\": \"https://vega.github.io/schema/vega-lite/v5.14.1.json\", \"datasets\": {\"data-7a0f6bba282f08654f9b60db49fee459\": [{\"CRASH_DAY_OF_WEEK\": 1, \"Crash_Time_Category\": \"4PM-8PM\", \"Season\": \"Fall\", \"Total_number_of_Crashes\": 5064, \"Injuries_Non_Fatal\": 664.0, \"INJURIES_FATAL\": 8.0, \"Number of Fatal Crashes\": 8, \"Day_of_Week_Name\": \"Sunday\"}, {\"CRASH_DAY_OF_WEEK\": 2, \"Crash_Time_Category\": \"4PM-8PM\", \"Season\": \"Fall\", \"Total_number_of_Crashes\": 6674, \"Injuries_Non_Fatal\": 856.0, \"INJURIES_FATAL\": 5.0, \"Number of Fatal Crashes\": 3, \"Day_of_Week_Name\": \"Monday\"}, {\"CRASH_DAY_OF_WEEK\": 3, \"Crash_Time_Category\": \"4PM-8PM\", \"Season\": \"Fall\", \"Total_number_of_Crashes\": 7603, \"Injuries_Non_Fatal\": 900.0, \"INJURIES_FATAL\": 2.0, \"Number of Fatal Crashes\": 2, \"Day_of_Week_Name\": \"Tuesday\"}, {\"CRASH_DAY_OF_WEEK\": 4, \"Crash_Time_Category\": \"4PM-8PM\", \"Season\": \"Fall\", \"Total_number_of_Crashes\": 7415, \"Injuries_Non_Fatal\": 915.0, \"INJURIES_FATAL\": 5.0, \"Number of Fatal Crashes\": 4, \"Day_of_Week_Name\": \"Wednesday\"}, {\"CRASH_DAY_OF_WEEK\": 5, \"Crash_Time_Category\": \"4PM-8PM\", \"Season\": \"Fall\", \"Total_number_of_Crashes\": 7404, \"Injuries_Non_Fatal\": 927.0, \"INJURIES_FATAL\": 4.0, \"Number of Fatal Crashes\": 4, \"Day_of_Week_Name\": \"Thursday\"}, {\"CRASH_DAY_OF_WEEK\": 6, \"Crash_Time_Category\": \"4PM-8PM\", \"Season\": \"Fall\", \"Total_number_of_Crashes\": 8466, \"Injuries_Non_Fatal\": 1061.0, \"INJURIES_FATAL\": 6.0, \"Number of Fatal Crashes\": 5, \"Day_of_Week_Name\": \"Friday\"}, {\"CRASH_DAY_OF_WEEK\": 7, \"Crash_Time_Category\": \"4PM-8PM\", \"Season\": \"Fall\", \"Total_number_of_Crashes\": 6242, \"Injuries_Non_Fatal\": 761.0, \"INJURIES_FATAL\": 3.0, \"Number of Fatal Crashes\": 3, \"Day_of_Week_Name\": \"Saturday\"}], \"data-4691ec74c60df68876d43ece1eccc9b3\": [{\"CRASH_DAY_OF_WEEK\": 1, \"Crash_Time_Category\": \"12PM-4PM\", \"Season\": \"Spring\", \"Total_number_of_Crashes\": 5640, \"Injuries_Non_Fatal\": 676.0, \"INJURIES_FATAL\": 3.0, \"Number of Fatal Crashes\": 3, \"Day_of_Week_Name\": \"Sunday\"}, {\"CRASH_DAY_OF_WEEK\": 2, \"Crash_Time_Category\": \"12PM-4PM\", \"Season\": \"Spring\", \"Total_number_of_Crashes\": 6530, \"Injuries_Non_Fatal\": 637.0, \"INJURIES_FATAL\": 3.0, \"Number of Fatal Crashes\": 3, \"Day_of_Week_Name\": \"Monday\"}, {\"CRASH_DAY_OF_WEEK\": 3, \"Crash_Time_Category\": \"12PM-4PM\", \"Season\": \"Spring\", \"Total_number_of_Crashes\": 6868, \"Injuries_Non_Fatal\": 721.0, \"INJURIES_FATAL\": 6.0, \"Number of Fatal Crashes\": 6, \"Day_of_Week_Name\": \"Tuesday\"}, {\"CRASH_DAY_OF_WEEK\": 4, \"Crash_Time_Category\": \"12PM-4PM\", \"Season\": \"Spring\", \"Total_number_of_Crashes\": 6745, \"Injuries_Non_Fatal\": 681.0, \"INJURIES_FATAL\": 5.0, \"Number of Fatal Crashes\": 5, \"Day_of_Week_Name\": \"Wednesday\"}, {\"CRASH_DAY_OF_WEEK\": 5, \"Crash_Time_Category\": \"12PM-4PM\", \"Season\": \"Spring\", \"Total_number_of_Crashes\": 7060, \"Injuries_Non_Fatal\": 776.0, \"INJURIES_FATAL\": 6.0, \"Number of Fatal Crashes\": 5, \"Day_of_Week_Name\": \"Thursday\"}, {\"CRASH_DAY_OF_WEEK\": 6, \"Crash_Time_Category\": \"12PM-4PM\", \"Season\": \"Spring\", \"Total_number_of_Crashes\": 7894, \"Injuries_Non_Fatal\": 799.0, \"INJURIES_FATAL\": 4.0, \"Number of Fatal Crashes\": 4, \"Day_of_Week_Name\": \"Friday\"}, {\"CRASH_DAY_OF_WEEK\": 7, \"Crash_Time_Category\": \"12PM-4PM\", \"Season\": \"Spring\", \"Total_number_of_Crashes\": 7264, \"Injuries_Non_Fatal\": 747.0, \"INJURIES_FATAL\": 3.0, \"Number of Fatal Crashes\": 3, \"Day_of_Week_Name\": \"Saturday\"}], \"data-be22aa37274c2bfb02403f27b690ed7c\": [{\"CRASH_DAY_OF_WEEK\": 1, \"Crash_Time_Category\": \"12PM-4PM\", \"Season\": \"Summer\", \"Total_number_of_Crashes\": 6184, \"Injuries_Non_Fatal\": 835.0, \"INJURIES_FATAL\": 5.0, \"Number of Fatal Crashes\": 5, \"Day_of_Week_Name\": \"Sunday\"}, {\"CRASH_DAY_OF_WEEK\": 2, \"Crash_Time_Category\": \"12PM-4PM\", \"Season\": \"Summer\", \"Total_number_of_Crashes\": 7895, \"Injuries_Non_Fatal\": 983.0, \"INJURIES_FATAL\": 3.0, \"Number of Fatal Crashes\": 3, \"Day_of_Week_Name\": \"Monday\"}, {\"CRASH_DAY_OF_WEEK\": 3, \"Crash_Time_Category\": \"12PM-4PM\", \"Season\": \"Summer\", \"Total_number_of_Crashes\": 7842, \"Injuries_Non_Fatal\": 945.0, \"INJURIES_FATAL\": 3.0, \"Number of Fatal Crashes\": 3, \"Day_of_Week_Name\": \"Tuesday\"}, {\"CRASH_DAY_OF_WEEK\": 4, \"Crash_Time_Category\": \"12PM-4PM\", \"Season\": \"Summer\", \"Total_number_of_Crashes\": 7953, \"Injuries_Non_Fatal\": 1001.0, \"INJURIES_FATAL\": 5.0, \"Number of Fatal Crashes\": 5, \"Day_of_Week_Name\": \"Wednesday\"}, {\"CRASH_DAY_OF_WEEK\": 5, \"Crash_Time_Category\": \"12PM-4PM\", \"Season\": \"Summer\", \"Total_number_of_Crashes\": 8034, \"Injuries_Non_Fatal\": 897.0, \"INJURIES_FATAL\": 5.0, \"Number of Fatal Crashes\": 5, \"Day_of_Week_Name\": \"Thursday\"}, {\"CRASH_DAY_OF_WEEK\": 6, \"Crash_Time_Category\": \"12PM-4PM\", \"Season\": \"Summer\", \"Total_number_of_Crashes\": 9091, \"Injuries_Non_Fatal\": 1038.0, \"INJURIES_FATAL\": 5.0, \"Number of Fatal Crashes\": 5, \"Day_of_Week_Name\": \"Friday\"}, {\"CRASH_DAY_OF_WEEK\": 7, \"Crash_Time_Category\": \"12PM-4PM\", \"Season\": \"Summer\", \"Total_number_of_Crashes\": 7950, \"Injuries_Non_Fatal\": 949.0, \"INJURIES_FATAL\": 9.0, \"Number of Fatal Crashes\": 9, \"Day_of_Week_Name\": \"Saturday\"}], \"data-3db7dbfbab35544c2ace79e965427983\": [{\"CRASH_DAY_OF_WEEK\": 1, \"Crash_Time_Category\": \"4PM-8PM\", \"Season\": \"Winter\", \"Total_number_of_Crashes\": 4305, \"Injuries_Non_Fatal\": 490.0, \"INJURIES_FATAL\": 1.0, \"Number of Fatal Crashes\": 1, \"Day_of_Week_Name\": \"Sunday\"}, {\"CRASH_DAY_OF_WEEK\": 2, \"Crash_Time_Category\": \"4PM-8PM\", \"Season\": \"Winter\", \"Total_number_of_Crashes\": 5617, \"Injuries_Non_Fatal\": 633.0, \"INJURIES_FATAL\": 2.0, \"Number of Fatal Crashes\": 2, \"Day_of_Week_Name\": \"Monday\"}, {\"CRASH_DAY_OF_WEEK\": 3, \"Crash_Time_Category\": \"4PM-8PM\", \"Season\": \"Winter\", \"Total_number_of_Crashes\": 6635, \"Injuries_Non_Fatal\": 650.0, \"INJURIES_FATAL\": 5.0, \"Number of Fatal Crashes\": 5, \"Day_of_Week_Name\": \"Tuesday\"}, {\"CRASH_DAY_OF_WEEK\": 4, \"Crash_Time_Category\": \"4PM-8PM\", \"Season\": \"Winter\", \"Total_number_of_Crashes\": 6200, \"Injuries_Non_Fatal\": 658.0, \"INJURIES_FATAL\": 4.0, \"Number of Fatal Crashes\": 4, \"Day_of_Week_Name\": \"Wednesday\"}, {\"CRASH_DAY_OF_WEEK\": 5, \"Crash_Time_Category\": \"4PM-8PM\", \"Season\": \"Winter\", \"Total_number_of_Crashes\": 6819, \"Injuries_Non_Fatal\": 708.0, \"INJURIES_FATAL\": 11.0, \"Number of Fatal Crashes\": 11, \"Day_of_Week_Name\": \"Thursday\"}, {\"CRASH_DAY_OF_WEEK\": 6, \"Crash_Time_Category\": \"4PM-8PM\", \"Season\": \"Winter\", \"Total_number_of_Crashes\": 7937, \"Injuries_Non_Fatal\": 776.0, \"INJURIES_FATAL\": 4.0, \"Number of Fatal Crashes\": 4, \"Day_of_Week_Name\": \"Friday\"}, {\"CRASH_DAY_OF_WEEK\": 7, \"Crash_Time_Category\": \"4PM-8PM\", \"Season\": \"Winter\", \"Total_number_of_Crashes\": 5576, \"Injuries_Non_Fatal\": 596.0, \"INJURIES_FATAL\": 8.0, \"Number of Fatal Crashes\": 8, \"Day_of_Week_Name\": \"Saturday\"}]}}, {\"mode\": \"vega-lite\"});\n",
              "</script>"
            ],
            "text/plain": [
              "alt.HConcatChart(...)"
            ]
          },
          "execution_count": 55,
          "metadata": {},
          "output_type": "execute_result"
        }
      ],
      "source": [
        "# List of unique seasons\n",
        "seasons = df_season['Season'].unique()\n",
        "\n",
        "# Define a color scheme for seasons\n",
        "season_colors = alt.Scale(domain=list(seasons), range=['blue', 'green', 'red', 'purple'])  # Customize colors as needed\n",
        "\n",
        "# Create a list to store the individual charts for each season\n",
        "season_charts = []\n",
        "\n",
        "# Loop through each season\n",
        "for season in seasons:\n",
        "    # Filter data for the current season and time category\n",
        "    if season in ['Fall', 'Winter']:\n",
        "        time_category = '4PM-8PM'\n",
        "    else:\n",
        "        time_category = '12PM-4PM'\n",
        "\n",
        "    season_data = df_season[(df_season['Season'] == season) & (df_season['Crash_Time_Category'] == time_category)]\n",
        "\n",
        "    # Create a chart for the current season\n",
        "    chart = alt.Chart(season_data).mark_bar().encode(\n",
        "        x=alt.X('Day_of_Week_Name:N', title='Day of the Week'),\n",
        "        y=alt.Y('Total_number_of_Crashes:Q', title='Total Crashes'),\n",
        "        color=alt.Color('Season:N', title='Season', scale=season_colors),  # Apply the color scale\n",
        "        column=alt.Column('Crash_Time_Category:N', title='Time Category')\n",
        "    ).properties(\n",
        "        width=200,\n",
        "        height=150,\n",
        "        title=f'Crashes in {season} - {time_category}'\n",
        "    )\n",
        "\n",
        "    # Append the current season chart to the list\n",
        "    season_charts.append(chart)\n",
        "\n",
        "# Combine the individual season charts vertically\n",
        "small_multiples = alt.hconcat(*season_charts)\n",
        "\n",
        "small_multiples"
      ]
    },
    {
      "cell_type": "markdown",
      "metadata": {
        "id": "KZq_JumLSqdr"
      },
      "source": [
        "Our Hypothesis that weekday rish hour is associated with most accidents is true because afternoon rush hour is between 12 and 4 PM and evening rush hour is between 4PM and 8 PM. Both these are included in the graph but the exact period differs from season to season."
      ]
    },
    {
      "cell_type": "markdown",
      "metadata": {
        "id": "Mo2kgF8S0DfT"
      },
      "source": [
        "## Analysis:\n",
        "\n",
        "1. Distribution of Crashes Across the Week:\n",
        "\n",
        "The data suggests that the distribution of crashes across the week remains relatively consistent across all seasons. This finding is indicative of a consistent pattern in road safety or traffic conditions that doesn't significantly vary with changing weather and environmental conditions.\n",
        "\n",
        "2. Similar Peak Times in Winter & Fall and Summer & Spring:\n",
        "\n",
        "It's worth noting that the time periods when crashes peak are consistent in two distinct pairs of seasons, namely Winter and Fall, and Summer and Spring.\n",
        "This observation might be attributed to shared factors such as daylight hours, road conditions, or driver behavior that span these seasonal transitions.\n",
        "3. Friday as the Most Prone Day for Crashes:\n",
        "\n",
        "Despite the differences in the time of occurrence for crashes across the four seasons, Friday consistently stands out as the day with the highest number of crashes.\n",
        "This could indicate that factors contributing to Friday's higher crash rate are consistent year-round and may not be significantly influenced by seasonal variations.\n",
        "It would be interesting to delve deeper into why Fridays exhibit this heightened risk. It could be related to factors such as increased traffic volume, driver fatigue, or behavioral patterns.\n",
        "4. Possible Implications:\n",
        "\n",
        "These findings could be valuable for road safety and traffic management authorities. Understanding the patterns of crashes across different seasons and their similarities may help in developing more targeted strategies for accident prevention.\n",
        "The consistent high-risk nature of Fridays calls for focused safety measures and awareness campaigns on that particular day, as it appears to be an area of concern regardless of the season.\n",
        "5. Future Research:\n",
        "\n",
        "Further research could explore the underlying factors contributing to the consistent patterns observed, particularly why Fridays are consistently high-risk days. This could involve detailed analysis of traffic conditions, driver behaviors, and other contextual factors.\n",
        "\n",
        "Here is an article that details peak periods of accident crashes in each season: https://injuryfacts.nsc.org/motor-vehicle/overview/crashes-by-time-of-day-and-day-of-week/#:~:text=On%20average%20in%202021%2C%20fatal,on%20weekdays%2C%20peaking%20on%20Friday"
      ]
    },
    {
      "cell_type": "markdown",
      "metadata": {
        "id": "RqSgEnD5GpqE"
      },
      "source": [
        "### Fatal Crashes Analysis by Season, Day and Time of day"
      ]
    },
    {
      "cell_type": "code",
      "execution_count": 56,
      "metadata": {
        "colab": {
          "base_uri": "https://localhost:8080/"
        },
        "id": "o6coBo8qGpqE",
        "outputId": "c6e70fda-b6e1-446e-fb37-87dd90b5d153"
      },
      "outputs": [
        {
          "name": "stdout",
          "output_type": "stream",
          "text": [
            "    Season Crash_Time_Category  Max_Crashes\n",
            "5     Fall        Midnight-4AM           13\n",
            "10  Spring        8PM-Midnight           12\n",
            "16  Summer        8PM-Midnight           19\n",
            "23  Winter        Midnight-4AM           12\n"
          ]
        }
      ],
      "source": [
        "# Group the data by 'Season' and 'Crash_Time_Category' and calculate the maximum for each group\n",
        "max_values = df_season.groupby(['Season', 'Crash_Time_Category'])['Number of Fatal Crashes'].max().reset_index()\n",
        "\n",
        "# Find the time category with the maximum value for each season\n",
        "season_max_time = max_values.loc[max_values.groupby('Season')['Number of Fatal Crashes'].idxmax()]\n",
        "\n",
        "# Rename the 'Total_number_of_Crashes' column to 'Max_Crashes' to make it more meaningful\n",
        "season_max_time = season_max_time.rename(columns={'Number of Fatal Crashes': 'Max_Crashes'})\n",
        "\n",
        "# Print the resulting DataFrame\n",
        "print(season_max_time)"
      ]
    },
    {
      "cell_type": "markdown",
      "metadata": {
        "id": "NARsasSEGpqF"
      },
      "source": [
        "### Max fatal crashes visualization"
      ]
    },
    {
      "cell_type": "code",
      "execution_count": 57,
      "metadata": {
        "colab": {
          "base_uri": "https://localhost:8080/",
          "height": 326
        },
        "id": "Z_JIbLhOGpqF",
        "outputId": "ef0cdf9d-ad1a-4470-9c32-70a8a2601d0a"
      },
      "outputs": [
        {
          "data": {
            "text/html": [
              "\n",
              "<style>\n",
              "  #altair-viz-74d5d019e13c4ee28e47f255426475ff.vega-embed {\n",
              "    width: 100%;\n",
              "    display: flex;\n",
              "  }\n",
              "\n",
              "  #altair-viz-74d5d019e13c4ee28e47f255426475ff.vega-embed details,\n",
              "  #altair-viz-74d5d019e13c4ee28e47f255426475ff.vega-embed details summary {\n",
              "    position: relative;\n",
              "  }\n",
              "</style>\n",
              "<div id=\"altair-viz-74d5d019e13c4ee28e47f255426475ff\"></div>\n",
              "<script type=\"text/javascript\">\n",
              "  var VEGA_DEBUG = (typeof VEGA_DEBUG == \"undefined\") ? {} : VEGA_DEBUG;\n",
              "  (function(spec, embedOpt){\n",
              "    let outputDiv = document.currentScript.previousElementSibling;\n",
              "    if (outputDiv.id !== \"altair-viz-74d5d019e13c4ee28e47f255426475ff\") {\n",
              "      outputDiv = document.getElementById(\"altair-viz-74d5d019e13c4ee28e47f255426475ff\");\n",
              "    }\n",
              "    const paths = {\n",
              "      \"vega\": \"https://cdn.jsdelivr.net/npm/vega@5?noext\",\n",
              "      \"vega-lib\": \"https://cdn.jsdelivr.net/npm/vega-lib?noext\",\n",
              "      \"vega-lite\": \"https://cdn.jsdelivr.net/npm/vega-lite@5.14.1?noext\",\n",
              "      \"vega-embed\": \"https://cdn.jsdelivr.net/npm/vega-embed@6?noext\",\n",
              "    };\n",
              "\n",
              "    function maybeLoadScript(lib, version) {\n",
              "      var key = `${lib.replace(\"-\", \"\")}_version`;\n",
              "      return (VEGA_DEBUG[key] == version) ?\n",
              "        Promise.resolve(paths[lib]) :\n",
              "        new Promise(function(resolve, reject) {\n",
              "          var s = document.createElement('script');\n",
              "          document.getElementsByTagName(\"head\")[0].appendChild(s);\n",
              "          s.async = true;\n",
              "          s.onload = () => {\n",
              "            VEGA_DEBUG[key] = version;\n",
              "            return resolve(paths[lib]);\n",
              "          };\n",
              "          s.onerror = () => reject(`Error loading script: ${paths[lib]}`);\n",
              "          s.src = paths[lib];\n",
              "        });\n",
              "    }\n",
              "\n",
              "    function showError(err) {\n",
              "      outputDiv.innerHTML = `<div class=\"error\" style=\"color:red;\">${err}</div>`;\n",
              "      throw err;\n",
              "    }\n",
              "\n",
              "    function displayChart(vegaEmbed) {\n",
              "      vegaEmbed(outputDiv, spec, embedOpt)\n",
              "        .catch(err => showError(`Javascript Error: ${err.message}<br>This usually means there's a typo in your chart specification. See the javascript console for the full traceback.`));\n",
              "    }\n",
              "\n",
              "    if(typeof define === \"function\" && define.amd) {\n",
              "      requirejs.config({paths});\n",
              "      require([\"vega-embed\"], displayChart, err => showError(`Error loading script: ${err.message}`));\n",
              "    } else {\n",
              "      maybeLoadScript(\"vega\", \"5\")\n",
              "        .then(() => maybeLoadScript(\"vega-lite\", \"5.14.1\"))\n",
              "        .then(() => maybeLoadScript(\"vega-embed\", \"6\"))\n",
              "        .catch(showError)\n",
              "        .then(() => displayChart(vegaEmbed));\n",
              "    }\n",
              "  })({\"config\": {\"view\": {\"continuousWidth\": 300, \"continuousHeight\": 300}}, \"hconcat\": [{\"data\": {\"name\": \"data-48c3f030b2361cbfe4aa0ef75ed10bd5\"}, \"mark\": {\"type\": \"bar\"}, \"encoding\": {\"color\": {\"field\": \"Season\", \"scale\": {\"domain\": [\"Fall\", \"Spring\", \"Summer\", \"Winter\"], \"range\": [\"blue\", \"green\", \"red\", \"purple\"]}, \"title\": \"Season\", \"type\": \"nominal\"}, \"column\": {\"field\": \"Crash_Time_Category\", \"title\": \"Time Category\", \"type\": \"nominal\"}, \"x\": {\"field\": \"Day_of_Week_Name\", \"title\": \"Day of the Week\", \"type\": \"nominal\"}, \"y\": {\"field\": \"Number of Fatal Crashes\", \"title\": \"Fatal Crashes\", \"type\": \"quantitative\"}}, \"height\": 150, \"title\": \"Fatal crashes in Fall - Midnight-4AM\", \"width\": 200}, {\"data\": {\"name\": \"data-619be55ec725612c95c05956ea0623b8\"}, \"mark\": {\"type\": \"bar\"}, \"encoding\": {\"color\": {\"field\": \"Season\", \"scale\": {\"domain\": [\"Fall\", \"Spring\", \"Summer\", \"Winter\"], \"range\": [\"blue\", \"green\", \"red\", \"purple\"]}, \"title\": \"Season\", \"type\": \"nominal\"}, \"column\": {\"field\": \"Crash_Time_Category\", \"title\": \"Time Category\", \"type\": \"nominal\"}, \"x\": {\"field\": \"Day_of_Week_Name\", \"title\": \"Day of the Week\", \"type\": \"nominal\"}, \"y\": {\"field\": \"Number of Fatal Crashes\", \"title\": \"Fatal Crashes\", \"type\": \"quantitative\"}}, \"height\": 150, \"title\": \"Fatal crashes in Spring - 8PM-Midnight\", \"width\": 200}, {\"data\": {\"name\": \"data-8d68bd0ae78c35910d38eb8a7ea39949\"}, \"mark\": {\"type\": \"bar\"}, \"encoding\": {\"color\": {\"field\": \"Season\", \"scale\": {\"domain\": [\"Fall\", \"Spring\", \"Summer\", \"Winter\"], \"range\": [\"blue\", \"green\", \"red\", \"purple\"]}, \"title\": \"Season\", \"type\": \"nominal\"}, \"column\": {\"field\": \"Crash_Time_Category\", \"title\": \"Time Category\", \"type\": \"nominal\"}, \"x\": {\"field\": \"Day_of_Week_Name\", \"title\": \"Day of the Week\", \"type\": \"nominal\"}, \"y\": {\"field\": \"Number of Fatal Crashes\", \"title\": \"Fatal Crashes\", \"type\": \"quantitative\"}}, \"height\": 150, \"title\": \"Fatal crashes in Summer - 8PM-Midnight\", \"width\": 200}, {\"data\": {\"name\": \"data-acdec3dd91c6a58e274c6c95083b432d\"}, \"mark\": {\"type\": \"bar\"}, \"encoding\": {\"color\": {\"field\": \"Season\", \"scale\": {\"domain\": [\"Fall\", \"Spring\", \"Summer\", \"Winter\"], \"range\": [\"blue\", \"green\", \"red\", \"purple\"]}, \"title\": \"Season\", \"type\": \"nominal\"}, \"column\": {\"field\": \"Crash_Time_Category\", \"title\": \"Time Category\", \"type\": \"nominal\"}, \"x\": {\"field\": \"Day_of_Week_Name\", \"title\": \"Day of the Week\", \"type\": \"nominal\"}, \"y\": {\"field\": \"Number of Fatal Crashes\", \"title\": \"Fatal Crashes\", \"type\": \"quantitative\"}}, \"height\": 150, \"title\": \"Fatal crashes in Winter - Midnight-4AM\", \"width\": 200}], \"$schema\": \"https://vega.github.io/schema/vega-lite/v5.14.1.json\", \"datasets\": {\"data-48c3f030b2361cbfe4aa0ef75ed10bd5\": [{\"CRASH_DAY_OF_WEEK\": 1, \"Crash_Time_Category\": \"Midnight-4AM\", \"Season\": \"Fall\", \"Total_number_of_Crashes\": 3976, \"Injuries_Non_Fatal\": 735.0, \"INJURIES_FATAL\": 16.0, \"Number of Fatal Crashes\": 13, \"Day_of_Week_Name\": \"Sunday\"}, {\"CRASH_DAY_OF_WEEK\": 2, \"Crash_Time_Category\": \"Midnight-4AM\", \"Season\": \"Fall\", \"Total_number_of_Crashes\": 1400, \"Injuries_Non_Fatal\": 226.0, \"INJURIES_FATAL\": 9.0, \"Number of Fatal Crashes\": 9, \"Day_of_Week_Name\": \"Monday\"}, {\"CRASH_DAY_OF_WEEK\": 3, \"Crash_Time_Category\": \"Midnight-4AM\", \"Season\": \"Fall\", \"Total_number_of_Crashes\": 853, \"Injuries_Non_Fatal\": 152.0, \"INJURIES_FATAL\": 8.0, \"Number of Fatal Crashes\": 7, \"Day_of_Week_Name\": \"Tuesday\"}, {\"CRASH_DAY_OF_WEEK\": 4, \"Crash_Time_Category\": \"Midnight-4AM\", \"Season\": \"Fall\", \"Total_number_of_Crashes\": 921, \"Injuries_Non_Fatal\": 145.0, \"INJURIES_FATAL\": 7.0, \"Number of Fatal Crashes\": 6, \"Day_of_Week_Name\": \"Wednesday\"}, {\"CRASH_DAY_OF_WEEK\": 5, \"Crash_Time_Category\": \"Midnight-4AM\", \"Season\": \"Fall\", \"Total_number_of_Crashes\": 1122, \"Injuries_Non_Fatal\": 181.0, \"INJURIES_FATAL\": 6.0, \"Number of Fatal Crashes\": 4, \"Day_of_Week_Name\": \"Thursday\"}, {\"CRASH_DAY_OF_WEEK\": 6, \"Crash_Time_Category\": \"Midnight-4AM\", \"Season\": \"Fall\", \"Total_number_of_Crashes\": 1375, \"Injuries_Non_Fatal\": 232.0, \"INJURIES_FATAL\": 3.0, \"Number of Fatal Crashes\": 3, \"Day_of_Week_Name\": \"Friday\"}, {\"CRASH_DAY_OF_WEEK\": 7, \"Crash_Time_Category\": \"Midnight-4AM\", \"Season\": \"Fall\", \"Total_number_of_Crashes\": 3027, \"Injuries_Non_Fatal\": 637.0, \"INJURIES_FATAL\": 7.0, \"Number of Fatal Crashes\": 7, \"Day_of_Week_Name\": \"Saturday\"}], \"data-619be55ec725612c95c05956ea0623b8\": [{\"CRASH_DAY_OF_WEEK\": 1, \"Crash_Time_Category\": \"8PM-Midnight\", \"Season\": \"Spring\", \"Total_number_of_Crashes\": 3103, \"Injuries_Non_Fatal\": 509.0, \"INJURIES_FATAL\": 10.0, \"Number of Fatal Crashes\": 10, \"Day_of_Week_Name\": \"Sunday\"}, {\"CRASH_DAY_OF_WEEK\": 2, \"Crash_Time_Category\": \"8PM-Midnight\", \"Season\": \"Spring\", \"Total_number_of_Crashes\": 2436, \"Injuries_Non_Fatal\": 461.0, \"INJURIES_FATAL\": 1.0, \"Number of Fatal Crashes\": 1, \"Day_of_Week_Name\": \"Monday\"}, {\"CRASH_DAY_OF_WEEK\": 3, \"Crash_Time_Category\": \"8PM-Midnight\", \"Season\": \"Spring\", \"Total_number_of_Crashes\": 2642, \"Injuries_Non_Fatal\": 448.0, \"INJURIES_FATAL\": 0.0, \"Number of Fatal Crashes\": 0, \"Day_of_Week_Name\": \"Tuesday\"}, {\"CRASH_DAY_OF_WEEK\": 4, \"Crash_Time_Category\": \"8PM-Midnight\", \"Season\": \"Spring\", \"Total_number_of_Crashes\": 2768, \"Injuries_Non_Fatal\": 482.0, \"INJURIES_FATAL\": 9.0, \"Number of Fatal Crashes\": 8, \"Day_of_Week_Name\": \"Wednesday\"}, {\"CRASH_DAY_OF_WEEK\": 5, \"Crash_Time_Category\": \"8PM-Midnight\", \"Season\": \"Spring\", \"Total_number_of_Crashes\": 3121, \"Injuries_Non_Fatal\": 503.0, \"INJURIES_FATAL\": 14.0, \"Number of Fatal Crashes\": 12, \"Day_of_Week_Name\": \"Thursday\"}, {\"CRASH_DAY_OF_WEEK\": 6, \"Crash_Time_Category\": \"8PM-Midnight\", \"Season\": \"Spring\", \"Total_number_of_Crashes\": 4174, \"Injuries_Non_Fatal\": 651.0, \"INJURIES_FATAL\": 12.0, \"Number of Fatal Crashes\": 12, \"Day_of_Week_Name\": \"Friday\"}, {\"CRASH_DAY_OF_WEEK\": 7, \"Crash_Time_Category\": \"8PM-Midnight\", \"Season\": \"Spring\", \"Total_number_of_Crashes\": 4380, \"Injuries_Non_Fatal\": 686.0, \"INJURIES_FATAL\": 4.0, \"Number of Fatal Crashes\": 4, \"Day_of_Week_Name\": \"Saturday\"}], \"data-8d68bd0ae78c35910d38eb8a7ea39949\": [{\"CRASH_DAY_OF_WEEK\": 1, \"Crash_Time_Category\": \"8PM-Midnight\", \"Season\": \"Summer\", \"Total_number_of_Crashes\": 3895, \"Injuries_Non_Fatal\": 749.0, \"INJURIES_FATAL\": 7.0, \"Number of Fatal Crashes\": 7, \"Day_of_Week_Name\": \"Sunday\"}, {\"CRASH_DAY_OF_WEEK\": 2, \"Crash_Time_Category\": \"8PM-Midnight\", \"Season\": \"Summer\", \"Total_number_of_Crashes\": 2997, \"Injuries_Non_Fatal\": 527.0, \"INJURIES_FATAL\": 5.0, \"Number of Fatal Crashes\": 5, \"Day_of_Week_Name\": \"Monday\"}, {\"CRASH_DAY_OF_WEEK\": 3, \"Crash_Time_Category\": \"8PM-Midnight\", \"Season\": \"Summer\", \"Total_number_of_Crashes\": 3248, \"Injuries_Non_Fatal\": 639.0, \"INJURIES_FATAL\": 9.0, \"Number of Fatal Crashes\": 8, \"Day_of_Week_Name\": \"Tuesday\"}, {\"CRASH_DAY_OF_WEEK\": 4, \"Crash_Time_Category\": \"8PM-Midnight\", \"Season\": \"Summer\", \"Total_number_of_Crashes\": 3180, \"Injuries_Non_Fatal\": 595.0, \"INJURIES_FATAL\": 8.0, \"Number of Fatal Crashes\": 8, \"Day_of_Week_Name\": \"Wednesday\"}, {\"CRASH_DAY_OF_WEEK\": 5, \"Crash_Time_Category\": \"8PM-Midnight\", \"Season\": \"Summer\", \"Total_number_of_Crashes\": 3557, \"Injuries_Non_Fatal\": 660.0, \"INJURIES_FATAL\": 7.0, \"Number of Fatal Crashes\": 7, \"Day_of_Week_Name\": \"Thursday\"}, {\"CRASH_DAY_OF_WEEK\": 6, \"Crash_Time_Category\": \"8PM-Midnight\", \"Season\": \"Summer\", \"Total_number_of_Crashes\": 4972, \"Injuries_Non_Fatal\": 868.0, \"INJURIES_FATAL\": 11.0, \"Number of Fatal Crashes\": 11, \"Day_of_Week_Name\": \"Friday\"}, {\"CRASH_DAY_OF_WEEK\": 7, \"Crash_Time_Category\": \"8PM-Midnight\", \"Season\": \"Summer\", \"Total_number_of_Crashes\": 5456, \"Injuries_Non_Fatal\": 942.0, \"INJURIES_FATAL\": 21.0, \"Number of Fatal Crashes\": 19, \"Day_of_Week_Name\": \"Saturday\"}], \"data-acdec3dd91c6a58e274c6c95083b432d\": [{\"CRASH_DAY_OF_WEEK\": 1, \"Crash_Time_Category\": \"Midnight-4AM\", \"Season\": \"Winter\", \"Total_number_of_Crashes\": 3165, \"Injuries_Non_Fatal\": 526.0, \"INJURIES_FATAL\": 11.0, \"Number of Fatal Crashes\": 11, \"Day_of_Week_Name\": \"Sunday\"}, {\"CRASH_DAY_OF_WEEK\": 2, \"Crash_Time_Category\": \"Midnight-4AM\", \"Season\": \"Winter\", \"Total_number_of_Crashes\": 1169, \"Injuries_Non_Fatal\": 170.0, \"INJURIES_FATAL\": 4.0, \"Number of Fatal Crashes\": 4, \"Day_of_Week_Name\": \"Monday\"}, {\"CRASH_DAY_OF_WEEK\": 3, \"Crash_Time_Category\": \"Midnight-4AM\", \"Season\": \"Winter\", \"Total_number_of_Crashes\": 805, \"Injuries_Non_Fatal\": 116.0, \"INJURIES_FATAL\": 5.0, \"Number of Fatal Crashes\": 5, \"Day_of_Week_Name\": \"Tuesday\"}, {\"CRASH_DAY_OF_WEEK\": 4, \"Crash_Time_Category\": \"Midnight-4AM\", \"Season\": \"Winter\", \"Total_number_of_Crashes\": 830, \"Injuries_Non_Fatal\": 122.0, \"INJURIES_FATAL\": 3.0, \"Number of Fatal Crashes\": 3, \"Day_of_Week_Name\": \"Wednesday\"}, {\"CRASH_DAY_OF_WEEK\": 5, \"Crash_Time_Category\": \"Midnight-4AM\", \"Season\": \"Winter\", \"Total_number_of_Crashes\": 937, \"Injuries_Non_Fatal\": 142.0, \"INJURIES_FATAL\": 2.0, \"Number of Fatal Crashes\": 2, \"Day_of_Week_Name\": \"Thursday\"}, {\"CRASH_DAY_OF_WEEK\": 6, \"Crash_Time_Category\": \"Midnight-4AM\", \"Season\": \"Winter\", \"Total_number_of_Crashes\": 1189, \"Injuries_Non_Fatal\": 161.0, \"INJURIES_FATAL\": 5.0, \"Number of Fatal Crashes\": 3, \"Day_of_Week_Name\": \"Friday\"}, {\"CRASH_DAY_OF_WEEK\": 7, \"Crash_Time_Category\": \"Midnight-4AM\", \"Season\": \"Winter\", \"Total_number_of_Crashes\": 2638, \"Injuries_Non_Fatal\": 419.0, \"INJURIES_FATAL\": 12.0, \"Number of Fatal Crashes\": 12, \"Day_of_Week_Name\": \"Saturday\"}]}}, {\"mode\": \"vega-lite\"});\n",
              "</script>"
            ],
            "text/plain": [
              "alt.HConcatChart(...)"
            ]
          },
          "execution_count": 57,
          "metadata": {},
          "output_type": "execute_result"
        }
      ],
      "source": [
        "# List of unique seasons\n",
        "seasons = df_season['Season'].unique()\n",
        "\n",
        "# Define a color scheme for seasons\n",
        "season_colors = alt.Scale(domain=list(seasons), range=['blue', 'green', 'red', 'purple'])  # Customize colors as needed\n",
        "\n",
        "# Create a list to store the individual charts for each season\n",
        "season_charts = []\n",
        "\n",
        "# Loop through each season\n",
        "for season in seasons:\n",
        "    # Filter data for the current season and time category\n",
        "    if season in ['Fall', 'Winter']:\n",
        "        time_category = 'Midnight-4AM'\n",
        "    else:\n",
        "        time_category = '8PM-Midnight'\n",
        "\n",
        "    season_data = df_season[(df_season['Season'] == season) & (df_season['Crash_Time_Category'] == time_category)]\n",
        "\n",
        "    # Create a chart for the current season\n",
        "    chart = alt.Chart(season_data).mark_bar().encode(\n",
        "        x=alt.X('Day_of_Week_Name:N', title='Day of the Week'),\n",
        "        y=alt.Y('Number of Fatal Crashes:Q', title='Fatal Crashes'),\n",
        "        color=alt.Color('Season:N', title='Season', scale=season_colors),  # Apply the color scale\n",
        "        column=alt.Column('Crash_Time_Category:N', title='Time Category')\n",
        "    ).properties(\n",
        "        width=200,\n",
        "        height=150,\n",
        "        title=f'Fatal crashes in {season} - {time_category}'\n",
        "    )\n",
        "\n",
        "    # Append the current season chart to the list\n",
        "    season_charts.append(chart)\n",
        "\n",
        "# Combine the individual season charts vertically\n",
        "small_multiples = alt.hconcat(*season_charts)\n",
        "\n",
        "small_multiples"
      ]
    },
    {
      "cell_type": "markdown",
      "metadata": {
        "id": "uA48CkkXzjuh"
      },
      "source": [
        "## Analysis:\n",
        "\n"
      ]
    },
    {
      "cell_type": "markdown",
      "metadata": {
        "id": "OhDk9vWY0ABM"
      },
      "source": [
        "1. High Fatal Crash Rates on Saturdays in Summer and Winter:\n",
        "\n",
        "One notable pattern that emerges from the data is the consistent increase in fatal crashes on Saturdays during both summer and winter. This observation suggests that there may be specific factors contributing to a higher risk of fatal accidents on this particular day of the week, regardless of the season.\n",
        "\n",
        "2. Seasonal Consistency:\n",
        "\n",
        "The fact that the high fatality rates on Saturdays persist across both summer and winter indicates that these factors transcend the seasonal variations.\n",
        "This might imply that the causes of these fatal accidents are not primarily related to environmental conditions specific to each season.\n",
        "3. Darkness as a Contributing Factor:\n",
        "\n",
        "The data also points to the importance of darkness in fatal crashes, as it is when fatal accidents peak.\n",
        "Darkness can significantly affect visibility, road conditions, and driver behavior, making it a critical element in understanding the factors contributing to these fatal accidents.\n",
        "\n",
        "Here are some articles that elaborate more on this relation between season, time and crashes: https://injuryfacts.nsc.org/motor-vehicle/overview/crashes-by-time-of-day-and-day-of-week/#:~:text=On%20average%20in%202021%2C%20fatal,on%20weekdays%2C%20peaking%20on%20Friday\n",
        "\n",
        "https://www.daveabels.com/chicago-auto-accident-lawyers/statistics/#:~:text=Fridays%20had%20more%20collisions%20than,pm%20and%207%3A59%20pm\n",
        "\n",
        "https://www.dopplr.com/when-do-most-car-accidents-occur-in-chicago-2016-2020/"
      ]
    },
    {
      "cell_type": "markdown",
      "metadata": {
        "id": "R3fQEm4R01sb"
      },
      "source": [
        "### Recommendations & Next Steps:\n",
        "\n",
        "1. Road Maintenance and Lighting: Ensure roads are well-lit to improve visibility, especially during nighttime hours, reducing the risk of accidents.Implement a routine ice and snow clearing schedule in regions prone to winter weather to maintain safe road conditions.\n",
        "Regularly inspect and maintain the functionality of traffic lights to prevent traffic-related accidents.\n",
        "2. Road Cleanliness: Keep roads free of debris and bumps to ensure smooth and safe driving conditions.\n",
        "3. Safety Measures by Region: Focus on implementing more safety measures in the following areas:\n",
        "63rd Street SouthWest region (Beat 8)\n",
        "Milwaukee Avenue (Beat 16)\n",
        "S State Street (Beat 1)\n",
        "S Blue Island Ave (Beat 12)\n",
        "Grand Ave (Beat 25)\n",
        "4. Special Attention on Independence Day:On Independence Day, prioritize increased law enforcement and safety measures in Beat 11, as it consistently records the highest number of crashes over the years.\n",
        "5. Day-Specific Patrol and Safety Measures:\n",
        "Concentrate maximum patrol and safety measures on Fridays, which consistently have the highest number of crashes across the years.\n",
        "Pay particular attention to Sundays, as they consistently witness the highest number of fatal crashes.\n",
        "Schedule safety measures and road inspections during the peak times of each season to minimize accidents.\n",
        "Ensure that roads are well-lit during these peak times, especially in areas with high accident rates.\n",
        "These recommendations and next steps are designed to target key areas and times where safety improvements are needed, with a focus on proactive measures to reduce accidents and ensure road safety."
      ]
    },
    {
      "cell_type": "markdown",
      "metadata": {
        "id": "LtZUlPnx01vx"
      },
      "source": [
        "### Limitations:\n",
        "1. Our dataset is not complete, there are some details on crashes that are missed and some crashes are missed altogether which leads to some discrepancy in the insights inferred from data and the actual outcome\n",
        "\n",
        "2. Most of the data columns in the dataset were imbalanced with one category being dominated over the other. For example, in the season, majority of the data was Summer and in terms environment conditions majority of them were clear and so on\n",
        "\n",
        "3. We did not have more information on distance/circumference of each beat, this would have made the insights more accurate if we could calculate number of accidents that occur per mile\n",
        "\n",
        "4. The representative damage value assigned for analysis might not be similar to actual data. With more accurate damage value report, we could derive more insightful information."
      ]
    }
  ],
  "metadata": {
    "colab": {
      "provenance": []
    },
    "kernelspec": {
      "display_name": "Python 3 (ipykernel)",
      "language": "python",
      "name": "python3"
    },
    "language_info": {
      "codemirror_mode": {
        "name": "ipython",
        "version": 3
      },
      "file_extension": ".py",
      "mimetype": "text/x-python",
      "name": "python",
      "nbconvert_exporter": "python",
      "pygments_lexer": "ipython3",
      "version": "3.11.5"
    }
  },
  "nbformat": 4,
  "nbformat_minor": 0
}
